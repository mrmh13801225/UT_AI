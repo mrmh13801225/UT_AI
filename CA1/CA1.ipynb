{
 "cells": [
  {
   "cell_type": "markdown",
   "metadata": {},
   "source": [
    "## Computer Assignment #1 <br><br>\n",
    "### mohammadreza mohammadhashemi 810100206 <br><br>\n",
    "### Genetic Algorithm(Finding coefficients of polynomials)<br><br>\n",
    "#### project goal : <br><br>\n",
    "The purpose of this project is to practice and learn the use of genetic algorithms to solve problems with a large state space, which is done for finding polynomial coefficients. <br><br>\n",
    "#### Problem Description :<br><br>\n",
    "We are given the coordinates of a number of points and the degree of the desired polynomial for curve fitting.We have to find the polynomial coefficients using genetic algorithms for the given polynomial degree that performs the best fit.<br>\n",
    "It is possible that the real polynomial coefficients are non-integer numbers that due to our limitation to integer coefficients, we cannot find exactly the original polynomial coefficients. Our task is to provide the best estimate.<br><br>\n",
    "In the following section, a test case is automatically generated for the problem and stored in a csv file so that the main code of the project uses this test case.<br><br>\n",
    "The variables of this section are:<br><br>\n",
    "polynomial_degree : This variable specifies the polynomial degree of the test case, which is used both in the test case generation function and as an input in the main code to find the coefficients.<br><br>\n",
    "x_lower_bound : This variable specifies the lowest value of the x coordinate of the points which can generated in testcase.<br><br>\n",
    "x_upper_bound : This variable specifies the highest value of the x coordinate of the points which can generated in testcase.<br><br>\n",
    "c_lower_bound : This variable specifies the lowest value of the coefficients which we can generated in testcase.<br><br>\n",
    "c_upper_bound : This variable specifies the highest value of the coefficients which we generated in testcase.<br><br>\n",
    "n : This variable specifies the number of points that generated in the testcase generator.<br><br>\n",
    "real_answer : This variable stores the coefficients generated in the test case to compare with the coefficient that the program finds.<br>\n",
    "we need to reverse this variable becuas of the difference bitween the polyval function and the way we used to calculate the result of the polynomial in the testcase generator function.<br><br>\n"
   ]
  },
  {
   "cell_type": "code",
   "execution_count": 1,
   "metadata": {},
   "outputs": [],
   "source": [
    "import csv\n",
    "import random\n",
    "\n",
    "polynomial_degree = 3\n",
    "x_lower_bound = -15\n",
    "x_upper_bound = 15\n",
    "c_lower_bound = 0\n",
    "c_upper_bound = 5\n",
    "n = 4\n",
    "real_answer = []\n",
    "\n",
    "def generate_polynomial_data(degree, x_lower_bound, x_upper_bound, n , c_lower_bound , c_upper_bound , real_answer):\n",
    "\n",
    "  for i in range(0 , degree+1):\n",
    "    real_answer.append(random.randint(c_lower_bound , c_upper_bound))\n",
    "\n",
    "  x_values = set()\n",
    "  while len(x_values) < n:\n",
    "    x_value = random.randint(x_lower_bound, x_upper_bound)\n",
    "    x_values.add(x_value)\n",
    "\n",
    "  y_values = []\n",
    "  for x in x_values:\n",
    "    y_value = 0\n",
    "    for i in range(degree + 1):\n",
    "      y_value += real_answer[i] * x ** i\n",
    "    y_values.append(y_value)\n",
    "\n",
    "  return list(zip(x_values, y_values))\n",
    "\n",
    "def create_testcase(data, file_path):\n",
    "\n",
    "  with open(file_path, \"w\", newline=\"\") as csv_file:\n",
    "    writer = csv.writer(csv_file)\n",
    "    writer.writerows([])\n",
    "\n",
    "  with open(file_path, \"w\", newline=\"\") as csv_file:\n",
    "    writer = csv.writer(csv_file)\n",
    "    writer.writerow([\"x\", \"y\"])\n",
    "\n",
    "  with open(file_path, \"a\", newline=\"\") as csv_file:\n",
    "    writer = csv.writer(csv_file)\n",
    "    writer.writerows(data)\n",
    "\n",
    "data = generate_polynomial_data(polynomial_degree, x_lower_bound, x_upper_bound, n , c_lower_bound , c_upper_bound , real_answer)\n",
    "real_answer.reverse()\n",
    "file_path = \"gfd.csv\"\n",
    "create_testcase(data, file_path)"
   ]
  },
  {
   "cell_type": "markdown",
   "metadata": {},
   "source": [
    "In the next section, we will load the input points coordinates for the curve fitting process from the CSV file.<br><br>"
   ]
  },
  {
   "cell_type": "code",
   "execution_count": 2,
   "metadata": {},
   "outputs": [],
   "source": [
    "import pandas as pd\n",
    "data =  pd.read_csv(\"points.csv\")\n",
    "x = data[\"x\"]\n",
    "y = data[\"y\"]"
   ]
  },
  {
   "cell_type": "markdown",
   "metadata": {},
   "source": [
    "To solve this problem with genetic algorithms, we have polinomial degree + 1 long chromosomes, which in the following section, each gene of each chromosome is randomly generated in the range specified in the input to generate the initial random population.<br><br>"
   ]
  },
  {
   "cell_type": "code",
   "execution_count": 3,
   "metadata": {},
   "outputs": [],
   "source": [
    "import random\n",
    "\n",
    "def create_first_gen(population_size, chromosome_length, lower_limit, upper_limit):\n",
    "\n",
    "  population = []\n",
    "  for i in range(population_size):\n",
    "    chromosome = []\n",
    "    for j in range(chromosome_length):\n",
    "      chromosome.append(random.randint(lower_limit, upper_limit))\n",
    "    population.append(chromosome)\n",
    "  return population"
   ]
  },
  {
   "cell_type": "markdown",
   "metadata": {},
   "source": [
    "In the following section, the population fitness calculation function is given.<br>\n",
    "That the sum of the absolute value of the distance of the calculated ys by the coefficients of each chromosome with the actual value of each point is used as a fitness function.<br><br>\n",
    "Also, after calculating the fitness of each chromosome, in addition to the value of the fitness of that chromosome, we also store the chromosome index in the tuple related to that chromosome, which we will see its use in the next sections.<br><br>"
   ]
  },
  {
   "cell_type": "code",
   "execution_count": 4,
   "metadata": {},
   "outputs": [],
   "source": [
    "import numpy as np\n",
    "\n",
    "class chromosome_fit :\n",
    "  fitness_value = -1\n",
    "  chromosome_index = -1\n",
    "  def __init__(self, fit, index):\n",
    "    self.fitness_value = fit\n",
    "    self.chromosome_index = index\n",
    "\n",
    "def fitness(population, points):\n",
    "  fitnesses = []\n",
    "  for chromosome in population:    \n",
    "    sum_squared_differences = 0.0\n",
    "    for x, y in points:\n",
    "      y_predicted = np.polyval(chromosome, x)\n",
    "      sum_squared_differences += abs(y - y_predicted)\n",
    "    fitnesses.append(chromosome_fit(sum_squared_differences ,len(fitnesses)))\n",
    "  return fitnesses"
   ]
  },
  {
   "cell_type": "markdown",
   "metadata": {},
   "source": [
    "In the following section, we select parents from the existing population in order to use these parents to build the next generation population. The probability of each chromosome of this generation being selected as a parent is equal to the fitness rating of this chromosome divided by the sum of all fitness ratings.<br><br>\n",
    "In the rand_index function, a random number is first generated, and then, according to the indexes guide, in each element contains the sum of k = 1 to index , the index of the parent is returned based on this random number and ranks guide to meet the possibilities.<br><br>\n",
    "Also, the first 10% of the population will always be parents<br><br>"
   ]
  },
  {
   "cell_type": "code",
   "execution_count": 5,
   "metadata": {},
   "outputs": [],
   "source": [
    "def rand_index(sum_of_ranks , rank_guide , population_size) :\n",
    "    random_number = random.randint(1, int(sum_of_ranks))\n",
    "    for i in range(0 , population_size) :\n",
    "        if random_number < rank_guide[i] :\n",
    "            return i-1\n",
    "        elif random_number == rank_guide[i] :\n",
    "            return i\n",
    "\n",
    "def select_parrents(fitnesses , population , rank_guide) :\n",
    "    parents = []\n",
    "    sum_of_ranks = (len(population) * (len(population)+1))/2\n",
    "    for i in range(len(population)-int(len(population)/10) , len(population)):\n",
    "        parents.append((population[fitnesses[i].chromosome_index] , i)) \n",
    "    for i in range (0 , len(population) - int(len(population)/10)) :\n",
    "        fit_index = rand_index(sum_of_ranks , rank_guide , len(population))\n",
    "        parents.append((population[fitnesses[fit_index].chromosome_index] , fit_index))\n",
    "    return parents"
   ]
  },
  {
   "cell_type": "markdown",
   "metadata": {},
   "source": [
    "In the following section, the crossover phase هs implemented<br><br>\n",
    "The process started from the cross-phase function. First, the first ten percent of the parents' population, who themselves caried, and in fact they are the first 10 percent of the population of the last generation with the lowest value in the fitness function, are directly caried to the next generation in carry function.<br><br>\n",
    "\n",
    "Then, the crossover process is performed in the handle_cross_over function, which is performed by calling the find_children function. In this function, the repeated_flag is set, considering that the process of selecting parents is a random process, and there is a possibility of elements being duplicated in parents. so this flag checks whether this chromosome already exists in the next generation or not. If it exists, this pair of chromosomes will definitely crossed over, but if they did not exist before, they have the probeblity of p_cross_over to get crossed over and 1-p_cross_over to get carried.<br><br>\n",
    "\n",
    "The P_cross_over variable is defined in this section, which can be used to change the probability of the crossover process.<br><br>\n",
    "\n",
    "I used uniform crossover method and the probability of having cut points is not static and based on the fitnesses of those chromosomes.<br><br>"
   ]
  },
  {
   "cell_type": "code",
   "execution_count": 6,
   "metadata": {},
   "outputs": [],
   "source": [
    "def carry (parents , next_gen) :\n",
    "    carrys_count = int(len(parents)/10) \n",
    "    for i in range(0 , carrys_count) :\n",
    "        next_gen.append(parents[0][0])\n",
    "        del parents[0]\n",
    "\n",
    "def find_children (parents , first_child , second_child , i , next_gen) :\n",
    "    p_cross_over = 0.7\n",
    "    repeat_flag = False\n",
    "    \n",
    "    if parents[2*i][0] in next_gen :\n",
    "        repeat_flag = True\n",
    "    elif parents[2*i+1][0] in next_gen :\n",
    "        repeat_flag = True    \n",
    "    \n",
    "    if (random.uniform(0 , 1) > p_cross_over and not repeat_flag) :\n",
    "        for j in range(0,len(parents[2*i][0])) :\n",
    "            first_child.append(parents[2*i][0][j])\n",
    "            second_child.append(parents[2*i+1][0][j])\n",
    "    else :\n",
    "        cross_patern = [1]\n",
    "        first_child.append(parents[2*i][0][0])\n",
    "        second_child.append(parents[2*i+1][0][0])\n",
    "        p_cross_point = (min(parents[2*i][1] , parents[2*i+1][1])/(parents[2*i][1] + parents[2*i+1][1]))\n",
    "        for j in range(1,len(parents[2*i][0])) :\n",
    "            if random.uniform(0,1) > p_cross_point :\n",
    "                cross_patern.append(cross_patern[j-1])\n",
    "            else :\n",
    "                cross_patern.append((cross_patern[j-1]+1) % 2)\n",
    "            first_child.append(parents[2*i + ((cross_patern[j] + 1) % 2)][0][j])\n",
    "            second_child.append(parents[2*i + ((cross_patern[j]) % 2)][0][j])\n",
    "    \n",
    "def handle_cross_over (parents , next_gen , i) : \n",
    "    first_child = []\n",
    "    second_child = []\n",
    "    mode = find_children(parents , first_child , second_child , i , next_gen)\n",
    "    next_gen.append(first_child)\n",
    "    next_gen.append(second_child)\n",
    "\n",
    "def cross_phase(parents) :\n",
    "    next_gen = []\n",
    "    carry(parents , next_gen)\n",
    "    random.shuffle(parents)\n",
    "    for i in range(0 , int(len(parents)/2 )) :\n",
    "        handle_cross_over(parents , next_gen , i)\n",
    "        \n",
    "    return next_gen\n",
    "    "
   ]
  },
  {
   "cell_type": "markdown",
   "metadata": {},
   "source": [
    "In the following section, the phase of mutation is implemented, which occurs for each gene of each chromosome by the probability of p_mutation_multiplied*(0.9995 to the power of the generation number of the mutation process)."
   ]
  },
  {
   "cell_type": "code",
   "execution_count": 7,
   "metadata": {},
   "outputs": [],
   "source": [
    "import random\n",
    "\n",
    "def mutate(gen , cycle , higher_bound , lower_bound) :\n",
    "    p_mutation = 0.3*(0.9995**cycle)\n",
    "    for i in range(0 , len(gen)) :\n",
    "        if random.uniform(0,1) < p_mutation :\n",
    "            gen[i] = random.randint(lower_bound , higher_bound)\n",
    "\n",
    "def mutation_phase(population, cycle , higher_bound , lower_bound) :\n",
    "    for x in population :\n",
    "        mutate(x , cycle , higher_bound , lower_bound)"
   ]
  },
  {
   "cell_type": "markdown",
   "metadata": {},
   "source": [
    "And finally, in the following section, the mine function is implemented, which first produces an initial population, then performs the process of producing a new generation for the specified number of generations, and stores the best answer in the whole process, and if it ever finds the original answer to the problem that has the fitness = 0 breaks the loop and print the answer.<br><br>\n",
    "Variable cooficient_lower_bound specified the lower limit of the coeficients assumed the answer will have so the program will not generate any coeficient in any gen lower than that value. <br><br>\n",
    "Variable cooficient_higer_bound specified the highest limit of the coeficients assumed the answer will have so the program will not generate any coeficient in any gen higher than that value. <br><br>\n",
    "Variable generations_count specified how many cycles will program generates new generations in the worst case.<br><br>\n",
    "Variable population_size specified the size of population in all program prosess.<br><br>"
   ]
  },
  {
   "cell_type": "code",
   "execution_count": 8,
   "metadata": {},
   "outputs": [
    {
     "name": "stdout",
     "output_type": "stream",
     "text": [
      "real answer was : [2, 0, 1, 5]\n",
      "and found answer is : \n",
      "[1, 3, 1]\n"
     ]
    }
   ],
   "source": [
    "import sys\n",
    "import copy\n",
    "\n",
    "polynomial_degree = 2\n",
    "cooficient_lower_bound = -5\n",
    "cooficient_higher_bound = 5\n",
    "generations_count = 4000\n",
    "population_size = 150\n",
    "pop = create_first_gen(population_size , polynomial_degree+1 , cooficient_lower_bound , cooficient_higher_bound)\n",
    "rank_guide = []\n",
    "min_fit = float(\"inf\")\n",
    "answer = [];\n",
    "\n",
    "for i in range(0 , len(pop)) :\n",
    "    rank_guide.append(((i+1)*(i+2))/2)\n",
    "\n",
    "\n",
    "for i in range(0 , generations_count) :\n",
    "    fit = fitness(pop , tuple(zip(x , y)))\n",
    "    temp_min = min(fit , key = lambda x:x.fitness_value)\n",
    "    if (temp_min.fitness_value < min_fit) :\n",
    "        min_fit = temp_min.fitness_value\n",
    "        answer = copy.deepcopy(pop[temp_min.chromosome_index])\n",
    "    \n",
    "    if min_fit == 0 :\n",
    "        break\n",
    "    \n",
    "    fit.sort(reverse = True , key = lambda x:x.fitness_value)\n",
    "    parents = select_parrents(fit , pop , rank_guide)\n",
    "    pop = copy.deepcopy(cross_phase(parents))\n",
    "    mutation_phase(pop , i  , cooficient_higher_bound, cooficient_lower_bound)\n",
    "\n",
    "print (\"real answer was : \" + str(real_answer) + \"\\nand found answer is : \")\n",
    "print (answer)\n",
    "\n"
   ]
  },
  {
   "cell_type": "markdown",
   "metadata": {},
   "source": [
    "## QUESTIONS : <br><br>\n",
    "### QUESTION 1 : <br><br>\n",
    "A very small population size causes the algorithm to get stuck in the local optimum and not find the real solution. Also, if this problem is solved, it will suffer from computational overhead.<br>\n",
    "A very large initial population causes an irrational increase in the execution time of the algorithm and the space cost of the algorithm.<br><br>\n",
    "### QUESTION 2 : <br><br>\n",
    "It increases the accuracy due to the increase in diversity in the chromosomes, which increases the chance of finding a suitable answer to the problem, but due to the increase in the amount of memory cost and also due to the increase in the length of the iterations, it increases the execution time.\n",
    "### QUESTION 3 : <br><br>\n",
    "The crossover operation combines the existing solutions, and since in the selection phase, the probability of choosing better members of the population of the previous generation is higher, then by combining the best solutions of the previous generation, on average, in the next generation, we generated solutions that are closer to the solution of the problem.<br>\n",
    "The mutation operation produces new answers outside the population of previous generations and increases the diversity of answers in the population, which increases the probability of reaching the right answer to the problem!<br>\n",
    "But it is not possible to use one of these processes alone, because if we only use crossover, we will be limited to the combinations of our first generation and we will not have any randomness in next generations to increase the diversity of answers, and this causes that if the initial population dont cover the answer, the algorithm cannot reach the answer.<br>\n",
    "Also, if we only use the mutation operation, since all the changes are random, there is no direction towards better answers in the population, and the answers produced move in all directions at the same speed on average.<br><br>\n",
    "### QUESTION 4 : <br><br>\n",
    "Running some optimizations to find the efficient values of the mutation and crossover p values can make the program more efficient . Also, using fixed size arrays and optimizing the functions can improve the performance .<br><br>\n",
    "### QUESTION 5 : <br><br>\n",
    "Due to the propagation of duplicate elements in next generations, it is possible that after a few generations, there will not be so much change in the production of new generations , which can be solved by checking whether duplicate answers are propagated to the next generation, which is done in the code. and by increasing the mutation probablity of the mutation we can increase the divesity .<br><br>\n",
    "\n",
    "### QUESTION 6 : <br><br>\n",
    "Specifying the maximum number of program cycles.<br>\n",
    "Also, if necessary, it is possible to monitor the changes in the variance of the fitness of the generations, and if these changes are not so great for a significant number of generations, the execution of the program can be terminated and the closest solution found can be provided.<br><br>\n",
    "\n",
    "### QUESTION 7 : <br><br>\n",
    "It only affects the calculation time of the fitness function and this increase could have been a linear relationship with the increase in the polynomial degree but considering the time overhead to calculate higer powers make me realize this over head can be o(n^2) and omega(n) based on how efficient is the power operator .<br><br>\n",
    "\n",
    "### QUESTION 8 : <br><br>\n",
    "Due to the repeated use of the input coordinates for each chromosome to calculate the fitness in each cycle of the program, it increases the program execution time. Also, if the degree of polynomial and the number of points, especially the number of points, exceed a certain value, we will experience an overflow during the calculation of fitness.<br><br>\n"
   ]
  }
 ],
 "metadata": {
  "kernelspec": {
   "display_name": "tf",
   "language": "python",
   "name": "python3"
  },
  "language_info": {
   "codemirror_mode": {
    "name": "ipython",
    "version": 3
   },
   "file_extension": ".py",
   "mimetype": "text/x-python",
   "name": "python",
   "nbconvert_exporter": "python",
   "pygments_lexer": "ipython3",
   "version": "3.10.16"
  }
 },
 "nbformat": 4,
 "nbformat_minor": 2
}
