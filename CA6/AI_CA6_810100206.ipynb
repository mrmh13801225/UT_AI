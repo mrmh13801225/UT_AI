{
  "cells": [
    {
      "cell_type": "markdown",
      "metadata": {
        "id": "ZaFFKU3_NgNq"
      },
      "source": [
        "<h1 style=\"font-weight:bold; text-align:center;\">Artificial Intelligence Course - Fall 1402<h1>\n",
        "<h2 style=\"font-weight:bold; text-align:center;\">Computer Assignment #6 - CLUSTERING<h2>\n",
        "<h2 style=\"font-weight:bold; text-align:center;\">MOHAMMADREZA MOHAMMADHASHEMI 810100206<h2>"
      ]
    },
    {
      "cell_type": "markdown",
      "metadata": {
        "id": "rWYybFBxOM24"
      },
      "source": [
        "# Q1:<br>\n",
        "hanooz nemidonam chi minvisam ."
      ]
    },
    {
      "cell_type": "markdown",
      "metadata": {
        "id": "g9yJbNFoPjtO"
      },
      "source": [
        "# Q2:<br>\n",
        "both lemmatization and stemming are techniques used in natural language processing NLP to reduce words to their base or root form. However, they do this in slightly different ways.<br>\n",
        "- `Stemming` : reduces words to their stem or base form by removing the endings of the words. It’s a crude process that often leads to incorrect meanings and spellings because it just chops off the ends of words.<br>\n",
        "- `Lemmatization` : reduces words to their linguistically valid base form known as the lemma. It considers the context and part of speech of a word in order to accurately convert it to its base form."
      ]
    },
    {
      "cell_type": "markdown",
      "metadata": {
        "id": "EI6LaF7AQ5rX"
      },
      "source": [
        "# Q3:<br>\n",
        "In Natural Language Processing NLP, we use feature vectors because machine learning algorithms cannot work with raw text directly. The algorithms require numerical input to perform any sort of predictive task.<br>\n",
        "Also text data can be extremely high dimensional if we consider each unique word as a different dimension. Feature vectors help in reducing the dimensionality of this data. <br>"
      ]
    },
    {
      "cell_type": "markdown",
      "metadata": {
        "id": "4d6uEUA5ojo0"
      },
      "source": [
        "# Q4:<br>\n",
        "- `Word2Vec` : <br>\n",
        "Word2Vec is a two-layer neural network that processes text by “vectorizing” words. Its input is a text corpus and its output is a set of vectors: feature vectors that represent words in that corpus.<br>\n",
        "\n",
        "Word2Vec creates vectors that are distributed numerical representations of word features, features such as the context of individual words. It does so without human intervention.<br>\n",
        "\n",
        "Word2Vec representation is created using 2 algorithms: Continuous Bag-of-Words model (CBOW) and the Skip-Gram model.<br>\n",
        "- `Doc2Vec` : <br>\n",
        "Doc2Vec is an extension of Word2Vec that encodes entire documents as opposed to individual words. Doc2Vec vectors represent the theme or overall meaning of a document.\n",
        "\n",
        "In Doc2Vec, the name of the document, like file name or file ID will be the input, and the sliding window of the words from the document is the output.\n",
        "\n",
        "Similar to Word2Vec, there are two primary training methods, Distributed Memory Model Of Paragraph Vectors (PV-DM) and Paragraph Vector With A Distributed Bag Of Words (PVDBOW)"
      ]
    },
    {
      "cell_type": "markdown",
      "metadata": {
        "id": "06TgopU4qLfq"
      },
      "source": [
        "# Q5: <br>\n",
        "- `K-Means Clustering :`<br>\n",
        "K-Means is a centroid-based or partition-based clustering algorithm. This algorithm partitions all the points in the sample space into K groups of similarity. The similarity is usually measured using Euclidean Distance .\n",
        "First it K centroids are randomly placed, one for each cluster. Then Distance of each point from each centroid is calculated. After that Each data point is assigned to its closest centroid, forming a cluster. And The position of K centroids are recalculated. And Steps 2-4 are repeated until the centroids no longer change significantly or a set number of iterations is reached .<br><br>\n",
        "\n",
        "- `DBSCAN Clustering :`<br>\n",
        "DBSCAN (Density-Based Spatial Clustering of Applications with Noise) is a density-based clustering algorithm. The key fact of this algorithm is that the neighborhood of each point in a cluster which is within a given radius ® must have a minimum number of points (M).\n",
        "In the algorithm :\n",
        "The type of each point is determined. Each data point in our dataset may be either of the following:\n",
        "- Core Point: A data point is a core point if there are at least M points in its neighborhood ie, within the specified radius ®.\n",
        "-Border Point: A data point is classified as a BORDER point if its neighborhood contains less than M data points, or it is reachable from some core point ie, it is within R-distance from a core point.\n",
        "-Outlier Point: An outlier is a point that is not a core point, and also, is not close enough to be reachable from a core point.<br>\n",
        "First the outlier points are eliminated. Then Core points that are neighbors are connected and put in the same cluster. And at last The border points are assigned to each cluster .\n",
        "- `One of K-MEANS benefits :` <br>\n",
        "K-means Clustering is more efficient for large datasets. DBSCAN Clustering cannot efficiently handle high dimensional datasets.<br>\n",
        "- `One of DBSCAN benefits :` <br>\n",
        "K-means Clustering does not work well with outliers and noisy datasets. DBSCAN clustering efficiently handles outliers and noisy datasets."
      ]
    },
    {
      "cell_type": "markdown",
      "metadata": {
        "id": "PkOy8cens6yy"
      },
      "source": [
        "# Q6:<br>\n",
        "K-Means algorithm according to the higher Homogeneity Score criterion, better clustering and\n",
        "It has done more homogenization than the real labels of the data. Also having K-Means\n",
        "A higher Silhouette Score produced clusters with better intra-cluster and inter-cluster discriminability\n",
        "Is.<br>\n",
        "But DBSCAN, due to its nature of identifying dense areas as clusters, is out\n",
        "offers a different This algorithm forms clusters based on density and is possible\n",
        "It produces more irregular and non-homogeneous clusters.<br>\n",
        "Therefore, it can be said that both algorithms can, depending on the type of data and the purpose of clustering\n",
        "be suitable choices. K-Means for data for which spherical clustering is desirable.<br>\n",
        "It is more suitable like our project, but DBSCAN can find more complex and non-standard clusters\n",
        "to identify."
      ]
    },
    {
      "cell_type": "markdown",
      "metadata": {
        "id": "veef2X-8uZjq"
      },
      "source": [
        "# Q7:<br>\n",
        "PCA is a dimensionality reduction method in multivariate data, which works as follows:\n",
        "- First, it standardizes the data so that their mean is zero and their standard deviation is one. This work\n",
        "It makes all other metrics to be on the same scale.\n",
        "- Then it calculates the correlation matrix between the others to determine their relationship. others\n",
        "which have a high correlation, show similar information.\n",
        "- PCA summarizes the variables that have a high correlation in a principal component. These components are\n",
        "The new original contains the most data.\n",
        "- Finally, PCA shows the number of principal components that explain the most variance of the data.\n",
        "Selects to reduce the dimensions of the data.\n",
        "- The main data is displayed in the new reduced space.\n",
        "In fact, PCA reduces the number of data dimensions by keeping the most information and makes it simpler\n",
        "The data is"
      ]
    },
    {
      "cell_type": "markdown",
      "metadata": {
        "id": "LQQDTKdMusG0"
      },
      "source": [
        "# Q8 :<br>\n",
        "- `Silhouette Metric : ` <br>\n",
        "The silhouette value is a measure of how similar an object is to its own cluster (cohesion) compared to other clusters (separation). The silhouette ranges from −1 to +1, where a high value indicates that the object is well matched to its own cluster and poorly matched to neighboring clusters.\n",
        "\n",
        "For each data point i, let a(i) be the mean distance between i and all other data points in the same cluster. We can interpret a(i) as a measure of how well i is assigned to its cluster (the smaller the value, the better the assignment).\n",
        "\n",
        "We then define the mean dissimilarity of point i to some cluster as the mean of the distance from i to all points in any other cluster. For each data point i, we now define b(i) to be the smallest mean distance of i to all points in any other cluster. The cluster with this smallest mean dissimilarity is said to be the “neighboring cluster” of i because it is the next best fit cluster for point i.\n",
        "\n",
        "The silhouette score s(i) for a data point i is then calculated as follows:<br>\n",
        "$$\n",
        "S(i) = \\frac{{b(i) - a(i)}}{{\\max(a(i), b(i))}}\n",
        "$$\n",
        "<br><br>\n",
        "\n",
        "- `Homogeneity Metric : `<br>\n",
        "A clustering result satisfies homogeneity if all of its clusters contain only data points which are members of a single class. This metric is independent of the absolute values of the labels: a permutation of the class or cluster label values won’t change the score value in any way."
      ]
    },
    {
      "cell_type": "markdown",
      "metadata": {
        "id": "kVx0nwdzx2J3"
      },
      "source": [
        "# Q9:<br>\n",
        "- Increase training data to improve learning algorithms and enrich feature vectors.\n",
        "- Better data preprocessing to remove noise and outliers.\n",
        "- Using different methods for extracting text such as TF-IDF and Word2Vec instead of Simple Bag-of-Words. These methods consider the meanings of words.\n"
      ]
    },
    {
      "cell_type": "code",
      "execution_count": 8,
      "metadata": {
        "colab": {
          "base_uri": "https://localhost:8080/"
        },
        "id": "hscmtZnOv_FR",
        "outputId": "a30a6da5-3310-4963-df9f-962ee957538c"
      },
      "outputs": [
        {
          "name": "stdout",
          "output_type": "stream",
          "text": [
            "Requirement already satisfied: parsivar in /usr/local/lib/python3.10/dist-packages (0.2.3.1)\n",
            "Requirement already satisfied: nltk>=3.6.6 in /usr/local/lib/python3.10/dist-packages (from parsivar) (3.8.1)\n",
            "Requirement already satisfied: click in /usr/local/lib/python3.10/dist-packages (from nltk>=3.6.6->parsivar) (8.1.7)\n",
            "Requirement already satisfied: joblib in /usr/local/lib/python3.10/dist-packages (from nltk>=3.6.6->parsivar) (1.3.2)\n",
            "Requirement already satisfied: regex>=2021.8.3 in /usr/local/lib/python3.10/dist-packages (from nltk>=3.6.6->parsivar) (2023.6.3)\n",
            "Requirement already satisfied: tqdm in /usr/local/lib/python3.10/dist-packages (from nltk>=3.6.6->parsivar) (4.66.1)\n",
            "Requirement already satisfied: hazm in /usr/local/lib/python3.10/dist-packages (0.10.0)\n",
            "Requirement already satisfied: fasttext-wheel<0.10.0,>=0.9.2 in /usr/local/lib/python3.10/dist-packages (from hazm) (0.9.2)\n",
            "Requirement already satisfied: flashtext<3.0,>=2.7 in /usr/local/lib/python3.10/dist-packages (from hazm) (2.7)\n",
            "Requirement already satisfied: gensim<5.0.0,>=4.3.1 in /usr/local/lib/python3.10/dist-packages (from hazm) (4.3.2)\n",
            "Requirement already satisfied: nltk<4.0.0,>=3.8.1 in /usr/local/lib/python3.10/dist-packages (from hazm) (3.8.1)\n",
            "Requirement already satisfied: numpy==1.24.3 in /usr/local/lib/python3.10/dist-packages (from hazm) (1.24.3)\n",
            "Requirement already satisfied: python-crfsuite<0.10.0,>=0.9.9 in /usr/local/lib/python3.10/dist-packages (from hazm) (0.9.10)\n",
            "Requirement already satisfied: scikit-learn<2.0.0,>=1.2.2 in /usr/local/lib/python3.10/dist-packages (from hazm) (1.2.2)\n",
            "Requirement already satisfied: pybind11>=2.2 in /usr/local/lib/python3.10/dist-packages (from fasttext-wheel<0.10.0,>=0.9.2->hazm) (2.11.1)\n",
            "Requirement already satisfied: setuptools>=0.7.0 in /usr/local/lib/python3.10/dist-packages (from fasttext-wheel<0.10.0,>=0.9.2->hazm) (67.7.2)\n",
            "Requirement already satisfied: scipy>=1.7.0 in /usr/local/lib/python3.10/dist-packages (from gensim<5.0.0,>=4.3.1->hazm) (1.11.4)\n",
            "Requirement already satisfied: smart-open>=1.8.1 in /usr/local/lib/python3.10/dist-packages (from gensim<5.0.0,>=4.3.1->hazm) (6.4.0)\n",
            "Requirement already satisfied: click in /usr/local/lib/python3.10/dist-packages (from nltk<4.0.0,>=3.8.1->hazm) (8.1.7)\n",
            "Requirement already satisfied: joblib in /usr/local/lib/python3.10/dist-packages (from nltk<4.0.0,>=3.8.1->hazm) (1.3.2)\n",
            "Requirement already satisfied: regex>=2021.8.3 in /usr/local/lib/python3.10/dist-packages (from nltk<4.0.0,>=3.8.1->hazm) (2023.6.3)\n",
            "Requirement already satisfied: tqdm in /usr/local/lib/python3.10/dist-packages (from nltk<4.0.0,>=3.8.1->hazm) (4.66.1)\n",
            "Requirement already satisfied: threadpoolctl>=2.0.0 in /usr/local/lib/python3.10/dist-packages (from scikit-learn<2.0.0,>=1.2.2->hazm) (3.2.0)\n"
          ]
        }
      ],
      "source": [
        "!pip install parsivar\n",
        "!pip install hazm"
      ]
    },
    {
      "cell_type": "code",
      "execution_count": 9,
      "metadata": {
        "id": "C8NVPCdF3rWJ"
      },
      "outputs": [],
      "source": [
        "from pydrive.auth import GoogleAuth\n",
        "from pydrive.drive import GoogleDrive\n",
        "from google.colab import auth\n",
        "from oauth2client.client import GoogleCredentials\n",
        "\n",
        "auth.authenticate_user()\n",
        "gauth = GoogleAuth()\n",
        "gauth.credentials = GoogleCredentials.get_application_default()\n",
        "drive = GoogleDrive(gauth)\n",
        "\n",
        "file_ids = ['12Ced1LRRTmgNUUK9O_4u_gg9hsw5lKQv', '1Uv9wyOuwDvN0Rcjs2GXtUYnZxSWkO_Fc']\n",
        "\n",
        "for file_id in file_ids:\n",
        "    downloaded = drive.CreateFile({'id': file_id})\n",
        "    downloaded.GetContentFile(downloaded['title'])\n"
      ]
    },
    {
      "cell_type": "code",
      "execution_count": 10,
      "metadata": {
        "id": "nZbM3KKh8pa3"
      },
      "outputs": [],
      "source": [
        "import pandas as pd\n",
        "\n",
        "train_df = pd.read_csv('/content/train.csv')\n",
        "test_df = pd.read_csv('/content/test.csv')\n",
        "\n"
      ]
    },
    {
      "cell_type": "code",
      "execution_count": 11,
      "metadata": {
        "colab": {
          "base_uri": "https://localhost:8080/",
          "height": 423
        },
        "id": "aRuhrloB961N",
        "outputId": "533b15b2-584c-40b1-90f7-547919c207ef"
      },
      "outputs": [
        {
          "data": {
            "text/html": [
              "\n",
              "  <div id=\"df-90b4a24f-f188-4a6e-b6e0-90cfd56d9b8f\" class=\"colab-df-container\">\n",
              "    <div>\n",
              "<style scoped>\n",
              "    .dataframe tbody tr th:only-of-type {\n",
              "        vertical-align: middle;\n",
              "    }\n",
              "\n",
              "    .dataframe tbody tr th {\n",
              "        vertical-align: top;\n",
              "    }\n",
              "\n",
              "    .dataframe thead th {\n",
              "        text-align: right;\n",
              "    }\n",
              "</style>\n",
              "<table border=\"1\" class=\"dataframe\">\n",
              "  <thead>\n",
              "    <tr style=\"text-align: right;\">\n",
              "      <th></th>\n",
              "      <th>label</th>\n",
              "      <th>content</th>\n",
              "    </tr>\n",
              "  </thead>\n",
              "  <tbody>\n",
              "    <tr>\n",
              "      <th>0</th>\n",
              "      <td>فناوری</td>\n",
              "      <td>گزارش های منتشر شده حاکی از آن است که کاربران ...</td>\n",
              "    </tr>\n",
              "    <tr>\n",
              "      <th>1</th>\n",
              "      <td>ورزشی</td>\n",
              "      <td>سوپر استار سینما و از قهرمانان سابق ووشو ــ کو...</td>\n",
              "    </tr>\n",
              "    <tr>\n",
              "      <th>2</th>\n",
              "      <td>حوادث</td>\n",
              "      <td>مدیرعامل شرکت عمران آب کیش از فوت یک نفر در آت...</td>\n",
              "    </tr>\n",
              "    <tr>\n",
              "      <th>3</th>\n",
              "      <td>فناوری</td>\n",
              "      <td>یک نوجوان انگلیسی به اتهام هک حساب‌های کاربری ...</td>\n",
              "    </tr>\n",
              "    <tr>\n",
              "      <th>4</th>\n",
              "      <td>سلامت</td>\n",
              "      <td>دانشمندان در جدیدترین مطالعات خود اثرات جدید و...</td>\n",
              "    </tr>\n",
              "    <tr>\n",
              "      <th>...</th>\n",
              "      <td>...</td>\n",
              "      <td>...</td>\n",
              "    </tr>\n",
              "    <tr>\n",
              "      <th>8995</th>\n",
              "      <td>حوادث</td>\n",
              "      <td>شانزدهم مهر امسال درپی تماس با مرکز فوریت‌های ...</td>\n",
              "    </tr>\n",
              "    <tr>\n",
              "      <th>8996</th>\n",
              "      <td>ورزشی</td>\n",
              "      <td>اتحادیه فوتبال ترینیداد و توباگو اعلام کرده تی...</td>\n",
              "    </tr>\n",
              "    <tr>\n",
              "      <th>8997</th>\n",
              "      <td>فرهنگی/هنری</td>\n",
              "      <td>اسامی 18 فیلم بخش مسابقه مستند ششمین دوره جشنو...</td>\n",
              "    </tr>\n",
              "    <tr>\n",
              "      <th>8998</th>\n",
              "      <td>حوادث</td>\n",
              "      <td>کامیونت حامل بار تخته‌های چوبی عصر دیروز چهارش...</td>\n",
              "    </tr>\n",
              "    <tr>\n",
              "      <th>8999</th>\n",
              "      <td>فناوری</td>\n",
              "      <td>چهارمین لیگ بازی‌های رایانه‌ای ایران از روز ۶ ...</td>\n",
              "    </tr>\n",
              "  </tbody>\n",
              "</table>\n",
              "<p>9000 rows × 2 columns</p>\n",
              "</div>\n",
              "    <div class=\"colab-df-buttons\">\n",
              "\n",
              "  <div class=\"colab-df-container\">\n",
              "    <button class=\"colab-df-convert\" onclick=\"convertToInteractive('df-90b4a24f-f188-4a6e-b6e0-90cfd56d9b8f')\"\n",
              "            title=\"Convert this dataframe to an interactive table.\"\n",
              "            style=\"display:none;\">\n",
              "\n",
              "  <svg xmlns=\"http://www.w3.org/2000/svg\" height=\"24px\" viewBox=\"0 -960 960 960\">\n",
              "    <path d=\"M120-120v-720h720v720H120Zm60-500h600v-160H180v160Zm220 220h160v-160H400v160Zm0 220h160v-160H400v160ZM180-400h160v-160H180v160Zm440 0h160v-160H620v160ZM180-180h160v-160H180v160Zm440 0h160v-160H620v160Z\"/>\n",
              "  </svg>\n",
              "    </button>\n",
              "\n",
              "  <style>\n",
              "    .colab-df-container {\n",
              "      display:flex;\n",
              "      gap: 12px;\n",
              "    }\n",
              "\n",
              "    .colab-df-convert {\n",
              "      background-color: #E8F0FE;\n",
              "      border: none;\n",
              "      border-radius: 50%;\n",
              "      cursor: pointer;\n",
              "      display: none;\n",
              "      fill: #1967D2;\n",
              "      height: 32px;\n",
              "      padding: 0 0 0 0;\n",
              "      width: 32px;\n",
              "    }\n",
              "\n",
              "    .colab-df-convert:hover {\n",
              "      background-color: #E2EBFA;\n",
              "      box-shadow: 0px 1px 2px rgba(60, 64, 67, 0.3), 0px 1px 3px 1px rgba(60, 64, 67, 0.15);\n",
              "      fill: #174EA6;\n",
              "    }\n",
              "\n",
              "    .colab-df-buttons div {\n",
              "      margin-bottom: 4px;\n",
              "    }\n",
              "\n",
              "    [theme=dark] .colab-df-convert {\n",
              "      background-color: #3B4455;\n",
              "      fill: #D2E3FC;\n",
              "    }\n",
              "\n",
              "    [theme=dark] .colab-df-convert:hover {\n",
              "      background-color: #434B5C;\n",
              "      box-shadow: 0px 1px 3px 1px rgba(0, 0, 0, 0.15);\n",
              "      filter: drop-shadow(0px 1px 2px rgba(0, 0, 0, 0.3));\n",
              "      fill: #FFFFFF;\n",
              "    }\n",
              "  </style>\n",
              "\n",
              "    <script>\n",
              "      const buttonEl =\n",
              "        document.querySelector('#df-90b4a24f-f188-4a6e-b6e0-90cfd56d9b8f button.colab-df-convert');\n",
              "      buttonEl.style.display =\n",
              "        google.colab.kernel.accessAllowed ? 'block' : 'none';\n",
              "\n",
              "      async function convertToInteractive(key) {\n",
              "        const element = document.querySelector('#df-90b4a24f-f188-4a6e-b6e0-90cfd56d9b8f');\n",
              "        const dataTable =\n",
              "          await google.colab.kernel.invokeFunction('convertToInteractive',\n",
              "                                                    [key], {});\n",
              "        if (!dataTable) return;\n",
              "\n",
              "        const docLinkHtml = 'Like what you see? Visit the ' +\n",
              "          '<a target=\"_blank\" href=https://colab.research.google.com/notebooks/data_table.ipynb>data table notebook</a>'\n",
              "          + ' to learn more about interactive tables.';\n",
              "        element.innerHTML = '';\n",
              "        dataTable['output_type'] = 'display_data';\n",
              "        await google.colab.output.renderOutput(dataTable, element);\n",
              "        const docLink = document.createElement('div');\n",
              "        docLink.innerHTML = docLinkHtml;\n",
              "        element.appendChild(docLink);\n",
              "      }\n",
              "    </script>\n",
              "  </div>\n",
              "\n",
              "\n",
              "<div id=\"df-cf0fe2a9-f642-462a-ab2e-a5a5a2eac2f5\">\n",
              "  <button class=\"colab-df-quickchart\" onclick=\"quickchart('df-cf0fe2a9-f642-462a-ab2e-a5a5a2eac2f5')\"\n",
              "            title=\"Suggest charts\"\n",
              "            style=\"display:none;\">\n",
              "\n",
              "<svg xmlns=\"http://www.w3.org/2000/svg\" height=\"24px\"viewBox=\"0 0 24 24\"\n",
              "     width=\"24px\">\n",
              "    <g>\n",
              "        <path d=\"M19 3H5c-1.1 0-2 .9-2 2v14c0 1.1.9 2 2 2h14c1.1 0 2-.9 2-2V5c0-1.1-.9-2-2-2zM9 17H7v-7h2v7zm4 0h-2V7h2v10zm4 0h-2v-4h2v4z\"/>\n",
              "    </g>\n",
              "</svg>\n",
              "  </button>\n",
              "\n",
              "<style>\n",
              "  .colab-df-quickchart {\n",
              "      --bg-color: #E8F0FE;\n",
              "      --fill-color: #1967D2;\n",
              "      --hover-bg-color: #E2EBFA;\n",
              "      --hover-fill-color: #174EA6;\n",
              "      --disabled-fill-color: #AAA;\n",
              "      --disabled-bg-color: #DDD;\n",
              "  }\n",
              "\n",
              "  [theme=dark] .colab-df-quickchart {\n",
              "      --bg-color: #3B4455;\n",
              "      --fill-color: #D2E3FC;\n",
              "      --hover-bg-color: #434B5C;\n",
              "      --hover-fill-color: #FFFFFF;\n",
              "      --disabled-bg-color: #3B4455;\n",
              "      --disabled-fill-color: #666;\n",
              "  }\n",
              "\n",
              "  .colab-df-quickchart {\n",
              "    background-color: var(--bg-color);\n",
              "    border: none;\n",
              "    border-radius: 50%;\n",
              "    cursor: pointer;\n",
              "    display: none;\n",
              "    fill: var(--fill-color);\n",
              "    height: 32px;\n",
              "    padding: 0;\n",
              "    width: 32px;\n",
              "  }\n",
              "\n",
              "  .colab-df-quickchart:hover {\n",
              "    background-color: var(--hover-bg-color);\n",
              "    box-shadow: 0 1px 2px rgba(60, 64, 67, 0.3), 0 1px 3px 1px rgba(60, 64, 67, 0.15);\n",
              "    fill: var(--button-hover-fill-color);\n",
              "  }\n",
              "\n",
              "  .colab-df-quickchart-complete:disabled,\n",
              "  .colab-df-quickchart-complete:disabled:hover {\n",
              "    background-color: var(--disabled-bg-color);\n",
              "    fill: var(--disabled-fill-color);\n",
              "    box-shadow: none;\n",
              "  }\n",
              "\n",
              "  .colab-df-spinner {\n",
              "    border: 2px solid var(--fill-color);\n",
              "    border-color: transparent;\n",
              "    border-bottom-color: var(--fill-color);\n",
              "    animation:\n",
              "      spin 1s steps(1) infinite;\n",
              "  }\n",
              "\n",
              "  @keyframes spin {\n",
              "    0% {\n",
              "      border-color: transparent;\n",
              "      border-bottom-color: var(--fill-color);\n",
              "      border-left-color: var(--fill-color);\n",
              "    }\n",
              "    20% {\n",
              "      border-color: transparent;\n",
              "      border-left-color: var(--fill-color);\n",
              "      border-top-color: var(--fill-color);\n",
              "    }\n",
              "    30% {\n",
              "      border-color: transparent;\n",
              "      border-left-color: var(--fill-color);\n",
              "      border-top-color: var(--fill-color);\n",
              "      border-right-color: var(--fill-color);\n",
              "    }\n",
              "    40% {\n",
              "      border-color: transparent;\n",
              "      border-right-color: var(--fill-color);\n",
              "      border-top-color: var(--fill-color);\n",
              "    }\n",
              "    60% {\n",
              "      border-color: transparent;\n",
              "      border-right-color: var(--fill-color);\n",
              "    }\n",
              "    80% {\n",
              "      border-color: transparent;\n",
              "      border-right-color: var(--fill-color);\n",
              "      border-bottom-color: var(--fill-color);\n",
              "    }\n",
              "    90% {\n",
              "      border-color: transparent;\n",
              "      border-bottom-color: var(--fill-color);\n",
              "    }\n",
              "  }\n",
              "</style>\n",
              "\n",
              "  <script>\n",
              "    async function quickchart(key) {\n",
              "      const quickchartButtonEl =\n",
              "        document.querySelector('#' + key + ' button');\n",
              "      quickchartButtonEl.disabled = true;  // To prevent multiple clicks.\n",
              "      quickchartButtonEl.classList.add('colab-df-spinner');\n",
              "      try {\n",
              "        const charts = await google.colab.kernel.invokeFunction(\n",
              "            'suggestCharts', [key], {});\n",
              "      } catch (error) {\n",
              "        console.error('Error during call to suggestCharts:', error);\n",
              "      }\n",
              "      quickchartButtonEl.classList.remove('colab-df-spinner');\n",
              "      quickchartButtonEl.classList.add('colab-df-quickchart-complete');\n",
              "    }\n",
              "    (() => {\n",
              "      let quickchartButtonEl =\n",
              "        document.querySelector('#df-cf0fe2a9-f642-462a-ab2e-a5a5a2eac2f5 button');\n",
              "      quickchartButtonEl.style.display =\n",
              "        google.colab.kernel.accessAllowed ? 'block' : 'none';\n",
              "    })();\n",
              "  </script>\n",
              "</div>\n",
              "    </div>\n",
              "  </div>\n"
            ],
            "text/plain": [
              "            label                                            content\n",
              "0          فناوری  گزارش های منتشر شده حاکی از آن است که کاربران ...\n",
              "1           ورزشی  سوپر استار سینما و از قهرمانان سابق ووشو ــ کو...\n",
              "2           حوادث  مدیرعامل شرکت عمران آب کیش از فوت یک نفر در آت...\n",
              "3          فناوری  یک نوجوان انگلیسی به اتهام هک حساب‌های کاربری ...\n",
              "4           سلامت  دانشمندان در جدیدترین مطالعات خود اثرات جدید و...\n",
              "...           ...                                                ...\n",
              "8995        حوادث  شانزدهم مهر امسال درپی تماس با مرکز فوریت‌های ...\n",
              "8996        ورزشی  اتحادیه فوتبال ترینیداد و توباگو اعلام کرده تی...\n",
              "8997  فرهنگی/هنری  اسامی 18 فیلم بخش مسابقه مستند ششمین دوره جشنو...\n",
              "8998        حوادث  کامیونت حامل بار تخته‌های چوبی عصر دیروز چهارش...\n",
              "8999       فناوری  چهارمین لیگ بازی‌های رایانه‌ای ایران از روز ۶ ...\n",
              "\n",
              "[9000 rows x 2 columns]"
            ]
          },
          "execution_count": 11,
          "metadata": {},
          "output_type": "execute_result"
        }
      ],
      "source": [
        "train_df"
      ]
    },
    {
      "cell_type": "code",
      "execution_count": 12,
      "metadata": {
        "colab": {
          "base_uri": "https://localhost:8080/",
          "height": 269
        },
        "id": "BKPegiwT84A4",
        "outputId": "9d9cb355-5cc9-4d69-a0f6-216ff7d92ed6"
      },
      "outputs": [
        {
          "data": {
            "text/html": [
              "\n",
              "  <div id=\"df-d1ff11bb-5426-4e0f-8998-a6a04cd2750d\" class=\"colab-df-container\">\n",
              "    <div>\n",
              "<style scoped>\n",
              "    .dataframe tbody tr th:only-of-type {\n",
              "        vertical-align: middle;\n",
              "    }\n",
              "\n",
              "    .dataframe tbody tr th {\n",
              "        vertical-align: top;\n",
              "    }\n",
              "\n",
              "    .dataframe thead th {\n",
              "        text-align: right;\n",
              "    }\n",
              "</style>\n",
              "<table border=\"1\" class=\"dataframe\">\n",
              "  <thead>\n",
              "    <tr style=\"text-align: right;\">\n",
              "      <th></th>\n",
              "      <th>content</th>\n",
              "    </tr>\n",
              "    <tr>\n",
              "      <th>label</th>\n",
              "      <th></th>\n",
              "    </tr>\n",
              "  </thead>\n",
              "  <tbody>\n",
              "    <tr>\n",
              "      <th>حوادث</th>\n",
              "      <td>1500</td>\n",
              "    </tr>\n",
              "    <tr>\n",
              "      <th>سلامت</th>\n",
              "      <td>1500</td>\n",
              "    </tr>\n",
              "    <tr>\n",
              "      <th>سیاسی</th>\n",
              "      <td>1500</td>\n",
              "    </tr>\n",
              "    <tr>\n",
              "      <th>فرهنگی/هنری</th>\n",
              "      <td>1500</td>\n",
              "    </tr>\n",
              "    <tr>\n",
              "      <th>فناوری</th>\n",
              "      <td>1500</td>\n",
              "    </tr>\n",
              "    <tr>\n",
              "      <th>ورزشی</th>\n",
              "      <td>1500</td>\n",
              "    </tr>\n",
              "  </tbody>\n",
              "</table>\n",
              "</div>\n",
              "    <div class=\"colab-df-buttons\">\n",
              "\n",
              "  <div class=\"colab-df-container\">\n",
              "    <button class=\"colab-df-convert\" onclick=\"convertToInteractive('df-d1ff11bb-5426-4e0f-8998-a6a04cd2750d')\"\n",
              "            title=\"Convert this dataframe to an interactive table.\"\n",
              "            style=\"display:none;\">\n",
              "\n",
              "  <svg xmlns=\"http://www.w3.org/2000/svg\" height=\"24px\" viewBox=\"0 -960 960 960\">\n",
              "    <path d=\"M120-120v-720h720v720H120Zm60-500h600v-160H180v160Zm220 220h160v-160H400v160Zm0 220h160v-160H400v160ZM180-400h160v-160H180v160Zm440 0h160v-160H620v160ZM180-180h160v-160H180v160Zm440 0h160v-160H620v160Z\"/>\n",
              "  </svg>\n",
              "    </button>\n",
              "\n",
              "  <style>\n",
              "    .colab-df-container {\n",
              "      display:flex;\n",
              "      gap: 12px;\n",
              "    }\n",
              "\n",
              "    .colab-df-convert {\n",
              "      background-color: #E8F0FE;\n",
              "      border: none;\n",
              "      border-radius: 50%;\n",
              "      cursor: pointer;\n",
              "      display: none;\n",
              "      fill: #1967D2;\n",
              "      height: 32px;\n",
              "      padding: 0 0 0 0;\n",
              "      width: 32px;\n",
              "    }\n",
              "\n",
              "    .colab-df-convert:hover {\n",
              "      background-color: #E2EBFA;\n",
              "      box-shadow: 0px 1px 2px rgba(60, 64, 67, 0.3), 0px 1px 3px 1px rgba(60, 64, 67, 0.15);\n",
              "      fill: #174EA6;\n",
              "    }\n",
              "\n",
              "    .colab-df-buttons div {\n",
              "      margin-bottom: 4px;\n",
              "    }\n",
              "\n",
              "    [theme=dark] .colab-df-convert {\n",
              "      background-color: #3B4455;\n",
              "      fill: #D2E3FC;\n",
              "    }\n",
              "\n",
              "    [theme=dark] .colab-df-convert:hover {\n",
              "      background-color: #434B5C;\n",
              "      box-shadow: 0px 1px 3px 1px rgba(0, 0, 0, 0.15);\n",
              "      filter: drop-shadow(0px 1px 2px rgba(0, 0, 0, 0.3));\n",
              "      fill: #FFFFFF;\n",
              "    }\n",
              "  </style>\n",
              "\n",
              "    <script>\n",
              "      const buttonEl =\n",
              "        document.querySelector('#df-d1ff11bb-5426-4e0f-8998-a6a04cd2750d button.colab-df-convert');\n",
              "      buttonEl.style.display =\n",
              "        google.colab.kernel.accessAllowed ? 'block' : 'none';\n",
              "\n",
              "      async function convertToInteractive(key) {\n",
              "        const element = document.querySelector('#df-d1ff11bb-5426-4e0f-8998-a6a04cd2750d');\n",
              "        const dataTable =\n",
              "          await google.colab.kernel.invokeFunction('convertToInteractive',\n",
              "                                                    [key], {});\n",
              "        if (!dataTable) return;\n",
              "\n",
              "        const docLinkHtml = 'Like what you see? Visit the ' +\n",
              "          '<a target=\"_blank\" href=https://colab.research.google.com/notebooks/data_table.ipynb>data table notebook</a>'\n",
              "          + ' to learn more about interactive tables.';\n",
              "        element.innerHTML = '';\n",
              "        dataTable['output_type'] = 'display_data';\n",
              "        await google.colab.output.renderOutput(dataTable, element);\n",
              "        const docLink = document.createElement('div');\n",
              "        docLink.innerHTML = docLinkHtml;\n",
              "        element.appendChild(docLink);\n",
              "      }\n",
              "    </script>\n",
              "  </div>\n",
              "\n",
              "\n",
              "<div id=\"df-ada37f87-067d-4e03-b97d-01b7fcf474b7\">\n",
              "  <button class=\"colab-df-quickchart\" onclick=\"quickchart('df-ada37f87-067d-4e03-b97d-01b7fcf474b7')\"\n",
              "            title=\"Suggest charts\"\n",
              "            style=\"display:none;\">\n",
              "\n",
              "<svg xmlns=\"http://www.w3.org/2000/svg\" height=\"24px\"viewBox=\"0 0 24 24\"\n",
              "     width=\"24px\">\n",
              "    <g>\n",
              "        <path d=\"M19 3H5c-1.1 0-2 .9-2 2v14c0 1.1.9 2 2 2h14c1.1 0 2-.9 2-2V5c0-1.1-.9-2-2-2zM9 17H7v-7h2v7zm4 0h-2V7h2v10zm4 0h-2v-4h2v4z\"/>\n",
              "    </g>\n",
              "</svg>\n",
              "  </button>\n",
              "\n",
              "<style>\n",
              "  .colab-df-quickchart {\n",
              "      --bg-color: #E8F0FE;\n",
              "      --fill-color: #1967D2;\n",
              "      --hover-bg-color: #E2EBFA;\n",
              "      --hover-fill-color: #174EA6;\n",
              "      --disabled-fill-color: #AAA;\n",
              "      --disabled-bg-color: #DDD;\n",
              "  }\n",
              "\n",
              "  [theme=dark] .colab-df-quickchart {\n",
              "      --bg-color: #3B4455;\n",
              "      --fill-color: #D2E3FC;\n",
              "      --hover-bg-color: #434B5C;\n",
              "      --hover-fill-color: #FFFFFF;\n",
              "      --disabled-bg-color: #3B4455;\n",
              "      --disabled-fill-color: #666;\n",
              "  }\n",
              "\n",
              "  .colab-df-quickchart {\n",
              "    background-color: var(--bg-color);\n",
              "    border: none;\n",
              "    border-radius: 50%;\n",
              "    cursor: pointer;\n",
              "    display: none;\n",
              "    fill: var(--fill-color);\n",
              "    height: 32px;\n",
              "    padding: 0;\n",
              "    width: 32px;\n",
              "  }\n",
              "\n",
              "  .colab-df-quickchart:hover {\n",
              "    background-color: var(--hover-bg-color);\n",
              "    box-shadow: 0 1px 2px rgba(60, 64, 67, 0.3), 0 1px 3px 1px rgba(60, 64, 67, 0.15);\n",
              "    fill: var(--button-hover-fill-color);\n",
              "  }\n",
              "\n",
              "  .colab-df-quickchart-complete:disabled,\n",
              "  .colab-df-quickchart-complete:disabled:hover {\n",
              "    background-color: var(--disabled-bg-color);\n",
              "    fill: var(--disabled-fill-color);\n",
              "    box-shadow: none;\n",
              "  }\n",
              "\n",
              "  .colab-df-spinner {\n",
              "    border: 2px solid var(--fill-color);\n",
              "    border-color: transparent;\n",
              "    border-bottom-color: var(--fill-color);\n",
              "    animation:\n",
              "      spin 1s steps(1) infinite;\n",
              "  }\n",
              "\n",
              "  @keyframes spin {\n",
              "    0% {\n",
              "      border-color: transparent;\n",
              "      border-bottom-color: var(--fill-color);\n",
              "      border-left-color: var(--fill-color);\n",
              "    }\n",
              "    20% {\n",
              "      border-color: transparent;\n",
              "      border-left-color: var(--fill-color);\n",
              "      border-top-color: var(--fill-color);\n",
              "    }\n",
              "    30% {\n",
              "      border-color: transparent;\n",
              "      border-left-color: var(--fill-color);\n",
              "      border-top-color: var(--fill-color);\n",
              "      border-right-color: var(--fill-color);\n",
              "    }\n",
              "    40% {\n",
              "      border-color: transparent;\n",
              "      border-right-color: var(--fill-color);\n",
              "      border-top-color: var(--fill-color);\n",
              "    }\n",
              "    60% {\n",
              "      border-color: transparent;\n",
              "      border-right-color: var(--fill-color);\n",
              "    }\n",
              "    80% {\n",
              "      border-color: transparent;\n",
              "      border-right-color: var(--fill-color);\n",
              "      border-bottom-color: var(--fill-color);\n",
              "    }\n",
              "    90% {\n",
              "      border-color: transparent;\n",
              "      border-bottom-color: var(--fill-color);\n",
              "    }\n",
              "  }\n",
              "</style>\n",
              "\n",
              "  <script>\n",
              "    async function quickchart(key) {\n",
              "      const quickchartButtonEl =\n",
              "        document.querySelector('#' + key + ' button');\n",
              "      quickchartButtonEl.disabled = true;  // To prevent multiple clicks.\n",
              "      quickchartButtonEl.classList.add('colab-df-spinner');\n",
              "      try {\n",
              "        const charts = await google.colab.kernel.invokeFunction(\n",
              "            'suggestCharts', [key], {});\n",
              "      } catch (error) {\n",
              "        console.error('Error during call to suggestCharts:', error);\n",
              "      }\n",
              "      quickchartButtonEl.classList.remove('colab-df-spinner');\n",
              "      quickchartButtonEl.classList.add('colab-df-quickchart-complete');\n",
              "    }\n",
              "    (() => {\n",
              "      let quickchartButtonEl =\n",
              "        document.querySelector('#df-ada37f87-067d-4e03-b97d-01b7fcf474b7 button');\n",
              "      quickchartButtonEl.style.display =\n",
              "        google.colab.kernel.accessAllowed ? 'block' : 'none';\n",
              "    })();\n",
              "  </script>\n",
              "</div>\n",
              "    </div>\n",
              "  </div>\n"
            ],
            "text/plain": [
              "             content\n",
              "label               \n",
              "حوادث           1500\n",
              "سلامت           1500\n",
              "سیاسی           1500\n",
              "فرهنگی/هنری     1500\n",
              "فناوری          1500\n",
              "ورزشی           1500"
            ]
          },
          "execution_count": 12,
          "metadata": {},
          "output_type": "execute_result"
        }
      ],
      "source": [
        "train_df.groupby(by=['label']).count()"
      ]
    },
    {
      "cell_type": "code",
      "execution_count": 13,
      "metadata": {
        "colab": {
          "base_uri": "https://localhost:8080/",
          "height": 269
        },
        "id": "r4X2pQtphOEi",
        "outputId": "591285d7-6df9-4c04-f5b0-4b48148691d0"
      },
      "outputs": [
        {
          "data": {
            "text/html": [
              "\n",
              "  <div id=\"df-cce729a1-51ac-4e18-8647-a822e8ccf30b\" class=\"colab-df-container\">\n",
              "    <div>\n",
              "<style scoped>\n",
              "    .dataframe tbody tr th:only-of-type {\n",
              "        vertical-align: middle;\n",
              "    }\n",
              "\n",
              "    .dataframe tbody tr th {\n",
              "        vertical-align: top;\n",
              "    }\n",
              "\n",
              "    .dataframe thead th {\n",
              "        text-align: right;\n",
              "    }\n",
              "</style>\n",
              "<table border=\"1\" class=\"dataframe\">\n",
              "  <thead>\n",
              "    <tr style=\"text-align: right;\">\n",
              "      <th></th>\n",
              "      <th>content</th>\n",
              "    </tr>\n",
              "    <tr>\n",
              "      <th>label</th>\n",
              "      <th></th>\n",
              "    </tr>\n",
              "  </thead>\n",
              "  <tbody>\n",
              "    <tr>\n",
              "      <th>حوادث</th>\n",
              "      <td>200</td>\n",
              "    </tr>\n",
              "    <tr>\n",
              "      <th>سلامت</th>\n",
              "      <td>177</td>\n",
              "    </tr>\n",
              "    <tr>\n",
              "      <th>سیاسی</th>\n",
              "      <td>200</td>\n",
              "    </tr>\n",
              "    <tr>\n",
              "      <th>فرهنگی/هنری</th>\n",
              "      <td>180</td>\n",
              "    </tr>\n",
              "    <tr>\n",
              "      <th>فناوری</th>\n",
              "      <td>168</td>\n",
              "    </tr>\n",
              "    <tr>\n",
              "      <th>ورزشی</th>\n",
              "      <td>190</td>\n",
              "    </tr>\n",
              "  </tbody>\n",
              "</table>\n",
              "</div>\n",
              "    <div class=\"colab-df-buttons\">\n",
              "\n",
              "  <div class=\"colab-df-container\">\n",
              "    <button class=\"colab-df-convert\" onclick=\"convertToInteractive('df-cce729a1-51ac-4e18-8647-a822e8ccf30b')\"\n",
              "            title=\"Convert this dataframe to an interactive table.\"\n",
              "            style=\"display:none;\">\n",
              "\n",
              "  <svg xmlns=\"http://www.w3.org/2000/svg\" height=\"24px\" viewBox=\"0 -960 960 960\">\n",
              "    <path d=\"M120-120v-720h720v720H120Zm60-500h600v-160H180v160Zm220 220h160v-160H400v160Zm0 220h160v-160H400v160ZM180-400h160v-160H180v160Zm440 0h160v-160H620v160ZM180-180h160v-160H180v160Zm440 0h160v-160H620v160Z\"/>\n",
              "  </svg>\n",
              "    </button>\n",
              "\n",
              "  <style>\n",
              "    .colab-df-container {\n",
              "      display:flex;\n",
              "      gap: 12px;\n",
              "    }\n",
              "\n",
              "    .colab-df-convert {\n",
              "      background-color: #E8F0FE;\n",
              "      border: none;\n",
              "      border-radius: 50%;\n",
              "      cursor: pointer;\n",
              "      display: none;\n",
              "      fill: #1967D2;\n",
              "      height: 32px;\n",
              "      padding: 0 0 0 0;\n",
              "      width: 32px;\n",
              "    }\n",
              "\n",
              "    .colab-df-convert:hover {\n",
              "      background-color: #E2EBFA;\n",
              "      box-shadow: 0px 1px 2px rgba(60, 64, 67, 0.3), 0px 1px 3px 1px rgba(60, 64, 67, 0.15);\n",
              "      fill: #174EA6;\n",
              "    }\n",
              "\n",
              "    .colab-df-buttons div {\n",
              "      margin-bottom: 4px;\n",
              "    }\n",
              "\n",
              "    [theme=dark] .colab-df-convert {\n",
              "      background-color: #3B4455;\n",
              "      fill: #D2E3FC;\n",
              "    }\n",
              "\n",
              "    [theme=dark] .colab-df-convert:hover {\n",
              "      background-color: #434B5C;\n",
              "      box-shadow: 0px 1px 3px 1px rgba(0, 0, 0, 0.15);\n",
              "      filter: drop-shadow(0px 1px 2px rgba(0, 0, 0, 0.3));\n",
              "      fill: #FFFFFF;\n",
              "    }\n",
              "  </style>\n",
              "\n",
              "    <script>\n",
              "      const buttonEl =\n",
              "        document.querySelector('#df-cce729a1-51ac-4e18-8647-a822e8ccf30b button.colab-df-convert');\n",
              "      buttonEl.style.display =\n",
              "        google.colab.kernel.accessAllowed ? 'block' : 'none';\n",
              "\n",
              "      async function convertToInteractive(key) {\n",
              "        const element = document.querySelector('#df-cce729a1-51ac-4e18-8647-a822e8ccf30b');\n",
              "        const dataTable =\n",
              "          await google.colab.kernel.invokeFunction('convertToInteractive',\n",
              "                                                    [key], {});\n",
              "        if (!dataTable) return;\n",
              "\n",
              "        const docLinkHtml = 'Like what you see? Visit the ' +\n",
              "          '<a target=\"_blank\" href=https://colab.research.google.com/notebooks/data_table.ipynb>data table notebook</a>'\n",
              "          + ' to learn more about interactive tables.';\n",
              "        element.innerHTML = '';\n",
              "        dataTable['output_type'] = 'display_data';\n",
              "        await google.colab.output.renderOutput(dataTable, element);\n",
              "        const docLink = document.createElement('div');\n",
              "        docLink.innerHTML = docLinkHtml;\n",
              "        element.appendChild(docLink);\n",
              "      }\n",
              "    </script>\n",
              "  </div>\n",
              "\n",
              "\n",
              "<div id=\"df-71f12f50-ed9e-422a-841b-c4f59365140e\">\n",
              "  <button class=\"colab-df-quickchart\" onclick=\"quickchart('df-71f12f50-ed9e-422a-841b-c4f59365140e')\"\n",
              "            title=\"Suggest charts\"\n",
              "            style=\"display:none;\">\n",
              "\n",
              "<svg xmlns=\"http://www.w3.org/2000/svg\" height=\"24px\"viewBox=\"0 0 24 24\"\n",
              "     width=\"24px\">\n",
              "    <g>\n",
              "        <path d=\"M19 3H5c-1.1 0-2 .9-2 2v14c0 1.1.9 2 2 2h14c1.1 0 2-.9 2-2V5c0-1.1-.9-2-2-2zM9 17H7v-7h2v7zm4 0h-2V7h2v10zm4 0h-2v-4h2v4z\"/>\n",
              "    </g>\n",
              "</svg>\n",
              "  </button>\n",
              "\n",
              "<style>\n",
              "  .colab-df-quickchart {\n",
              "      --bg-color: #E8F0FE;\n",
              "      --fill-color: #1967D2;\n",
              "      --hover-bg-color: #E2EBFA;\n",
              "      --hover-fill-color: #174EA6;\n",
              "      --disabled-fill-color: #AAA;\n",
              "      --disabled-bg-color: #DDD;\n",
              "  }\n",
              "\n",
              "  [theme=dark] .colab-df-quickchart {\n",
              "      --bg-color: #3B4455;\n",
              "      --fill-color: #D2E3FC;\n",
              "      --hover-bg-color: #434B5C;\n",
              "      --hover-fill-color: #FFFFFF;\n",
              "      --disabled-bg-color: #3B4455;\n",
              "      --disabled-fill-color: #666;\n",
              "  }\n",
              "\n",
              "  .colab-df-quickchart {\n",
              "    background-color: var(--bg-color);\n",
              "    border: none;\n",
              "    border-radius: 50%;\n",
              "    cursor: pointer;\n",
              "    display: none;\n",
              "    fill: var(--fill-color);\n",
              "    height: 32px;\n",
              "    padding: 0;\n",
              "    width: 32px;\n",
              "  }\n",
              "\n",
              "  .colab-df-quickchart:hover {\n",
              "    background-color: var(--hover-bg-color);\n",
              "    box-shadow: 0 1px 2px rgba(60, 64, 67, 0.3), 0 1px 3px 1px rgba(60, 64, 67, 0.15);\n",
              "    fill: var(--button-hover-fill-color);\n",
              "  }\n",
              "\n",
              "  .colab-df-quickchart-complete:disabled,\n",
              "  .colab-df-quickchart-complete:disabled:hover {\n",
              "    background-color: var(--disabled-bg-color);\n",
              "    fill: var(--disabled-fill-color);\n",
              "    box-shadow: none;\n",
              "  }\n",
              "\n",
              "  .colab-df-spinner {\n",
              "    border: 2px solid var(--fill-color);\n",
              "    border-color: transparent;\n",
              "    border-bottom-color: var(--fill-color);\n",
              "    animation:\n",
              "      spin 1s steps(1) infinite;\n",
              "  }\n",
              "\n",
              "  @keyframes spin {\n",
              "    0% {\n",
              "      border-color: transparent;\n",
              "      border-bottom-color: var(--fill-color);\n",
              "      border-left-color: var(--fill-color);\n",
              "    }\n",
              "    20% {\n",
              "      border-color: transparent;\n",
              "      border-left-color: var(--fill-color);\n",
              "      border-top-color: var(--fill-color);\n",
              "    }\n",
              "    30% {\n",
              "      border-color: transparent;\n",
              "      border-left-color: var(--fill-color);\n",
              "      border-top-color: var(--fill-color);\n",
              "      border-right-color: var(--fill-color);\n",
              "    }\n",
              "    40% {\n",
              "      border-color: transparent;\n",
              "      border-right-color: var(--fill-color);\n",
              "      border-top-color: var(--fill-color);\n",
              "    }\n",
              "    60% {\n",
              "      border-color: transparent;\n",
              "      border-right-color: var(--fill-color);\n",
              "    }\n",
              "    80% {\n",
              "      border-color: transparent;\n",
              "      border-right-color: var(--fill-color);\n",
              "      border-bottom-color: var(--fill-color);\n",
              "    }\n",
              "    90% {\n",
              "      border-color: transparent;\n",
              "      border-bottom-color: var(--fill-color);\n",
              "    }\n",
              "  }\n",
              "</style>\n",
              "\n",
              "  <script>\n",
              "    async function quickchart(key) {\n",
              "      const quickchartButtonEl =\n",
              "        document.querySelector('#' + key + ' button');\n",
              "      quickchartButtonEl.disabled = true;  // To prevent multiple clicks.\n",
              "      quickchartButtonEl.classList.add('colab-df-spinner');\n",
              "      try {\n",
              "        const charts = await google.colab.kernel.invokeFunction(\n",
              "            'suggestCharts', [key], {});\n",
              "      } catch (error) {\n",
              "        console.error('Error during call to suggestCharts:', error);\n",
              "      }\n",
              "      quickchartButtonEl.classList.remove('colab-df-spinner');\n",
              "      quickchartButtonEl.classList.add('colab-df-quickchart-complete');\n",
              "    }\n",
              "    (() => {\n",
              "      let quickchartButtonEl =\n",
              "        document.querySelector('#df-71f12f50-ed9e-422a-841b-c4f59365140e button');\n",
              "      quickchartButtonEl.style.display =\n",
              "        google.colab.kernel.accessAllowed ? 'block' : 'none';\n",
              "    })();\n",
              "  </script>\n",
              "</div>\n",
              "    </div>\n",
              "  </div>\n"
            ],
            "text/plain": [
              "             content\n",
              "label               \n",
              "حوادث            200\n",
              "سلامت            177\n",
              "سیاسی            200\n",
              "فرهنگی/هنری      180\n",
              "فناوری           168\n",
              "ورزشی            190"
            ]
          },
          "execution_count": 13,
          "metadata": {},
          "output_type": "execute_result"
        }
      ],
      "source": [
        "test_df.groupby(by=['label']).count()"
      ]
    },
    {
      "cell_type": "code",
      "execution_count": 14,
      "metadata": {
        "colab": {
          "base_uri": "https://localhost:8080/"
        },
        "id": "RQdL2rVQNqaG",
        "outputId": "2cd60c43-0391-4499-fa27-aebb32ee2f5c"
      },
      "outputs": [
        {
          "name": "stdout",
          "output_type": "stream",
          "text": [
            "--2024-01-20 20:36:15--  https://raw.githubusercontent.com/roshan-research/hazm/master/hazm/data/stopwords.dat\n",
            "Resolving raw.githubusercontent.com (raw.githubusercontent.com)... 185.199.110.133, 185.199.108.133, 185.199.111.133, ...\n",
            "Connecting to raw.githubusercontent.com (raw.githubusercontent.com)|185.199.110.133|:443... connected.\n",
            "HTTP request sent, awaiting response... 200 OK\n",
            "Length: 3664 (3.6K) [text/plain]\n",
            "Saving to: ‘stopwords.dat.2’\n",
            "\n",
            "\rstopwords.dat.2       0%[                    ]       0  --.-KB/s               \rstopwords.dat.2     100%[===================>]   3.58K  --.-KB/s    in 0s      \n",
            "\n",
            "2024-01-20 20:36:15 (39.6 MB/s) - ‘stopwords.dat.2’ saved [3664/3664]\n",
            "\n"
          ]
        }
      ],
      "source": [
        "!wget https://raw.githubusercontent.com/roshan-research/hazm/master/hazm/data/stopwords.dat"
      ]
    },
    {
      "cell_type": "code",
      "execution_count": 15,
      "metadata": {
        "colab": {
          "base_uri": "https://localhost:8080/"
        },
        "id": "EWEmDWV8Ns0N",
        "outputId": "fc1143d9-fe7e-431d-83a8-a512ad62f538"
      },
      "outputs": [
        {
          "data": {
            "text/plain": [
              "['و',\n",
              " 'در',\n",
              " 'به',\n",
              " 'از',\n",
              " 'که',\n",
              " 'این',\n",
              " 'را',\n",
              " 'با',\n",
              " 'است',\n",
              " 'برای',\n",
              " 'آن',\n",
              " 'یک',\n",
              " 'خود',\n",
              " 'تا',\n",
              " 'کرد',\n",
              " 'بر',\n",
              " 'هم',\n",
              " 'نیز',\n",
              " 'گفت',\n",
              " 'می\\u200cشود',\n",
              " 'وی',\n",
              " 'شد',\n",
              " 'دارد',\n",
              " 'ما',\n",
              " 'اما',\n",
              " 'یا',\n",
              " 'شده',\n",
              " 'باید',\n",
              " 'هر',\n",
              " 'آنها',\n",
              " 'بود',\n",
              " 'او',\n",
              " 'دیگر',\n",
              " 'دو',\n",
              " 'مورد',\n",
              " 'می\\u200cکند',\n",
              " 'شود',\n",
              " 'کند',\n",
              " 'وجود',\n",
              " 'بین',\n",
              " 'پیش',\n",
              " 'شده_است',\n",
              " 'پس',\n",
              " 'نظر',\n",
              " 'اگر',\n",
              " 'همه',\n",
              " 'یکی',\n",
              " 'حال',\n",
              " 'هستند',\n",
              " 'من',\n",
              " 'کنند',\n",
              " 'نیست',\n",
              " 'باشد',\n",
              " 'چه',\n",
              " 'بی',\n",
              " 'می',\n",
              " 'بخش',\n",
              " 'می\\u200cکنند',\n",
              " 'همین',\n",
              " 'افزود',\n",
              " 'هایی',\n",
              " 'دارند',\n",
              " 'راه',\n",
              " 'همچنین',\n",
              " 'روی',\n",
              " 'داد',\n",
              " 'بیشتر',\n",
              " 'بسیار',\n",
              " 'سه',\n",
              " 'داشت',\n",
              " 'چند',\n",
              " 'سوی',\n",
              " 'تنها',\n",
              " 'هیچ',\n",
              " 'میان',\n",
              " 'اینکه',\n",
              " 'شدن',\n",
              " 'بعد',\n",
              " 'جدید',\n",
              " 'ولی',\n",
              " 'حتی',\n",
              " 'کردن',\n",
              " 'برخی',\n",
              " 'کردند',\n",
              " 'می\\u200cدهد',\n",
              " 'اول',\n",
              " 'نه',\n",
              " 'کرده_است',\n",
              " 'نسبت',\n",
              " 'بیش',\n",
              " 'شما',\n",
              " 'چنین',\n",
              " 'طور',\n",
              " 'افراد',\n",
              " 'تمام',\n",
              " 'درباره',\n",
              " 'بار',\n",
              " 'بسیاری',\n",
              " 'می\\u200cتواند',\n",
              " 'کرده',\n",
              " 'چون',\n",
              " 'ندارد',\n",
              " 'دوم',\n",
              " 'بزرگ',\n",
              " 'طی',\n",
              " 'حدود',\n",
              " 'همان',\n",
              " 'بدون',\n",
              " 'البته',\n",
              " 'آنان',\n",
              " 'می\\u200cگوید',\n",
              " 'دیگری',\n",
              " 'خواهد_شد',\n",
              " 'کنیم',\n",
              " 'قابل',\n",
              " 'یعنی',\n",
              " 'رشد',\n",
              " 'می\\u200cتوان',\n",
              " 'وارد',\n",
              " 'کل',\n",
              " 'ویژه',\n",
              " 'قبل',\n",
              " 'براساس',\n",
              " 'نیاز',\n",
              " 'گذاری',\n",
              " 'هنوز',\n",
              " 'لازم',\n",
              " 'سازی',\n",
              " 'بوده_است',\n",
              " 'چرا',\n",
              " 'می\\u200cشوند',\n",
              " 'وقتی',\n",
              " 'گرفت',\n",
              " 'کم',\n",
              " 'جای',\n",
              " 'حالی',\n",
              " 'تغییر',\n",
              " 'پیدا',\n",
              " 'اکنون',\n",
              " 'تحت',\n",
              " 'باعث',\n",
              " 'مدت',\n",
              " 'فقط',\n",
              " 'زیادی',\n",
              " 'تعداد',\n",
              " 'آیا',\n",
              " 'بیان',\n",
              " 'رو',\n",
              " 'شدند',\n",
              " 'عدم',\n",
              " 'کرده_اند',\n",
              " 'بودن',\n",
              " 'نوع',\n",
              " 'بلکه',\n",
              " 'جاری',\n",
              " 'دهد',\n",
              " 'برابر',\n",
              " 'مهم',\n",
              " 'بوده',\n",
              " 'اخیر',\n",
              " 'مربوط',\n",
              " 'امر',\n",
              " 'زیر',\n",
              " 'گیری',\n",
              " 'شاید',\n",
              " 'خصوص',\n",
              " 'آقای',\n",
              " 'اثر',\n",
              " 'کننده',\n",
              " 'بودند',\n",
              " 'فکر',\n",
              " 'کنار',\n",
              " 'اولین',\n",
              " 'سوم',\n",
              " 'سایر',\n",
              " 'کنید',\n",
              " 'ضمن',\n",
              " 'مانند',\n",
              " 'باز',\n",
              " 'می\\u200cگیرد',\n",
              " 'ممکن',\n",
              " 'حل',\n",
              " 'دارای',\n",
              " 'پی',\n",
              " 'مثل',\n",
              " 'می\\u200cرسد',\n",
              " 'اجرا',\n",
              " 'دور',\n",
              " 'منظور',\n",
              " 'کسی',\n",
              " 'موجب',\n",
              " 'طول',\n",
              " 'امکان',\n",
              " 'آنچه',\n",
              " 'تعیین',\n",
              " 'گفته',\n",
              " 'شوند',\n",
              " 'جمع',\n",
              " 'خیلی',\n",
              " 'علاوه',\n",
              " 'گونه',\n",
              " 'تاکنون',\n",
              " 'رسید',\n",
              " 'ساله',\n",
              " 'گرفته',\n",
              " 'شده_اند',\n",
              " 'علت',\n",
              " 'چهار',\n",
              " 'داشته_باشد',\n",
              " 'خواهد_بود',\n",
              " 'طرف',\n",
              " 'تهیه',\n",
              " 'تبدیل',\n",
              " 'مناسب',\n",
              " 'زیرا',\n",
              " 'مشخص',\n",
              " 'می\\u200cتوانند',\n",
              " 'نزدیک',\n",
              " 'جریان',\n",
              " 'روند',\n",
              " 'بنابراین',\n",
              " 'می\\u200cدهند',\n",
              " 'یافت',\n",
              " 'نخستین',\n",
              " 'بالا',\n",
              " 'پنج',\n",
              " 'ریزی',\n",
              " 'عالی',\n",
              " 'چیزی',\n",
              " 'نخست',\n",
              " 'بیشتری',\n",
              " 'ترتیب',\n",
              " 'شده_بود',\n",
              " 'خاص',\n",
              " 'خوبی',\n",
              " 'خوب',\n",
              " 'شروع',\n",
              " 'فرد',\n",
              " 'کامل',\n",
              " 'غیر',\n",
              " 'می\\u200cرود',\n",
              " 'دهند',\n",
              " 'آخرین',\n",
              " 'دادن',\n",
              " 'جدی',\n",
              " 'بهترین',\n",
              " 'شامل',\n",
              " 'گیرد',\n",
              " 'بخشی',\n",
              " 'باشند',\n",
              " 'تمامی',\n",
              " 'بهتر',\n",
              " 'داده_است',\n",
              " 'حد',\n",
              " 'نبود',\n",
              " 'کسانی',\n",
              " 'می\\u200cکرد',\n",
              " 'داریم',\n",
              " 'علیه',\n",
              " 'می\\u200cباشد',\n",
              " 'دانست',\n",
              " 'ناشی',\n",
              " 'داشتند',\n",
              " 'دهه',\n",
              " 'می\\u200cشد',\n",
              " 'ایشان',\n",
              " 'آنجا',\n",
              " 'گرفته_است',\n",
              " 'دچار',\n",
              " 'می\\u200cآید',\n",
              " 'لحاظ',\n",
              " 'آنکه',\n",
              " 'داده',\n",
              " 'بعضی',\n",
              " 'هستیم',\n",
              " 'اند',\n",
              " 'برداری',\n",
              " 'نباید',\n",
              " 'می\\u200cکنیم',\n",
              " 'نشست',\n",
              " 'سهم',\n",
              " 'همیشه',\n",
              " 'آمد',\n",
              " 'اش',\n",
              " 'وگو',\n",
              " 'می\\u200cکنم',\n",
              " 'حداقل',\n",
              " 'طبق',\n",
              " 'جا',\n",
              " 'خواهد_کرد',\n",
              " 'نوعی',\n",
              " 'چگونه',\n",
              " 'رفت',\n",
              " 'هنگام',\n",
              " 'فوق',\n",
              " 'روش',\n",
              " 'ندارند',\n",
              " 'سعی',\n",
              " 'بندی',\n",
              " 'شمار',\n",
              " 'کلی',\n",
              " 'کافی',\n",
              " 'مواجه',\n",
              " 'همچنان',\n",
              " 'زیاد',\n",
              " 'سمت',\n",
              " 'کوچک',\n",
              " 'داشته_است',\n",
              " 'چیز',\n",
              " 'پشت',\n",
              " 'آورد',\n",
              " 'حالا',\n",
              " 'روبه',\n",
              " 'سال\\u200cهای',\n",
              " 'دادند',\n",
              " 'می\\u200cکردند',\n",
              " 'عهده',\n",
              " 'نیمه',\n",
              " 'جایی',\n",
              " 'دیگران',\n",
              " 'سی',\n",
              " 'بروز',\n",
              " 'یکدیگر',\n",
              " 'آمده_است',\n",
              " 'جز',\n",
              " 'کنم',\n",
              " 'سپس',\n",
              " 'کنندگان',\n",
              " 'خودش',\n",
              " 'همواره',\n",
              " 'یافته',\n",
              " 'شان',\n",
              " 'صرف',\n",
              " 'نمی\\u200cشود',\n",
              " 'رسیدن',\n",
              " 'چهارم',\n",
              " 'یابد',\n",
              " 'متر',\n",
              " 'ساز',\n",
              " 'داشته',\n",
              " 'کرده_بود',\n",
              " 'باره',\n",
              " 'نحوه',\n",
              " 'کردم',\n",
              " 'تو',\n",
              " 'شخصی',\n",
              " 'داشته_باشند',\n",
              " 'محسوب',\n",
              " 'پخش',\n",
              " 'کمی',\n",
              " 'متفاوت',\n",
              " 'سراسر',\n",
              " 'کاملا',\n",
              " 'داشتن',\n",
              " 'نظیر',\n",
              " 'آمده',\n",
              " 'گروهی',\n",
              " 'فردی',\n",
              " 'ع',\n",
              " 'همچون',\n",
              " 'خطر',\n",
              " 'خویش',\n",
              " 'کدام',\n",
              " 'دسته',\n",
              " 'سبب',\n",
              " 'عین',\n",
              " 'آوری',\n",
              " 'متاسفانه',\n",
              " 'بیرون',\n",
              " 'دار',\n",
              " 'ابتدا',\n",
              " 'شش',\n",
              " 'افرادی',\n",
              " 'می\\u200cگویند',\n",
              " 'سالهای',\n",
              " 'درون',\n",
              " 'نیستند',\n",
              " 'یافته_است',\n",
              " 'پر',\n",
              " 'خاطرنشان',\n",
              " 'گاه',\n",
              " 'جمعی',\n",
              " 'اغلب',\n",
              " 'دوباره',\n",
              " 'می\\u200cیابد',\n",
              " 'لذا',\n",
              " 'زاده',\n",
              " 'گردد',\n",
              " 'اینجا',\n",
              " '']"
            ]
          },
          "execution_count": 15,
          "metadata": {},
          "output_type": "execute_result"
        }
      ],
      "source": [
        "stop_words = open('/content/stopwords.dat').read().split('\\n')\n",
        "stop_words"
      ]
    },
    {
      "cell_type": "code",
      "execution_count": 31,
      "metadata": {
        "id": "8xpY6RGxBtC7"
      },
      "outputs": [],
      "source": [
        "import re\n",
        "from parsivar import Normalizer\n",
        "from parsivar import Tokenizer\n",
        "from parsivar import FindStems\n",
        "\n",
        "normalizer = Normalizer()\n",
        "tokenizer = Tokenizer()\n",
        "stemmer = FindStems()\n",
        "\n",
        "def clean (text) :\n",
        "  text = re.sub('[!@#$%^&*():\"?؟\\',،\\-]' , '' , text)\n",
        "  words = tokenizer.tokenize_words(normalizer.normalize(text))\n",
        "  filtered_words = [word for word in words if word not in stop_words]\n",
        "  stemmed_words = []\n",
        "  for word in words :\n",
        "    word = stemmer.convert_to_stem(word)\n",
        "    stemmed_words.append(word)\n",
        "  return stemmed_words"
      ]
    },
    {
      "cell_type": "code",
      "execution_count": 32,
      "metadata": {
        "colab": {
          "base_uri": "https://localhost:8080/"
        },
        "id": "x7UwlLVoEOYq",
        "outputId": "8669437d-7a28-4bcf-c499-0d227cffa4b9"
      },
      "outputs": [
        {
          "name": "stderr",
          "output_type": "stream",
          "text": [
            "\n",
            "  0%|          | 0/9000 [00:00<?, ?it/s]\u001b[A\n",
            "  0%|          | 6/9000 [00:00<03:05, 48.54it/s]\u001b[A\n",
            "  0%|          | 11/9000 [00:00<08:07, 18.45it/s]\u001b[A\n",
            "  0%|          | 16/9000 [00:00<07:01, 21.30it/s]\u001b[A\n",
            "  0%|          | 19/9000 [00:00<07:01, 21.29it/s]\u001b[A\n",
            "  0%|          | 23/9000 [00:01<06:26, 23.22it/s]\u001b[A\n",
            "  0%|          | 26/9000 [00:01<07:22, 20.27it/s]\u001b[A\n",
            "  0%|          | 29/9000 [00:01<07:25, 20.13it/s]\u001b[A\n",
            "  0%|          | 35/9000 [00:01<06:19, 23.63it/s]\u001b[A\n",
            "  0%|          | 39/9000 [00:01<07:13, 20.69it/s]\u001b[A\n",
            "  0%|          | 42/9000 [00:01<07:29, 19.94it/s]\u001b[A\n",
            "  1%|          | 46/9000 [00:02<06:20, 23.56it/s]\u001b[A\n",
            "  1%|          | 52/9000 [00:02<05:06, 29.21it/s]\u001b[A\n",
            "  1%|          | 56/9000 [00:02<04:48, 31.03it/s]\u001b[A\n",
            "  1%|          | 60/9000 [00:02<04:42, 31.62it/s]\u001b[A\n",
            "  1%|          | 67/9000 [00:02<04:05, 36.43it/s]\u001b[A\n",
            "  1%|          | 71/9000 [00:02<05:48, 25.63it/s]\u001b[A\n",
            "  1%|          | 75/9000 [00:03<06:03, 24.57it/s]\u001b[A\n",
            "  1%|          | 78/9000 [00:03<08:50, 16.81it/s]\u001b[A\n",
            "  1%|          | 81/9000 [00:03<09:04, 16.37it/s]\u001b[A\n",
            "  1%|          | 87/9000 [00:03<06:51, 21.64it/s]\u001b[A\n",
            "  1%|          | 91/9000 [00:03<06:30, 22.83it/s]\u001b[A\n",
            "  1%|          | 95/9000 [00:04<06:19, 23.46it/s]\u001b[A\n",
            "  1%|          | 98/9000 [00:04<07:05, 20.92it/s]\u001b[A\n",
            "  1%|          | 102/9000 [00:04<07:29, 19.79it/s]\u001b[A\n",
            "  1%|          | 108/9000 [00:04<05:58, 24.82it/s]\u001b[A\n",
            "  1%|          | 111/9000 [00:04<06:32, 22.64it/s]\u001b[A\n",
            "  1%|▏         | 115/9000 [00:04<06:00, 24.68it/s]\u001b[A\n",
            "  1%|▏         | 118/9000 [00:05<08:55, 16.59it/s]\u001b[A\n",
            "  1%|▏         | 121/9000 [00:05<08:11, 18.06it/s]\u001b[A\n",
            "  1%|▏         | 126/9000 [00:05<06:33, 22.58it/s]\u001b[A\n",
            "  1%|▏         | 129/9000 [00:05<06:26, 22.94it/s]\u001b[A\n",
            "  1%|▏         | 132/9000 [00:05<06:11, 23.84it/s]\u001b[A\n",
            "  2%|▏         | 139/9000 [00:05<04:38, 31.76it/s]\u001b[A\n",
            "  2%|▏         | 143/9000 [00:06<04:48, 30.74it/s]\u001b[A\n",
            "  2%|▏         | 151/9000 [00:06<03:36, 40.84it/s]\u001b[A\n",
            "  2%|▏         | 161/9000 [00:06<02:41, 54.83it/s]\u001b[A\n",
            "  2%|▏         | 168/9000 [00:06<02:32, 57.95it/s]\u001b[A\n",
            "  2%|▏         | 175/9000 [00:06<03:11, 46.11it/s]\u001b[A\n",
            "  2%|▏         | 181/9000 [00:06<03:17, 44.64it/s]\u001b[A\n",
            "  2%|▏         | 189/9000 [00:06<02:50, 51.79it/s]\u001b[A\n",
            "  2%|▏         | 196/9000 [00:07<02:40, 54.86it/s]\u001b[A\n",
            "  2%|▏         | 202/9000 [00:07<02:48, 52.34it/s]\u001b[A\n",
            "  2%|▏         | 208/9000 [00:07<03:10, 46.20it/s]\u001b[A\n",
            " 59%|█████▉    | 5298/9000 [00:55<00:36, 100.37it/s]\n",
            "  2%|▏         | 221/9000 [00:07<03:42, 39.46it/s]\u001b[A\n",
            "  3%|▎         | 227/9000 [00:07<03:57, 36.88it/s]\u001b[A\n",
            "  3%|▎         | 234/9000 [00:07<03:24, 42.96it/s]\u001b[A\n",
            "  3%|▎         | 239/9000 [00:08<03:35, 40.69it/s]\u001b[A\n",
            "  3%|▎         | 244/9000 [00:08<03:36, 40.45it/s]\u001b[A\n",
            "  3%|▎         | 250/9000 [00:08<03:21, 43.39it/s]\u001b[A\n",
            "  3%|▎         | 256/9000 [00:08<03:16, 44.43it/s]\u001b[A\n",
            "  3%|▎         | 267/9000 [00:08<02:28, 58.71it/s]\u001b[A\n",
            "  3%|▎         | 274/9000 [00:08<03:01, 48.00it/s]\u001b[A\n",
            "  3%|▎         | 280/9000 [00:08<03:08, 46.31it/s]\u001b[A\n",
            "  3%|▎         | 289/9000 [00:09<02:36, 55.74it/s]\u001b[A\n",
            "  3%|▎         | 296/9000 [00:09<02:53, 50.14it/s]\u001b[A\n",
            "  3%|▎         | 302/9000 [00:09<04:04, 35.57it/s]\u001b[A\n",
            "  3%|▎         | 307/9000 [00:09<04:36, 31.41it/s]\u001b[A\n",
            "  3%|▎         | 311/9000 [00:09<04:51, 29.82it/s]\u001b[A\n",
            "  4%|▎         | 315/9000 [00:10<04:51, 29.75it/s]\u001b[A\n",
            "  4%|▎         | 331/9000 [00:10<02:36, 55.38it/s]\u001b[A\n",
            "  4%|▍         | 348/9000 [00:10<01:51, 77.84it/s]\u001b[A\n",
            "  4%|▍         | 361/9000 [00:10<01:39, 86.60it/s]\u001b[A\n",
            "  4%|▍         | 372/9000 [00:10<01:33, 91.84it/s]\u001b[A\n",
            "  4%|▍         | 383/9000 [00:10<01:30, 95.37it/s]\u001b[A\n",
            "  4%|▍         | 394/9000 [00:10<01:33, 92.16it/s]\u001b[A\n",
            "  4%|▍         | 404/9000 [00:10<01:54, 74.82it/s]\u001b[A\n",
            "  5%|▍         | 419/9000 [00:11<01:33, 91.98it/s]\u001b[A\n",
            "  5%|▍         | 430/9000 [00:11<01:29, 95.58it/s]\u001b[A\n",
            "  5%|▍         | 441/9000 [00:11<01:39, 85.79it/s]\u001b[A\n",
            "  5%|▌         | 453/9000 [00:11<01:33, 91.83it/s]\u001b[A\n",
            "  5%|▌         | 465/9000 [00:11<01:28, 96.89it/s]\u001b[A\n",
            "  5%|▌         | 476/9000 [00:11<01:27, 97.72it/s]\u001b[A\n",
            "  5%|▌         | 487/9000 [00:11<01:40, 84.32it/s]\u001b[A\n",
            "  6%|▌         | 497/9000 [00:11<01:37, 87.04it/s]\u001b[A\n",
            "  6%|▌         | 507/9000 [00:11<01:36, 87.77it/s]\u001b[A\n",
            "  6%|▌         | 517/9000 [00:12<01:53, 75.00it/s]\u001b[A\n",
            "  6%|▌         | 528/9000 [00:12<01:42, 82.53it/s]\u001b[A\n",
            "  6%|▌         | 537/9000 [00:12<01:51, 76.24it/s]\u001b[A\n",
            "  6%|▌         | 546/9000 [00:12<01:46, 79.26it/s]\u001b[A\n",
            "  6%|▌         | 558/9000 [00:12<01:34, 89.10it/s]\u001b[A\n",
            "  6%|▋         | 568/9000 [00:12<01:45, 79.89it/s]\u001b[A\n",
            "  6%|▋         | 580/9000 [00:12<01:36, 87.59it/s]\u001b[A\n",
            "  7%|▋         | 590/9000 [00:12<01:35, 87.86it/s]\u001b[A\n",
            "  7%|▋         | 603/9000 [00:13<01:32, 90.36it/s]\u001b[A\n",
            "  7%|▋         | 613/9000 [00:13<01:48, 77.41it/s]\u001b[A\n",
            "  7%|▋         | 623/9000 [00:13<01:42, 81.99it/s]\u001b[A\n",
            "  7%|▋         | 634/9000 [00:13<01:48, 76.97it/s]\u001b[A\n",
            "  7%|▋         | 643/9000 [00:13<01:50, 75.84it/s]\u001b[A\n",
            "  7%|▋         | 651/9000 [00:13<02:06, 66.07it/s]\u001b[A\n",
            "  7%|▋         | 660/9000 [00:13<02:00, 69.13it/s]\u001b[A\n",
            "  7%|▋         | 668/9000 [00:14<01:58, 70.45it/s]\u001b[A\n",
            "  8%|▊         | 676/9000 [00:14<01:54, 72.63it/s]\u001b[A\n",
            "  8%|▊         | 687/9000 [00:14<01:48, 76.32it/s]\u001b[A\n",
            "  8%|▊         | 696/9000 [00:14<01:49, 75.97it/s]\u001b[A\n",
            "  8%|▊         | 704/9000 [00:14<01:54, 72.76it/s]\u001b[A\n",
            "  8%|▊         | 714/9000 [00:14<01:47, 76.89it/s]\u001b[A\n",
            "  8%|▊         | 722/9000 [00:14<01:59, 69.12it/s]\u001b[A\n",
            "  8%|▊         | 734/9000 [00:14<01:43, 79.94it/s]\u001b[A\n",
            "  8%|▊         | 743/9000 [00:15<01:48, 75.82it/s]\u001b[A\n",
            "  8%|▊         | 751/9000 [00:15<01:48, 75.81it/s]\u001b[A\n",
            "  8%|▊         | 759/9000 [00:15<01:54, 72.21it/s]\u001b[A\n",
            "  9%|▊         | 767/9000 [00:15<02:05, 65.63it/s]\u001b[A\n",
            "  9%|▊         | 775/9000 [00:15<01:59, 68.97it/s]\u001b[A\n",
            "  9%|▊         | 783/9000 [00:15<02:08, 64.14it/s]\u001b[A\n",
            "  9%|▉         | 790/9000 [00:15<02:25, 56.33it/s]\u001b[A\n",
            "  9%|▉         | 796/9000 [00:16<02:47, 48.95it/s]\u001b[A\n",
            "  9%|▉         | 802/9000 [00:16<02:44, 49.72it/s]\u001b[A\n",
            "  9%|▉         | 808/9000 [00:16<02:44, 49.66it/s]\u001b[A\n",
            "  9%|▉         | 815/9000 [00:16<02:30, 54.23it/s]\u001b[A\n",
            "  9%|▉         | 821/9000 [00:16<02:42, 50.35it/s]\u001b[A\n",
            "  9%|▉         | 827/9000 [00:16<02:40, 50.81it/s]\u001b[A\n",
            "  9%|▉         | 834/9000 [00:16<03:37, 37.52it/s]\u001b[A\n",
            "  9%|▉         | 839/9000 [00:17<03:42, 36.73it/s]\u001b[A\n",
            "  9%|▉         | 849/9000 [00:17<03:02, 44.76it/s]\u001b[A\n",
            " 10%|▉         | 855/9000 [00:17<03:00, 45.02it/s]\u001b[A\n",
            " 10%|▉         | 861/9000 [00:17<03:03, 44.27it/s]\u001b[A\n",
            " 10%|▉         | 869/9000 [00:17<02:37, 51.68it/s]\u001b[A\n",
            " 10%|▉         | 875/9000 [00:17<02:36, 51.84it/s]\u001b[A\n",
            " 10%|▉         | 882/9000 [00:17<02:40, 50.55it/s]\u001b[A\n",
            " 10%|▉         | 888/9000 [00:17<02:37, 51.58it/s]\u001b[A\n",
            " 10%|▉         | 895/9000 [00:18<02:28, 54.54it/s]\u001b[A\n",
            " 10%|█         | 901/9000 [00:18<02:25, 55.51it/s]\u001b[A\n",
            " 10%|█         | 909/9000 [00:18<02:16, 59.25it/s]\u001b[A\n",
            " 10%|█         | 915/9000 [00:18<02:46, 48.47it/s]\u001b[A\n",
            " 10%|█         | 925/9000 [00:18<02:14, 59.89it/s]\u001b[A\n",
            " 10%|█         | 932/9000 [00:18<02:12, 61.10it/s]\u001b[A\n",
            " 10%|█         | 939/9000 [00:18<02:16, 58.98it/s]\u001b[A\n",
            " 11%|█         | 946/9000 [00:18<02:12, 60.60it/s]\u001b[A\n",
            " 11%|█         | 953/9000 [00:19<02:12, 60.68it/s]\u001b[A\n",
            " 11%|█         | 960/9000 [00:19<02:18, 58.04it/s]\u001b[A\n",
            " 11%|█         | 968/9000 [00:19<02:06, 63.68it/s]\u001b[A\n",
            " 11%|█         | 976/9000 [00:19<01:58, 67.87it/s]\u001b[A\n",
            " 11%|█         | 986/9000 [00:19<01:45, 76.32it/s]\u001b[A\n",
            " 11%|█         | 996/9000 [00:19<01:40, 79.35it/s]\u001b[A\n",
            " 11%|█         | 1005/9000 [00:19<01:38, 81.16it/s]\u001b[A\n",
            " 11%|█▏        | 1014/9000 [00:19<01:41, 78.46it/s]\u001b[A\n",
            " 11%|█▏        | 1026/9000 [00:19<01:34, 84.08it/s]\u001b[A\n",
            " 12%|█▏        | 1036/9000 [00:20<01:30, 87.97it/s]\u001b[A\n",
            " 12%|█▏        | 1048/9000 [00:20<01:25, 92.66it/s]\u001b[A\n",
            " 12%|█▏        | 1059/9000 [00:20<01:23, 94.84it/s]\u001b[A\n",
            " 12%|█▏        | 1071/9000 [00:20<01:18, 100.79it/s]\u001b[A\n",
            " 12%|█▏        | 1082/9000 [00:20<01:23, 94.87it/s] \u001b[A\n",
            " 12%|█▏        | 1093/9000 [00:20<01:21, 96.83it/s]\u001b[A\n",
            " 12%|█▏        | 1105/9000 [00:20<01:17, 101.40it/s]\u001b[A\n",
            " 12%|█▏        | 1116/9000 [00:20<01:37, 80.95it/s] \u001b[A\n",
            " 12%|█▎        | 1125/9000 [00:21<01:36, 81.53it/s]\u001b[A\n",
            " 13%|█▎        | 1134/9000 [00:21<01:36, 81.71it/s]\u001b[A\n",
            " 13%|█▎        | 1144/9000 [00:21<01:37, 80.62it/s]\u001b[A\n",
            " 13%|█▎        | 1161/9000 [00:21<01:15, 103.35it/s]\u001b[A\n",
            " 13%|█▎        | 1173/9000 [00:21<01:12, 107.71it/s]\u001b[A\n",
            " 13%|█▎        | 1185/9000 [00:21<01:10, 110.88it/s]\u001b[A\n",
            " 13%|█▎        | 1197/9000 [00:21<01:13, 105.65it/s]\u001b[A\n",
            " 13%|█▎        | 1208/9000 [00:21<01:17, 100.66it/s]\u001b[A\n",
            " 14%|█▎        | 1219/9000 [00:21<01:19, 97.29it/s] \u001b[A\n",
            " 14%|█▎        | 1230/9000 [00:22<01:18, 98.96it/s]\u001b[A\n",
            " 14%|█▍        | 1242/9000 [00:22<01:15, 102.70it/s]\u001b[A\n",
            " 14%|█▍        | 1253/9000 [00:22<01:14, 103.37it/s]\u001b[A\n",
            " 14%|█▍        | 1264/9000 [00:22<01:17, 99.58it/s] \u001b[A\n",
            " 14%|█▍        | 1276/9000 [00:22<01:15, 102.76it/s]\u001b[A\n",
            " 14%|█▍        | 1288/9000 [00:22<01:13, 104.69it/s]\u001b[A\n",
            " 14%|█▍        | 1302/9000 [00:22<01:07, 113.46it/s]\u001b[A\n",
            " 15%|█▍        | 1314/9000 [00:22<01:17, 99.77it/s] \u001b[A\n",
            " 15%|█▍        | 1328/9000 [00:22<01:10, 109.57it/s]\u001b[A\n",
            " 15%|█▍        | 1340/9000 [00:23<01:11, 107.25it/s]\u001b[A\n",
            " 15%|█▌        | 1351/9000 [00:23<01:11, 106.41it/s]\u001b[A\n",
            " 15%|█▌        | 1362/9000 [00:23<01:14, 102.56it/s]\u001b[A\n",
            " 15%|█▌        | 1373/9000 [00:23<01:13, 104.33it/s]\u001b[A\n",
            " 15%|█▌        | 1384/9000 [00:23<01:17, 97.73it/s] \u001b[A\n",
            " 16%|█▌        | 1396/9000 [00:23<01:29, 84.69it/s]\u001b[A\n",
            " 16%|█▌        | 1409/9000 [00:23<01:19, 95.21it/s]\u001b[A\n",
            " 16%|█▌        | 1420/9000 [00:23<01:28, 85.52it/s]\u001b[A\n",
            " 16%|█▌        | 1430/9000 [00:24<01:57, 64.50it/s]\u001b[A\n",
            " 16%|█▌        | 1438/9000 [00:24<01:52, 67.42it/s]\u001b[A\n",
            " 16%|█▌        | 1446/9000 [00:24<01:57, 64.16it/s]\u001b[A\n",
            " 16%|█▌        | 1460/9000 [00:24<01:33, 80.31it/s]\u001b[A\n",
            " 16%|█▋        | 1474/9000 [00:24<01:20, 93.72it/s]\u001b[A\n",
            " 16%|█▋        | 1485/9000 [00:24<01:30, 82.77it/s]\u001b[A\n",
            " 17%|█▋        | 1495/9000 [00:25<01:39, 75.70it/s]\u001b[A\n",
            " 17%|█▋        | 1507/9000 [00:25<01:27, 85.24it/s]\u001b[A\n",
            " 17%|█▋        | 1517/9000 [00:25<01:27, 85.58it/s]\u001b[A\n",
            " 17%|█▋        | 1527/9000 [00:25<02:22, 52.42it/s]\u001b[A\n",
            " 17%|█▋        | 1537/9000 [00:25<02:03, 60.45it/s]\u001b[A\n",
            " 17%|█▋        | 1545/9000 [00:25<02:05, 59.61it/s]\u001b[A\n",
            " 17%|█▋        | 1553/9000 [00:26<02:05, 59.55it/s]\u001b[A\n",
            " 17%|█▋        | 1565/9000 [00:26<01:42, 72.60it/s]\u001b[A\n",
            " 18%|█▊        | 1581/9000 [00:26<01:21, 90.82it/s]\u001b[A\n",
            " 18%|█▊        | 1597/9000 [00:26<01:10, 104.40it/s]\u001b[A\n",
            " 18%|█▊        | 1609/9000 [00:26<01:17, 95.31it/s] \u001b[A\n",
            " 18%|█▊        | 1622/9000 [00:26<01:12, 101.30it/s]\u001b[A\n",
            " 18%|█▊        | 1633/9000 [00:26<01:15, 97.51it/s] \u001b[A\n",
            " 18%|█▊        | 1644/9000 [00:26<01:16, 95.82it/s]\u001b[A\n",
            " 18%|█▊        | 1654/9000 [00:26<01:17, 94.80it/s]\u001b[A\n",
            " 18%|█▊        | 1664/9000 [00:27<01:35, 76.94it/s]\u001b[A\n",
            " 19%|█▊        | 1682/9000 [00:27<01:12, 100.66it/s]\u001b[A\n",
            " 19%|█▉        | 1694/9000 [00:27<01:13, 99.32it/s] \u001b[A\n",
            " 19%|█▉        | 1705/9000 [00:27<01:14, 98.06it/s]\u001b[A\n",
            " 19%|█▉        | 1716/9000 [00:27<01:12, 100.45it/s]\u001b[A\n",
            " 19%|█▉        | 1728/9000 [00:27<01:11, 101.74it/s]\u001b[A\n",
            " 19%|█▉        | 1739/9000 [00:27<01:19, 91.88it/s] \u001b[A\n",
            " 19%|█▉        | 1751/9000 [00:27<01:13, 98.16it/s]\u001b[A\n",
            " 20%|█▉        | 1762/9000 [00:28<01:17, 93.47it/s]\u001b[A\n",
            " 20%|█▉        | 1777/9000 [00:28<01:07, 106.53it/s]\u001b[A\n",
            " 20%|█▉        | 1792/9000 [00:28<01:03, 113.79it/s]\u001b[A\n",
            " 20%|██        | 1804/9000 [00:28<01:07, 107.26it/s]\u001b[A\n",
            " 20%|██        | 1815/9000 [00:28<01:25, 84.07it/s] \u001b[A\n",
            " 20%|██        | 1825/9000 [00:28<01:32, 77.68it/s]\u001b[A\n",
            " 20%|██        | 1835/9000 [00:28<01:27, 81.54it/s]\u001b[A\n",
            " 21%|██        | 1851/9000 [00:29<01:11, 99.93it/s]\u001b[A\n",
            " 21%|██        | 1862/9000 [00:29<01:15, 94.01it/s]\u001b[A\n",
            " 21%|██        | 1873/9000 [00:29<01:29, 79.69it/s]\u001b[A\n",
            " 21%|██        | 1882/9000 [00:29<01:32, 76.54it/s]\u001b[A\n",
            " 21%|██        | 1891/9000 [00:29<01:58, 59.95it/s]\u001b[A\n",
            " 21%|██        | 1898/9000 [00:29<02:03, 57.54it/s]\u001b[A\n",
            " 21%|██        | 1905/9000 [00:29<02:02, 57.86it/s]\u001b[A\n",
            " 21%|██        | 1912/9000 [00:30<02:01, 58.16it/s]\u001b[A\n",
            " 21%|██▏       | 1921/9000 [00:30<01:48, 65.52it/s]\u001b[A\n",
            " 21%|██▏       | 1928/9000 [00:30<02:17, 51.56it/s]\u001b[A\n",
            " 21%|██▏       | 1934/9000 [00:30<02:15, 52.01it/s]\u001b[A\n",
            " 22%|██▏       | 1945/9000 [00:30<01:55, 61.03it/s]\u001b[A\n",
            " 22%|██▏       | 1956/9000 [00:30<01:39, 70.70it/s]\u001b[A\n",
            " 22%|██▏       | 1965/9000 [00:30<01:33, 75.09it/s]\u001b[A\n",
            " 22%|██▏       | 1974/9000 [00:30<01:31, 76.53it/s]\u001b[A\n",
            " 22%|██▏       | 1982/9000 [00:31<02:05, 55.97it/s]\u001b[A\n",
            " 22%|██▏       | 1989/9000 [00:31<02:28, 47.14it/s]\u001b[A\n",
            " 22%|██▏       | 1995/9000 [00:31<02:33, 45.65it/s]\u001b[A\n",
            " 22%|██▏       | 2001/9000 [00:31<02:45, 42.17it/s]\u001b[A\n",
            " 22%|██▏       | 2006/9000 [00:31<03:13, 36.19it/s]\u001b[A\n",
            " 22%|██▏       | 2010/9000 [00:32<03:10, 36.70it/s]\u001b[A\n",
            " 22%|██▏       | 2014/9000 [00:32<03:22, 34.46it/s]\u001b[A\n",
            " 22%|██▏       | 2018/9000 [00:32<03:15, 35.67it/s]\u001b[A\n",
            " 22%|██▏       | 2022/9000 [00:32<03:39, 31.77it/s]\u001b[A\n",
            " 23%|██▎       | 2031/9000 [00:32<02:38, 44.07it/s]\u001b[A\n",
            " 23%|██▎       | 2038/9000 [00:32<02:22, 48.87it/s]\u001b[A\n",
            " 23%|██▎       | 2044/9000 [00:32<02:23, 48.46it/s]\u001b[A\n",
            " 23%|██▎       | 2050/9000 [00:33<02:43, 42.48it/s]\u001b[A\n",
            " 23%|██▎       | 2055/9000 [00:33<02:43, 42.53it/s]\u001b[A\n",
            " 23%|██▎       | 2063/9000 [00:33<02:17, 50.40it/s]\u001b[A\n",
            " 23%|██▎       | 2069/9000 [00:33<02:12, 52.22it/s]\u001b[A\n",
            " 23%|██▎       | 2077/9000 [00:33<01:58, 58.21it/s]\u001b[A\n",
            " 23%|██▎       | 2084/9000 [00:33<01:56, 59.53it/s]\u001b[A\n",
            " 23%|██▎       | 2098/9000 [00:33<01:25, 80.40it/s]\u001b[A\n",
            " 23%|██▎       | 2109/9000 [00:33<01:24, 82.01it/s]\u001b[A\n",
            " 24%|██▎       | 2120/9000 [00:33<01:18, 87.81it/s]\u001b[A\n",
            " 24%|██▎       | 2131/9000 [00:34<01:14, 92.06it/s]\u001b[A\n",
            " 24%|██▍       | 2143/9000 [00:34<01:09, 99.18it/s]\u001b[A\n",
            " 24%|██▍       | 2154/9000 [00:34<01:25, 80.43it/s]\u001b[A\n",
            " 24%|██▍       | 2164/9000 [00:34<01:24, 80.85it/s]\u001b[A\n",
            " 24%|██▍       | 2176/9000 [00:34<01:17, 87.51it/s]\u001b[A\n",
            " 24%|██▍       | 2191/9000 [00:34<01:06, 102.26it/s]\u001b[A\n",
            " 25%|██▍       | 2207/9000 [00:34<00:57, 117.33it/s]\u001b[A\n",
            " 25%|██▍       | 2220/9000 [00:34<00:59, 113.90it/s]\u001b[A\n",
            " 25%|██▍       | 2236/9000 [00:34<00:53, 125.70it/s]\u001b[A\n",
            " 25%|██▍       | 2249/9000 [00:35<01:05, 103.45it/s]\u001b[A\n",
            " 25%|██▌       | 2262/9000 [00:35<01:01, 109.19it/s]\u001b[A\n",
            " 25%|██▌       | 2275/9000 [00:35<00:58, 114.04it/s]\u001b[A\n",
            " 25%|██▌       | 2290/9000 [00:35<00:54, 123.63it/s]\u001b[A\n",
            " 26%|██▌       | 2303/9000 [00:35<00:59, 112.33it/s]\u001b[A\n",
            " 26%|██▌       | 2318/9000 [00:35<00:58, 113.89it/s]\u001b[A\n",
            " 26%|██▌       | 2330/9000 [00:35<00:59, 112.06it/s]\u001b[A\n",
            " 26%|██▌       | 2342/9000 [00:35<01:02, 105.72it/s]\u001b[A\n",
            " 26%|██▌       | 2354/9000 [00:36<01:01, 107.74it/s]\u001b[A\n",
            " 26%|██▋       | 2366/9000 [00:36<01:00, 110.17it/s]\u001b[A\n",
            " 26%|██▋       | 2378/9000 [00:36<01:03, 104.49it/s]\u001b[A\n",
            " 27%|██▋       | 2389/9000 [00:36<01:12, 91.25it/s] \u001b[A\n",
            " 27%|██▋       | 2401/9000 [00:36<01:07, 97.49it/s]\u001b[A\n",
            " 27%|██▋       | 2412/9000 [00:36<01:12, 90.54it/s]\u001b[A\n",
            " 27%|██▋       | 2422/9000 [00:36<01:21, 80.98it/s]\u001b[A\n",
            " 27%|██▋       | 2431/9000 [00:37<01:25, 76.40it/s]\u001b[A\n",
            " 27%|██▋       | 2439/9000 [00:37<01:25, 76.38it/s]\u001b[A\n",
            " 27%|██▋       | 2455/9000 [00:37<01:07, 96.30it/s]\u001b[A\n",
            " 27%|██▋       | 2466/9000 [00:37<01:13, 89.12it/s]\u001b[A\n",
            " 28%|██▊       | 2476/9000 [00:37<01:19, 82.19it/s]\u001b[A\n",
            " 28%|██▊       | 2489/9000 [00:37<01:09, 93.59it/s]\u001b[A\n",
            " 28%|██▊       | 2499/9000 [00:37<01:12, 89.46it/s]\u001b[A\n",
            " 28%|██▊       | 2509/9000 [00:37<01:25, 76.25it/s]\u001b[A\n",
            " 28%|██▊       | 2522/9000 [00:38<01:13, 87.92it/s]\u001b[A\n",
            " 28%|██▊       | 2538/9000 [00:38<01:01, 105.54it/s]\u001b[A\n",
            " 28%|██▊       | 2550/9000 [00:38<01:00, 105.99it/s]\u001b[A\n",
            " 28%|██▊       | 2562/9000 [00:38<01:01, 104.96it/s]\u001b[A\n",
            " 29%|██▊       | 2573/9000 [00:38<01:11, 89.68it/s] \u001b[A\n",
            " 29%|██▊       | 2587/9000 [00:38<01:05, 98.26it/s]\u001b[A\n",
            " 29%|██▉       | 2598/9000 [00:38<01:11, 89.68it/s]\u001b[A\n",
            " 29%|██▉       | 2610/9000 [00:38<01:09, 92.45it/s]\u001b[A\n",
            " 29%|██▉       | 2620/9000 [00:39<01:08, 92.81it/s]\u001b[A\n",
            " 29%|██▉       | 2630/9000 [00:39<01:17, 82.54it/s]\u001b[A\n",
            " 29%|██▉       | 2639/9000 [00:39<01:33, 67.93it/s]\u001b[A\n",
            " 30%|██▉       | 2656/9000 [00:39<01:12, 88.00it/s]\u001b[A\n",
            " 30%|██▉       | 2666/9000 [00:39<01:17, 81.61it/s]\u001b[A\n",
            " 30%|██▉       | 2679/9000 [00:39<01:10, 89.09it/s]\u001b[A\n",
            " 30%|██▉       | 2689/9000 [00:39<01:09, 90.83it/s]\u001b[A\n",
            " 30%|██▉       | 2699/9000 [00:40<01:16, 82.50it/s]\u001b[A\n",
            " 30%|███       | 2710/9000 [00:40<01:11, 88.20it/s]\u001b[A\n",
            " 30%|███       | 2720/9000 [00:40<01:17, 81.20it/s]\u001b[A\n",
            " 30%|███       | 2729/9000 [00:40<01:20, 78.14it/s]\u001b[A\n",
            " 30%|███       | 2738/9000 [00:40<01:34, 66.47it/s]\u001b[A\n",
            " 31%|███       | 2756/9000 [00:40<01:08, 91.22it/s]\u001b[A\n",
            " 31%|███       | 2767/9000 [00:40<01:05, 95.66it/s]\u001b[A\n",
            " 31%|███       | 2778/9000 [00:40<01:11, 87.34it/s]\u001b[A\n",
            " 31%|███       | 2789/9000 [00:41<01:09, 89.59it/s]\u001b[A\n",
            " 31%|███       | 2799/9000 [00:41<01:18, 79.05it/s]\u001b[A\n",
            " 31%|███       | 2809/9000 [00:41<01:15, 82.09it/s]\u001b[A\n",
            " 31%|███▏      | 2818/9000 [00:41<01:19, 77.43it/s]\u001b[A\n",
            " 31%|███▏      | 2827/9000 [00:41<01:40, 61.45it/s]\u001b[A\n",
            " 32%|███▏      | 2838/9000 [00:41<01:29, 68.82it/s]\u001b[A\n",
            " 32%|███▏      | 2850/9000 [00:41<01:16, 80.25it/s]\u001b[A\n",
            " 32%|███▏      | 2861/9000 [00:42<01:10, 86.80it/s]\u001b[A\n",
            " 32%|███▏      | 2871/9000 [00:42<01:08, 89.09it/s]\u001b[A\n",
            " 32%|███▏      | 2884/9000 [00:42<01:02, 98.32it/s]\u001b[A\n",
            " 32%|███▏      | 2899/9000 [00:42<00:56, 108.28it/s]\u001b[A\n",
            " 32%|███▏      | 2911/9000 [00:42<00:57, 105.68it/s]\u001b[A\n",
            " 32%|███▏      | 2922/9000 [00:42<01:06, 91.20it/s] \u001b[A\n",
            " 33%|███▎      | 2932/9000 [00:42<01:07, 90.15it/s]\u001b[A\n",
            " 33%|███▎      | 2942/9000 [00:42<01:11, 84.40it/s]\u001b[A\n",
            " 33%|███▎      | 2951/9000 [00:42<01:13, 81.89it/s]\u001b[A\n",
            " 33%|███▎      | 2960/9000 [00:43<01:13, 81.88it/s]\u001b[A\n",
            " 33%|███▎      | 2972/9000 [00:43<01:06, 90.26it/s]\u001b[A\n",
            " 33%|███▎      | 2982/9000 [00:43<01:19, 76.01it/s]\u001b[A\n",
            " 33%|███▎      | 2991/9000 [00:43<01:28, 67.63it/s]\u001b[A\n",
            " 33%|███▎      | 2999/9000 [00:43<01:38, 61.14it/s]\u001b[A\n",
            " 33%|███▎      | 3011/9000 [00:43<01:30, 66.36it/s]\u001b[A\n",
            " 34%|███▎      | 3019/9000 [00:43<01:27, 68.14it/s]\u001b[A\n",
            " 34%|███▎      | 3027/9000 [00:44<01:33, 63.76it/s]\u001b[A\n",
            " 34%|███▎      | 3034/9000 [00:44<02:11, 45.22it/s]\u001b[A\n",
            " 34%|███▍      | 3040/9000 [00:44<02:19, 42.72it/s]\u001b[A\n",
            " 34%|███▍      | 3045/9000 [00:44<02:23, 41.55it/s]\u001b[A\n",
            " 34%|███▍      | 3050/9000 [00:44<02:29, 39.89it/s]\u001b[A\n",
            " 34%|███▍      | 3056/9000 [00:44<02:18, 43.05it/s]\u001b[A\n",
            " 34%|███▍      | 3068/9000 [00:45<01:38, 60.51it/s]\u001b[A\n",
            " 34%|███▍      | 3075/9000 [00:45<01:40, 59.09it/s]\u001b[A\n",
            " 34%|███▍      | 3082/9000 [00:45<01:53, 52.03it/s]\u001b[A\n",
            " 34%|███▍      | 3088/9000 [00:45<01:51, 53.03it/s]\u001b[A\n",
            " 34%|███▍      | 3094/9000 [00:45<01:50, 53.65it/s]\u001b[A\n",
            " 34%|███▍      | 3101/9000 [00:45<01:46, 55.59it/s]\u001b[A\n",
            " 35%|███▍      | 3110/9000 [00:45<01:33, 63.31it/s]\u001b[A\n",
            " 35%|███▍      | 3117/9000 [00:45<01:36, 60.93it/s]\u001b[A\n",
            " 35%|███▍      | 3124/9000 [00:46<01:37, 59.99it/s]\u001b[A\n",
            " 35%|███▍      | 3131/9000 [00:46<01:36, 60.94it/s]\u001b[A\n",
            " 35%|███▍      | 3140/9000 [00:46<01:27, 66.96it/s]\u001b[A\n",
            " 35%|███▍      | 3147/9000 [00:46<01:33, 62.63it/s]\u001b[A\n",
            " 35%|███▌      | 3154/9000 [00:46<01:34, 61.57it/s]\u001b[A\n",
            " 35%|███▌      | 3162/9000 [00:46<01:32, 62.99it/s]\u001b[A\n",
            " 35%|███▌      | 3170/9000 [00:46<01:27, 66.86it/s]\u001b[A\n",
            " 35%|███▌      | 3178/9000 [00:46<01:35, 60.96it/s]\u001b[A\n",
            " 35%|███▌      | 3185/9000 [00:47<01:47, 54.02it/s]\u001b[A\n",
            " 35%|███▌      | 3191/9000 [00:47<01:49, 53.10it/s]\u001b[A\n",
            " 36%|███▌      | 3201/9000 [00:47<01:35, 60.88it/s]\u001b[A\n",
            " 36%|███▌      | 3210/9000 [00:47<01:25, 67.73it/s]\u001b[A\n",
            " 36%|███▌      | 3221/9000 [00:47<01:14, 77.70it/s]\u001b[A\n",
            " 36%|███▌      | 3230/9000 [00:47<01:17, 74.16it/s]\u001b[A\n",
            " 36%|███▌      | 3242/9000 [00:47<01:06, 86.05it/s]\u001b[A\n",
            " 36%|███▌      | 3251/9000 [00:47<01:09, 83.30it/s]\u001b[A\n",
            " 36%|███▌      | 3260/9000 [00:48<01:16, 74.89it/s]\u001b[A\n",
            " 36%|███▋      | 3268/9000 [00:48<01:17, 73.74it/s]\u001b[A\n",
            " 36%|███▋      | 3282/9000 [00:48<01:02, 90.86it/s]\u001b[A\n",
            " 37%|███▋      | 3292/9000 [00:48<01:06, 86.41it/s]\u001b[A\n",
            " 37%|███▋      | 3303/9000 [00:48<01:02, 90.90it/s]\u001b[A\n",
            " 37%|███▋      | 3315/9000 [00:48<01:00, 94.41it/s]\u001b[A\n",
            " 37%|███▋      | 3328/9000 [00:48<00:55, 102.00it/s]\u001b[A\n",
            " 37%|███▋      | 3339/9000 [00:48<00:57, 97.70it/s] \u001b[A\n",
            " 37%|███▋      | 3349/9000 [00:48<01:01, 91.34it/s]\u001b[A\n",
            " 37%|███▋      | 3359/9000 [00:49<01:01, 91.98it/s]\u001b[A\n",
            " 37%|███▋      | 3369/9000 [00:49<01:11, 79.29it/s]\u001b[A\n",
            " 38%|███▊      | 3382/9000 [00:49<01:02, 90.22it/s]\u001b[A\n",
            " 38%|███▊      | 3394/9000 [00:49<00:58, 96.08it/s]\u001b[A\n",
            " 38%|███▊      | 3404/9000 [00:49<01:06, 84.41it/s]\u001b[A\n",
            " 38%|███▊      | 3416/9000 [00:49<01:01, 91.48it/s]\u001b[A\n",
            " 38%|███▊      | 3428/9000 [00:49<00:57, 96.11it/s]\u001b[A\n",
            " 38%|███▊      | 3438/9000 [00:49<00:58, 95.77it/s]\u001b[A\n",
            " 38%|███▊      | 3448/9000 [00:50<00:58, 95.08it/s]\u001b[A\n",
            " 38%|███▊      | 3458/9000 [00:50<00:58, 95.53it/s]\u001b[A\n",
            " 39%|███▊      | 3468/9000 [00:50<01:03, 86.58it/s]\u001b[A\n",
            " 39%|███▊      | 3478/9000 [00:50<01:05, 84.79it/s]\u001b[A\n",
            " 39%|███▉      | 3492/9000 [00:50<00:55, 98.96it/s]\u001b[A\n",
            " 39%|███▉      | 3503/9000 [00:50<00:55, 99.51it/s]\u001b[A\n",
            " 39%|███▉      | 3514/9000 [00:50<00:57, 95.51it/s]\u001b[A\n",
            " 39%|███▉      | 3527/9000 [00:50<00:53, 101.81it/s]\u001b[A\n",
            " 39%|███▉      | 3538/9000 [00:50<00:54, 99.87it/s] \u001b[A\n",
            " 40%|███▉      | 3556/9000 [00:51<00:46, 116.65it/s]\u001b[A\n",
            " 40%|███▉      | 3568/9000 [00:51<00:46, 117.04it/s]\u001b[A\n",
            " 40%|███▉      | 3585/9000 [00:51<00:41, 130.03it/s]\u001b[A\n",
            " 40%|███▉      | 3599/9000 [00:51<00:48, 111.36it/s]\u001b[A\n",
            " 40%|████      | 3612/9000 [00:51<00:47, 113.69it/s]\u001b[A\n",
            " 40%|████      | 3626/9000 [00:51<00:45, 118.78it/s]\u001b[A\n",
            " 40%|████      | 3639/9000 [00:51<00:49, 108.17it/s]\u001b[A\n",
            " 41%|████      | 3652/9000 [00:51<00:48, 110.94it/s]\u001b[A\n",
            " 41%|████      | 3664/9000 [00:52<00:52, 101.12it/s]\u001b[A\n",
            " 41%|████      | 3675/9000 [00:52<00:54, 97.60it/s] \u001b[A\n",
            " 41%|████      | 3685/9000 [00:52<00:59, 88.70it/s]\u001b[A\n",
            " 41%|████      | 3695/9000 [00:52<00:58, 90.32it/s]\u001b[A\n",
            " 41%|████      | 3711/9000 [00:52<00:51, 101.93it/s]\u001b[A\n",
            " 41%|████▏     | 3722/9000 [00:52<00:51, 102.23it/s]\u001b[A\n",
            " 41%|████▏     | 3733/9000 [00:52<00:52, 100.91it/s]\u001b[A\n",
            " 42%|████▏     | 3744/9000 [00:52<00:53, 98.56it/s] \u001b[A\n",
            " 42%|████▏     | 3754/9000 [00:53<00:55, 95.20it/s]\u001b[A\n",
            " 42%|████▏     | 3769/9000 [00:53<00:48, 108.53it/s]\u001b[A\n",
            " 42%|████▏     | 3780/9000 [00:53<00:50, 102.55it/s]\u001b[A\n",
            " 42%|████▏     | 3794/9000 [00:53<00:46, 112.28it/s]\u001b[A\n",
            " 42%|████▏     | 3806/9000 [00:53<00:49, 105.48it/s]\u001b[A\n",
            " 42%|████▏     | 3817/9000 [00:53<00:56, 91.35it/s] \u001b[A\n",
            " 43%|████▎     | 3827/9000 [00:53<00:58, 89.05it/s]\u001b[A\n",
            " 43%|████▎     | 3838/9000 [00:53<00:55, 92.77it/s]\u001b[A\n",
            " 43%|████▎     | 3848/9000 [00:53<00:55, 92.72it/s]\u001b[A\n",
            " 43%|████▎     | 3859/9000 [00:54<00:56, 90.81it/s]\u001b[A\n",
            " 43%|████▎     | 3873/9000 [00:54<00:49, 103.05it/s]\u001b[A\n",
            " 43%|████▎     | 3884/9000 [00:54<00:48, 104.66it/s]\u001b[A\n",
            " 43%|████▎     | 3897/9000 [00:54<00:46, 108.74it/s]\u001b[A\n",
            " 43%|████▎     | 3909/9000 [00:54<00:49, 102.54it/s]\u001b[A\n",
            " 44%|████▎     | 3920/9000 [00:54<01:02, 81.06it/s] \u001b[A\n",
            " 44%|████▎     | 3929/9000 [00:54<01:01, 82.78it/s]\u001b[A\n",
            " 44%|████▍     | 3939/9000 [00:54<00:58, 86.55it/s]\u001b[A\n",
            " 44%|████▍     | 3950/9000 [00:55<00:55, 90.94it/s]\u001b[A\n",
            " 44%|████▍     | 3960/9000 [00:55<00:55, 91.24it/s]\u001b[A\n",
            " 44%|████▍     | 3970/9000 [00:55<01:00, 83.64it/s]\u001b[A\n",
            " 44%|████▍     | 3985/9000 [00:55<00:51, 97.38it/s]\u001b[A\n",
            " 44%|████▍     | 3996/9000 [00:55<00:59, 84.04it/s]\u001b[A\n",
            " 45%|████▍     | 4007/9000 [00:55<00:56, 87.84it/s]\u001b[A\n",
            " 45%|████▍     | 4018/9000 [00:55<00:53, 92.57it/s]\u001b[A\n",
            " 45%|████▍     | 4031/9000 [00:55<00:48, 101.52it/s]\u001b[A\n",
            " 45%|████▍     | 4043/9000 [00:56<00:47, 104.68it/s]\u001b[A\n",
            " 45%|████▌     | 4055/9000 [00:56<00:45, 108.11it/s]\u001b[A\n",
            " 45%|████▌     | 4067/9000 [00:56<00:44, 111.11it/s]\u001b[A\n",
            " 45%|████▌     | 4079/9000 [00:56<00:47, 103.59it/s]\u001b[A\n",
            " 45%|████▌     | 4091/9000 [00:56<00:46, 106.42it/s]\u001b[A\n",
            " 46%|████▌     | 4102/9000 [00:56<00:47, 102.42it/s]\u001b[A\n",
            " 46%|████▌     | 4113/9000 [00:56<00:50, 95.84it/s] \u001b[A\n",
            " 46%|████▌     | 4126/9000 [00:56<00:47, 101.78it/s]\u001b[A\n",
            " 46%|████▌     | 4137/9000 [00:56<00:51, 94.38it/s] \u001b[A\n",
            " 46%|████▌     | 4149/9000 [00:57<00:48, 100.94it/s]\u001b[A\n",
            " 46%|████▌     | 4160/9000 [00:57<00:51, 93.79it/s] \u001b[A\n",
            " 46%|████▋     | 4170/9000 [00:57<01:06, 73.10it/s]\u001b[A\n",
            " 46%|████▋     | 4179/9000 [00:57<01:11, 67.87it/s]\u001b[A\n",
            " 47%|████▋     | 4187/9000 [00:57<01:42, 46.90it/s]\u001b[A\n",
            " 47%|████▋     | 4194/9000 [00:58<01:34, 50.77it/s]\u001b[A\n",
            " 47%|████▋     | 4202/9000 [00:58<01:25, 56.38it/s]\u001b[A\n",
            " 47%|████▋     | 4209/9000 [00:58<01:24, 56.56it/s]\u001b[A\n",
            " 47%|████▋     | 4216/9000 [00:58<01:35, 50.30it/s]\u001b[A\n",
            " 47%|████▋     | 4222/9000 [00:58<01:51, 42.69it/s]\u001b[A\n",
            " 47%|████▋     | 4227/9000 [00:58<02:09, 36.88it/s]\u001b[A\n",
            " 47%|████▋     | 4235/9000 [00:58<01:48, 44.10it/s]\u001b[A\n",
            " 47%|████▋     | 4242/9000 [00:59<01:44, 45.49it/s]\u001b[A\n",
            " 47%|████▋     | 4249/9000 [00:59<01:34, 50.36it/s]\u001b[A\n",
            " 47%|████▋     | 4255/9000 [00:59<01:30, 52.23it/s]\u001b[A\n",
            " 47%|████▋     | 4261/9000 [00:59<01:35, 49.66it/s]\u001b[A\n",
            " 47%|████▋     | 4267/9000 [00:59<01:46, 44.28it/s]\u001b[A\n",
            " 47%|████▋     | 4272/9000 [00:59<01:44, 45.41it/s]\u001b[A\n",
            " 48%|████▊     | 4277/9000 [00:59<02:01, 38.95it/s]\u001b[A\n",
            " 48%|████▊     | 4282/9000 [01:00<02:07, 36.98it/s]\u001b[A\n",
            " 48%|████▊     | 4292/9000 [01:00<01:35, 49.51it/s]\u001b[A\n",
            " 48%|████▊     | 4299/9000 [01:00<01:28, 53.17it/s]\u001b[A\n",
            " 48%|████▊     | 4305/9000 [01:00<01:39, 47.36it/s]\u001b[A\n",
            " 48%|████▊     | 4311/9000 [01:00<01:50, 42.51it/s]\u001b[A\n",
            " 48%|████▊     | 4316/9000 [01:00<01:51, 41.99it/s]\u001b[A\n",
            " 48%|████▊     | 4321/9000 [01:00<01:47, 43.46it/s]\u001b[A\n",
            " 48%|████▊     | 4326/9000 [01:00<01:45, 44.12it/s]\u001b[A\n",
            " 48%|████▊     | 4333/9000 [01:01<01:52, 41.31it/s]\u001b[A\n",
            " 48%|████▊     | 4338/9000 [01:01<01:55, 40.26it/s]\u001b[A\n",
            " 48%|████▊     | 4349/9000 [01:01<01:22, 56.31it/s]\u001b[A\n",
            " 49%|████▊     | 4366/9000 [01:01<00:57, 80.12it/s]\u001b[A\n",
            " 49%|████▊     | 4379/9000 [01:01<00:52, 87.70it/s]\u001b[A\n",
            " 49%|████▉     | 4389/9000 [01:01<00:51, 89.02it/s]\u001b[A\n",
            " 49%|████▉     | 4399/9000 [01:01<00:50, 91.69it/s]\u001b[A\n",
            " 49%|████▉     | 4409/9000 [01:01<00:56, 81.20it/s]\u001b[A\n",
            " 49%|████▉     | 4418/9000 [01:02<01:14, 61.61it/s]\u001b[A\n",
            " 49%|████▉     | 4426/9000 [01:02<01:20, 56.84it/s]\u001b[A\n",
            " 49%|████▉     | 4440/9000 [01:02<01:02, 73.44it/s]\u001b[A\n",
            " 49%|████▉     | 4449/9000 [01:02<01:00, 75.37it/s]\u001b[A\n",
            " 50%|████▉     | 4458/9000 [01:02<01:04, 70.29it/s]\u001b[A\n",
            " 50%|████▉     | 4472/9000 [01:02<00:54, 82.80it/s]\u001b[A\n",
            " 50%|████▉     | 4481/9000 [01:03<01:07, 67.37it/s]\u001b[A\n",
            " 50%|████▉     | 4489/9000 [01:03<01:06, 67.71it/s]\u001b[A\n",
            " 50%|████▉     | 4499/9000 [01:03<01:03, 70.66it/s]\u001b[A\n",
            " 50%|█████     | 4509/9000 [01:03<01:05, 68.96it/s]\u001b[A\n",
            " 50%|█████     | 4517/9000 [01:03<01:04, 69.85it/s]\u001b[A\n",
            " 50%|█████     | 4526/9000 [01:03<01:00, 73.69it/s]\u001b[A\n",
            " 50%|█████     | 4537/9000 [01:03<00:55, 80.99it/s]\u001b[A\n",
            " 51%|█████     | 4546/9000 [01:03<00:53, 82.74it/s]\u001b[A\n",
            " 51%|█████     | 4555/9000 [01:04<00:58, 76.36it/s]\u001b[A\n",
            " 51%|█████     | 4566/9000 [01:04<00:52, 83.71it/s]\u001b[A\n",
            " 51%|█████     | 4579/9000 [01:04<00:47, 93.01it/s]\u001b[A\n",
            " 51%|█████     | 4595/9000 [01:04<00:42, 104.63it/s]\u001b[A\n",
            " 51%|█████     | 4606/9000 [01:04<00:41, 105.58it/s]\u001b[A\n",
            " 51%|█████▏    | 4617/9000 [01:04<00:45, 96.69it/s] \u001b[A\n",
            " 51%|█████▏    | 4629/9000 [01:04<00:42, 102.61it/s]\u001b[A\n",
            " 52%|█████▏    | 4640/9000 [01:04<00:46, 94.48it/s] \u001b[A\n",
            " 52%|█████▏    | 4652/9000 [01:04<00:44, 98.41it/s]\u001b[A\n",
            " 52%|█████▏    | 4664/9000 [01:05<00:43, 100.60it/s]\u001b[A\n",
            " 52%|█████▏    | 4677/9000 [01:05<00:40, 106.70it/s]\u001b[A\n",
            " 52%|█████▏    | 4688/9000 [01:05<00:47, 90.03it/s] \u001b[A\n",
            " 52%|█████▏    | 4698/9000 [01:05<00:49, 86.15it/s]\u001b[A\n",
            " 52%|█████▏    | 4707/9000 [01:05<00:52, 81.78it/s]\u001b[A\n",
            " 53%|█████▎    | 4732/9000 [01:05<00:35, 121.26it/s]\u001b[A\n",
            " 53%|█████▎    | 4745/9000 [01:05<00:41, 103.55it/s]\u001b[A\n",
            " 53%|█████▎    | 4757/9000 [01:06<00:41, 101.19it/s]\u001b[A\n",
            " 53%|█████▎    | 4768/9000 [01:06<00:42, 98.45it/s] \u001b[A\n",
            " 53%|█████▎    | 4781/9000 [01:06<00:39, 105.89it/s]\u001b[A\n",
            " 53%|█████▎    | 4793/9000 [01:06<00:44, 94.50it/s] \u001b[A\n",
            " 53%|█████▎    | 4803/9000 [01:06<00:44, 95.07it/s]\u001b[A\n",
            " 53%|█████▎    | 4813/9000 [01:06<00:45, 91.12it/s]\u001b[A\n",
            " 54%|█████▎    | 4823/9000 [01:06<00:45, 92.34it/s]\u001b[A\n",
            " 54%|█████▎    | 4834/9000 [01:06<00:46, 89.42it/s]\u001b[A\n",
            " 54%|█████▍    | 4844/9000 [01:06<00:45, 91.38it/s]\u001b[A\n",
            " 54%|█████▍    | 4854/9000 [01:07<00:45, 92.05it/s]\u001b[A\n",
            " 54%|█████▍    | 4864/9000 [01:07<00:48, 84.56it/s]\u001b[A\n",
            " 54%|█████▍    | 4878/9000 [01:07<00:42, 97.64it/s]\u001b[A\n",
            " 54%|█████▍    | 4889/9000 [01:07<00:41, 99.48it/s]\u001b[A\n",
            " 54%|█████▍    | 4900/9000 [01:07<00:45, 90.28it/s]\u001b[A\n",
            " 55%|█████▍    | 4910/9000 [01:07<00:49, 83.37it/s]\u001b[A\n",
            " 55%|█████▍    | 4919/9000 [01:07<00:53, 75.66it/s]\u001b[A\n",
            " 55%|█████▍    | 4928/9000 [01:07<00:51, 78.90it/s]\u001b[A\n",
            " 55%|█████▍    | 4944/9000 [01:08<00:40, 99.09it/s]\u001b[A\n",
            " 55%|█████▌    | 4957/9000 [01:08<00:42, 94.32it/s]\u001b[A\n",
            " 55%|█████▌    | 4969/9000 [01:08<00:40, 100.41it/s]\u001b[A\n",
            " 55%|█████▌    | 4982/9000 [01:08<00:37, 108.10it/s]\u001b[A\n",
            " 55%|█████▌    | 4994/9000 [01:08<00:37, 106.93it/s]\u001b[A\n",
            " 56%|█████▌    | 5005/9000 [01:08<00:37, 107.29it/s]\u001b[A\n",
            " 56%|█████▌    | 5016/9000 [01:08<00:43, 90.55it/s] \u001b[A\n",
            " 56%|█████▌    | 5028/9000 [01:08<00:40, 97.02it/s]\u001b[A\n",
            " 56%|█████▌    | 5040/9000 [01:09<00:38, 102.39it/s]\u001b[A\n",
            " 56%|█████▌    | 5053/9000 [01:09<00:36, 108.40it/s]\u001b[A\n",
            " 56%|█████▋    | 5065/9000 [01:09<00:36, 108.52it/s]\u001b[A\n",
            " 56%|█████▋    | 5077/9000 [01:09<00:35, 111.53it/s]\u001b[A\n",
            " 57%|█████▋    | 5089/9000 [01:09<00:37, 102.95it/s]\u001b[A\n",
            " 57%|█████▋    | 5105/9000 [01:09<00:34, 112.59it/s]\u001b[A\n",
            " 57%|█████▋    | 5117/9000 [01:09<00:34, 111.75it/s]\u001b[A\n",
            " 57%|█████▋    | 5131/9000 [01:09<00:32, 119.07it/s]\u001b[A\n",
            " 57%|█████▋    | 5144/9000 [01:09<00:34, 112.37it/s]\u001b[A\n",
            " 57%|█████▋    | 5156/9000 [01:10<00:34, 112.83it/s]\u001b[A\n",
            " 57%|█████▋    | 5168/9000 [01:10<00:42, 90.11it/s] \u001b[A\n",
            " 58%|█████▊    | 5178/9000 [01:10<00:47, 79.84it/s]\u001b[A\n",
            " 58%|█████▊    | 5191/9000 [01:10<00:42, 89.54it/s]\u001b[A\n",
            " 58%|█████▊    | 5201/9000 [01:10<00:45, 83.48it/s]\u001b[A\n",
            " 58%|█████▊    | 5212/9000 [01:10<00:42, 88.85it/s]\u001b[A\n",
            " 58%|█████▊    | 5224/9000 [01:10<00:40, 94.26it/s]\u001b[A\n",
            " 58%|█████▊    | 5234/9000 [01:11<00:40, 93.78it/s]\u001b[A\n",
            " 58%|█████▊    | 5247/9000 [01:11<00:36, 103.21it/s]\u001b[A\n",
            " 58%|█████▊    | 5258/9000 [01:11<00:38, 98.33it/s] \u001b[A\n",
            " 59%|█████▊    | 5269/9000 [01:11<00:56, 65.52it/s]\u001b[A\n",
            " 59%|█████▊    | 5278/9000 [01:11<01:00, 61.87it/s]\u001b[A\n",
            " 59%|█████▊    | 5286/9000 [01:11<01:05, 56.57it/s]\u001b[A\n",
            " 59%|█████▉    | 5293/9000 [01:12<01:13, 50.29it/s]\u001b[A\n",
            " 59%|█████▉    | 5299/9000 [01:12<01:13, 50.40it/s]\u001b[A\n",
            " 59%|█████▉    | 5307/9000 [01:12<01:06, 55.28it/s]\u001b[A\n",
            " 59%|█████▉    | 5313/9000 [01:12<01:07, 54.34it/s]\u001b[A\n",
            " 59%|█████▉    | 5319/9000 [01:12<01:11, 51.24it/s]\u001b[A\n",
            " 59%|█████▉    | 5326/9000 [01:12<01:16, 48.09it/s]\u001b[A\n",
            " 59%|█████▉    | 5331/9000 [01:12<01:25, 42.78it/s]\u001b[A\n",
            " 59%|█████▉    | 5337/9000 [01:12<01:19, 46.25it/s]\u001b[A\n",
            " 59%|█████▉    | 5342/9000 [01:13<01:27, 42.04it/s]\u001b[A\n",
            " 59%|█████▉    | 5347/9000 [01:13<01:34, 38.83it/s]\u001b[A\n",
            " 59%|█████▉    | 5352/9000 [01:13<01:29, 40.86it/s]\u001b[A\n",
            " 60%|█████▉    | 5357/9000 [01:13<01:28, 41.18it/s]\u001b[A\n",
            " 60%|█████▉    | 5365/9000 [01:13<01:15, 48.23it/s]\u001b[A\n",
            " 60%|█████▉    | 5370/9000 [01:13<01:20, 45.17it/s]\u001b[A\n",
            " 60%|█████▉    | 5375/9000 [01:13<01:29, 40.37it/s]\u001b[A\n",
            " 60%|█████▉    | 5380/9000 [01:14<01:31, 39.46it/s]\u001b[A\n",
            " 60%|█████▉    | 5386/9000 [01:14<01:22, 43.74it/s]\u001b[A\n",
            " 60%|█████▉    | 5391/9000 [01:14<01:36, 37.42it/s]\u001b[A\n",
            " 60%|█████▉    | 5397/9000 [01:14<01:26, 41.49it/s]\u001b[A\n",
            " 60%|██████    | 5403/9000 [01:14<01:21, 43.97it/s]\u001b[A\n",
            " 60%|██████    | 5408/9000 [01:14<01:24, 42.27it/s]\u001b[A\n",
            " 60%|██████    | 5414/9000 [01:14<01:21, 44.23it/s]\u001b[A\n",
            " 60%|██████    | 5420/9000 [01:14<01:21, 44.02it/s]\u001b[A\n",
            " 60%|██████    | 5427/9000 [01:15<01:14, 47.94it/s]\u001b[A\n",
            " 60%|██████    | 5435/9000 [01:15<01:04, 55.11it/s]\u001b[A\n",
            " 60%|██████    | 5441/9000 [01:15<01:05, 54.67it/s]\u001b[A\n",
            " 61%|██████    | 5454/9000 [01:15<00:49, 72.11it/s]\u001b[A\n",
            " 61%|██████    | 5462/9000 [01:15<00:49, 71.20it/s]\u001b[A\n",
            " 61%|██████    | 5470/9000 [01:15<01:00, 58.09it/s]\u001b[A\n",
            " 61%|██████    | 5480/9000 [01:15<00:52, 67.35it/s]\u001b[A\n",
            " 61%|██████    | 5488/9000 [01:16<00:59, 59.48it/s]\u001b[A\n",
            " 61%|██████    | 5496/9000 [01:16<00:54, 63.88it/s]\u001b[A\n",
            " 61%|██████    | 5505/9000 [01:16<00:50, 69.41it/s]\u001b[A\n",
            " 61%|██████▏   | 5518/9000 [01:16<00:42, 82.90it/s]\u001b[A\n",
            " 61%|██████▏   | 5529/9000 [01:16<00:40, 85.82it/s]\u001b[A\n",
            " 62%|██████▏   | 5538/9000 [01:16<00:41, 84.18it/s]\u001b[A\n",
            " 62%|██████▏   | 5553/9000 [01:16<00:34, 99.28it/s]\u001b[A\n",
            " 62%|██████▏   | 5564/9000 [01:16<00:36, 93.65it/s]\u001b[A\n",
            " 62%|██████▏   | 5574/9000 [01:16<00:36, 92.68it/s]\u001b[A\n",
            " 62%|██████▏   | 5584/9000 [01:17<00:39, 85.77it/s]\u001b[A\n",
            " 62%|██████▏   | 5594/9000 [01:17<00:38, 88.18it/s]\u001b[A\n",
            " 62%|██████▏   | 5603/9000 [01:17<00:42, 79.29it/s]\u001b[A\n",
            " 62%|██████▏   | 5612/9000 [01:17<00:44, 75.44it/s]\u001b[A\n",
            " 63%|██████▎   | 5626/9000 [01:17<00:40, 82.34it/s]\u001b[A\n",
            " 63%|██████▎   | 5637/9000 [01:17<00:37, 88.72it/s]\u001b[A\n",
            " 63%|██████▎   | 5650/9000 [01:17<00:33, 98.86it/s]\u001b[A\n",
            " 63%|██████▎   | 5661/9000 [01:17<00:37, 88.02it/s]\u001b[A\n",
            " 63%|██████▎   | 5671/9000 [01:18<00:57, 57.85it/s]\u001b[A\n",
            " 63%|██████▎   | 5684/9000 [01:18<00:46, 71.06it/s]\u001b[A\n",
            " 63%|██████▎   | 5694/9000 [01:18<00:46, 71.40it/s]\u001b[A\n",
            " 63%|██████▎   | 5704/9000 [01:18<00:43, 76.35it/s]\u001b[A\n",
            " 63%|██████▎   | 5713/9000 [01:18<00:43, 76.42it/s]\u001b[A\n",
            " 64%|██████▎   | 5723/9000 [01:18<00:39, 81.96it/s]\u001b[A\n",
            " 64%|██████▎   | 5733/9000 [01:18<00:40, 80.35it/s]\u001b[A\n",
            " 64%|██████▍   | 5746/9000 [01:19<00:36, 89.22it/s]\u001b[A\n",
            " 64%|██████▍   | 5756/9000 [01:19<00:37, 86.36it/s]\u001b[A\n",
            " 64%|██████▍   | 5769/9000 [01:19<00:33, 96.07it/s]\u001b[A\n",
            " 64%|██████▍   | 5779/9000 [01:19<00:34, 92.19it/s]\u001b[A\n",
            " 64%|██████▍   | 5791/9000 [01:19<00:32, 98.73it/s]\u001b[A\n",
            " 64%|██████▍   | 5803/9000 [01:19<00:31, 102.87it/s]\u001b[A\n",
            " 65%|██████▍   | 5814/9000 [01:19<00:31, 99.66it/s] \u001b[A\n",
            " 65%|██████▍   | 5826/9000 [01:19<00:30, 102.61it/s]\u001b[A\n",
            " 65%|██████▍   | 5837/9000 [01:20<00:45, 68.77it/s] \u001b[A\n",
            " 65%|██████▍   | 5846/9000 [01:20<00:43, 72.03it/s]\u001b[A\n",
            " 65%|██████▌   | 5859/9000 [01:20<00:37, 83.60it/s]\u001b[A\n",
            " 65%|██████▌   | 5869/9000 [01:20<00:39, 79.28it/s]\u001b[A\n",
            " 65%|██████▌   | 5882/9000 [01:20<00:35, 87.87it/s]\u001b[A\n",
            " 65%|██████▌   | 5893/9000 [01:20<00:33, 92.51it/s]\u001b[A\n",
            " 66%|██████▌   | 5903/9000 [01:20<00:34, 90.85it/s]\u001b[A\n",
            " 66%|██████▌   | 5919/9000 [01:20<00:28, 107.91it/s]\u001b[A\n",
            " 66%|██████▌   | 5932/9000 [01:21<00:28, 108.94it/s]\u001b[A\n",
            " 66%|██████▌   | 5944/9000 [01:21<00:28, 105.81it/s]\u001b[A\n",
            " 66%|██████▌   | 5955/9000 [01:21<00:29, 102.65it/s]\u001b[A\n",
            " 66%|██████▋   | 5966/9000 [01:21<00:33, 90.89it/s] \u001b[A\n",
            " 66%|██████▋   | 5978/9000 [01:21<00:31, 95.75it/s]\u001b[A\n",
            " 67%|██████▋   | 5988/9000 [01:21<00:31, 95.43it/s]\u001b[A\n",
            " 67%|██████▋   | 5998/9000 [01:21<00:33, 90.71it/s]\u001b[A\n",
            " 67%|██████▋   | 6018/9000 [01:21<00:25, 118.17it/s]\u001b[A\n",
            " 67%|██████▋   | 6031/9000 [01:22<00:27, 108.18it/s]\u001b[A\n",
            " 67%|██████▋   | 6046/9000 [01:22<00:26, 112.04it/s]\u001b[A\n",
            " 67%|██████▋   | 6058/9000 [01:22<00:25, 113.86it/s]\u001b[A\n",
            " 67%|██████▋   | 6070/9000 [01:22<00:30, 97.32it/s] \u001b[A\n",
            " 68%|██████▊   | 6081/9000 [01:22<00:39, 73.43it/s]\u001b[A\n",
            " 68%|██████▊   | 6092/9000 [01:22<00:36, 80.40it/s]\u001b[A\n",
            " 68%|██████▊   | 6105/9000 [01:22<00:32, 89.93it/s]\u001b[A\n",
            " 68%|██████▊   | 6116/9000 [01:23<00:30, 94.20it/s]\u001b[A\n",
            " 68%|██████▊   | 6128/9000 [01:23<00:28, 100.44it/s]\u001b[A\n",
            " 68%|██████▊   | 6144/9000 [01:23<00:27, 105.50it/s]\u001b[A\n",
            " 68%|██████▊   | 6155/9000 [01:23<00:26, 106.06it/s]\u001b[A\n",
            " 69%|██████▊   | 6166/9000 [01:23<00:27, 104.28it/s]\u001b[A\n",
            " 69%|██████▊   | 6180/9000 [01:23<00:25, 110.83it/s]\u001b[A\n",
            " 69%|██████▉   | 6199/9000 [01:23<00:21, 130.98it/s]\u001b[A\n",
            " 69%|██████▉   | 6213/9000 [01:23<00:22, 125.44it/s]\u001b[A\n",
            " 69%|██████▉   | 6226/9000 [01:23<00:22, 125.94it/s]\u001b[A\n",
            " 69%|██████▉   | 6239/9000 [01:24<00:23, 119.42it/s]\u001b[A\n",
            " 69%|██████▉   | 6252/9000 [01:24<00:23, 115.68it/s]\u001b[A\n",
            " 70%|██████▉   | 6264/9000 [01:24<00:23, 114.43it/s]\u001b[A\n",
            " 70%|██████▉   | 6278/9000 [01:24<00:22, 120.11it/s]\u001b[A\n",
            " 70%|██████▉   | 6291/9000 [01:24<00:23, 113.57it/s]\u001b[A\n",
            " 70%|███████   | 6303/9000 [01:24<00:24, 108.84it/s]\u001b[A\n",
            " 70%|███████   | 6314/9000 [01:24<00:28, 94.25it/s] \u001b[A\n",
            " 70%|███████   | 6330/9000 [01:24<00:24, 110.08it/s]\u001b[A\n",
            " 70%|███████   | 6342/9000 [01:25<00:25, 105.64it/s]\u001b[A\n",
            " 71%|███████   | 6355/9000 [01:25<00:24, 108.74it/s]\u001b[A\n",
            " 71%|███████   | 6367/9000 [01:25<00:44, 59.52it/s] \u001b[A\n",
            " 71%|███████   | 6376/9000 [01:25<00:47, 55.04it/s]\u001b[A\n",
            " 71%|███████   | 6384/9000 [01:25<00:48, 53.49it/s]\u001b[A\n",
            " 71%|███████   | 6391/9000 [01:26<00:48, 53.59it/s]\u001b[A\n",
            " 71%|███████   | 6398/9000 [01:26<00:49, 52.40it/s]\u001b[A\n",
            " 71%|███████   | 6408/9000 [01:26<00:41, 61.75it/s]\u001b[A\n",
            " 71%|███████▏  | 6416/9000 [01:26<00:45, 57.01it/s]\u001b[A\n",
            " 71%|███████▏  | 6423/9000 [01:26<00:47, 54.50it/s]\u001b[A\n",
            " 71%|███████▏  | 6429/9000 [01:26<01:01, 41.98it/s]\u001b[A\n",
            " 71%|███████▏  | 6434/9000 [01:27<01:10, 36.43it/s]\u001b[A\n",
            " 72%|███████▏  | 6440/9000 [01:27<01:07, 37.74it/s]\u001b[A\n",
            " 72%|███████▏  | 6445/9000 [01:27<01:05, 38.83it/s]\u001b[A\n",
            " 72%|███████▏  | 6459/9000 [01:27<00:42, 59.70it/s]\u001b[A\n",
            " 72%|███████▏  | 6466/9000 [01:27<00:41, 61.52it/s]\u001b[A\n",
            " 72%|███████▏  | 6474/9000 [01:27<00:39, 64.74it/s]\u001b[A\n",
            " 72%|███████▏  | 6483/9000 [01:27<00:38, 66.22it/s]\u001b[A\n",
            " 72%|███████▏  | 6490/9000 [01:28<00:56, 44.13it/s]\u001b[A\n",
            " 72%|███████▏  | 6497/9000 [01:28<00:50, 49.11it/s]\u001b[A\n",
            " 72%|███████▏  | 6503/9000 [01:28<00:49, 50.20it/s]\u001b[A\n",
            " 72%|███████▏  | 6513/9000 [01:28<00:40, 61.23it/s]\u001b[A\n",
            " 72%|███████▏  | 6520/9000 [01:28<00:43, 56.53it/s]\u001b[A\n",
            " 73%|███████▎  | 6527/9000 [01:28<00:46, 52.92it/s]\u001b[A\n",
            " 73%|███████▎  | 6533/9000 [01:28<00:54, 45.58it/s]\u001b[A\n",
            " 73%|███████▎  | 6539/9000 [01:28<00:51, 47.99it/s]\u001b[A\n",
            " 73%|███████▎  | 6546/9000 [01:29<01:02, 39.41it/s]\u001b[A\n",
            " 73%|███████▎  | 6558/9000 [01:29<00:44, 55.33it/s]\u001b[A\n",
            " 73%|███████▎  | 6565/9000 [01:29<00:44, 54.82it/s]\u001b[A\n",
            " 73%|███████▎  | 6574/9000 [01:29<00:47, 50.56it/s]\u001b[A\n",
            " 73%|███████▎  | 6585/9000 [01:29<00:38, 62.35it/s]\u001b[A\n",
            " 73%|███████▎  | 6593/9000 [01:29<00:36, 65.55it/s]\u001b[A\n",
            " 73%|███████▎  | 6603/9000 [01:29<00:32, 73.64it/s]\u001b[A\n",
            " 73%|███████▎  | 6612/9000 [01:30<00:34, 70.07it/s]\u001b[A\n",
            " 74%|███████▎  | 6623/9000 [01:30<00:29, 79.90it/s]\u001b[A\n",
            " 74%|███████▎  | 6632/9000 [01:30<00:31, 74.94it/s]\u001b[A\n",
            " 74%|███████▍  | 6642/9000 [01:30<00:29, 80.42it/s]\u001b[A\n",
            " 74%|███████▍  | 6654/9000 [01:30<00:25, 90.82it/s]\u001b[A\n",
            " 74%|███████▍  | 6670/9000 [01:30<00:21, 108.25it/s]\u001b[A\n",
            " 74%|███████▍  | 6682/9000 [01:30<00:20, 110.79it/s]\u001b[A\n",
            " 74%|███████▍  | 6694/9000 [01:30<00:20, 113.21it/s]\u001b[A\n",
            " 75%|███████▍  | 6706/9000 [01:30<00:20, 113.89it/s]\u001b[A\n",
            " 75%|███████▍  | 6718/9000 [01:31<00:22, 102.08it/s]\u001b[A\n",
            " 75%|███████▍  | 6729/9000 [01:31<00:26, 84.62it/s] \u001b[A\n",
            " 75%|███████▍  | 6739/9000 [01:31<00:29, 77.22it/s]\u001b[A\n",
            " 75%|███████▍  | 6748/9000 [01:31<00:28, 78.36it/s]\u001b[A\n",
            " 75%|███████▌  | 6758/9000 [01:31<00:28, 77.55it/s]\u001b[A\n",
            " 75%|███████▌  | 6772/9000 [01:31<00:24, 91.85it/s]\u001b[A\n",
            " 75%|███████▌  | 6782/9000 [01:31<00:24, 89.78it/s]\u001b[A\n",
            " 76%|███████▌  | 6795/9000 [01:32<00:23, 94.69it/s]\u001b[A\n",
            " 76%|███████▌  | 6807/9000 [01:32<00:21, 101.23it/s]\u001b[A\n",
            " 76%|███████▌  | 6818/9000 [01:32<00:21, 102.83it/s]\u001b[A\n",
            " 76%|███████▌  | 6829/9000 [01:32<00:22, 94.45it/s] \u001b[A\n",
            " 76%|███████▌  | 6839/9000 [01:32<00:23, 92.91it/s]\u001b[A\n",
            " 76%|███████▌  | 6849/9000 [01:32<00:23, 92.50it/s]\u001b[A\n",
            " 76%|███████▌  | 6859/9000 [01:32<00:23, 90.31it/s]\u001b[A\n",
            " 76%|███████▋  | 6869/9000 [01:32<00:23, 90.43it/s]\u001b[A\n",
            " 76%|███████▋  | 6879/9000 [01:32<00:25, 82.36it/s]\u001b[A\n",
            " 77%|███████▋  | 6889/9000 [01:33<00:24, 85.75it/s]\u001b[A\n",
            " 77%|███████▋  | 6903/9000 [01:33<00:21, 99.60it/s]\u001b[A\n",
            " 77%|███████▋  | 6914/9000 [01:33<00:23, 88.04it/s]\u001b[A\n",
            " 77%|███████▋  | 6925/9000 [01:33<00:22, 92.26it/s]\u001b[A\n",
            " 77%|███████▋  | 6935/9000 [01:33<00:26, 79.08it/s]\u001b[A\n",
            " 77%|███████▋  | 6944/9000 [01:33<00:25, 79.18it/s]\u001b[A\n",
            " 77%|███████▋  | 6959/9000 [01:33<00:21, 96.37it/s]\u001b[A\n",
            " 77%|███████▋  | 6970/9000 [01:34<00:23, 87.83it/s]\u001b[A\n",
            " 78%|███████▊  | 6982/9000 [01:34<00:21, 92.00it/s]\u001b[A\n",
            " 78%|███████▊  | 6992/9000 [01:34<00:22, 91.15it/s]\u001b[A\n",
            " 78%|███████▊  | 7003/9000 [01:34<00:20, 95.27it/s]\u001b[A\n",
            " 78%|███████▊  | 7013/9000 [01:34<00:20, 95.67it/s]\u001b[A\n",
            " 78%|███████▊  | 7023/9000 [01:34<00:24, 81.66it/s]\u001b[A\n",
            " 78%|███████▊  | 7032/9000 [01:34<00:26, 73.41it/s]\u001b[A\n",
            " 78%|███████▊  | 7044/9000 [01:34<00:23, 83.33it/s]\u001b[A\n",
            " 78%|███████▊  | 7056/9000 [01:34<00:21, 90.06it/s]\u001b[A\n",
            " 79%|███████▊  | 7073/9000 [01:35<00:18, 104.37it/s]\u001b[A\n",
            " 79%|███████▊  | 7084/9000 [01:35<00:19, 100.00it/s]\u001b[A\n",
            " 79%|███████▉  | 7102/9000 [01:35<00:16, 118.11it/s]\u001b[A\n",
            " 79%|███████▉  | 7115/9000 [01:35<00:19, 96.80it/s] \u001b[A\n",
            " 79%|███████▉  | 7126/9000 [01:35<00:21, 88.75it/s]\u001b[A\n",
            " 79%|███████▉  | 7136/9000 [01:35<00:23, 80.30it/s]\u001b[A\n",
            " 79%|███████▉  | 7146/9000 [01:35<00:21, 84.29it/s]\u001b[A\n",
            " 80%|███████▉  | 7155/9000 [01:36<00:21, 85.11it/s]\u001b[A\n",
            " 80%|███████▉  | 7165/9000 [01:36<00:21, 87.12it/s]\u001b[A\n",
            " 80%|███████▉  | 7177/9000 [01:36<00:19, 94.80it/s]\u001b[A\n",
            " 80%|███████▉  | 7188/9000 [01:36<00:19, 93.42it/s]\u001b[A\n",
            " 80%|████████  | 7205/9000 [01:36<00:15, 112.80it/s]\u001b[A\n",
            " 80%|████████  | 7218/9000 [01:36<00:15, 112.66it/s]\u001b[A\n",
            " 80%|████████  | 7230/9000 [01:36<00:18, 93.51it/s] \u001b[A\n",
            " 80%|████████  | 7241/9000 [01:36<00:18, 94.06it/s]\u001b[A\n",
            " 81%|████████  | 7251/9000 [01:37<00:20, 85.25it/s]\u001b[A\n",
            " 81%|████████  | 7260/9000 [01:37<00:21, 81.46it/s]\u001b[A\n",
            " 81%|████████  | 7278/9000 [01:37<00:16, 105.12it/s]\u001b[A\n",
            " 81%|████████  | 7290/9000 [01:37<00:17, 97.42it/s] \u001b[A\n",
            " 81%|████████  | 7303/9000 [01:37<00:16, 103.28it/s]\u001b[A\n",
            " 81%|████████▏ | 7314/9000 [01:37<00:18, 93.17it/s] \u001b[A\n",
            " 81%|████████▏ | 7324/9000 [01:37<00:19, 86.56it/s]\u001b[A\n",
            " 82%|████████▏ | 7337/9000 [01:37<00:17, 94.45it/s]\u001b[A\n",
            " 82%|████████▏ | 7347/9000 [01:38<00:17, 95.42it/s]\u001b[A\n",
            " 82%|████████▏ | 7359/9000 [01:38<00:16, 99.81it/s]\u001b[A\n",
            " 82%|████████▏ | 7370/9000 [01:38<00:18, 86.73it/s]\u001b[A\n",
            " 82%|████████▏ | 7380/9000 [01:38<00:19, 82.62it/s]\u001b[A\n",
            " 82%|████████▏ | 7393/9000 [01:38<00:17, 91.25it/s]\u001b[A\n",
            " 82%|████████▏ | 7403/9000 [01:38<00:24, 64.79it/s]\u001b[A\n",
            " 82%|████████▏ | 7411/9000 [01:38<00:25, 61.97it/s]\u001b[A\n",
            " 82%|████████▏ | 7419/9000 [01:39<00:24, 65.57it/s]\u001b[A\n",
            " 83%|████████▎ | 7428/9000 [01:39<00:22, 70.54it/s]\u001b[A\n",
            " 83%|████████▎ | 7436/9000 [01:39<00:24, 63.38it/s]\u001b[A\n",
            " 83%|████████▎ | 7443/9000 [01:39<00:25, 62.22it/s]\u001b[A\n",
            " 83%|████████▎ | 7450/9000 [01:39<00:33, 46.84it/s]\u001b[A\n",
            " 83%|████████▎ | 7456/9000 [01:39<00:35, 44.06it/s]\u001b[A\n",
            " 83%|████████▎ | 7463/9000 [01:39<00:31, 49.19it/s]\u001b[A\n",
            " 83%|████████▎ | 7470/9000 [01:40<00:28, 53.72it/s]\u001b[A\n",
            " 83%|████████▎ | 7478/9000 [01:40<00:26, 57.03it/s]\u001b[A\n",
            " 83%|████████▎ | 7487/9000 [01:40<00:23, 64.98it/s]\u001b[A\n",
            " 83%|████████▎ | 7496/9000 [01:40<00:21, 69.17it/s]\u001b[A\n",
            " 83%|████████▎ | 7504/9000 [01:40<00:21, 70.85it/s]\u001b[A\n",
            " 83%|████████▎ | 7514/9000 [01:40<00:19, 76.41it/s]\u001b[A\n",
            " 84%|████████▎ | 7522/9000 [01:40<00:21, 68.23it/s]\u001b[A\n",
            " 84%|████████▎ | 7530/9000 [01:40<00:21, 67.44it/s]\u001b[A\n",
            " 84%|████████▍ | 7539/9000 [01:41<00:20, 72.98it/s]\u001b[A\n",
            " 84%|████████▍ | 7547/9000 [01:41<00:19, 73.73it/s]\u001b[A\n",
            " 84%|████████▍ | 7555/9000 [01:41<00:23, 62.55it/s]\u001b[A\n",
            " 84%|████████▍ | 7566/9000 [01:41<00:19, 72.00it/s]\u001b[A\n",
            " 84%|████████▍ | 7574/9000 [01:41<00:21, 65.22it/s]\u001b[A\n",
            " 84%|████████▍ | 7581/9000 [01:41<00:21, 65.91it/s]\u001b[A\n",
            " 84%|████████▍ | 7588/9000 [01:41<00:21, 64.45it/s]\u001b[A\n",
            " 84%|████████▍ | 7595/9000 [01:41<00:25, 54.77it/s]\u001b[A\n",
            " 84%|████████▍ | 7601/9000 [01:42<00:25, 54.05it/s]\u001b[A\n",
            " 85%|████████▍ | 7607/9000 [01:42<00:25, 53.97it/s]\u001b[A\n",
            " 85%|████████▍ | 7613/9000 [01:42<00:31, 43.68it/s]\u001b[A\n",
            " 85%|████████▍ | 7620/9000 [01:42<00:28, 48.69it/s]\u001b[A\n",
            " 85%|████████▍ | 7631/9000 [01:42<00:21, 62.26it/s]\u001b[A\n",
            " 85%|████████▍ | 7639/9000 [01:42<00:21, 64.72it/s]\u001b[A\n",
            " 85%|████████▍ | 7646/9000 [01:42<00:23, 58.05it/s]\u001b[A\n",
            " 85%|████████▌ | 7655/9000 [01:43<00:22, 60.74it/s]\u001b[A\n",
            " 85%|████████▌ | 7662/9000 [01:43<00:25, 53.28it/s]\u001b[A\n",
            " 85%|████████▌ | 7668/9000 [01:43<00:29, 44.42it/s]\u001b[A\n",
            " 85%|████████▌ | 7679/9000 [01:43<00:23, 56.06it/s]\u001b[A\n",
            " 85%|████████▌ | 7689/9000 [01:43<00:19, 65.75it/s]\u001b[A\n",
            " 86%|████████▌ | 7699/9000 [01:43<00:17, 73.80it/s]\u001b[A\n",
            " 86%|████████▌ | 7708/9000 [01:43<00:19, 66.30it/s]\u001b[A\n",
            " 86%|████████▌ | 7719/9000 [01:43<00:17, 73.47it/s]\u001b[A\n",
            " 86%|████████▌ | 7734/9000 [01:44<00:14, 90.05it/s]\u001b[A\n",
            " 86%|████████▌ | 7745/9000 [01:44<00:13, 94.87it/s]\u001b[A\n",
            " 86%|████████▌ | 7756/9000 [01:44<00:12, 97.72it/s]\u001b[A\n",
            " 86%|████████▋ | 7770/9000 [01:44<00:11, 108.03it/s]\u001b[A\n",
            " 86%|████████▋ | 7782/9000 [01:44<00:12, 97.13it/s] \u001b[A\n",
            " 87%|████████▋ | 7793/9000 [01:44<00:15, 78.56it/s]\u001b[A\n",
            " 87%|████████▋ | 7809/9000 [01:44<00:12, 93.86it/s]\u001b[A\n",
            " 87%|████████▋ | 7820/9000 [01:45<00:13, 89.21it/s]\u001b[A\n",
            " 87%|████████▋ | 7830/9000 [01:45<00:15, 73.62it/s]\u001b[A\n",
            " 87%|████████▋ | 7839/9000 [01:45<00:15, 75.30it/s]\u001b[A\n",
            " 87%|████████▋ | 7848/9000 [01:45<00:14, 76.88it/s]\u001b[A\n",
            " 87%|████████▋ | 7857/9000 [01:45<00:14, 78.29it/s]\u001b[A\n",
            " 87%|████████▋ | 7866/9000 [01:45<00:14, 79.60it/s]\u001b[A\n",
            " 88%|████████▊ | 7878/9000 [01:45<00:12, 89.63it/s]\u001b[A\n",
            " 88%|████████▊ | 7888/9000 [01:45<00:14, 76.86it/s]\u001b[A\n",
            " 88%|████████▊ | 7900/9000 [01:46<00:13, 84.48it/s]\u001b[A\n",
            " 88%|████████▊ | 7912/9000 [01:46<00:12, 85.59it/s]\u001b[A\n",
            " 88%|████████▊ | 7921/9000 [01:46<00:14, 75.89it/s]\u001b[A\n",
            " 88%|████████▊ | 7929/9000 [01:46<00:15, 68.95it/s]\u001b[A\n",
            " 88%|████████▊ | 7938/9000 [01:46<00:15, 68.27it/s]\u001b[A\n",
            " 88%|████████▊ | 7951/9000 [01:46<00:12, 81.77it/s]\u001b[A\n",
            " 88%|████████▊ | 7960/9000 [01:46<00:13, 79.40it/s]\u001b[A\n",
            " 89%|████████▊ | 7969/9000 [01:46<00:12, 81.39it/s]\u001b[A\n",
            " 89%|████████▊ | 7978/9000 [01:47<00:12, 82.24it/s]\u001b[A\n",
            " 89%|████████▊ | 7987/9000 [01:47<00:12, 81.73it/s]\u001b[A\n",
            " 89%|████████▉ | 7998/9000 [01:47<00:11, 87.33it/s]\u001b[A\n",
            " 89%|████████▉ | 8008/9000 [01:47<00:11, 89.47it/s]\u001b[A\n",
            " 89%|████████▉ | 8018/9000 [01:47<00:13, 74.05it/s]\u001b[A\n",
            " 89%|████████▉ | 8026/9000 [01:47<00:14, 69.05it/s]\u001b[A\n",
            " 89%|████████▉ | 8034/9000 [01:47<00:13, 70.14it/s]\u001b[A\n",
            " 89%|████████▉ | 8042/9000 [01:47<00:13, 70.85it/s]\u001b[A\n",
            " 89%|████████▉ | 8052/9000 [01:48<00:12, 74.56it/s]\u001b[A\n",
            " 90%|████████▉ | 8060/9000 [01:48<00:13, 69.68it/s]\u001b[A\n",
            " 90%|████████▉ | 8068/9000 [01:48<00:13, 67.68it/s]\u001b[A\n",
            " 90%|████████▉ | 8081/9000 [01:48<00:11, 82.47it/s]\u001b[A\n",
            " 90%|████████▉ | 8090/9000 [01:48<00:11, 79.43it/s]\u001b[A\n",
            " 90%|█████████ | 8102/9000 [01:48<00:10, 88.90it/s]\u001b[A\n",
            " 90%|█████████ | 8112/9000 [01:48<00:09, 89.18it/s]\u001b[A\n",
            " 90%|█████████ | 8122/9000 [01:48<00:11, 78.24it/s]\u001b[A\n",
            " 90%|█████████ | 8134/9000 [01:49<00:09, 87.18it/s]\u001b[A\n",
            " 91%|█████████ | 8148/9000 [01:49<00:08, 97.85it/s]\u001b[A\n",
            " 91%|█████████ | 8159/9000 [01:49<00:08, 98.62it/s]\u001b[A\n",
            " 91%|█████████ | 8170/9000 [01:49<00:08, 99.02it/s]\u001b[A\n",
            " 91%|█████████ | 8181/9000 [01:49<00:09, 87.12it/s]\u001b[A\n",
            " 91%|█████████ | 8191/9000 [01:49<00:10, 74.73it/s]\u001b[A\n",
            " 91%|█████████ | 8199/9000 [01:49<00:11, 70.25it/s]\u001b[A\n",
            " 91%|█████████ | 8207/9000 [01:49<00:11, 71.06it/s]\u001b[A\n",
            " 91%|█████████▏| 8221/9000 [01:50<00:08, 87.88it/s]\u001b[A\n",
            " 91%|█████████▏| 8231/9000 [01:50<00:09, 80.40it/s]\u001b[A\n",
            " 92%|█████████▏| 8242/9000 [01:50<00:09, 81.85it/s]\u001b[A\n",
            " 92%|█████████▏| 8251/9000 [01:50<00:09, 77.43it/s]\u001b[A\n",
            " 92%|█████████▏| 8259/9000 [01:50<00:09, 76.90it/s]\u001b[A\n",
            " 92%|█████████▏| 8269/9000 [01:50<00:08, 81.73it/s]\u001b[A\n",
            " 92%|█████████▏| 8280/9000 [01:50<00:08, 80.37it/s]\u001b[A\n",
            " 92%|█████████▏| 8294/9000 [01:50<00:07, 93.29it/s]\u001b[A\n",
            " 92%|█████████▏| 8308/9000 [01:51<00:06, 103.50it/s]\u001b[A\n",
            " 92%|█████████▏| 8319/9000 [01:51<00:06, 97.71it/s] \u001b[A\n",
            " 93%|█████████▎| 8333/9000 [01:51<00:06, 106.85it/s]\u001b[A\n",
            " 93%|█████████▎| 8344/9000 [01:51<00:08, 77.38it/s] \u001b[A\n",
            " 93%|█████████▎| 8353/9000 [01:51<00:08, 76.60it/s]\u001b[A\n",
            " 93%|█████████▎| 8365/9000 [01:51<00:07, 86.16it/s]\u001b[A\n",
            " 93%|█████████▎| 8380/9000 [01:51<00:06, 101.08it/s]\u001b[A\n",
            " 93%|█████████▎| 8392/9000 [01:51<00:06, 100.62it/s]\u001b[A\n",
            " 93%|█████████▎| 8403/9000 [01:52<00:06, 87.61it/s] \u001b[A\n",
            " 94%|█████████▎| 8415/9000 [01:52<00:06, 95.11it/s]\u001b[A\n",
            " 94%|█████████▎| 8428/9000 [01:52<00:05, 102.45it/s]\u001b[A\n",
            " 94%|█████████▍| 8439/9000 [01:52<00:05, 99.24it/s] \u001b[A\n",
            " 94%|█████████▍| 8450/9000 [01:52<00:06, 83.79it/s]\u001b[A\n",
            " 94%|█████████▍| 8460/9000 [01:52<00:06, 84.03it/s]\u001b[A\n",
            " 94%|█████████▍| 8469/9000 [01:52<00:06, 82.26it/s]\u001b[A\n",
            " 94%|█████████▍| 8479/9000 [01:52<00:06, 86.24it/s]\u001b[A\n",
            " 94%|█████████▍| 8491/9000 [01:53<00:05, 94.26it/s]\u001b[A\n",
            " 94%|█████████▍| 8503/9000 [01:53<00:05, 99.26it/s]\u001b[A\n",
            " 95%|█████████▍| 8514/9000 [01:53<00:05, 84.65it/s]\u001b[A\n",
            " 95%|█████████▍| 8523/9000 [01:53<00:06, 71.81it/s]\u001b[A\n",
            " 95%|█████████▍| 8531/9000 [01:53<00:08, 55.12it/s]\u001b[A\n",
            " 95%|█████████▍| 8543/9000 [01:53<00:07, 64.44it/s]\u001b[A\n",
            " 95%|█████████▌| 8551/9000 [01:54<00:07, 59.14it/s]\u001b[A\n",
            " 95%|█████████▌| 8558/9000 [01:54<00:07, 60.87it/s]\u001b[A\n",
            " 95%|█████████▌| 8565/9000 [01:54<00:07, 60.32it/s]\u001b[A\n",
            " 95%|█████████▌| 8575/9000 [01:54<00:06, 67.24it/s]\u001b[A\n",
            " 95%|█████████▌| 8583/9000 [01:54<00:08, 50.01it/s]\u001b[A\n",
            " 95%|█████████▌| 8589/9000 [01:55<00:21, 18.83it/s]\u001b[A\n",
            " 96%|█████████▌| 8599/9000 [01:55<00:16, 24.91it/s]\u001b[A\n",
            " 96%|█████████▌| 8605/9000 [01:55<00:14, 27.79it/s]\u001b[A\n",
            " 96%|█████████▌| 8610/9000 [01:56<00:13, 29.85it/s]\u001b[A\n",
            " 96%|█████████▌| 8615/9000 [01:56<00:12, 30.34it/s]\u001b[A\n",
            " 96%|█████████▌| 8624/9000 [01:56<00:09, 39.89it/s]\u001b[A\n",
            " 96%|█████████▌| 8632/9000 [01:56<00:08, 45.65it/s]\u001b[A\n",
            " 96%|█████████▌| 8638/9000 [01:56<00:07, 45.80it/s]\u001b[A\n",
            " 96%|█████████▌| 8645/9000 [01:56<00:07, 49.64it/s]\u001b[A\n",
            " 96%|█████████▌| 8651/9000 [01:56<00:07, 44.60it/s]\u001b[A\n",
            " 96%|█████████▌| 8656/9000 [01:57<00:08, 41.92it/s]\u001b[A\n",
            " 96%|█████████▌| 8661/9000 [01:57<00:09, 36.90it/s]\u001b[A\n",
            " 96%|█████████▋| 8669/9000 [01:57<00:07, 46.02it/s]\u001b[A\n",
            " 96%|█████████▋| 8676/9000 [01:57<00:06, 50.98it/s]\u001b[A\n",
            " 96%|█████████▋| 8683/9000 [01:57<00:05, 54.76it/s]\u001b[A\n",
            " 97%|█████████▋| 8689/9000 [01:57<00:05, 52.97it/s]\u001b[A\n",
            " 97%|█████████▋| 8700/9000 [01:57<00:04, 66.24it/s]\u001b[A\n",
            " 97%|█████████▋| 8707/9000 [01:57<00:04, 62.46it/s]\u001b[A\n",
            " 97%|█████████▋| 8718/9000 [01:58<00:03, 73.80it/s]\u001b[A\n",
            " 97%|█████████▋| 8726/9000 [01:58<00:04, 60.67it/s]\u001b[A\n",
            " 97%|█████████▋| 8733/9000 [01:58<00:04, 62.47it/s]\u001b[A\n",
            " 97%|█████████▋| 8748/9000 [01:58<00:03, 83.34it/s]\u001b[A\n",
            " 97%|█████████▋| 8758/9000 [01:58<00:02, 82.57it/s]\u001b[A\n",
            " 97%|█████████▋| 8769/9000 [01:58<00:02, 86.29it/s]\u001b[A\n",
            " 98%|█████████▊| 8778/9000 [01:58<00:02, 78.61it/s]\u001b[A\n",
            " 98%|█████████▊| 8788/9000 [01:58<00:02, 82.56it/s]\u001b[A\n",
            " 98%|█████████▊| 8797/9000 [01:59<00:02, 83.27it/s]\u001b[A\n",
            " 98%|█████████▊| 8806/9000 [01:59<00:02, 77.56it/s]\u001b[A\n",
            " 98%|█████████▊| 8815/9000 [01:59<00:02, 80.60it/s]\u001b[A\n",
            " 98%|█████████▊| 8826/9000 [01:59<00:02, 85.42it/s]\u001b[A\n",
            " 98%|█████████▊| 8835/9000 [01:59<00:01, 82.88it/s]\u001b[A\n",
            " 98%|█████████▊| 8844/9000 [01:59<00:01, 83.83it/s]\u001b[A\n",
            " 98%|█████████▊| 8853/9000 [01:59<00:01, 74.40it/s]\u001b[A\n",
            " 98%|█████████▊| 8861/9000 [01:59<00:01, 75.31it/s]\u001b[A\n",
            " 99%|█████████▊| 8869/9000 [01:59<00:01, 73.30it/s]\u001b[A\n",
            " 99%|█████████▊| 8877/9000 [02:00<00:01, 70.31it/s]\u001b[A\n",
            " 99%|█████████▊| 8885/9000 [02:00<00:01, 68.45it/s]\u001b[A\n",
            " 99%|█████████▉| 8901/9000 [02:00<00:01, 91.67it/s]\u001b[A\n",
            " 99%|█████████▉| 8916/9000 [02:00<00:00, 102.84it/s]\u001b[A\n",
            " 99%|█████████▉| 8927/9000 [02:00<00:00, 100.60it/s]\u001b[A\n",
            " 99%|█████████▉| 8938/9000 [02:00<00:00, 92.38it/s] \u001b[A\n",
            " 99%|█████████▉| 8948/9000 [02:00<00:00, 90.98it/s]\u001b[A\n",
            "100%|█████████▉| 8958/9000 [02:00<00:00, 86.39it/s]\u001b[A\n",
            "100%|█████████▉| 8967/9000 [02:01<00:00, 76.41it/s]\u001b[A\n",
            "100%|█████████▉| 8975/9000 [02:01<00:00, 74.15it/s]\u001b[A\n",
            "100%|█████████▉| 8988/9000 [02:01<00:00, 86.92it/s]\u001b[A\n",
            "100%|██████████| 9000/9000 [02:01<00:00, 74.10it/s]\n"
          ]
        }
      ],
      "source": [
        "from tqdm import tqdm\n",
        "tqdm.pandas()\n",
        "\n",
        "train_df['cleaned'] = train_df['content'].progress_apply(clean)"
      ]
    },
    {
      "cell_type": "code",
      "execution_count": 33,
      "metadata": {
        "colab": {
          "base_uri": "https://localhost:8080/",
          "height": 423
        },
        "id": "fhc0Y-7mG5IQ",
        "outputId": "8eff9a3a-e10d-45c9-f1bb-eb55576aca0f"
      },
      "outputs": [
        {
          "data": {
            "text/html": [
              "\n",
              "  <div id=\"df-207ad68d-86ce-4213-a3b4-dedeeaf8d0e8\" class=\"colab-df-container\">\n",
              "    <div>\n",
              "<style scoped>\n",
              "    .dataframe tbody tr th:only-of-type {\n",
              "        vertical-align: middle;\n",
              "    }\n",
              "\n",
              "    .dataframe tbody tr th {\n",
              "        vertical-align: top;\n",
              "    }\n",
              "\n",
              "    .dataframe thead th {\n",
              "        text-align: right;\n",
              "    }\n",
              "</style>\n",
              "<table border=\"1\" class=\"dataframe\">\n",
              "  <thead>\n",
              "    <tr style=\"text-align: right;\">\n",
              "      <th></th>\n",
              "      <th>label</th>\n",
              "      <th>content</th>\n",
              "      <th>cleaned</th>\n",
              "    </tr>\n",
              "  </thead>\n",
              "  <tbody>\n",
              "    <tr>\n",
              "      <th>0</th>\n",
              "      <td>فناوری</td>\n",
              "      <td>گزارش های منتشر شده حاکی از آن است که کاربران ...</td>\n",
              "      <td>[گزارش, منتشر‌شده‌حاکی, از, آن, اس, که, کاربر,...</td>\n",
              "    </tr>\n",
              "    <tr>\n",
              "      <th>1</th>\n",
              "      <td>ورزشی</td>\n",
              "      <td>سوپر استار سینما و از قهرمانان سابق ووشو ــ کو...</td>\n",
              "      <td>[سوپر, استار, سینما, و, از, قهرمان, سابق, ووشو...</td>\n",
              "    </tr>\n",
              "    <tr>\n",
              "      <th>2</th>\n",
              "      <td>حوادث</td>\n",
              "      <td>مدیرعامل شرکت عمران آب کیش از فوت یک نفر در آت...</td>\n",
              "      <td>[مدیرعامل, شرکت, عمران, آب, کیش, از, فوت, یک, ...</td>\n",
              "    </tr>\n",
              "    <tr>\n",
              "      <th>3</th>\n",
              "      <td>فناوری</td>\n",
              "      <td>یک نوجوان انگلیسی به اتهام هک حساب‌های کاربری ...</td>\n",
              "      <td>[یک, نوجوان, انگلیسی, به, اتهام, هک, حساب, کار...</td>\n",
              "    </tr>\n",
              "    <tr>\n",
              "      <th>4</th>\n",
              "      <td>سلامت</td>\n",
              "      <td>دانشمندان در جدیدترین مطالعات خود اثرات جدید و...</td>\n",
              "      <td>[دانشمند, در, جدید, مطالعات, خود, اثرات, جدید,...</td>\n",
              "    </tr>\n",
              "    <tr>\n",
              "      <th>...</th>\n",
              "      <td>...</td>\n",
              "      <td>...</td>\n",
              "      <td>...</td>\n",
              "    </tr>\n",
              "    <tr>\n",
              "      <th>8995</th>\n",
              "      <td>حوادث</td>\n",
              "      <td>شانزدهم مهر امسال درپی تماس با مرکز فوریت‌های ...</td>\n",
              "      <td>[شانزدهم, مهر, امسال, درپی, تماس, با, مرکز, فو...</td>\n",
              "    </tr>\n",
              "    <tr>\n",
              "      <th>8996</th>\n",
              "      <td>ورزشی</td>\n",
              "      <td>اتحادیه فوتبال ترینیداد و توباگو اعلام کرده تی...</td>\n",
              "      <td>[اتحادیه, فوتبال, ترینیداد, و, توباگو, اعلام, ...</td>\n",
              "    </tr>\n",
              "    <tr>\n",
              "      <th>8997</th>\n",
              "      <td>فرهنگی/هنری</td>\n",
              "      <td>اسامی 18 فیلم بخش مسابقه مستند ششمین دوره جشنو...</td>\n",
              "      <td>[اسم, 18, فیلم, بخش, مسابقه, مستند, ششمین, دور...</td>\n",
              "    </tr>\n",
              "    <tr>\n",
              "      <th>8998</th>\n",
              "      <td>حوادث</td>\n",
              "      <td>کامیونت حامل بار تخته‌های چوبی عصر دیروز چهارش...</td>\n",
              "      <td>[کامیونت, حامل, بار, تخته, چوبی, عصر, دیروز, چ...</td>\n",
              "    </tr>\n",
              "    <tr>\n",
              "      <th>8999</th>\n",
              "      <td>فناوری</td>\n",
              "      <td>چهارمین لیگ بازی‌های رایانه‌ای ایران از روز ۶ ...</td>\n",
              "      <td>[چهارمین, لیگ, بازی, رایانه‌ای, ایران, از, روز...</td>\n",
              "    </tr>\n",
              "  </tbody>\n",
              "</table>\n",
              "<p>9000 rows × 3 columns</p>\n",
              "</div>\n",
              "    <div class=\"colab-df-buttons\">\n",
              "\n",
              "  <div class=\"colab-df-container\">\n",
              "    <button class=\"colab-df-convert\" onclick=\"convertToInteractive('df-207ad68d-86ce-4213-a3b4-dedeeaf8d0e8')\"\n",
              "            title=\"Convert this dataframe to an interactive table.\"\n",
              "            style=\"display:none;\">\n",
              "\n",
              "  <svg xmlns=\"http://www.w3.org/2000/svg\" height=\"24px\" viewBox=\"0 -960 960 960\">\n",
              "    <path d=\"M120-120v-720h720v720H120Zm60-500h600v-160H180v160Zm220 220h160v-160H400v160Zm0 220h160v-160H400v160ZM180-400h160v-160H180v160Zm440 0h160v-160H620v160ZM180-180h160v-160H180v160Zm440 0h160v-160H620v160Z\"/>\n",
              "  </svg>\n",
              "    </button>\n",
              "\n",
              "  <style>\n",
              "    .colab-df-container {\n",
              "      display:flex;\n",
              "      gap: 12px;\n",
              "    }\n",
              "\n",
              "    .colab-df-convert {\n",
              "      background-color: #E8F0FE;\n",
              "      border: none;\n",
              "      border-radius: 50%;\n",
              "      cursor: pointer;\n",
              "      display: none;\n",
              "      fill: #1967D2;\n",
              "      height: 32px;\n",
              "      padding: 0 0 0 0;\n",
              "      width: 32px;\n",
              "    }\n",
              "\n",
              "    .colab-df-convert:hover {\n",
              "      background-color: #E2EBFA;\n",
              "      box-shadow: 0px 1px 2px rgba(60, 64, 67, 0.3), 0px 1px 3px 1px rgba(60, 64, 67, 0.15);\n",
              "      fill: #174EA6;\n",
              "    }\n",
              "\n",
              "    .colab-df-buttons div {\n",
              "      margin-bottom: 4px;\n",
              "    }\n",
              "\n",
              "    [theme=dark] .colab-df-convert {\n",
              "      background-color: #3B4455;\n",
              "      fill: #D2E3FC;\n",
              "    }\n",
              "\n",
              "    [theme=dark] .colab-df-convert:hover {\n",
              "      background-color: #434B5C;\n",
              "      box-shadow: 0px 1px 3px 1px rgba(0, 0, 0, 0.15);\n",
              "      filter: drop-shadow(0px 1px 2px rgba(0, 0, 0, 0.3));\n",
              "      fill: #FFFFFF;\n",
              "    }\n",
              "  </style>\n",
              "\n",
              "    <script>\n",
              "      const buttonEl =\n",
              "        document.querySelector('#df-207ad68d-86ce-4213-a3b4-dedeeaf8d0e8 button.colab-df-convert');\n",
              "      buttonEl.style.display =\n",
              "        google.colab.kernel.accessAllowed ? 'block' : 'none';\n",
              "\n",
              "      async function convertToInteractive(key) {\n",
              "        const element = document.querySelector('#df-207ad68d-86ce-4213-a3b4-dedeeaf8d0e8');\n",
              "        const dataTable =\n",
              "          await google.colab.kernel.invokeFunction('convertToInteractive',\n",
              "                                                    [key], {});\n",
              "        if (!dataTable) return;\n",
              "\n",
              "        const docLinkHtml = 'Like what you see? Visit the ' +\n",
              "          '<a target=\"_blank\" href=https://colab.research.google.com/notebooks/data_table.ipynb>data table notebook</a>'\n",
              "          + ' to learn more about interactive tables.';\n",
              "        element.innerHTML = '';\n",
              "        dataTable['output_type'] = 'display_data';\n",
              "        await google.colab.output.renderOutput(dataTable, element);\n",
              "        const docLink = document.createElement('div');\n",
              "        docLink.innerHTML = docLinkHtml;\n",
              "        element.appendChild(docLink);\n",
              "      }\n",
              "    </script>\n",
              "  </div>\n",
              "\n",
              "\n",
              "<div id=\"df-a5d29690-d157-49b4-97ef-2433212399da\">\n",
              "  <button class=\"colab-df-quickchart\" onclick=\"quickchart('df-a5d29690-d157-49b4-97ef-2433212399da')\"\n",
              "            title=\"Suggest charts\"\n",
              "            style=\"display:none;\">\n",
              "\n",
              "<svg xmlns=\"http://www.w3.org/2000/svg\" height=\"24px\"viewBox=\"0 0 24 24\"\n",
              "     width=\"24px\">\n",
              "    <g>\n",
              "        <path d=\"M19 3H5c-1.1 0-2 .9-2 2v14c0 1.1.9 2 2 2h14c1.1 0 2-.9 2-2V5c0-1.1-.9-2-2-2zM9 17H7v-7h2v7zm4 0h-2V7h2v10zm4 0h-2v-4h2v4z\"/>\n",
              "    </g>\n",
              "</svg>\n",
              "  </button>\n",
              "\n",
              "<style>\n",
              "  .colab-df-quickchart {\n",
              "      --bg-color: #E8F0FE;\n",
              "      --fill-color: #1967D2;\n",
              "      --hover-bg-color: #E2EBFA;\n",
              "      --hover-fill-color: #174EA6;\n",
              "      --disabled-fill-color: #AAA;\n",
              "      --disabled-bg-color: #DDD;\n",
              "  }\n",
              "\n",
              "  [theme=dark] .colab-df-quickchart {\n",
              "      --bg-color: #3B4455;\n",
              "      --fill-color: #D2E3FC;\n",
              "      --hover-bg-color: #434B5C;\n",
              "      --hover-fill-color: #FFFFFF;\n",
              "      --disabled-bg-color: #3B4455;\n",
              "      --disabled-fill-color: #666;\n",
              "  }\n",
              "\n",
              "  .colab-df-quickchart {\n",
              "    background-color: var(--bg-color);\n",
              "    border: none;\n",
              "    border-radius: 50%;\n",
              "    cursor: pointer;\n",
              "    display: none;\n",
              "    fill: var(--fill-color);\n",
              "    height: 32px;\n",
              "    padding: 0;\n",
              "    width: 32px;\n",
              "  }\n",
              "\n",
              "  .colab-df-quickchart:hover {\n",
              "    background-color: var(--hover-bg-color);\n",
              "    box-shadow: 0 1px 2px rgba(60, 64, 67, 0.3), 0 1px 3px 1px rgba(60, 64, 67, 0.15);\n",
              "    fill: var(--button-hover-fill-color);\n",
              "  }\n",
              "\n",
              "  .colab-df-quickchart-complete:disabled,\n",
              "  .colab-df-quickchart-complete:disabled:hover {\n",
              "    background-color: var(--disabled-bg-color);\n",
              "    fill: var(--disabled-fill-color);\n",
              "    box-shadow: none;\n",
              "  }\n",
              "\n",
              "  .colab-df-spinner {\n",
              "    border: 2px solid var(--fill-color);\n",
              "    border-color: transparent;\n",
              "    border-bottom-color: var(--fill-color);\n",
              "    animation:\n",
              "      spin 1s steps(1) infinite;\n",
              "  }\n",
              "\n",
              "  @keyframes spin {\n",
              "    0% {\n",
              "      border-color: transparent;\n",
              "      border-bottom-color: var(--fill-color);\n",
              "      border-left-color: var(--fill-color);\n",
              "    }\n",
              "    20% {\n",
              "      border-color: transparent;\n",
              "      border-left-color: var(--fill-color);\n",
              "      border-top-color: var(--fill-color);\n",
              "    }\n",
              "    30% {\n",
              "      border-color: transparent;\n",
              "      border-left-color: var(--fill-color);\n",
              "      border-top-color: var(--fill-color);\n",
              "      border-right-color: var(--fill-color);\n",
              "    }\n",
              "    40% {\n",
              "      border-color: transparent;\n",
              "      border-right-color: var(--fill-color);\n",
              "      border-top-color: var(--fill-color);\n",
              "    }\n",
              "    60% {\n",
              "      border-color: transparent;\n",
              "      border-right-color: var(--fill-color);\n",
              "    }\n",
              "    80% {\n",
              "      border-color: transparent;\n",
              "      border-right-color: var(--fill-color);\n",
              "      border-bottom-color: var(--fill-color);\n",
              "    }\n",
              "    90% {\n",
              "      border-color: transparent;\n",
              "      border-bottom-color: var(--fill-color);\n",
              "    }\n",
              "  }\n",
              "</style>\n",
              "\n",
              "  <script>\n",
              "    async function quickchart(key) {\n",
              "      const quickchartButtonEl =\n",
              "        document.querySelector('#' + key + ' button');\n",
              "      quickchartButtonEl.disabled = true;  // To prevent multiple clicks.\n",
              "      quickchartButtonEl.classList.add('colab-df-spinner');\n",
              "      try {\n",
              "        const charts = await google.colab.kernel.invokeFunction(\n",
              "            'suggestCharts', [key], {});\n",
              "      } catch (error) {\n",
              "        console.error('Error during call to suggestCharts:', error);\n",
              "      }\n",
              "      quickchartButtonEl.classList.remove('colab-df-spinner');\n",
              "      quickchartButtonEl.classList.add('colab-df-quickchart-complete');\n",
              "    }\n",
              "    (() => {\n",
              "      let quickchartButtonEl =\n",
              "        document.querySelector('#df-a5d29690-d157-49b4-97ef-2433212399da button');\n",
              "      quickchartButtonEl.style.display =\n",
              "        google.colab.kernel.accessAllowed ? 'block' : 'none';\n",
              "    })();\n",
              "  </script>\n",
              "</div>\n",
              "    </div>\n",
              "  </div>\n"
            ],
            "text/plain": [
              "            label                                            content  \\\n",
              "0          فناوری  گزارش های منتشر شده حاکی از آن است که کاربران ...   \n",
              "1           ورزشی  سوپر استار سینما و از قهرمانان سابق ووشو ــ کو...   \n",
              "2           حوادث  مدیرعامل شرکت عمران آب کیش از فوت یک نفر در آت...   \n",
              "3          فناوری  یک نوجوان انگلیسی به اتهام هک حساب‌های کاربری ...   \n",
              "4           سلامت  دانشمندان در جدیدترین مطالعات خود اثرات جدید و...   \n",
              "...           ...                                                ...   \n",
              "8995        حوادث  شانزدهم مهر امسال درپی تماس با مرکز فوریت‌های ...   \n",
              "8996        ورزشی  اتحادیه فوتبال ترینیداد و توباگو اعلام کرده تی...   \n",
              "8997  فرهنگی/هنری  اسامی 18 فیلم بخش مسابقه مستند ششمین دوره جشنو...   \n",
              "8998        حوادث  کامیونت حامل بار تخته‌های چوبی عصر دیروز چهارش...   \n",
              "8999       فناوری  چهارمین لیگ بازی‌های رایانه‌ای ایران از روز ۶ ...   \n",
              "\n",
              "                                                cleaned  \n",
              "0     [گزارش, منتشر‌شده‌حاکی, از, آن, اس, که, کاربر,...  \n",
              "1     [سوپر, استار, سینما, و, از, قهرمان, سابق, ووشو...  \n",
              "2     [مدیرعامل, شرکت, عمران, آب, کیش, از, فوت, یک, ...  \n",
              "3     [یک, نوجوان, انگلیسی, به, اتهام, هک, حساب, کار...  \n",
              "4     [دانشمند, در, جدید, مطالعات, خود, اثرات, جدید,...  \n",
              "...                                                 ...  \n",
              "8995  [شانزدهم, مهر, امسال, درپی, تماس, با, مرکز, فو...  \n",
              "8996  [اتحادیه, فوتبال, ترینیداد, و, توباگو, اعلام, ...  \n",
              "8997  [اسم, 18, فیلم, بخش, مسابقه, مستند, ششمین, دور...  \n",
              "8998  [کامیونت, حامل, بار, تخته, چوبی, عصر, دیروز, چ...  \n",
              "8999  [چهارمین, لیگ, بازی, رایانه‌ای, ایران, از, روز...  \n",
              "\n",
              "[9000 rows x 3 columns]"
            ]
          },
          "execution_count": 33,
          "metadata": {},
          "output_type": "execute_result"
        }
      ],
      "source": [
        "train_df"
      ]
    },
    {
      "cell_type": "code",
      "execution_count": 34,
      "metadata": {
        "colab": {
          "base_uri": "https://localhost:8080/",
          "height": 1000
        },
        "id": "AmGeaLSYG8iF",
        "outputId": "6105e97a-1503-49be-f4f1-f4bd42289732"
      },
      "outputs": [
        {
          "name": "stderr",
          "output_type": "stream",
          "text": [
            "\n",
            "  0%|          | 0/1115 [00:00<?, ?it/s]\u001b[A\n",
            "  1%|          | 9/1115 [00:00<00:12, 87.52it/s]\u001b[A\n",
            "  2%|▏         | 25/1115 [00:00<00:08, 129.47it/s]\u001b[A\n",
            "  3%|▎         | 38/1115 [00:00<00:10, 105.79it/s]\u001b[A\n",
            "  4%|▍         | 50/1115 [00:00<00:10, 106.06it/s]\u001b[A\n",
            "  5%|▌         | 61/1115 [00:00<00:10, 96.63it/s] \u001b[A\n",
            "  7%|▋         | 73/1115 [00:00<00:10, 103.21it/s]\u001b[A\n",
            "  8%|▊         | 84/1115 [00:00<00:09, 104.33it/s]\u001b[A\n",
            "  9%|▊         | 95/1115 [00:00<00:10, 98.42it/s] \u001b[A\n",
            " 10%|▉         | 106/1115 [00:01<00:10, 100.75it/s]\u001b[A\n",
            " 10%|█         | 117/1115 [00:01<00:10, 95.44it/s] \u001b[A\n",
            " 11%|█▏        | 127/1115 [00:01<00:10, 90.30it/s]\u001b[A\n",
            " 13%|█▎        | 144/1115 [00:01<00:09, 105.88it/s]\u001b[A\n",
            " 14%|█▍        | 155/1115 [00:01<00:09, 96.43it/s] \u001b[A\n",
            " 15%|█▌        | 172/1115 [00:01<00:08, 111.27it/s]\u001b[A\n",
            " 17%|█▋        | 184/1115 [00:01<00:08, 111.17it/s]\u001b[A\n",
            " 18%|█▊        | 196/1115 [00:01<00:08, 110.93it/s]\u001b[A\n",
            " 19%|█▊        | 208/1115 [00:02<00:09, 97.42it/s] \u001b[A\n",
            " 20%|██        | 224/1115 [00:02<00:07, 111.99it/s]\u001b[A\n",
            " 21%|██        | 236/1115 [00:02<00:11, 78.59it/s] \u001b[A\n",
            " 22%|██▏       | 249/1115 [00:02<00:09, 89.01it/s]\u001b[A\n",
            " 23%|██▎       | 260/1115 [00:02<00:09, 91.55it/s]\u001b[A\n",
            " 24%|██▍       | 271/1115 [00:02<00:09, 85.44it/s]\u001b[A\n",
            " 25%|██▌       | 282/1115 [00:02<00:09, 90.96it/s]\u001b[A\n",
            " 27%|██▋       | 296/1115 [00:02<00:07, 102.55it/s]\u001b[A\n",
            " 28%|██▊       | 307/1115 [00:03<00:07, 101.34it/s]\u001b[A\n",
            " 29%|██▊       | 318/1115 [00:03<00:08, 97.56it/s] \u001b[A\n",
            " 30%|██▉       | 329/1115 [00:03<00:09, 87.19it/s]\u001b[A\n",
            " 30%|███       | 339/1115 [00:03<00:08, 89.99it/s]\u001b[A\n",
            " 31%|███▏      | 349/1115 [00:03<00:08, 87.33it/s]\u001b[A\n",
            " 32%|███▏      | 360/1115 [00:03<00:08, 92.61it/s]\u001b[A\n",
            " 33%|███▎      | 370/1115 [00:03<00:09, 78.29it/s]\u001b[A\n",
            " 34%|███▍      | 379/1115 [00:04<00:09, 78.04it/s]\u001b[A\n",
            " 35%|███▌      | 392/1115 [00:04<00:08, 90.28it/s]\u001b[A\n",
            " 36%|███▌      | 402/1115 [00:04<00:08, 84.78it/s]\u001b[A\n",
            " 37%|███▋      | 414/1115 [00:04<00:08, 86.53it/s]\u001b[A\n",
            " 38%|███▊      | 424/1115 [00:04<00:07, 89.29it/s]\u001b[A\n",
            " 39%|███▉      | 435/1115 [00:04<00:07, 92.07it/s]\u001b[A\n",
            " 40%|███▉      | 445/1115 [00:04<00:07, 94.17it/s]\u001b[A\n",
            " 41%|████▏     | 462/1115 [00:04<00:05, 112.14it/s]\u001b[A\n",
            " 43%|████▎     | 477/1115 [00:04<00:05, 121.41it/s]\u001b[A\n",
            " 44%|████▍     | 490/1115 [00:05<00:06, 94.23it/s] \u001b[A\n",
            " 45%|████▌     | 505/1115 [00:05<00:05, 107.17it/s]\u001b[A\n",
            " 46%|████▋     | 517/1115 [00:05<00:05, 100.59it/s]\u001b[A\n",
            " 47%|████▋     | 529/1115 [00:05<00:05, 101.05it/s]\u001b[A\n",
            " 48%|████▊     | 540/1115 [00:05<00:06, 93.47it/s] \u001b[A\n",
            " 49%|████▉     | 550/1115 [00:05<00:07, 74.09it/s]\u001b[A\n",
            " 50%|█████     | 560/1115 [00:05<00:07, 77.70it/s]\u001b[A\n",
            " 52%|█████▏    | 575/1115 [00:06<00:05, 94.22it/s]\u001b[A\n",
            " 53%|█████▎    | 586/1115 [00:06<00:07, 73.94it/s]\u001b[A\n",
            " 53%|█████▎    | 595/1115 [00:06<00:07, 67.86it/s]\u001b[A\n",
            " 54%|█████▍    | 603/1115 [00:06<00:07, 68.86it/s]\u001b[A\n",
            " 55%|█████▍    | 613/1115 [00:06<00:07, 69.13it/s]\u001b[A\n",
            " 56%|█████▌    | 621/1115 [00:06<00:07, 70.56it/s]\u001b[A\n",
            " 56%|█████▋    | 629/1115 [00:06<00:08, 60.72it/s]\u001b[A\n",
            " 57%|█████▋    | 639/1115 [00:07<00:06, 68.66it/s]\u001b[A\n",
            " 58%|█████▊    | 647/1115 [00:07<00:07, 66.49it/s]\u001b[A\n",
            " 59%|█████▊    | 655/1115 [00:07<00:07, 64.52it/s]\u001b[A\n",
            " 59%|█████▉    | 662/1115 [00:07<00:07, 58.47it/s]\u001b[A\n",
            " 60%|██████    | 673/1115 [00:07<00:06, 67.79it/s]\u001b[A\n",
            " 61%|██████    | 681/1115 [00:07<00:08, 49.71it/s]\u001b[A\n",
            " 62%|██████▏   | 687/1115 [00:08<00:08, 49.13it/s]\u001b[A\n",
            " 62%|██████▏   | 695/1115 [00:08<00:07, 55.09it/s]\u001b[A\n",
            " 63%|██████▎   | 702/1115 [00:08<00:08, 48.26it/s]\u001b[A\n",
            " 64%|██████▎   | 709/1115 [00:08<00:08, 49.75it/s]\u001b[A\n",
            " 64%|██████▍   | 719/1115 [00:08<00:06, 57.28it/s]\u001b[A\n",
            " 65%|██████▌   | 726/1115 [00:08<00:07, 54.49it/s]\u001b[A\n",
            " 66%|██████▌   | 732/1115 [00:08<00:07, 51.20it/s]\u001b[A\n",
            " 66%|██████▋   | 740/1115 [00:08<00:06, 56.42it/s]\u001b[A\n",
            " 67%|██████▋   | 748/1115 [00:09<00:06, 59.59it/s]\u001b[A\n",
            " 68%|██████▊   | 759/1115 [00:09<00:05, 67.41it/s]\u001b[A\n",
            " 69%|██████▊   | 766/1115 [00:09<00:06, 50.78it/s]\u001b[A\n",
            " 69%|██████▉   | 772/1115 [00:09<00:07, 48.95it/s]\u001b[A\n",
            " 70%|██████▉   | 778/1115 [00:09<00:07, 47.88it/s]\u001b[A\n",
            " 70%|███████   | 784/1115 [00:09<00:07, 43.19it/s]\u001b[A\n",
            " 71%|███████▏  | 797/1115 [00:10<00:05, 59.16it/s]\u001b[A\n",
            " 73%|███████▎  | 811/1115 [00:10<00:03, 77.07it/s]\u001b[A\n",
            " 74%|███████▎  | 820/1115 [00:10<00:03, 78.99it/s]\u001b[A\n",
            " 74%|███████▍  | 829/1115 [00:10<00:03, 77.94it/s]\u001b[A\n",
            " 75%|███████▌  | 841/1115 [00:10<00:03, 87.47it/s]\u001b[A\n",
            " 76%|███████▋  | 851/1115 [00:10<00:02, 89.51it/s]\u001b[A\n",
            " 77%|███████▋  | 864/1115 [00:10<00:02, 100.24it/s]\u001b[A\n",
            " 78%|███████▊  | 875/1115 [00:10<00:02, 84.65it/s] \u001b[A\n",
            " 80%|███████▉  | 889/1115 [00:10<00:02, 94.69it/s]\u001b[A\n",
            " 81%|████████  | 900/1115 [00:11<00:02, 92.66it/s]\u001b[A\n",
            " 82%|████████▏ | 910/1115 [00:11<00:02, 91.29it/s]\u001b[A\n",
            " 83%|████████▎ | 920/1115 [00:11<00:02, 91.70it/s]\u001b[A\n",
            " 83%|████████▎ | 930/1115 [00:11<00:02, 91.98it/s]\u001b[A\n",
            " 84%|████████▍ | 940/1115 [00:11<00:01, 88.12it/s]\u001b[A\n",
            " 86%|████████▌ | 955/1115 [00:11<00:01, 97.97it/s]\u001b[A\n",
            " 87%|████████▋ | 966/1115 [00:11<00:01, 100.68it/s]\u001b[A\n",
            " 88%|████████▊ | 978/1115 [00:11<00:01, 105.47it/s]\u001b[A\n",
            " 89%|████████▊ | 989/1115 [00:12<00:01, 81.64it/s] \u001b[A\n",
            " 90%|████████▉ | 1001/1115 [00:12<00:01, 86.42it/s]\u001b[A\n",
            " 91%|█████████ | 1011/1115 [00:12<00:01, 89.69it/s]\u001b[A\n",
            " 92%|█████████▏| 1024/1115 [00:12<00:00, 99.72it/s]\u001b[A\n",
            " 93%|█████████▎| 1038/1115 [00:12<00:00, 109.22it/s]\u001b[A\n",
            " 94%|█████████▍| 1050/1115 [00:12<00:00, 102.31it/s]\u001b[A\n",
            " 95%|█████████▌| 1063/1115 [00:12<00:00, 105.37it/s]\u001b[A\n",
            " 96%|█████████▋| 1075/1115 [00:12<00:00, 98.46it/s] \u001b[A\n",
            " 97%|█████████▋| 1086/1115 [00:13<00:00, 94.97it/s]\u001b[A\n",
            " 98%|█████████▊| 1097/1115 [00:13<00:00, 98.79it/s]\u001b[A\n",
            "100%|██████████| 1115/1115 [00:13<00:00, 83.37it/s]\n"
          ]
        },
        {
          "data": {
            "text/html": [
              "\n",
              "  <div id=\"df-664d93c0-cfba-4b59-ad3b-26ce81906da1\" class=\"colab-df-container\">\n",
              "    <div>\n",
              "<style scoped>\n",
              "    .dataframe tbody tr th:only-of-type {\n",
              "        vertical-align: middle;\n",
              "    }\n",
              "\n",
              "    .dataframe tbody tr th {\n",
              "        vertical-align: top;\n",
              "    }\n",
              "\n",
              "    .dataframe thead th {\n",
              "        text-align: right;\n",
              "    }\n",
              "</style>\n",
              "<table border=\"1\" class=\"dataframe\">\n",
              "  <thead>\n",
              "    <tr style=\"text-align: right;\">\n",
              "      <th></th>\n",
              "      <th>label</th>\n",
              "      <th>content</th>\n",
              "      <th>cleaned</th>\n",
              "    </tr>\n",
              "  </thead>\n",
              "  <tbody>\n",
              "    <tr>\n",
              "      <th>0</th>\n",
              "      <td>فناوری</td>\n",
              "      <td>بعد از اعلام لیست ۲۳ شرکت مجاز ثبت سفارش و ارا...</td>\n",
              "      <td>[بعد, از, اعلام, لیست, 23, شرکت, مجاز, ثبت, سف...</td>\n",
              "    </tr>\n",
              "    <tr>\n",
              "      <th>1</th>\n",
              "      <td>فرهنگی/هنری</td>\n",
              "      <td>یک استاد علم قرائت قرآن کریم، گفت: ریشه موسیقی...</td>\n",
              "      <td>[یک, استاد, علم, قرائت, قرآن, کریم, گفت, ریشه,...</td>\n",
              "    </tr>\n",
              "    <tr>\n",
              "      <th>2</th>\n",
              "      <td>حوادث</td>\n",
              "      <td>آتش سوزی های زنجیره ای جنگل های زاگرس در استان...</td>\n",
              "      <td>[آتش, سوز, زنجیره, جنگل, زاگرس, در, استان, ایل...</td>\n",
              "    </tr>\n",
              "    <tr>\n",
              "      <th>3</th>\n",
              "      <td>فناوری</td>\n",
              "      <td>استفاده از سرویس‌های iMassage یا Facetime محصو...</td>\n",
              "      <td>[استفاده, از, سرویس, iMassage, یا, Facetime, م...</td>\n",
              "    </tr>\n",
              "    <tr>\n",
              "      <th>4</th>\n",
              "      <td>حوادث</td>\n",
              "      <td>دادستان عمومی و انقلاب یاسوج گفت: 10 میلیون دل...</td>\n",
              "      <td>[دادستان, عمومی, و, انقلاب, یاسوج, گفت, 10, می...</td>\n",
              "    </tr>\n",
              "    <tr>\n",
              "      <th>...</th>\n",
              "      <td>...</td>\n",
              "      <td>...</td>\n",
              "      <td>...</td>\n",
              "    </tr>\n",
              "    <tr>\n",
              "      <th>1110</th>\n",
              "      <td>ورزشی</td>\n",
              "      <td>عضو هیات مدیره باشگاه استقلال گفت:من هیچوقت به...</td>\n",
              "      <td>[عضو, هیات, مدیره, باشگاه, استقلال, گفتمن, هیچ...</td>\n",
              "    </tr>\n",
              "    <tr>\n",
              "      <th>1111</th>\n",
              "      <td>حوادث</td>\n",
              "      <td>مدیر آموزش و پرورش شهرستان جیرفت از دستگیری دا...</td>\n",
              "      <td>[مدیر, آموزش, و, پرورش, شهرستان, جیرفت, از, دس...</td>\n",
              "    </tr>\n",
              "    <tr>\n",
              "      <th>1112</th>\n",
              "      <td>سیاسی</td>\n",
              "      <td>رییس جمهور با بیان اینکه در هفته گذشته هیچ شهر...</td>\n",
              "      <td>[رییس‌جمهور, با, بیان, اینکه, در, هفته, گذشته,...</td>\n",
              "    </tr>\n",
              "    <tr>\n",
              "      <th>1113</th>\n",
              "      <td>فناوری</td>\n",
              "      <td>دارندگان مدل‌های اعلام‌شده گوشی‌های هوآوی، می‌...</td>\n",
              "      <td>[دارنده, مدل, اعلام‌شده, گوشی, هوآوی, توانست&amp;ت...</td>\n",
              "    </tr>\n",
              "    <tr>\n",
              "      <th>1114</th>\n",
              "      <td>سلامت</td>\n",
              "      <td>مطالعه ای جدید نشان داده است که احتمال مثبت بو...</td>\n",
              "      <td>[مطالعه, جدید, نشان, داده, اس, که, احتمال, مثب...</td>\n",
              "    </tr>\n",
              "  </tbody>\n",
              "</table>\n",
              "<p>1115 rows × 3 columns</p>\n",
              "</div>\n",
              "    <div class=\"colab-df-buttons\">\n",
              "\n",
              "  <div class=\"colab-df-container\">\n",
              "    <button class=\"colab-df-convert\" onclick=\"convertToInteractive('df-664d93c0-cfba-4b59-ad3b-26ce81906da1')\"\n",
              "            title=\"Convert this dataframe to an interactive table.\"\n",
              "            style=\"display:none;\">\n",
              "\n",
              "  <svg xmlns=\"http://www.w3.org/2000/svg\" height=\"24px\" viewBox=\"0 -960 960 960\">\n",
              "    <path d=\"M120-120v-720h720v720H120Zm60-500h600v-160H180v160Zm220 220h160v-160H400v160Zm0 220h160v-160H400v160ZM180-400h160v-160H180v160Zm440 0h160v-160H620v160ZM180-180h160v-160H180v160Zm440 0h160v-160H620v160Z\"/>\n",
              "  </svg>\n",
              "    </button>\n",
              "\n",
              "  <style>\n",
              "    .colab-df-container {\n",
              "      display:flex;\n",
              "      gap: 12px;\n",
              "    }\n",
              "\n",
              "    .colab-df-convert {\n",
              "      background-color: #E8F0FE;\n",
              "      border: none;\n",
              "      border-radius: 50%;\n",
              "      cursor: pointer;\n",
              "      display: none;\n",
              "      fill: #1967D2;\n",
              "      height: 32px;\n",
              "      padding: 0 0 0 0;\n",
              "      width: 32px;\n",
              "    }\n",
              "\n",
              "    .colab-df-convert:hover {\n",
              "      background-color: #E2EBFA;\n",
              "      box-shadow: 0px 1px 2px rgba(60, 64, 67, 0.3), 0px 1px 3px 1px rgba(60, 64, 67, 0.15);\n",
              "      fill: #174EA6;\n",
              "    }\n",
              "\n",
              "    .colab-df-buttons div {\n",
              "      margin-bottom: 4px;\n",
              "    }\n",
              "\n",
              "    [theme=dark] .colab-df-convert {\n",
              "      background-color: #3B4455;\n",
              "      fill: #D2E3FC;\n",
              "    }\n",
              "\n",
              "    [theme=dark] .colab-df-convert:hover {\n",
              "      background-color: #434B5C;\n",
              "      box-shadow: 0px 1px 3px 1px rgba(0, 0, 0, 0.15);\n",
              "      filter: drop-shadow(0px 1px 2px rgba(0, 0, 0, 0.3));\n",
              "      fill: #FFFFFF;\n",
              "    }\n",
              "  </style>\n",
              "\n",
              "    <script>\n",
              "      const buttonEl =\n",
              "        document.querySelector('#df-664d93c0-cfba-4b59-ad3b-26ce81906da1 button.colab-df-convert');\n",
              "      buttonEl.style.display =\n",
              "        google.colab.kernel.accessAllowed ? 'block' : 'none';\n",
              "\n",
              "      async function convertToInteractive(key) {\n",
              "        const element = document.querySelector('#df-664d93c0-cfba-4b59-ad3b-26ce81906da1');\n",
              "        const dataTable =\n",
              "          await google.colab.kernel.invokeFunction('convertToInteractive',\n",
              "                                                    [key], {});\n",
              "        if (!dataTable) return;\n",
              "\n",
              "        const docLinkHtml = 'Like what you see? Visit the ' +\n",
              "          '<a target=\"_blank\" href=https://colab.research.google.com/notebooks/data_table.ipynb>data table notebook</a>'\n",
              "          + ' to learn more about interactive tables.';\n",
              "        element.innerHTML = '';\n",
              "        dataTable['output_type'] = 'display_data';\n",
              "        await google.colab.output.renderOutput(dataTable, element);\n",
              "        const docLink = document.createElement('div');\n",
              "        docLink.innerHTML = docLinkHtml;\n",
              "        element.appendChild(docLink);\n",
              "      }\n",
              "    </script>\n",
              "  </div>\n",
              "\n",
              "\n",
              "<div id=\"df-2a180ca2-99c1-464e-ad0f-3e0a54b4ca3c\">\n",
              "  <button class=\"colab-df-quickchart\" onclick=\"quickchart('df-2a180ca2-99c1-464e-ad0f-3e0a54b4ca3c')\"\n",
              "            title=\"Suggest charts\"\n",
              "            style=\"display:none;\">\n",
              "\n",
              "<svg xmlns=\"http://www.w3.org/2000/svg\" height=\"24px\"viewBox=\"0 0 24 24\"\n",
              "     width=\"24px\">\n",
              "    <g>\n",
              "        <path d=\"M19 3H5c-1.1 0-2 .9-2 2v14c0 1.1.9 2 2 2h14c1.1 0 2-.9 2-2V5c0-1.1-.9-2-2-2zM9 17H7v-7h2v7zm4 0h-2V7h2v10zm4 0h-2v-4h2v4z\"/>\n",
              "    </g>\n",
              "</svg>\n",
              "  </button>\n",
              "\n",
              "<style>\n",
              "  .colab-df-quickchart {\n",
              "      --bg-color: #E8F0FE;\n",
              "      --fill-color: #1967D2;\n",
              "      --hover-bg-color: #E2EBFA;\n",
              "      --hover-fill-color: #174EA6;\n",
              "      --disabled-fill-color: #AAA;\n",
              "      --disabled-bg-color: #DDD;\n",
              "  }\n",
              "\n",
              "  [theme=dark] .colab-df-quickchart {\n",
              "      --bg-color: #3B4455;\n",
              "      --fill-color: #D2E3FC;\n",
              "      --hover-bg-color: #434B5C;\n",
              "      --hover-fill-color: #FFFFFF;\n",
              "      --disabled-bg-color: #3B4455;\n",
              "      --disabled-fill-color: #666;\n",
              "  }\n",
              "\n",
              "  .colab-df-quickchart {\n",
              "    background-color: var(--bg-color);\n",
              "    border: none;\n",
              "    border-radius: 50%;\n",
              "    cursor: pointer;\n",
              "    display: none;\n",
              "    fill: var(--fill-color);\n",
              "    height: 32px;\n",
              "    padding: 0;\n",
              "    width: 32px;\n",
              "  }\n",
              "\n",
              "  .colab-df-quickchart:hover {\n",
              "    background-color: var(--hover-bg-color);\n",
              "    box-shadow: 0 1px 2px rgba(60, 64, 67, 0.3), 0 1px 3px 1px rgba(60, 64, 67, 0.15);\n",
              "    fill: var(--button-hover-fill-color);\n",
              "  }\n",
              "\n",
              "  .colab-df-quickchart-complete:disabled,\n",
              "  .colab-df-quickchart-complete:disabled:hover {\n",
              "    background-color: var(--disabled-bg-color);\n",
              "    fill: var(--disabled-fill-color);\n",
              "    box-shadow: none;\n",
              "  }\n",
              "\n",
              "  .colab-df-spinner {\n",
              "    border: 2px solid var(--fill-color);\n",
              "    border-color: transparent;\n",
              "    border-bottom-color: var(--fill-color);\n",
              "    animation:\n",
              "      spin 1s steps(1) infinite;\n",
              "  }\n",
              "\n",
              "  @keyframes spin {\n",
              "    0% {\n",
              "      border-color: transparent;\n",
              "      border-bottom-color: var(--fill-color);\n",
              "      border-left-color: var(--fill-color);\n",
              "    }\n",
              "    20% {\n",
              "      border-color: transparent;\n",
              "      border-left-color: var(--fill-color);\n",
              "      border-top-color: var(--fill-color);\n",
              "    }\n",
              "    30% {\n",
              "      border-color: transparent;\n",
              "      border-left-color: var(--fill-color);\n",
              "      border-top-color: var(--fill-color);\n",
              "      border-right-color: var(--fill-color);\n",
              "    }\n",
              "    40% {\n",
              "      border-color: transparent;\n",
              "      border-right-color: var(--fill-color);\n",
              "      border-top-color: var(--fill-color);\n",
              "    }\n",
              "    60% {\n",
              "      border-color: transparent;\n",
              "      border-right-color: var(--fill-color);\n",
              "    }\n",
              "    80% {\n",
              "      border-color: transparent;\n",
              "      border-right-color: var(--fill-color);\n",
              "      border-bottom-color: var(--fill-color);\n",
              "    }\n",
              "    90% {\n",
              "      border-color: transparent;\n",
              "      border-bottom-color: var(--fill-color);\n",
              "    }\n",
              "  }\n",
              "</style>\n",
              "\n",
              "  <script>\n",
              "    async function quickchart(key) {\n",
              "      const quickchartButtonEl =\n",
              "        document.querySelector('#' + key + ' button');\n",
              "      quickchartButtonEl.disabled = true;  // To prevent multiple clicks.\n",
              "      quickchartButtonEl.classList.add('colab-df-spinner');\n",
              "      try {\n",
              "        const charts = await google.colab.kernel.invokeFunction(\n",
              "            'suggestCharts', [key], {});\n",
              "      } catch (error) {\n",
              "        console.error('Error during call to suggestCharts:', error);\n",
              "      }\n",
              "      quickchartButtonEl.classList.remove('colab-df-spinner');\n",
              "      quickchartButtonEl.classList.add('colab-df-quickchart-complete');\n",
              "    }\n",
              "    (() => {\n",
              "      let quickchartButtonEl =\n",
              "        document.querySelector('#df-2a180ca2-99c1-464e-ad0f-3e0a54b4ca3c button');\n",
              "      quickchartButtonEl.style.display =\n",
              "        google.colab.kernel.accessAllowed ? 'block' : 'none';\n",
              "    })();\n",
              "  </script>\n",
              "</div>\n",
              "    </div>\n",
              "  </div>\n"
            ],
            "text/plain": [
              "            label                                            content  \\\n",
              "0          فناوری  بعد از اعلام لیست ۲۳ شرکت مجاز ثبت سفارش و ارا...   \n",
              "1     فرهنگی/هنری  یک استاد علم قرائت قرآن کریم، گفت: ریشه موسیقی...   \n",
              "2           حوادث  آتش سوزی های زنجیره ای جنگل های زاگرس در استان...   \n",
              "3          فناوری  استفاده از سرویس‌های iMassage یا Facetime محصو...   \n",
              "4           حوادث  دادستان عمومی و انقلاب یاسوج گفت: 10 میلیون دل...   \n",
              "...           ...                                                ...   \n",
              "1110        ورزشی  عضو هیات مدیره باشگاه استقلال گفت:من هیچوقت به...   \n",
              "1111        حوادث  مدیر آموزش و پرورش شهرستان جیرفت از دستگیری دا...   \n",
              "1112        سیاسی  رییس جمهور با بیان اینکه در هفته گذشته هیچ شهر...   \n",
              "1113       فناوری  دارندگان مدل‌های اعلام‌شده گوشی‌های هوآوی، می‌...   \n",
              "1114        سلامت  مطالعه ای جدید نشان داده است که احتمال مثبت بو...   \n",
              "\n",
              "                                                cleaned  \n",
              "0     [بعد, از, اعلام, لیست, 23, شرکت, مجاز, ثبت, سف...  \n",
              "1     [یک, استاد, علم, قرائت, قرآن, کریم, گفت, ریشه,...  \n",
              "2     [آتش, سوز, زنجیره, جنگل, زاگرس, در, استان, ایل...  \n",
              "3     [استفاده, از, سرویس, iMassage, یا, Facetime, م...  \n",
              "4     [دادستان, عمومی, و, انقلاب, یاسوج, گفت, 10, می...  \n",
              "...                                                 ...  \n",
              "1110  [عضو, هیات, مدیره, باشگاه, استقلال, گفتمن, هیچ...  \n",
              "1111  [مدیر, آموزش, و, پرورش, شهرستان, جیرفت, از, دس...  \n",
              "1112  [رییس‌جمهور, با, بیان, اینکه, در, هفته, گذشته,...  \n",
              "1113  [دارنده, مدل, اعلام‌شده, گوشی, هوآوی, توانست&ت...  \n",
              "1114  [مطالعه, جدید, نشان, داده, اس, که, احتمال, مثب...  \n",
              "\n",
              "[1115 rows x 3 columns]"
            ]
          },
          "execution_count": 34,
          "metadata": {},
          "output_type": "execute_result"
        }
      ],
      "source": [
        "test_df['cleaned'] = test_df['content'].progress_apply(clean)\n",
        "test_df"
      ]
    },
    {
      "cell_type": "code",
      "execution_count": 35,
      "metadata": {
        "colab": {
          "base_uri": "https://localhost:8080/"
        },
        "id": "Z4cSzPLlHj6Y",
        "outputId": "8ab0ea1a-43e4-47b6-e2a3-ac7485b61e4a"
      },
      "outputs": [
        {
          "name": "stdout",
          "output_type": "stream",
          "text": [
            "label                                                                                                                                                                                                                                                                                                                                                                                                                                                                                                                                                                                                                                                                                                                                                                                                                                                                                                               ورزشی\n",
            "content    سوپر استار سینما و از قهرمانان سابق ووشو ــ کونگ‌فو با حضور در شهر شانگ‌های از نزدیک مسابقات ووشوی قهرمانی جهان را شاهد خواهد بود. به گزارش روابط عمومی فدراسیون ووشو؛ آنتونی گو نایب‌رئیس اجرایی فدراسیون جهانی ووشو گفت: باعث افتخار است اعلام کنم که جت لی در محل برگزاری رقابت‌های ووشوی قهرمانی بزرگسالان جهان حضور به‌هم می‌رساند. این سوپراستار سینمای جهان، پیش از این نیز و در سال ۲۰۱۵ سابقه حضور در مسابقات قهرمانی جهان به‌عنوان میهمان ویژه را دارد. طبق اعلام نایب‌رئیس فدراسیون جهانی، جت لی در مراسم افتتاحیه مسابقات جهانی شانگ‌های حضور پیدا می‌کند و در طول مسابقات در سالن محل برگزاری حاضر خواهد شد. فدراسیون جهانی اعلام کرده است که جت لی در دهه ۷۰ میلادی از قهرمانان برتر این رشته بوده و در مسابقات معتبر شرکت کرده است. رقابت‌های ووشوی قهرمانی بزرگسالان جهان از ۲۷ مهرماه به‌میزبانی چین و در شهر شانگ‌های برگزار می‌شود و تیم ایران در ۲ بخش زنان و مردان به مصاف حریفان می‌رود.\n",
            "cleaned                                                                                                                                                                                                                                             [سوپر, استار, سینما, و, از, قهرمان, سابق, ووشو, کونگ‌فو, با, حضور, در, شهر, شانه, از, نزدیک, مسابقات, ووشوی, قهرمانی, جهان, را, شاهد, بود&باش, ., به, گزارش, رابطه, عمومی, فدراسیون, ووشو, ؛, آنتونی, گو, نایب‌رئیس, اجرایی, فدراسیون, جهانی, ووشو, گفت, باعث, افتخار, اس, اعلام, کرد&کن, که, جت, لی, در, محل, برگزاری, رقابت, ووشوی, قهرمانی, بزرگسال, جهان, حضور, به‌هم, رساند&رسان, ., این, سوپراستار, سینما, جهان, پیش, از, این, نیز, و, در, سال, 2015, سابقه, حضور, در, مسابقات, قهرمانی, جهان, به‌عنوان, میهمان, ویژه, را, داشت&دارد, ., طبق, اعلام, نایب‌رئیس, فدراسیون, جهانی, جت, لی, در, مراسم, افتتاحیه, مسابقات, جهانی, شانه, حضور, پیدا, کرد&کن, و, ...]\n",
            "Name: 1, dtype: object\n"
          ]
        }
      ],
      "source": [
        "pd.set_option('display.max_colwidth', None)\n",
        "element = train_df.loc[1]\n",
        "print(element)\n",
        "pd.reset_option('display.max_colwidth')\n"
      ]
    },
    {
      "cell_type": "code",
      "execution_count": 36,
      "metadata": {
        "id": "lVnE_9kxXCNH"
      },
      "outputs": [],
      "source": [
        "from gensim.models.doc2vec import TaggedDocument\n",
        "\n",
        "tagged_documents_train = [TaggedDocument(words=doc, tags=[i]) for i, doc in enumerate(train_df['cleaned'])]\n",
        "tagged_documents_test = [TaggedDocument(words=doc, tags=[i]) for i, doc in enumerate(test_df['cleaned'])]\n"
      ]
    },
    {
      "cell_type": "code",
      "execution_count": 37,
      "metadata": {
        "id": "tHgphH7SZGjG"
      },
      "outputs": [],
      "source": [
        "from tqdm import tqdm\n",
        "from gensim.models import Doc2Vec\n",
        "from gensim.models.doc2vec import TaggedDocument\n",
        "import multiprocessing\n",
        "\n",
        "\n",
        "model = Doc2Vec(tagged_documents_train ,vector_size=10, window=2, min_count=1, workers=multiprocessing.cpu_count(), epochs=10)\n",
        "\n",
        "model.save(\"my_model\")\n",
        "\n",
        "model = Doc2Vec.load(\"my_model\")\n"
      ]
    },
    {
      "cell_type": "code",
      "execution_count": 38,
      "metadata": {
        "id": "YdPyrcnOdr5f"
      },
      "outputs": [],
      "source": [
        "train_vectors = []\n",
        "test_vectors = []\n",
        "\n",
        "for i in range(len(train_df['cleaned'])) :\n",
        "  v = model.infer_vector(train_df['cleaned'][i])\n",
        "  train_vectors.append(v)\n",
        "\n",
        "for i in range(len(test_df['cleaned'])) :\n",
        "  v = model.infer_vector(test_df['cleaned'][i])\n",
        "  test_vectors.append(v)"
      ]
    },
    {
      "cell_type": "code",
      "execution_count": 39,
      "metadata": {
        "colab": {
          "base_uri": "https://localhost:8080/",
          "height": 74
        },
        "id": "mZutR0xaX0xG",
        "outputId": "a5bdfb44-2fbc-47e2-bf19-e8c95e5f9079"
      },
      "outputs": [
        {
          "data": {
            "text/html": [
              "<style>#sk-container-id-2 {color: black;background-color: white;}#sk-container-id-2 pre{padding: 0;}#sk-container-id-2 div.sk-toggleable {background-color: white;}#sk-container-id-2 label.sk-toggleable__label {cursor: pointer;display: block;width: 100%;margin-bottom: 0;padding: 0.3em;box-sizing: border-box;text-align: center;}#sk-container-id-2 label.sk-toggleable__label-arrow:before {content: \"▸\";float: left;margin-right: 0.25em;color: #696969;}#sk-container-id-2 label.sk-toggleable__label-arrow:hover:before {color: black;}#sk-container-id-2 div.sk-estimator:hover label.sk-toggleable__label-arrow:before {color: black;}#sk-container-id-2 div.sk-toggleable__content {max-height: 0;max-width: 0;overflow: hidden;text-align: left;background-color: #f0f8ff;}#sk-container-id-2 div.sk-toggleable__content pre {margin: 0.2em;color: black;border-radius: 0.25em;background-color: #f0f8ff;}#sk-container-id-2 input.sk-toggleable__control:checked~div.sk-toggleable__content {max-height: 200px;max-width: 100%;overflow: auto;}#sk-container-id-2 input.sk-toggleable__control:checked~label.sk-toggleable__label-arrow:before {content: \"▾\";}#sk-container-id-2 div.sk-estimator input.sk-toggleable__control:checked~label.sk-toggleable__label {background-color: #d4ebff;}#sk-container-id-2 div.sk-label input.sk-toggleable__control:checked~label.sk-toggleable__label {background-color: #d4ebff;}#sk-container-id-2 input.sk-hidden--visually {border: 0;clip: rect(1px 1px 1px 1px);clip: rect(1px, 1px, 1px, 1px);height: 1px;margin: -1px;overflow: hidden;padding: 0;position: absolute;width: 1px;}#sk-container-id-2 div.sk-estimator {font-family: monospace;background-color: #f0f8ff;border: 1px dotted black;border-radius: 0.25em;box-sizing: border-box;margin-bottom: 0.5em;}#sk-container-id-2 div.sk-estimator:hover {background-color: #d4ebff;}#sk-container-id-2 div.sk-parallel-item::after {content: \"\";width: 100%;border-bottom: 1px solid gray;flex-grow: 1;}#sk-container-id-2 div.sk-label:hover label.sk-toggleable__label {background-color: #d4ebff;}#sk-container-id-2 div.sk-serial::before {content: \"\";position: absolute;border-left: 1px solid gray;box-sizing: border-box;top: 0;bottom: 0;left: 50%;z-index: 0;}#sk-container-id-2 div.sk-serial {display: flex;flex-direction: column;align-items: center;background-color: white;padding-right: 0.2em;padding-left: 0.2em;position: relative;}#sk-container-id-2 div.sk-item {position: relative;z-index: 1;}#sk-container-id-2 div.sk-parallel {display: flex;align-items: stretch;justify-content: center;background-color: white;position: relative;}#sk-container-id-2 div.sk-item::before, #sk-container-id-2 div.sk-parallel-item::before {content: \"\";position: absolute;border-left: 1px solid gray;box-sizing: border-box;top: 0;bottom: 0;left: 50%;z-index: -1;}#sk-container-id-2 div.sk-parallel-item {display: flex;flex-direction: column;z-index: 1;position: relative;background-color: white;}#sk-container-id-2 div.sk-parallel-item:first-child::after {align-self: flex-end;width: 50%;}#sk-container-id-2 div.sk-parallel-item:last-child::after {align-self: flex-start;width: 50%;}#sk-container-id-2 div.sk-parallel-item:only-child::after {width: 0;}#sk-container-id-2 div.sk-dashed-wrapped {border: 1px dashed gray;margin: 0 0.4em 0.5em 0.4em;box-sizing: border-box;padding-bottom: 0.4em;background-color: white;}#sk-container-id-2 div.sk-label label {font-family: monospace;font-weight: bold;display: inline-block;line-height: 1.2em;}#sk-container-id-2 div.sk-label-container {text-align: center;}#sk-container-id-2 div.sk-container {/* jupyter's `normalize.less` sets `[hidden] { display: none; }` but bootstrap.min.css set `[hidden] { display: none !important; }` so we also need the `!important` here to be able to override the default hidden behavior on the sphinx rendered scikit-learn.org. See: https://github.com/scikit-learn/scikit-learn/issues/21755 */display: inline-block !important;position: relative;}#sk-container-id-2 div.sk-text-repr-fallback {display: none;}</style><div id=\"sk-container-id-2\" class=\"sk-top-container\"><div class=\"sk-text-repr-fallback\"><pre>KMeans(max_iter=600, n_clusters=24, n_init=15, random_state=0)</pre><b>In a Jupyter environment, please rerun this cell to show the HTML representation or trust the notebook. <br />On GitHub, the HTML representation is unable to render, please try loading this page with nbviewer.org.</b></div><div class=\"sk-container\" hidden><div class=\"sk-item\"><div class=\"sk-estimator sk-toggleable\"><input class=\"sk-toggleable__control sk-hidden--visually\" id=\"sk-estimator-id-2\" type=\"checkbox\" checked><label for=\"sk-estimator-id-2\" class=\"sk-toggleable__label sk-toggleable__label-arrow\">KMeans</label><div class=\"sk-toggleable__content\"><pre>KMeans(max_iter=600, n_clusters=24, n_init=15, random_state=0)</pre></div></div></div></div></div>"
            ],
            "text/plain": [
              "KMeans(max_iter=600, n_clusters=24, n_init=15, random_state=0)"
            ]
          },
          "execution_count": 39,
          "metadata": {},
          "output_type": "execute_result"
        }
      ],
      "source": [
        "from sklearn.cluster import KMeans\n",
        "\n",
        "k = 24\n",
        "km_model = KMeans(n_clusters=k, init='k-means++', max_iter=600, n_init=15, random_state=0)\n",
        "\n",
        "km_model.fit(train_vectors)\n"
      ]
    },
    {
      "cell_type": "code",
      "execution_count": 40,
      "metadata": {
        "id": "aUlWQmBWbchb"
      },
      "outputs": [],
      "source": [
        "true_labels = test_df['label'].values\n",
        "predicted_labels = km_model.predict(test_vectors)\n"
      ]
    },
    {
      "cell_type": "code",
      "execution_count": 41,
      "metadata": {
        "colab": {
          "base_uri": "https://localhost:8080/"
        },
        "id": "RqWo_8Gdb1VG",
        "outputId": "d8a65721-07d8-49ec-e21b-315d66ae40ca"
      },
      "outputs": [
        {
          "name": "stdout",
          "output_type": "stream",
          "text": [
            "Accuracy: 0.12825112107623318\n",
            "Precision: 0.1265876357612681\n",
            "Recall: 0.03187941900419599\n",
            "F1 Score: 0.044293170560940565\n"
          ]
        },
        {
          "name": "stderr",
          "output_type": "stream",
          "text": [
            "/usr/local/lib/python3.10/dist-packages/sklearn/metrics/_classification.py:1344: UndefinedMetricWarning: Recall and F-score are ill-defined and being set to 0.0 in labels with no true samples. Use `zero_division` parameter to control this behavior.\n",
            "  _warn_prf(average, modifier, msg_start, len(result))\n"
          ]
        }
      ],
      "source": [
        "from sklearn import metrics\n",
        "from sklearn import preprocessing\n",
        "\n",
        "le = preprocessing.LabelEncoder()\n",
        "\n",
        "le.fit(true_labels)\n",
        "\n",
        "true_labels_encoded = le.transform(true_labels)\n",
        "\n",
        "accuracy = metrics.accuracy_score(true_labels_encoded, predicted_labels)\n",
        "precision, recall, f1_score, _ = metrics.precision_recall_fscore_support(true_labels_encoded, predicted_labels, average='macro')\n",
        "\n",
        "print(f'Accuracy: {accuracy}')\n",
        "print(f'Precision: {precision}')\n",
        "print(f'Recall: {recall}')\n",
        "print(f'F1 Score: {f1_score}')"
      ]
    },
    {
      "cell_type": "code",
      "execution_count": 42,
      "metadata": {
        "id": "tFaDSKukcd2B"
      },
      "outputs": [],
      "source": [
        "true_labels = train_df['label'].values\n",
        "predicted_labels = km_model.labels_\n"
      ]
    },
    {
      "cell_type": "code",
      "execution_count": 43,
      "metadata": {
        "colab": {
          "base_uri": "https://localhost:8080/"
        },
        "id": "P24CyJWkb3D1",
        "outputId": "cdbb3426-0ea4-4b93-a76a-924abca00884"
      },
      "outputs": [
        {
          "name": "stdout",
          "output_type": "stream",
          "text": [
            "Homogeneity: 0.6779111102751569\n",
            "Silhouette Score: 0.21559391915798187\n"
          ]
        }
      ],
      "source": [
        "from sklearn import metrics\n",
        "\n",
        "homogeneity = metrics.homogeneity_score(true_labels, predicted_labels)\n",
        "\n",
        "silhouette = metrics.silhouette_score(train_vectors, predicted_labels)\n",
        "\n",
        "print(f'Homogeneity: {homogeneity}')\n",
        "print(f'Silhouette Score: {silhouette}')\n"
      ]
    },
    {
      "cell_type": "code",
      "execution_count": 158,
      "metadata": {
        "colab": {
          "base_uri": "https://localhost:8080/"
        },
        "id": "oMmT7DLUkTJa",
        "outputId": "e848ff38-e3c8-4431-a144-4fdfaa257135"
      },
      "outputs": [
        {
          "name": "stdout",
          "output_type": "stream",
          "text": [
            "Fitting 5 folds for each of 160 candidates, totalling 800 fits\n",
            "[CV 1/5; 1/160] START init=k-means++, max_iter=300, n_clusters=6, n_init=5......\n",
            "[CV 1/5; 1/160] END init=k-means++, max_iter=300, n_clusters=6, n_init=5;, score=-7308.901 total time=   0.6s\n",
            "[CV 2/5; 1/160] START init=k-means++, max_iter=300, n_clusters=6, n_init=5......\n",
            "[CV 2/5; 1/160] END init=k-means++, max_iter=300, n_clusters=6, n_init=5;, score=-7287.305 total time=   0.5s\n",
            "[CV 3/5; 1/160] START init=k-means++, max_iter=300, n_clusters=6, n_init=5......\n",
            "[CV 3/5; 1/160] END init=k-means++, max_iter=300, n_clusters=6, n_init=5;, score=-7604.289 total time=   0.6s\n",
            "[CV 4/5; 1/160] START init=k-means++, max_iter=300, n_clusters=6, n_init=5......\n",
            "[CV 4/5; 1/160] END init=k-means++, max_iter=300, n_clusters=6, n_init=5;, score=-7458.195 total time=   0.6s\n",
            "[CV 5/5; 1/160] START init=k-means++, max_iter=300, n_clusters=6, n_init=5......\n",
            "[CV 5/5; 1/160] END init=k-means++, max_iter=300, n_clusters=6, n_init=5;, score=-7523.157 total time=   0.6s\n",
            "[CV 1/5; 2/160] START init=k-means++, max_iter=300, n_clusters=6, n_init=10.....\n",
            "[CV 1/5; 2/160] END init=k-means++, max_iter=300, n_clusters=6, n_init=10;, score=-7309.047 total time=   1.1s\n",
            "[CV 2/5; 2/160] START init=k-means++, max_iter=300, n_clusters=6, n_init=10.....\n",
            "[CV 2/5; 2/160] END init=k-means++, max_iter=300, n_clusters=6, n_init=10;, score=-7284.508 total time=   0.5s\n",
            "[CV 3/5; 2/160] START init=k-means++, max_iter=300, n_clusters=6, n_init=10.....\n",
            "[CV 3/5; 2/160] END init=k-means++, max_iter=300, n_clusters=6, n_init=10;, score=-7604.289 total time=   1.0s\n",
            "[CV 4/5; 2/160] START init=k-means++, max_iter=300, n_clusters=6, n_init=10.....\n",
            "[CV 4/5; 2/160] END init=k-means++, max_iter=300, n_clusters=6, n_init=10;, score=-7458.987 total time=   1.1s\n",
            "[CV 5/5; 2/160] START init=k-means++, max_iter=300, n_clusters=6, n_init=10.....\n",
            "[CV 5/5; 2/160] END init=k-means++, max_iter=300, n_clusters=6, n_init=10;, score=-7522.348 total time=   2.0s\n",
            "[CV 1/5; 3/160] START init=k-means++, max_iter=300, n_clusters=6, n_init=15.....\n",
            "[CV 1/5; 3/160] END init=k-means++, max_iter=300, n_clusters=6, n_init=15;, score=-7309.047 total time=   1.3s\n",
            "[CV 2/5; 3/160] START init=k-means++, max_iter=300, n_clusters=6, n_init=15.....\n",
            "[CV 2/5; 3/160] END init=k-means++, max_iter=300, n_clusters=6, n_init=15;, score=-7284.178 total time=   1.4s\n",
            "[CV 3/5; 3/160] START init=k-means++, max_iter=300, n_clusters=6, n_init=15.....\n",
            "[CV 3/5; 3/160] END init=k-means++, max_iter=300, n_clusters=6, n_init=15;, score=-7604.289 total time=   1.4s\n",
            "[CV 4/5; 3/160] START init=k-means++, max_iter=300, n_clusters=6, n_init=15.....\n",
            "[CV 4/5; 3/160] END init=k-means++, max_iter=300, n_clusters=6, n_init=15;, score=-7458.331 total time=   1.3s\n",
            "[CV 5/5; 3/160] START init=k-means++, max_iter=300, n_clusters=6, n_init=15.....\n",
            "[CV 5/5; 3/160] END init=k-means++, max_iter=300, n_clusters=6, n_init=15;, score=-7522.348 total time=   1.3s\n",
            "[CV 1/5; 4/160] START init=k-means++, max_iter=300, n_clusters=6, n_init=20.....\n",
            "[CV 1/5; 4/160] END init=k-means++, max_iter=300, n_clusters=6, n_init=20;, score=-7309.963 total time=   1.9s\n",
            "[CV 2/5; 4/160] START init=k-means++, max_iter=300, n_clusters=6, n_init=20.....\n",
            "[CV 2/5; 4/160] END init=k-means++, max_iter=300, n_clusters=6, n_init=20;, score=-7283.892 total time=   1.4s\n",
            "[CV 3/5; 4/160] START init=k-means++, max_iter=300, n_clusters=6, n_init=20.....\n",
            "[CV 3/5; 4/160] END init=k-means++, max_iter=300, n_clusters=6, n_init=20;, score=-7604.289 total time=   2.6s\n",
            "[CV 4/5; 4/160] START init=k-means++, max_iter=300, n_clusters=6, n_init=20.....\n",
            "[CV 4/5; 4/160] END init=k-means++, max_iter=300, n_clusters=6, n_init=20;, score=-7458.943 total time=   1.6s\n",
            "[CV 5/5; 4/160] START init=k-means++, max_iter=300, n_clusters=6, n_init=20.....\n",
            "[CV 5/5; 4/160] END init=k-means++, max_iter=300, n_clusters=6, n_init=20;, score=-7522.515 total time=   1.7s\n",
            "[CV 1/5; 5/160] START init=k-means++, max_iter=300, n_clusters=12, n_init=5.....\n",
            "[CV 1/5; 5/160] END init=k-means++, max_iter=300, n_clusters=12, n_init=5;, score=-5124.304 total time=   0.6s\n",
            "[CV 2/5; 5/160] START init=k-means++, max_iter=300, n_clusters=12, n_init=5.....\n",
            "[CV 2/5; 5/160] END init=k-means++, max_iter=300, n_clusters=12, n_init=5;, score=-5289.433 total time=   0.6s\n",
            "[CV 3/5; 5/160] START init=k-means++, max_iter=300, n_clusters=12, n_init=5.....\n",
            "[CV 3/5; 5/160] END init=k-means++, max_iter=300, n_clusters=12, n_init=5;, score=-5275.577 total time=   0.5s\n",
            "[CV 4/5; 5/160] START init=k-means++, max_iter=300, n_clusters=12, n_init=5.....\n",
            "[CV 4/5; 5/160] END init=k-means++, max_iter=300, n_clusters=12, n_init=5;, score=-5270.830 total time=   0.6s\n",
            "[CV 5/5; 5/160] START init=k-means++, max_iter=300, n_clusters=12, n_init=5.....\n",
            "[CV 5/5; 5/160] END init=k-means++, max_iter=300, n_clusters=12, n_init=5;, score=-5300.551 total time=   0.6s\n",
            "[CV 1/5; 6/160] START init=k-means++, max_iter=300, n_clusters=12, n_init=10....\n",
            "[CV 1/5; 6/160] END init=k-means++, max_iter=300, n_clusters=12, n_init=10;, score=-5124.291 total time=   1.2s\n",
            "[CV 2/5; 6/160] START init=k-means++, max_iter=300, n_clusters=12, n_init=10....\n",
            "[CV 2/5; 6/160] END init=k-means++, max_iter=300, n_clusters=12, n_init=10;, score=-5179.670 total time=   1.0s\n",
            "[CV 3/5; 6/160] START init=k-means++, max_iter=300, n_clusters=12, n_init=10....\n",
            "[CV 3/5; 6/160] END init=k-means++, max_iter=300, n_clusters=12, n_init=10;, score=-5269.865 total time=   1.1s\n",
            "[CV 4/5; 6/160] START init=k-means++, max_iter=300, n_clusters=12, n_init=10....\n",
            "[CV 4/5; 6/160] END init=k-means++, max_iter=300, n_clusters=12, n_init=10;, score=-5292.283 total time=   1.9s\n",
            "[CV 5/5; 6/160] START init=k-means++, max_iter=300, n_clusters=12, n_init=10....\n",
            "[CV 5/5; 6/160] END init=k-means++, max_iter=300, n_clusters=12, n_init=10;, score=-5271.386 total time=   1.0s\n",
            "[CV 1/5; 7/160] START init=k-means++, max_iter=300, n_clusters=12, n_init=15....\n",
            "[CV 1/5; 7/160] END init=k-means++, max_iter=300, n_clusters=12, n_init=15;, score=-5124.258 total time=   1.9s\n",
            "[CV 2/5; 7/160] START init=k-means++, max_iter=300, n_clusters=12, n_init=15....\n",
            "[CV 2/5; 7/160] END init=k-means++, max_iter=300, n_clusters=12, n_init=15;, score=-5178.522 total time=   1.2s\n",
            "[CV 3/5; 7/160] START init=k-means++, max_iter=300, n_clusters=12, n_init=15....\n",
            "[CV 3/5; 7/160] END init=k-means++, max_iter=300, n_clusters=12, n_init=15;, score=-5271.218 total time=   1.7s\n",
            "[CV 4/5; 7/160] START init=k-means++, max_iter=300, n_clusters=12, n_init=15....\n",
            "[CV 4/5; 7/160] END init=k-means++, max_iter=300, n_clusters=12, n_init=15;, score=-5291.794 total time=   1.7s\n",
            "[CV 5/5; 7/160] START init=k-means++, max_iter=300, n_clusters=12, n_init=15....\n",
            "[CV 5/5; 7/160] END init=k-means++, max_iter=300, n_clusters=12, n_init=15;, score=-5268.168 total time=   1.5s\n",
            "[CV 1/5; 8/160] START init=k-means++, max_iter=300, n_clusters=12, n_init=20....\n",
            "[CV 1/5; 8/160] END init=k-means++, max_iter=300, n_clusters=12, n_init=20;, score=-5123.791 total time=   2.9s\n",
            "[CV 2/5; 8/160] START init=k-means++, max_iter=300, n_clusters=12, n_init=20....\n",
            "[CV 2/5; 8/160] END init=k-means++, max_iter=300, n_clusters=12, n_init=20;, score=-5178.333 total time=   2.3s\n",
            "[CV 3/5; 8/160] START init=k-means++, max_iter=300, n_clusters=12, n_init=20....\n",
            "[CV 3/5; 8/160] END init=k-means++, max_iter=300, n_clusters=12, n_init=20;, score=-5273.270 total time=   2.3s\n",
            "[CV 4/5; 8/160] START init=k-means++, max_iter=300, n_clusters=12, n_init=20....\n",
            "[CV 4/5; 8/160] END init=k-means++, max_iter=300, n_clusters=12, n_init=20;, score=-5291.188 total time=   2.1s\n",
            "[CV 5/5; 8/160] START init=k-means++, max_iter=300, n_clusters=12, n_init=20....\n",
            "[CV 5/5; 8/160] END init=k-means++, max_iter=300, n_clusters=12, n_init=20;, score=-5272.608 total time=   2.1s\n",
            "[CV 1/5; 9/160] START init=k-means++, max_iter=300, n_clusters=18, n_init=5.....\n",
            "[CV 1/5; 9/160] END init=k-means++, max_iter=300, n_clusters=18, n_init=5;, score=-4530.418 total time=   0.8s\n",
            "[CV 2/5; 9/160] START init=k-means++, max_iter=300, n_clusters=18, n_init=5.....\n",
            "[CV 2/5; 9/160] END init=k-means++, max_iter=300, n_clusters=18, n_init=5;, score=-4585.917 total time=   0.8s\n",
            "[CV 3/5; 9/160] START init=k-means++, max_iter=300, n_clusters=18, n_init=5.....\n",
            "[CV 3/5; 9/160] END init=k-means++, max_iter=300, n_clusters=18, n_init=5;, score=-4603.785 total time=   2.1s\n",
            "[CV 4/5; 9/160] START init=k-means++, max_iter=300, n_clusters=18, n_init=5.....\n",
            "[CV 4/5; 9/160] END init=k-means++, max_iter=300, n_clusters=18, n_init=5;, score=-4591.546 total time=   0.7s\n",
            "[CV 5/5; 9/160] START init=k-means++, max_iter=300, n_clusters=18, n_init=5.....\n",
            "[CV 5/5; 9/160] END init=k-means++, max_iter=300, n_clusters=18, n_init=5;, score=-4610.726 total time=   0.6s\n",
            "[CV 1/5; 10/160] START init=k-means++, max_iter=300, n_clusters=18, n_init=10...\n",
            "[CV 1/5; 10/160] END init=k-means++, max_iter=300, n_clusters=18, n_init=10;, score=-4496.314 total time=   1.3s\n",
            "[CV 2/5; 10/160] START init=k-means++, max_iter=300, n_clusters=18, n_init=10...\n",
            "[CV 2/5; 10/160] END init=k-means++, max_iter=300, n_clusters=18, n_init=10;, score=-4543.642 total time=   1.3s\n",
            "[CV 3/5; 10/160] START init=k-means++, max_iter=300, n_clusters=18, n_init=10...\n",
            "[CV 3/5; 10/160] END init=k-means++, max_iter=300, n_clusters=18, n_init=10;, score=-4595.430 total time=   1.3s\n",
            "[CV 4/5; 10/160] START init=k-means++, max_iter=300, n_clusters=18, n_init=10...\n",
            "[CV 4/5; 10/160] END init=k-means++, max_iter=300, n_clusters=18, n_init=10;, score=-4604.426 total time=   0.9s\n",
            "[CV 5/5; 10/160] START init=k-means++, max_iter=300, n_clusters=18, n_init=10...\n",
            "[CV 5/5; 10/160] END init=k-means++, max_iter=300, n_clusters=18, n_init=10;, score=-4644.305 total time=   1.2s\n",
            "[CV 1/5; 11/160] START init=k-means++, max_iter=300, n_clusters=18, n_init=15...\n",
            "[CV 1/5; 11/160] END init=k-means++, max_iter=300, n_clusters=18, n_init=15;, score=-4512.310 total time=   2.1s\n",
            "[CV 2/5; 11/160] START init=k-means++, max_iter=300, n_clusters=18, n_init=15...\n",
            "[CV 2/5; 11/160] END init=k-means++, max_iter=300, n_clusters=18, n_init=15;, score=-4547.298 total time=   3.0s\n",
            "[CV 3/5; 11/160] START init=k-means++, max_iter=300, n_clusters=18, n_init=15...\n",
            "[CV 3/5; 11/160] END init=k-means++, max_iter=300, n_clusters=18, n_init=15;, score=-4598.532 total time=   1.5s\n",
            "[CV 4/5; 11/160] START init=k-means++, max_iter=300, n_clusters=18, n_init=15...\n",
            "[CV 4/5; 11/160] END init=k-means++, max_iter=300, n_clusters=18, n_init=15;, score=-4596.011 total time=   1.9s\n",
            "[CV 5/5; 11/160] START init=k-means++, max_iter=300, n_clusters=18, n_init=15...\n",
            "[CV 5/5; 11/160] END init=k-means++, max_iter=300, n_clusters=18, n_init=15;, score=-4615.761 total time=   2.2s\n",
            "[CV 1/5; 12/160] START init=k-means++, max_iter=300, n_clusters=18, n_init=20...\n",
            "[CV 1/5; 12/160] END init=k-means++, max_iter=300, n_clusters=18, n_init=20;, score=-4519.122 total time=   2.7s\n",
            "[CV 2/5; 12/160] START init=k-means++, max_iter=300, n_clusters=18, n_init=20...\n",
            "[CV 2/5; 12/160] END init=k-means++, max_iter=300, n_clusters=18, n_init=20;, score=-4570.310 total time=   3.9s\n",
            "[CV 3/5; 12/160] START init=k-means++, max_iter=300, n_clusters=18, n_init=20...\n",
            "[CV 3/5; 12/160] END init=k-means++, max_iter=300, n_clusters=18, n_init=20;, score=-4590.887 total time=   2.6s\n",
            "[CV 4/5; 12/160] START init=k-means++, max_iter=300, n_clusters=18, n_init=20...\n",
            "[CV 4/5; 12/160] END init=k-means++, max_iter=300, n_clusters=18, n_init=20;, score=-4576.693 total time=   2.2s\n",
            "[CV 5/5; 12/160] START init=k-means++, max_iter=300, n_clusters=18, n_init=20...\n",
            "[CV 5/5; 12/160] END init=k-means++, max_iter=300, n_clusters=18, n_init=20;, score=-4645.420 total time=   2.9s\n",
            "[CV 1/5; 13/160] START init=k-means++, max_iter=300, n_clusters=24, n_init=5....\n",
            "[CV 1/5; 13/160] END init=k-means++, max_iter=300, n_clusters=24, n_init=5;, score=-4151.309 total time=   0.7s\n",
            "[CV 2/5; 13/160] START init=k-means++, max_iter=300, n_clusters=24, n_init=5....\n",
            "[CV 2/5; 13/160] END init=k-means++, max_iter=300, n_clusters=24, n_init=5;, score=-4197.766 total time=   0.8s\n",
            "[CV 3/5; 13/160] START init=k-means++, max_iter=300, n_clusters=24, n_init=5....\n",
            "[CV 3/5; 13/160] END init=k-means++, max_iter=300, n_clusters=24, n_init=5;, score=-4253.351 total time=   1.8s\n",
            "[CV 4/5; 13/160] START init=k-means++, max_iter=300, n_clusters=24, n_init=5....\n",
            "[CV 4/5; 13/160] END init=k-means++, max_iter=300, n_clusters=24, n_init=5;, score=-4263.541 total time=   1.0s\n",
            "[CV 5/5; 13/160] START init=k-means++, max_iter=300, n_clusters=24, n_init=5....\n",
            "[CV 5/5; 13/160] END init=k-means++, max_iter=300, n_clusters=24, n_init=5;, score=-4259.494 total time=   0.6s\n",
            "[CV 1/5; 14/160] START init=k-means++, max_iter=300, n_clusters=24, n_init=10...\n",
            "[CV 1/5; 14/160] END init=k-means++, max_iter=300, n_clusters=24, n_init=10;, score=-4179.827 total time=   1.5s\n",
            "[CV 2/5; 14/160] START init=k-means++, max_iter=300, n_clusters=24, n_init=10...\n",
            "[CV 2/5; 14/160] END init=k-means++, max_iter=300, n_clusters=24, n_init=10;, score=-4150.764 total time=   1.6s\n",
            "[CV 3/5; 14/160] START init=k-means++, max_iter=300, n_clusters=24, n_init=10...\n",
            "[CV 3/5; 14/160] END init=k-means++, max_iter=300, n_clusters=24, n_init=10;, score=-4205.754 total time=   1.5s\n",
            "[CV 4/5; 14/160] START init=k-means++, max_iter=300, n_clusters=24, n_init=10...\n",
            "[CV 4/5; 14/160] END init=k-means++, max_iter=300, n_clusters=24, n_init=10;, score=-4231.427 total time=   1.5s\n",
            "[CV 5/5; 14/160] START init=k-means++, max_iter=300, n_clusters=24, n_init=10...\n",
            "[CV 5/5; 14/160] END init=k-means++, max_iter=300, n_clusters=24, n_init=10;, score=-4296.047 total time=   1.4s\n",
            "[CV 1/5; 15/160] START init=k-means++, max_iter=300, n_clusters=24, n_init=15...\n",
            "[CV 1/5; 15/160] END init=k-means++, max_iter=300, n_clusters=24, n_init=15;, score=-4167.921 total time=   3.8s\n",
            "[CV 2/5; 15/160] START init=k-means++, max_iter=300, n_clusters=24, n_init=15...\n",
            "[CV 2/5; 15/160] END init=k-means++, max_iter=300, n_clusters=24, n_init=15;, score=-4182.713 total time=   2.4s\n",
            "[CV 3/5; 15/160] START init=k-means++, max_iter=300, n_clusters=24, n_init=15...\n",
            "[CV 3/5; 15/160] END init=k-means++, max_iter=300, n_clusters=24, n_init=15;, score=-4266.292 total time=   2.2s\n",
            "[CV 4/5; 15/160] START init=k-means++, max_iter=300, n_clusters=24, n_init=15...\n",
            "[CV 4/5; 15/160] END init=k-means++, max_iter=300, n_clusters=24, n_init=15;, score=-4236.313 total time=   2.0s\n",
            "[CV 5/5; 15/160] START init=k-means++, max_iter=300, n_clusters=24, n_init=15...\n",
            "[CV 5/5; 15/160] END init=k-means++, max_iter=300, n_clusters=24, n_init=15;, score=-4294.806 total time=   2.1s\n",
            "[CV 1/5; 16/160] START init=k-means++, max_iter=300, n_clusters=24, n_init=20...\n",
            "[CV 1/5; 16/160] END init=k-means++, max_iter=300, n_clusters=24, n_init=20;, score=-4180.332 total time=   4.6s\n",
            "[CV 2/5; 16/160] START init=k-means++, max_iter=300, n_clusters=24, n_init=20...\n",
            "[CV 2/5; 16/160] END init=k-means++, max_iter=300, n_clusters=24, n_init=20;, score=-4168.529 total time=   2.7s\n",
            "[CV 3/5; 16/160] START init=k-means++, max_iter=300, n_clusters=24, n_init=20...\n",
            "[CV 3/5; 16/160] END init=k-means++, max_iter=300, n_clusters=24, n_init=20;, score=-4241.010 total time=   2.9s\n",
            "[CV 4/5; 16/160] START init=k-means++, max_iter=300, n_clusters=24, n_init=20...\n",
            "[CV 4/5; 16/160] END init=k-means++, max_iter=300, n_clusters=24, n_init=20;, score=-4222.573 total time=   4.0s\n",
            "[CV 5/5; 16/160] START init=k-means++, max_iter=300, n_clusters=24, n_init=20...\n",
            "[CV 5/5; 16/160] END init=k-means++, max_iter=300, n_clusters=24, n_init=20;, score=-4287.630 total time=   3.1s\n",
            "[CV 1/5; 17/160] START init=k-means++, max_iter=600, n_clusters=6, n_init=5.....\n",
            "[CV 1/5; 17/160] END init=k-means++, max_iter=600, n_clusters=6, n_init=5;, score=-7309.047 total time=   0.3s\n",
            "[CV 2/5; 17/160] START init=k-means++, max_iter=600, n_clusters=6, n_init=5.....\n",
            "[CV 2/5; 17/160] END init=k-means++, max_iter=600, n_clusters=6, n_init=5;, score=-7284.020 total time=   0.5s\n",
            "[CV 3/5; 17/160] START init=k-means++, max_iter=600, n_clusters=6, n_init=5.....\n",
            "[CV 3/5; 17/160] END init=k-means++, max_iter=600, n_clusters=6, n_init=5;, score=-7604.289 total time=   0.5s\n",
            "[CV 4/5; 17/160] START init=k-means++, max_iter=600, n_clusters=6, n_init=5.....\n",
            "[CV 4/5; 17/160] END init=k-means++, max_iter=600, n_clusters=6, n_init=5;, score=-7458.337 total time=   0.3s\n",
            "[CV 5/5; 17/160] START init=k-means++, max_iter=600, n_clusters=6, n_init=5.....\n",
            "[CV 5/5; 17/160] END init=k-means++, max_iter=600, n_clusters=6, n_init=5;, score=-7522.573 total time=   0.3s\n",
            "[CV 1/5; 18/160] START init=k-means++, max_iter=600, n_clusters=6, n_init=10....\n",
            "[CV 1/5; 18/160] END init=k-means++, max_iter=600, n_clusters=6, n_init=10;, score=-7309.130 total time=   0.8s\n",
            "[CV 2/5; 18/160] START init=k-means++, max_iter=600, n_clusters=6, n_init=10....\n",
            "[CV 2/5; 18/160] END init=k-means++, max_iter=600, n_clusters=6, n_init=10;, score=-7287.220 total time=   0.6s\n",
            "[CV 3/5; 18/160] START init=k-means++, max_iter=600, n_clusters=6, n_init=10....\n",
            "[CV 3/5; 18/160] END init=k-means++, max_iter=600, n_clusters=6, n_init=10;, score=-7604.289 total time=   1.1s\n",
            "[CV 4/5; 18/160] START init=k-means++, max_iter=600, n_clusters=6, n_init=10....\n",
            "[CV 4/5; 18/160] END init=k-means++, max_iter=600, n_clusters=6, n_init=10;, score=-7458.845 total time=   0.9s\n",
            "[CV 5/5; 18/160] START init=k-means++, max_iter=600, n_clusters=6, n_init=10....\n",
            "[CV 5/5; 18/160] END init=k-means++, max_iter=600, n_clusters=6, n_init=10;, score=-7521.388 total time=   0.9s\n",
            "[CV 1/5; 19/160] START init=k-means++, max_iter=600, n_clusters=6, n_init=15....\n",
            "[CV 1/5; 19/160] END init=k-means++, max_iter=600, n_clusters=6, n_init=15;, score=-7309.972 total time=   1.2s\n",
            "[CV 2/5; 19/160] START init=k-means++, max_iter=600, n_clusters=6, n_init=15....\n",
            "[CV 2/5; 19/160] END init=k-means++, max_iter=600, n_clusters=6, n_init=15;, score=-7284.336 total time=   2.4s\n",
            "[CV 3/5; 19/160] START init=k-means++, max_iter=600, n_clusters=6, n_init=15....\n",
            "[CV 3/5; 19/160] END init=k-means++, max_iter=600, n_clusters=6, n_init=15;, score=-7604.259 total time=   1.2s\n",
            "[CV 4/5; 19/160] START init=k-means++, max_iter=600, n_clusters=6, n_init=15....\n",
            "[CV 4/5; 19/160] END init=k-means++, max_iter=600, n_clusters=6, n_init=15;, score=-7458.843 total time=   1.4s\n",
            "[CV 5/5; 19/160] START init=k-means++, max_iter=600, n_clusters=6, n_init=15....\n",
            "[CV 5/5; 19/160] END init=k-means++, max_iter=600, n_clusters=6, n_init=15;, score=-7522.512 total time=   1.5s\n",
            "[CV 1/5; 20/160] START init=k-means++, max_iter=600, n_clusters=6, n_init=20....\n",
            "[CV 1/5; 20/160] END init=k-means++, max_iter=600, n_clusters=6, n_init=20;, score=-7309.939 total time=   2.0s\n",
            "[CV 2/5; 20/160] START init=k-means++, max_iter=600, n_clusters=6, n_init=20....\n",
            "[CV 2/5; 20/160] END init=k-means++, max_iter=600, n_clusters=6, n_init=20;, score=-7284.269 total time=   1.9s\n",
            "[CV 3/5; 20/160] START init=k-means++, max_iter=600, n_clusters=6, n_init=20....\n",
            "[CV 3/5; 20/160] END init=k-means++, max_iter=600, n_clusters=6, n_init=20;, score=-7604.289 total time=   2.3s\n",
            "[CV 4/5; 20/160] START init=k-means++, max_iter=600, n_clusters=6, n_init=20....\n",
            "[CV 4/5; 20/160] END init=k-means++, max_iter=600, n_clusters=6, n_init=20;, score=-7458.994 total time=   2.2s\n",
            "[CV 5/5; 20/160] START init=k-means++, max_iter=600, n_clusters=6, n_init=20....\n",
            "[CV 5/5; 20/160] END init=k-means++, max_iter=600, n_clusters=6, n_init=20;, score=-7522.348 total time=   1.8s\n",
            "[CV 1/5; 21/160] START init=k-means++, max_iter=600, n_clusters=12, n_init=5....\n",
            "[CV 1/5; 21/160] END init=k-means++, max_iter=600, n_clusters=12, n_init=5;, score=-5148.666 total time=   0.5s\n",
            "[CV 2/5; 21/160] START init=k-means++, max_iter=600, n_clusters=12, n_init=5....\n",
            "[CV 2/5; 21/160] END init=k-means++, max_iter=600, n_clusters=12, n_init=5;, score=-5178.576 total time=   0.5s\n",
            "[CV 3/5; 21/160] START init=k-means++, max_iter=600, n_clusters=12, n_init=5....\n",
            "[CV 3/5; 21/160] END init=k-means++, max_iter=600, n_clusters=12, n_init=5;, score=-5435.295 total time=   0.7s\n",
            "[CV 4/5; 21/160] START init=k-means++, max_iter=600, n_clusters=12, n_init=5....\n",
            "[CV 4/5; 21/160] END init=k-means++, max_iter=600, n_clusters=12, n_init=5;, score=-5289.950 total time=   0.4s\n",
            "[CV 5/5; 21/160] START init=k-means++, max_iter=600, n_clusters=12, n_init=5....\n",
            "[CV 5/5; 21/160] END init=k-means++, max_iter=600, n_clusters=12, n_init=5;, score=-5270.482 total time=   0.7s\n",
            "[CV 1/5; 22/160] START init=k-means++, max_iter=600, n_clusters=12, n_init=10...\n",
            "[CV 1/5; 22/160] END init=k-means++, max_iter=600, n_clusters=12, n_init=10;, score=-5124.304 total time=   1.3s\n",
            "[CV 2/5; 22/160] START init=k-means++, max_iter=600, n_clusters=12, n_init=10...\n",
            "[CV 2/5; 22/160] END init=k-means++, max_iter=600, n_clusters=12, n_init=10;, score=-5328.735 total time=   1.3s\n",
            "[CV 3/5; 22/160] START init=k-means++, max_iter=600, n_clusters=12, n_init=10...\n",
            "[CV 3/5; 22/160] END init=k-means++, max_iter=600, n_clusters=12, n_init=10;, score=-5266.872 total time=   1.2s\n",
            "[CV 4/5; 22/160] START init=k-means++, max_iter=600, n_clusters=12, n_init=10...\n",
            "[CV 4/5; 22/160] END init=k-means++, max_iter=600, n_clusters=12, n_init=10;, score=-5291.554 total time=   1.2s\n",
            "[CV 5/5; 22/160] START init=k-means++, max_iter=600, n_clusters=12, n_init=10...\n",
            "[CV 5/5; 22/160] END init=k-means++, max_iter=600, n_clusters=12, n_init=10;, score=-5268.606 total time=   2.4s\n",
            "[CV 1/5; 23/160] START init=k-means++, max_iter=600, n_clusters=12, n_init=15...\n",
            "[CV 1/5; 23/160] END init=k-means++, max_iter=600, n_clusters=12, n_init=15;, score=-5122.986 total time=   1.1s\n",
            "[CV 2/5; 23/160] START init=k-means++, max_iter=600, n_clusters=12, n_init=15...\n",
            "[CV 2/5; 23/160] END init=k-means++, max_iter=600, n_clusters=12, n_init=15;, score=-5178.362 total time=   1.9s\n",
            "[CV 3/5; 23/160] START init=k-means++, max_iter=600, n_clusters=12, n_init=15...\n",
            "[CV 3/5; 23/160] END init=k-means++, max_iter=600, n_clusters=12, n_init=15;, score=-5270.908 total time=   1.6s\n",
            "[CV 4/5; 23/160] START init=k-means++, max_iter=600, n_clusters=12, n_init=15...\n",
            "[CV 4/5; 23/160] END init=k-means++, max_iter=600, n_clusters=12, n_init=15;, score=-5291.822 total time=   1.4s\n",
            "[CV 5/5; 23/160] START init=k-means++, max_iter=600, n_clusters=12, n_init=15...\n",
            "[CV 5/5; 23/160] END init=k-means++, max_iter=600, n_clusters=12, n_init=15;, score=-5264.751 total time=   1.8s\n",
            "[CV 1/5; 24/160] START init=k-means++, max_iter=600, n_clusters=12, n_init=20...\n",
            "[CV 1/5; 24/160] END init=k-means++, max_iter=600, n_clusters=12, n_init=20;, score=-5123.978 total time=   2.0s\n",
            "[CV 2/5; 24/160] START init=k-means++, max_iter=600, n_clusters=12, n_init=20...\n",
            "[CV 2/5; 24/160] END init=k-means++, max_iter=600, n_clusters=12, n_init=20;, score=-5178.429 total time=   3.4s\n",
            "[CV 3/5; 24/160] START init=k-means++, max_iter=600, n_clusters=12, n_init=20...\n",
            "[CV 3/5; 24/160] END init=k-means++, max_iter=600, n_clusters=12, n_init=20;, score=-5271.559 total time=   2.1s\n",
            "[CV 4/5; 24/160] START init=k-means++, max_iter=600, n_clusters=12, n_init=20...\n",
            "[CV 4/5; 24/160] END init=k-means++, max_iter=600, n_clusters=12, n_init=20;, score=-5291.922 total time=   2.1s\n",
            "[CV 5/5; 24/160] START init=k-means++, max_iter=600, n_clusters=12, n_init=20...\n",
            "[CV 5/5; 24/160] END init=k-means++, max_iter=600, n_clusters=12, n_init=20;, score=-5272.970 total time=   1.9s\n",
            "[CV 1/5; 25/160] START init=k-means++, max_iter=600, n_clusters=18, n_init=5....\n",
            "[CV 1/5; 25/160] END init=k-means++, max_iter=600, n_clusters=18, n_init=5;, score=-4496.781 total time=   0.7s\n",
            "[CV 2/5; 25/160] START init=k-means++, max_iter=600, n_clusters=18, n_init=5....\n",
            "[CV 2/5; 25/160] END init=k-means++, max_iter=600, n_clusters=18, n_init=5;, score=-4550.381 total time=   0.6s\n",
            "[CV 3/5; 25/160] START init=k-means++, max_iter=600, n_clusters=18, n_init=5....\n",
            "[CV 3/5; 25/160] END init=k-means++, max_iter=600, n_clusters=18, n_init=5;, score=-4645.167 total time=   0.7s\n",
            "[CV 4/5; 25/160] START init=k-means++, max_iter=600, n_clusters=18, n_init=5....\n",
            "[CV 4/5; 25/160] END init=k-means++, max_iter=600, n_clusters=18, n_init=5;, score=-4595.972 total time=   0.7s\n",
            "[CV 5/5; 25/160] START init=k-means++, max_iter=600, n_clusters=18, n_init=5....\n",
            "[CV 5/5; 25/160] END init=k-means++, max_iter=600, n_clusters=18, n_init=5;, score=-4672.583 total time=   1.7s\n",
            "[CV 1/5; 26/160] START init=k-means++, max_iter=600, n_clusters=18, n_init=10...\n",
            "[CV 1/5; 26/160] END init=k-means++, max_iter=600, n_clusters=18, n_init=10;, score=-4503.443 total time=   1.9s\n",
            "[CV 2/5; 26/160] START init=k-means++, max_iter=600, n_clusters=18, n_init=10...\n",
            "[CV 2/5; 26/160] END init=k-means++, max_iter=600, n_clusters=18, n_init=10;, score=-4538.728 total time=   1.1s\n",
            "[CV 3/5; 26/160] START init=k-means++, max_iter=600, n_clusters=18, n_init=10...\n",
            "[CV 3/5; 26/160] END init=k-means++, max_iter=600, n_clusters=18, n_init=10;, score=-4588.445 total time=   1.3s\n",
            "[CV 4/5; 26/160] START init=k-means++, max_iter=600, n_clusters=18, n_init=10...\n",
            "[CV 4/5; 26/160] END init=k-means++, max_iter=600, n_clusters=18, n_init=10;, score=-4598.905 total time=   1.2s\n",
            "[CV 5/5; 26/160] START init=k-means++, max_iter=600, n_clusters=18, n_init=10...\n",
            "[CV 5/5; 26/160] END init=k-means++, max_iter=600, n_clusters=18, n_init=10;, score=-4613.460 total time=   1.1s\n",
            "[CV 1/5; 27/160] START init=k-means++, max_iter=600, n_clusters=18, n_init=15...\n",
            "[CV 1/5; 27/160] END init=k-means++, max_iter=600, n_clusters=18, n_init=15;, score=-4510.779 total time=   2.0s\n",
            "[CV 2/5; 27/160] START init=k-means++, max_iter=600, n_clusters=18, n_init=15...\n",
            "[CV 2/5; 27/160] END init=k-means++, max_iter=600, n_clusters=18, n_init=15;, score=-4536.814 total time=   2.1s\n",
            "[CV 3/5; 27/160] START init=k-means++, max_iter=600, n_clusters=18, n_init=15...\n",
            "[CV 3/5; 27/160] END init=k-means++, max_iter=600, n_clusters=18, n_init=15;, score=-4604.093 total time=   3.1s\n",
            "[CV 4/5; 27/160] START init=k-means++, max_iter=600, n_clusters=18, n_init=15...\n",
            "[CV 4/5; 27/160] END init=k-means++, max_iter=600, n_clusters=18, n_init=15;, score=-4600.545 total time=   1.9s\n",
            "[CV 5/5; 27/160] START init=k-means++, max_iter=600, n_clusters=18, n_init=15...\n",
            "[CV 5/5; 27/160] END init=k-means++, max_iter=600, n_clusters=18, n_init=15;, score=-4623.499 total time=   1.4s\n",
            "[CV 1/5; 28/160] START init=k-means++, max_iter=600, n_clusters=18, n_init=20...\n",
            "[CV 1/5; 28/160] END init=k-means++, max_iter=600, n_clusters=18, n_init=20;, score=-4500.779 total time=   2.4s\n",
            "[CV 2/5; 28/160] START init=k-means++, max_iter=600, n_clusters=18, n_init=20...\n",
            "[CV 2/5; 28/160] END init=k-means++, max_iter=600, n_clusters=18, n_init=20;, score=-4573.037 total time=   2.7s\n",
            "[CV 3/5; 28/160] START init=k-means++, max_iter=600, n_clusters=18, n_init=20...\n",
            "[CV 3/5; 28/160] END init=k-means++, max_iter=600, n_clusters=18, n_init=20;, score=-4611.814 total time=   4.0s\n",
            "[CV 4/5; 28/160] START init=k-means++, max_iter=600, n_clusters=18, n_init=20...\n",
            "[CV 4/5; 28/160] END init=k-means++, max_iter=600, n_clusters=18, n_init=20;, score=-4597.995 total time=   2.1s\n",
            "[CV 5/5; 28/160] START init=k-means++, max_iter=600, n_clusters=18, n_init=20...\n",
            "[CV 5/5; 28/160] END init=k-means++, max_iter=600, n_clusters=18, n_init=20;, score=-4656.444 total time=   2.3s\n",
            "[CV 1/5; 29/160] START init=k-means++, max_iter=600, n_clusters=24, n_init=5....\n",
            "[CV 1/5; 29/160] END init=k-means++, max_iter=600, n_clusters=24, n_init=5;, score=-4169.946 total time=   0.7s\n",
            "[CV 2/5; 29/160] START init=k-means++, max_iter=600, n_clusters=24, n_init=5....\n",
            "[CV 2/5; 29/160] END init=k-means++, max_iter=600, n_clusters=24, n_init=5;, score=-4165.688 total time=   0.8s\n",
            "[CV 3/5; 29/160] START init=k-means++, max_iter=600, n_clusters=24, n_init=5....\n",
            "[CV 3/5; 29/160] END init=k-means++, max_iter=600, n_clusters=24, n_init=5;, score=-4243.997 total time=   0.7s\n",
            "[CV 4/5; 29/160] START init=k-means++, max_iter=600, n_clusters=24, n_init=5....\n",
            "[CV 4/5; 29/160] END init=k-means++, max_iter=600, n_clusters=24, n_init=5;, score=-4228.890 total time=   0.9s\n",
            "[CV 5/5; 29/160] START init=k-means++, max_iter=600, n_clusters=24, n_init=5....\n",
            "[CV 5/5; 29/160] END init=k-means++, max_iter=600, n_clusters=24, n_init=5;, score=-4248.893 total time=   0.7s\n",
            "[CV 1/5; 30/160] START init=k-means++, max_iter=600, n_clusters=24, n_init=10...\n",
            "[CV 1/5; 30/160] END init=k-means++, max_iter=600, n_clusters=24, n_init=10;, score=-4191.471 total time=   2.8s\n",
            "[CV 2/5; 30/160] START init=k-means++, max_iter=600, n_clusters=24, n_init=10...\n",
            "[CV 2/5; 30/160] END init=k-means++, max_iter=600, n_clusters=24, n_init=10;, score=-4195.829 total time=   1.7s\n",
            "[CV 3/5; 30/160] START init=k-means++, max_iter=600, n_clusters=24, n_init=10...\n",
            "[CV 3/5; 30/160] END init=k-means++, max_iter=600, n_clusters=24, n_init=10;, score=-4223.561 total time=   1.5s\n",
            "[CV 4/5; 30/160] START init=k-means++, max_iter=600, n_clusters=24, n_init=10...\n",
            "[CV 4/5; 30/160] END init=k-means++, max_iter=600, n_clusters=24, n_init=10;, score=-4254.845 total time=   1.5s\n",
            "[CV 5/5; 30/160] START init=k-means++, max_iter=600, n_clusters=24, n_init=10...\n",
            "[CV 5/5; 30/160] END init=k-means++, max_iter=600, n_clusters=24, n_init=10;, score=-4277.773 total time=   1.6s\n",
            "[CV 1/5; 31/160] START init=k-means++, max_iter=600, n_clusters=24, n_init=15...\n",
            "[CV 1/5; 31/160] END init=k-means++, max_iter=600, n_clusters=24, n_init=15;, score=-4124.621 total time=   2.2s\n",
            "[CV 2/5; 31/160] START init=k-means++, max_iter=600, n_clusters=24, n_init=15...\n",
            "[CV 2/5; 31/160] END init=k-means++, max_iter=600, n_clusters=24, n_init=15;, score=-4159.612 total time=   3.3s\n",
            "[CV 3/5; 31/160] START init=k-means++, max_iter=600, n_clusters=24, n_init=15...\n",
            "[CV 3/5; 31/160] END init=k-means++, max_iter=600, n_clusters=24, n_init=15;, score=-4240.497 total time=   1.9s\n",
            "[CV 4/5; 31/160] START init=k-means++, max_iter=600, n_clusters=24, n_init=15...\n",
            "[CV 4/5; 31/160] END init=k-means++, max_iter=600, n_clusters=24, n_init=15;, score=-4248.244 total time=   2.3s\n",
            "[CV 5/5; 31/160] START init=k-means++, max_iter=600, n_clusters=24, n_init=15...\n",
            "[CV 5/5; 31/160] END init=k-means++, max_iter=600, n_clusters=24, n_init=15;, score=-4244.463 total time=   2.3s\n",
            "[CV 1/5; 32/160] START init=k-means++, max_iter=600, n_clusters=24, n_init=20...\n",
            "[CV 1/5; 32/160] END init=k-means++, max_iter=600, n_clusters=24, n_init=20;, score=-4144.920 total time=   2.8s\n",
            "[CV 2/5; 32/160] START init=k-means++, max_iter=600, n_clusters=24, n_init=20...\n",
            "[CV 2/5; 32/160] END init=k-means++, max_iter=600, n_clusters=24, n_init=20;, score=-4158.605 total time=   4.3s\n",
            "[CV 3/5; 32/160] START init=k-means++, max_iter=600, n_clusters=24, n_init=20...\n",
            "[CV 3/5; 32/160] END init=k-means++, max_iter=600, n_clusters=24, n_init=20;, score=-4249.278 total time=   3.0s\n",
            "[CV 4/5; 32/160] START init=k-means++, max_iter=600, n_clusters=24, n_init=20...\n",
            "[CV 4/5; 32/160] END init=k-means++, max_iter=600, n_clusters=24, n_init=20;, score=-4249.594 total time=   3.1s\n",
            "[CV 5/5; 32/160] START init=k-means++, max_iter=600, n_clusters=24, n_init=20...\n",
            "[CV 5/5; 32/160] END init=k-means++, max_iter=600, n_clusters=24, n_init=20;, score=-4252.690 total time=   3.9s\n",
            "[CV 1/5; 33/160] START init=k-means++, max_iter=900, n_clusters=6, n_init=5.....\n",
            "[CV 1/5; 33/160] END init=k-means++, max_iter=900, n_clusters=6, n_init=5;, score=-7309.047 total time=   0.8s\n",
            "[CV 2/5; 33/160] START init=k-means++, max_iter=900, n_clusters=6, n_init=5.....\n",
            "[CV 2/5; 33/160] END init=k-means++, max_iter=900, n_clusters=6, n_init=5;, score=-7286.437 total time=   0.4s\n",
            "[CV 3/5; 33/160] START init=k-means++, max_iter=900, n_clusters=6, n_init=5.....\n",
            "[CV 3/5; 33/160] END init=k-means++, max_iter=900, n_clusters=6, n_init=5;, score=-7604.469 total time=   0.6s\n",
            "[CV 4/5; 33/160] START init=k-means++, max_iter=900, n_clusters=6, n_init=5.....\n",
            "[CV 4/5; 33/160] END init=k-means++, max_iter=900, n_clusters=6, n_init=5;, score=-7458.673 total time=   0.5s\n",
            "[CV 5/5; 33/160] START init=k-means++, max_iter=900, n_clusters=6, n_init=5.....\n",
            "[CV 5/5; 33/160] END init=k-means++, max_iter=900, n_clusters=6, n_init=5;, score=-7522.658 total time=   0.5s\n",
            "[CV 1/5; 34/160] START init=k-means++, max_iter=900, n_clusters=6, n_init=10....\n",
            "[CV 1/5; 34/160] END init=k-means++, max_iter=900, n_clusters=6, n_init=10;, score=-7309.130 total time=   0.9s\n",
            "[CV 2/5; 34/160] START init=k-means++, max_iter=900, n_clusters=6, n_init=10....\n",
            "[CV 2/5; 34/160] END init=k-means++, max_iter=900, n_clusters=6, n_init=10;, score=-7285.224 total time=   0.7s\n",
            "[CV 3/5; 34/160] START init=k-means++, max_iter=900, n_clusters=6, n_init=10....\n",
            "[CV 3/5; 34/160] END init=k-means++, max_iter=900, n_clusters=6, n_init=10;, score=-7604.259 total time=   0.7s\n",
            "[CV 4/5; 34/160] START init=k-means++, max_iter=900, n_clusters=6, n_init=10....\n",
            "[CV 4/5; 34/160] END init=k-means++, max_iter=900, n_clusters=6, n_init=10;, score=-7458.978 total time=   0.9s\n",
            "[CV 5/5; 34/160] START init=k-means++, max_iter=900, n_clusters=6, n_init=10....\n",
            "[CV 5/5; 34/160] END init=k-means++, max_iter=900, n_clusters=6, n_init=10;, score=-7522.348 total time=   0.5s\n",
            "[CV 1/5; 35/160] START init=k-means++, max_iter=900, n_clusters=6, n_init=15....\n",
            "[CV 1/5; 35/160] END init=k-means++, max_iter=900, n_clusters=6, n_init=15;, score=-7309.047 total time=   1.3s\n",
            "[CV 2/5; 35/160] START init=k-means++, max_iter=900, n_clusters=6, n_init=15....\n",
            "[CV 2/5; 35/160] END init=k-means++, max_iter=900, n_clusters=6, n_init=15;, score=-7283.928 total time=   1.0s\n",
            "[CV 3/5; 35/160] START init=k-means++, max_iter=900, n_clusters=6, n_init=15....\n",
            "[CV 3/5; 35/160] END init=k-means++, max_iter=900, n_clusters=6, n_init=15;, score=-7604.382 total time=   1.1s\n",
            "[CV 4/5; 35/160] START init=k-means++, max_iter=900, n_clusters=6, n_init=15....\n",
            "[CV 4/5; 35/160] END init=k-means++, max_iter=900, n_clusters=6, n_init=15;, score=-7458.383 total time=   1.6s\n",
            "[CV 5/5; 35/160] START init=k-means++, max_iter=900, n_clusters=6, n_init=15....\n",
            "[CV 5/5; 35/160] END init=k-means++, max_iter=900, n_clusters=6, n_init=15;, score=-7521.975 total time=   2.0s\n",
            "[CV 1/5; 36/160] START init=k-means++, max_iter=900, n_clusters=6, n_init=20....\n",
            "[CV 1/5; 36/160] END init=k-means++, max_iter=900, n_clusters=6, n_init=20;, score=-7309.963 total time=   1.3s\n",
            "[CV 2/5; 36/160] START init=k-means++, max_iter=900, n_clusters=6, n_init=20....\n",
            "[CV 2/5; 36/160] END init=k-means++, max_iter=900, n_clusters=6, n_init=20;, score=-7284.336 total time=   1.8s\n",
            "[CV 3/5; 36/160] START init=k-means++, max_iter=900, n_clusters=6, n_init=20....\n",
            "[CV 3/5; 36/160] END init=k-means++, max_iter=900, n_clusters=6, n_init=20;, score=-7604.259 total time=   1.5s\n",
            "[CV 4/5; 36/160] START init=k-means++, max_iter=900, n_clusters=6, n_init=20....\n",
            "[CV 4/5; 36/160] END init=k-means++, max_iter=900, n_clusters=6, n_init=20;, score=-7458.488 total time=   1.8s\n",
            "[CV 5/5; 36/160] START init=k-means++, max_iter=900, n_clusters=6, n_init=20....\n",
            "[CV 5/5; 36/160] END init=k-means++, max_iter=900, n_clusters=6, n_init=20;, score=-7522.527 total time=   1.9s\n",
            "[CV 1/5; 37/160] START init=k-means++, max_iter=900, n_clusters=12, n_init=5....\n",
            "[CV 1/5; 37/160] END init=k-means++, max_iter=900, n_clusters=12, n_init=5;, score=-5123.797 total time=   0.6s\n",
            "[CV 2/5; 37/160] START init=k-means++, max_iter=900, n_clusters=12, n_init=5....\n",
            "[CV 2/5; 37/160] END init=k-means++, max_iter=900, n_clusters=12, n_init=5;, score=-5178.569 total time=   0.8s\n",
            "[CV 3/5; 37/160] START init=k-means++, max_iter=900, n_clusters=12, n_init=5....\n",
            "[CV 3/5; 37/160] END init=k-means++, max_iter=900, n_clusters=12, n_init=5;, score=-5271.425 total time=   1.4s\n",
            "[CV 4/5; 37/160] START init=k-means++, max_iter=900, n_clusters=12, n_init=5....\n",
            "[CV 4/5; 37/160] END init=k-means++, max_iter=900, n_clusters=12, n_init=5;, score=-5292.008 total time=   0.9s\n",
            "[CV 5/5; 37/160] START init=k-means++, max_iter=900, n_clusters=12, n_init=5....\n",
            "[CV 5/5; 37/160] END init=k-means++, max_iter=900, n_clusters=12, n_init=5;, score=-5299.603 total time=   0.5s\n",
            "[CV 1/5; 38/160] START init=k-means++, max_iter=900, n_clusters=12, n_init=10...\n",
            "[CV 1/5; 38/160] END init=k-means++, max_iter=900, n_clusters=12, n_init=10;, score=-5124.353 total time=   1.2s\n",
            "[CV 2/5; 38/160] START init=k-means++, max_iter=900, n_clusters=12, n_init=10...\n",
            "[CV 2/5; 38/160] END init=k-means++, max_iter=900, n_clusters=12, n_init=10;, score=-5178.402 total time=   1.4s\n",
            "[CV 3/5; 38/160] START init=k-means++, max_iter=900, n_clusters=12, n_init=10...\n",
            "[CV 3/5; 38/160] END init=k-means++, max_iter=900, n_clusters=12, n_init=10;, score=-5272.072 total time=   0.9s\n",
            "[CV 4/5; 38/160] START init=k-means++, max_iter=900, n_clusters=12, n_init=10...\n",
            "[CV 4/5; 38/160] END init=k-means++, max_iter=900, n_clusters=12, n_init=10;, score=-5291.213 total time=   0.9s\n",
            "[CV 5/5; 38/160] START init=k-means++, max_iter=900, n_clusters=12, n_init=10...\n",
            "[CV 5/5; 38/160] END init=k-means++, max_iter=900, n_clusters=12, n_init=10;, score=-5269.881 total time=   1.4s\n",
            "[CV 1/5; 39/160] START init=k-means++, max_iter=900, n_clusters=12, n_init=15...\n",
            "[CV 1/5; 39/160] END init=k-means++, max_iter=900, n_clusters=12, n_init=15;, score=-5124.304 total time=   1.8s\n",
            "[CV 2/5; 39/160] START init=k-means++, max_iter=900, n_clusters=12, n_init=15...\n",
            "[CV 2/5; 39/160] END init=k-means++, max_iter=900, n_clusters=12, n_init=15;, score=-5206.973 total time=   1.9s\n",
            "[CV 3/5; 39/160] START init=k-means++, max_iter=900, n_clusters=12, n_init=15...\n",
            "[CV 3/5; 39/160] END init=k-means++, max_iter=900, n_clusters=12, n_init=15;, score=-5272.433 total time=   4.1s\n",
            "[CV 4/5; 39/160] START init=k-means++, max_iter=900, n_clusters=12, n_init=15...\n",
            "[CV 4/5; 39/160] END init=k-means++, max_iter=900, n_clusters=12, n_init=15;, score=-5292.320 total time=   2.1s\n",
            "[CV 5/5; 39/160] START init=k-means++, max_iter=900, n_clusters=12, n_init=15...\n",
            "[CV 5/5; 39/160] END init=k-means++, max_iter=900, n_clusters=12, n_init=15;, score=-5271.355 total time=   1.8s\n",
            "[CV 1/5; 40/160] START init=k-means++, max_iter=900, n_clusters=12, n_init=20...\n",
            "[CV 1/5; 40/160] END init=k-means++, max_iter=900, n_clusters=12, n_init=20;, score=-5124.304 total time=   2.4s\n",
            "[CV 2/5; 40/160] START init=k-means++, max_iter=900, n_clusters=12, n_init=20...\n",
            "[CV 2/5; 40/160] END init=k-means++, max_iter=900, n_clusters=12, n_init=20;, score=-5178.391 total time=   2.5s\n",
            "[CV 3/5; 40/160] START init=k-means++, max_iter=900, n_clusters=12, n_init=20...\n",
            "[CV 3/5; 40/160] END init=k-means++, max_iter=900, n_clusters=12, n_init=20;, score=-5269.494 total time=   3.0s\n",
            "[CV 4/5; 40/160] START init=k-means++, max_iter=900, n_clusters=12, n_init=20...\n",
            "[CV 4/5; 40/160] END init=k-means++, max_iter=900, n_clusters=12, n_init=20;, score=-5291.124 total time=   2.3s\n",
            "[CV 5/5; 40/160] START init=k-means++, max_iter=900, n_clusters=12, n_init=20...\n",
            "[CV 5/5; 40/160] END init=k-means++, max_iter=900, n_clusters=12, n_init=20;, score=-5271.559 total time=   2.1s\n",
            "[CV 1/5; 41/160] START init=k-means++, max_iter=900, n_clusters=18, n_init=5....\n",
            "[CV 1/5; 41/160] END init=k-means++, max_iter=900, n_clusters=18, n_init=5;, score=-4485.902 total time=   0.5s\n",
            "[CV 2/5; 41/160] START init=k-means++, max_iter=900, n_clusters=18, n_init=5....\n",
            "[CV 2/5; 41/160] END init=k-means++, max_iter=900, n_clusters=18, n_init=5;, score=-4579.397 total time=   0.8s\n",
            "[CV 3/5; 41/160] START init=k-means++, max_iter=900, n_clusters=18, n_init=5....\n",
            "[CV 3/5; 41/160] END init=k-means++, max_iter=900, n_clusters=18, n_init=5;, score=-4634.497 total time=   0.5s\n",
            "[CV 4/5; 41/160] START init=k-means++, max_iter=900, n_clusters=18, n_init=5....\n",
            "[CV 4/5; 41/160] END init=k-means++, max_iter=900, n_clusters=18, n_init=5;, score=-4631.402 total time=   0.6s\n",
            "[CV 5/5; 41/160] START init=k-means++, max_iter=900, n_clusters=18, n_init=5....\n",
            "[CV 5/5; 41/160] END init=k-means++, max_iter=900, n_clusters=18, n_init=5;, score=-4609.897 total time=   0.8s\n",
            "[CV 1/5; 42/160] START init=k-means++, max_iter=900, n_clusters=18, n_init=10...\n",
            "[CV 1/5; 42/160] END init=k-means++, max_iter=900, n_clusters=18, n_init=10;, score=-4516.063 total time=   1.3s\n",
            "[CV 2/5; 42/160] START init=k-means++, max_iter=900, n_clusters=18, n_init=10...\n",
            "[CV 2/5; 42/160] END init=k-means++, max_iter=900, n_clusters=18, n_init=10;, score=-4547.309 total time=   2.1s\n",
            "[CV 3/5; 42/160] START init=k-means++, max_iter=900, n_clusters=18, n_init=10...\n",
            "[CV 3/5; 42/160] END init=k-means++, max_iter=900, n_clusters=18, n_init=10;, score=-4612.620 total time=   1.3s\n",
            "[CV 4/5; 42/160] START init=k-means++, max_iter=900, n_clusters=18, n_init=10...\n",
            "[CV 4/5; 42/160] END init=k-means++, max_iter=900, n_clusters=18, n_init=10;, score=-4611.192 total time=   1.4s\n",
            "[CV 5/5; 42/160] START init=k-means++, max_iter=900, n_clusters=18, n_init=10...\n",
            "[CV 5/5; 42/160] END init=k-means++, max_iter=900, n_clusters=18, n_init=10;, score=-4655.923 total time=   1.3s\n",
            "[CV 1/5; 43/160] START init=k-means++, max_iter=900, n_clusters=18, n_init=15...\n",
            "[CV 1/5; 43/160] END init=k-means++, max_iter=900, n_clusters=18, n_init=15;, score=-4490.010 total time=   2.1s\n",
            "[CV 2/5; 43/160] START init=k-means++, max_iter=900, n_clusters=18, n_init=15...\n",
            "[CV 2/5; 43/160] END init=k-means++, max_iter=900, n_clusters=18, n_init=15;, score=-4536.815 total time=   2.0s\n",
            "[CV 3/5; 43/160] START init=k-means++, max_iter=900, n_clusters=18, n_init=15...\n",
            "[CV 3/5; 43/160] END init=k-means++, max_iter=900, n_clusters=18, n_init=15;, score=-4614.748 total time=   2.1s\n",
            "[CV 4/5; 43/160] START init=k-means++, max_iter=900, n_clusters=18, n_init=15...\n",
            "[CV 4/5; 43/160] END init=k-means++, max_iter=900, n_clusters=18, n_init=15;, score=-4606.533 total time=   3.3s\n",
            "[CV 5/5; 43/160] START init=k-means++, max_iter=900, n_clusters=18, n_init=15...\n",
            "[CV 5/5; 43/160] END init=k-means++, max_iter=900, n_clusters=18, n_init=15;, score=-4627.906 total time=   1.8s\n",
            "[CV 1/5; 44/160] START init=k-means++, max_iter=900, n_clusters=18, n_init=20...\n",
            "[CV 1/5; 44/160] END init=k-means++, max_iter=900, n_clusters=18, n_init=20;, score=-4520.003 total time=   2.6s\n",
            "[CV 2/5; 44/160] START init=k-means++, max_iter=900, n_clusters=18, n_init=20...\n",
            "[CV 2/5; 44/160] END init=k-means++, max_iter=900, n_clusters=18, n_init=20;, score=-4535.738 total time=   2.7s\n",
            "[CV 3/5; 44/160] START init=k-means++, max_iter=900, n_clusters=18, n_init=20...\n",
            "[CV 3/5; 44/160] END init=k-means++, max_iter=900, n_clusters=18, n_init=20;, score=-4613.741 total time=   4.2s\n",
            "[CV 4/5; 44/160] START init=k-means++, max_iter=900, n_clusters=18, n_init=20...\n",
            "[CV 4/5; 44/160] END init=k-means++, max_iter=900, n_clusters=18, n_init=20;, score=-4593.302 total time=   2.8s\n",
            "[CV 5/5; 44/160] START init=k-means++, max_iter=900, n_clusters=18, n_init=20...\n",
            "[CV 5/5; 44/160] END init=k-means++, max_iter=900, n_clusters=18, n_init=20;, score=-4623.316 total time=   3.0s\n",
            "[CV 1/5; 45/160] START init=k-means++, max_iter=900, n_clusters=24, n_init=5....\n",
            "[CV 1/5; 45/160] END init=k-means++, max_iter=900, n_clusters=24, n_init=5;, score=-4153.827 total time=   0.8s\n",
            "[CV 2/5; 45/160] START init=k-means++, max_iter=900, n_clusters=24, n_init=5....\n",
            "[CV 2/5; 45/160] END init=k-means++, max_iter=900, n_clusters=24, n_init=5;, score=-4197.544 total time=   0.9s\n",
            "[CV 3/5; 45/160] START init=k-means++, max_iter=900, n_clusters=24, n_init=5....\n",
            "[CV 3/5; 45/160] END init=k-means++, max_iter=900, n_clusters=24, n_init=5;, score=-4251.631 total time=   0.8s\n",
            "[CV 4/5; 45/160] START init=k-means++, max_iter=900, n_clusters=24, n_init=5....\n",
            "[CV 4/5; 45/160] END init=k-means++, max_iter=900, n_clusters=24, n_init=5;, score=-4228.092 total time=   0.9s\n",
            "[CV 5/5; 45/160] START init=k-means++, max_iter=900, n_clusters=24, n_init=5....\n",
            "[CV 5/5; 45/160] END init=k-means++, max_iter=900, n_clusters=24, n_init=5;, score=-4300.111 total time=   0.9s\n",
            "[CV 1/5; 46/160] START init=k-means++, max_iter=900, n_clusters=24, n_init=10...\n",
            "[CV 1/5; 46/160] END init=k-means++, max_iter=900, n_clusters=24, n_init=10;, score=-4146.940 total time=   2.8s\n",
            "[CV 2/5; 46/160] START init=k-means++, max_iter=900, n_clusters=24, n_init=10...\n",
            "[CV 2/5; 46/160] END init=k-means++, max_iter=900, n_clusters=24, n_init=10;, score=-4205.015 total time=   1.7s\n",
            "[CV 3/5; 46/160] START init=k-means++, max_iter=900, n_clusters=24, n_init=10...\n",
            "[CV 3/5; 46/160] END init=k-means++, max_iter=900, n_clusters=24, n_init=10;, score=-4250.176 total time=   1.5s\n",
            "[CV 4/5; 46/160] START init=k-means++, max_iter=900, n_clusters=24, n_init=10...\n",
            "[CV 4/5; 46/160] END init=k-means++, max_iter=900, n_clusters=24, n_init=10;, score=-4241.514 total time=   1.5s\n",
            "[CV 5/5; 46/160] START init=k-means++, max_iter=900, n_clusters=24, n_init=10...\n",
            "[CV 5/5; 46/160] END init=k-means++, max_iter=900, n_clusters=24, n_init=10;, score=-4289.910 total time=   1.5s\n",
            "[CV 1/5; 47/160] START init=k-means++, max_iter=900, n_clusters=24, n_init=15...\n",
            "[CV 1/5; 47/160] END init=k-means++, max_iter=900, n_clusters=24, n_init=15;, score=-4112.448 total time=   2.4s\n",
            "[CV 2/5; 47/160] START init=k-means++, max_iter=900, n_clusters=24, n_init=15...\n",
            "[CV 2/5; 47/160] END init=k-means++, max_iter=900, n_clusters=24, n_init=15;, score=-4172.320 total time=   3.4s\n",
            "[CV 3/5; 47/160] START init=k-means++, max_iter=900, n_clusters=24, n_init=15...\n",
            "[CV 3/5; 47/160] END init=k-means++, max_iter=900, n_clusters=24, n_init=15;, score=-4236.617 total time=   2.4s\n",
            "[CV 4/5; 47/160] START init=k-means++, max_iter=900, n_clusters=24, n_init=15...\n",
            "[CV 4/5; 47/160] END init=k-means++, max_iter=900, n_clusters=24, n_init=15;, score=-4239.352 total time=   2.4s\n",
            "[CV 5/5; 47/160] START init=k-means++, max_iter=900, n_clusters=24, n_init=15...\n",
            "[CV 5/5; 47/160] END init=k-means++, max_iter=900, n_clusters=24, n_init=15;, score=-4286.474 total time=   2.3s\n",
            "[CV 1/5; 48/160] START init=k-means++, max_iter=900, n_clusters=24, n_init=20...\n",
            "[CV 1/5; 48/160] END init=k-means++, max_iter=900, n_clusters=24, n_init=20;, score=-4142.862 total time=   3.8s\n",
            "[CV 2/5; 48/160] START init=k-means++, max_iter=900, n_clusters=24, n_init=20...\n",
            "[CV 2/5; 48/160] END init=k-means++, max_iter=900, n_clusters=24, n_init=20;, score=-4178.397 total time=   3.5s\n",
            "[CV 3/5; 48/160] START init=k-means++, max_iter=900, n_clusters=24, n_init=20...\n",
            "[CV 3/5; 48/160] END init=k-means++, max_iter=900, n_clusters=24, n_init=20;, score=-4234.570 total time=   2.6s\n",
            "[CV 4/5; 48/160] START init=k-means++, max_iter=900, n_clusters=24, n_init=20...\n",
            "[CV 4/5; 48/160] END init=k-means++, max_iter=900, n_clusters=24, n_init=20;, score=-4217.807 total time=   2.8s\n",
            "[CV 5/5; 48/160] START init=k-means++, max_iter=900, n_clusters=24, n_init=20...\n",
            "[CV 5/5; 48/160] END init=k-means++, max_iter=900, n_clusters=24, n_init=20;, score=-4262.468 total time=   4.5s\n",
            "[CV 1/5; 49/160] START init=k-means++, max_iter=1200, n_clusters=6, n_init=5....\n",
            "[CV 1/5; 49/160] END init=k-means++, max_iter=1200, n_clusters=6, n_init=5;, score=-7308.901 total time=   0.6s\n",
            "[CV 2/5; 49/160] START init=k-means++, max_iter=1200, n_clusters=6, n_init=5....\n",
            "[CV 2/5; 49/160] END init=k-means++, max_iter=1200, n_clusters=6, n_init=5;, score=-7285.408 total time=   0.2s\n",
            "[CV 3/5; 49/160] START init=k-means++, max_iter=1200, n_clusters=6, n_init=5....\n",
            "[CV 3/5; 49/160] END init=k-means++, max_iter=1200, n_clusters=6, n_init=5;, score=-7604.289 total time=   0.2s\n",
            "[CV 4/5; 49/160] START init=k-means++, max_iter=1200, n_clusters=6, n_init=5....\n",
            "[CV 4/5; 49/160] END init=k-means++, max_iter=1200, n_clusters=6, n_init=5;, score=-7458.852 total time=   0.3s\n",
            "[CV 5/5; 49/160] START init=k-means++, max_iter=1200, n_clusters=6, n_init=5....\n",
            "[CV 5/5; 49/160] END init=k-means++, max_iter=1200, n_clusters=6, n_init=5;, score=-7629.779 total time=   0.4s\n",
            "[CV 1/5; 50/160] START init=k-means++, max_iter=1200, n_clusters=6, n_init=10...\n",
            "[CV 1/5; 50/160] END init=k-means++, max_iter=1200, n_clusters=6, n_init=10;, score=-7309.047 total time=   1.0s\n",
            "[CV 2/5; 50/160] START init=k-means++, max_iter=1200, n_clusters=6, n_init=10...\n",
            "[CV 2/5; 50/160] END init=k-means++, max_iter=1200, n_clusters=6, n_init=10;, score=-7283.928 total time=   0.8s\n",
            "[CV 3/5; 50/160] START init=k-means++, max_iter=1200, n_clusters=6, n_init=10...\n",
            "[CV 3/5; 50/160] END init=k-means++, max_iter=1200, n_clusters=6, n_init=10;, score=-7604.215 total time=   0.9s\n",
            "[CV 4/5; 50/160] START init=k-means++, max_iter=1200, n_clusters=6, n_init=10...\n",
            "[CV 4/5; 50/160] END init=k-means++, max_iter=1200, n_clusters=6, n_init=10;, score=-7458.987 total time=   1.0s\n",
            "[CV 5/5; 50/160] START init=k-means++, max_iter=1200, n_clusters=6, n_init=10...\n",
            "[CV 5/5; 50/160] END init=k-means++, max_iter=1200, n_clusters=6, n_init=10;, score=-7522.658 total time=   0.9s\n",
            "[CV 1/5; 51/160] START init=k-means++, max_iter=1200, n_clusters=6, n_init=15...\n",
            "[CV 1/5; 51/160] END init=k-means++, max_iter=1200, n_clusters=6, n_init=15;, score=-7309.079 total time=   1.3s\n",
            "[CV 2/5; 51/160] START init=k-means++, max_iter=1200, n_clusters=6, n_init=15...\n",
            "[CV 2/5; 51/160] END init=k-means++, max_iter=1200, n_clusters=6, n_init=15;, score=-7284.336 total time=   0.9s\n",
            "[CV 3/5; 51/160] START init=k-means++, max_iter=1200, n_clusters=6, n_init=15...\n",
            "[CV 3/5; 51/160] END init=k-means++, max_iter=1200, n_clusters=6, n_init=15;, score=-7604.289 total time=   1.4s\n",
            "[CV 4/5; 51/160] START init=k-means++, max_iter=1200, n_clusters=6, n_init=15...\n",
            "[CV 4/5; 51/160] END init=k-means++, max_iter=1200, n_clusters=6, n_init=15;, score=-7458.634 total time=   2.1s\n",
            "[CV 5/5; 51/160] START init=k-means++, max_iter=1200, n_clusters=6, n_init=15...\n",
            "[CV 5/5; 51/160] END init=k-means++, max_iter=1200, n_clusters=6, n_init=15;, score=-7522.512 total time=   1.5s\n",
            "[CV 1/5; 52/160] START init=k-means++, max_iter=1200, n_clusters=6, n_init=20...\n",
            "[CV 1/5; 52/160] END init=k-means++, max_iter=1200, n_clusters=6, n_init=20;, score=-7309.079 total time=   2.0s\n",
            "[CV 2/5; 52/160] START init=k-means++, max_iter=1200, n_clusters=6, n_init=20...\n",
            "[CV 2/5; 52/160] END init=k-means++, max_iter=1200, n_clusters=6, n_init=20;, score=-7284.336 total time=   1.2s\n",
            "[CV 3/5; 52/160] START init=k-means++, max_iter=1200, n_clusters=6, n_init=20...\n",
            "[CV 3/5; 52/160] END init=k-means++, max_iter=1200, n_clusters=6, n_init=20;, score=-7604.289 total time=   1.6s\n",
            "[CV 4/5; 52/160] START init=k-means++, max_iter=1200, n_clusters=6, n_init=20...\n",
            "[CV 4/5; 52/160] END init=k-means++, max_iter=1200, n_clusters=6, n_init=20;, score=-7458.021 total time=   1.8s\n",
            "[CV 5/5; 52/160] START init=k-means++, max_iter=1200, n_clusters=6, n_init=20...\n",
            "[CV 5/5; 52/160] END init=k-means++, max_iter=1200, n_clusters=6, n_init=20;, score=-7522.527 total time=   1.5s\n",
            "[CV 1/5; 53/160] START init=k-means++, max_iter=1200, n_clusters=12, n_init=5...\n",
            "[CV 1/5; 53/160] END init=k-means++, max_iter=1200, n_clusters=12, n_init=5;, score=-5145.273 total time=   0.5s\n",
            "[CV 2/5; 53/160] START init=k-means++, max_iter=1200, n_clusters=12, n_init=5...\n",
            "[CV 2/5; 53/160] END init=k-means++, max_iter=1200, n_clusters=12, n_init=5;, score=-5178.569 total time=   1.5s\n",
            "[CV 3/5; 53/160] START init=k-means++, max_iter=1200, n_clusters=12, n_init=5...\n",
            "[CV 3/5; 53/160] END init=k-means++, max_iter=1200, n_clusters=12, n_init=5;, score=-5392.836 total time=   0.6s\n",
            "[CV 4/5; 53/160] START init=k-means++, max_iter=1200, n_clusters=12, n_init=5...\n",
            "[CV 4/5; 53/160] END init=k-means++, max_iter=1200, n_clusters=12, n_init=5;, score=-5276.136 total time=   0.4s\n",
            "[CV 5/5; 53/160] START init=k-means++, max_iter=1200, n_clusters=12, n_init=5...\n",
            "[CV 5/5; 53/160] END init=k-means++, max_iter=1200, n_clusters=12, n_init=5;, score=-5265.864 total time=   0.6s\n",
            "[CV 1/5; 54/160] START init=k-means++, max_iter=1200, n_clusters=12, n_init=10..\n",
            "[CV 1/5; 54/160] END init=k-means++, max_iter=1200, n_clusters=12, n_init=10;, score=-5124.136 total time=   1.3s\n",
            "[CV 2/5; 54/160] START init=k-means++, max_iter=1200, n_clusters=12, n_init=10..\n",
            "[CV 2/5; 54/160] END init=k-means++, max_iter=1200, n_clusters=12, n_init=10;, score=-5179.617 total time=   1.0s\n",
            "[CV 3/5; 54/160] START init=k-means++, max_iter=1200, n_clusters=12, n_init=10..\n",
            "[CV 3/5; 54/160] END init=k-means++, max_iter=1200, n_clusters=12, n_init=10;, score=-5270.348 total time=   0.9s\n",
            "[CV 4/5; 54/160] START init=k-means++, max_iter=1200, n_clusters=12, n_init=10..\n",
            "[CV 4/5; 54/160] END init=k-means++, max_iter=1200, n_clusters=12, n_init=10;, score=-5291.998 total time=   1.2s\n",
            "[CV 5/5; 54/160] START init=k-means++, max_iter=1200, n_clusters=12, n_init=10..\n",
            "[CV 5/5; 54/160] END init=k-means++, max_iter=1200, n_clusters=12, n_init=10;, score=-5270.432 total time=   1.1s\n",
            "[CV 1/5; 55/160] START init=k-means++, max_iter=1200, n_clusters=12, n_init=15..\n",
            "[CV 1/5; 55/160] END init=k-means++, max_iter=1200, n_clusters=12, n_init=15;, score=-5123.942 total time=   1.6s\n",
            "[CV 2/5; 55/160] START init=k-means++, max_iter=1200, n_clusters=12, n_init=15..\n",
            "[CV 2/5; 55/160] END init=k-means++, max_iter=1200, n_clusters=12, n_init=15;, score=-5178.245 total time=   1.6s\n",
            "[CV 3/5; 55/160] START init=k-means++, max_iter=1200, n_clusters=12, n_init=15..\n",
            "[CV 3/5; 55/160] END init=k-means++, max_iter=1200, n_clusters=12, n_init=15;, score=-5269.494 total time=   2.9s\n",
            "[CV 4/5; 55/160] START init=k-means++, max_iter=1200, n_clusters=12, n_init=15..\n",
            "[CV 4/5; 55/160] END init=k-means++, max_iter=1200, n_clusters=12, n_init=15;, score=-5289.455 total time=   1.6s\n",
            "[CV 5/5; 55/160] START init=k-means++, max_iter=1200, n_clusters=12, n_init=15..\n",
            "[CV 5/5; 55/160] END init=k-means++, max_iter=1200, n_clusters=12, n_init=15;, score=-5270.807 total time=   1.8s\n",
            "[CV 1/5; 56/160] START init=k-means++, max_iter=1200, n_clusters=12, n_init=20..\n",
            "[CV 1/5; 56/160] END init=k-means++, max_iter=1200, n_clusters=12, n_init=20;, score=-5124.304 total time=   2.4s\n",
            "[CV 2/5; 56/160] START init=k-means++, max_iter=1200, n_clusters=12, n_init=20..\n",
            "[CV 2/5; 56/160] END init=k-means++, max_iter=1200, n_clusters=12, n_init=20;, score=-5178.460 total time=   2.1s\n",
            "[CV 3/5; 56/160] START init=k-means++, max_iter=1200, n_clusters=12, n_init=20..\n",
            "[CV 3/5; 56/160] END init=k-means++, max_iter=1200, n_clusters=12, n_init=20;, score=-5266.885 total time=   2.9s\n",
            "[CV 4/5; 56/160] START init=k-means++, max_iter=1200, n_clusters=12, n_init=20..\n",
            "[CV 4/5; 56/160] END init=k-means++, max_iter=1200, n_clusters=12, n_init=20;, score=-5291.509 total time=   3.6s\n",
            "[CV 5/5; 56/160] START init=k-means++, max_iter=1200, n_clusters=12, n_init=20..\n",
            "[CV 5/5; 56/160] END init=k-means++, max_iter=1200, n_clusters=12, n_init=20;, score=-5272.586 total time=   1.8s\n",
            "[CV 1/5; 57/160] START init=k-means++, max_iter=1200, n_clusters=18, n_init=5...\n",
            "[CV 1/5; 57/160] END init=k-means++, max_iter=1200, n_clusters=18, n_init=5;, score=-4534.610 total time=   0.8s\n",
            "[CV 2/5; 57/160] START init=k-means++, max_iter=1200, n_clusters=18, n_init=5...\n",
            "[CV 2/5; 57/160] END init=k-means++, max_iter=1200, n_clusters=18, n_init=5;, score=-4564.919 total time=   0.8s\n",
            "[CV 3/5; 57/160] START init=k-means++, max_iter=1200, n_clusters=18, n_init=5...\n",
            "[CV 3/5; 57/160] END init=k-means++, max_iter=1200, n_clusters=18, n_init=5;, score=-4655.932 total time=   0.5s\n",
            "[CV 4/5; 57/160] START init=k-means++, max_iter=1200, n_clusters=18, n_init=5...\n",
            "[CV 4/5; 57/160] END init=k-means++, max_iter=1200, n_clusters=18, n_init=5;, score=-4666.882 total time=   0.8s\n",
            "[CV 5/5; 57/160] START init=k-means++, max_iter=1200, n_clusters=18, n_init=5...\n",
            "[CV 5/5; 57/160] END init=k-means++, max_iter=1200, n_clusters=18, n_init=5;, score=-4611.339 total time=   0.7s\n",
            "[CV 1/5; 58/160] START init=k-means++, max_iter=1200, n_clusters=18, n_init=10..\n",
            "[CV 1/5; 58/160] END init=k-means++, max_iter=1200, n_clusters=18, n_init=10;, score=-4507.594 total time=   1.4s\n",
            "[CV 2/5; 58/160] START init=k-means++, max_iter=1200, n_clusters=18, n_init=10..\n",
            "[CV 2/5; 58/160] END init=k-means++, max_iter=1200, n_clusters=18, n_init=10;, score=-4583.939 total time=   1.4s\n",
            "[CV 3/5; 58/160] START init=k-means++, max_iter=1200, n_clusters=18, n_init=10..\n",
            "[CV 3/5; 58/160] END init=k-means++, max_iter=1200, n_clusters=18, n_init=10;, score=-4614.859 total time=   2.6s\n",
            "[CV 4/5; 58/160] START init=k-means++, max_iter=1200, n_clusters=18, n_init=10..\n",
            "[CV 4/5; 58/160] END init=k-means++, max_iter=1200, n_clusters=18, n_init=10;, score=-4596.196 total time=   1.4s\n",
            "[CV 5/5; 58/160] START init=k-means++, max_iter=1200, n_clusters=18, n_init=10..\n",
            "[CV 5/5; 58/160] END init=k-means++, max_iter=1200, n_clusters=18, n_init=10;, score=-4672.599 total time=   1.4s\n",
            "[CV 1/5; 59/160] START init=k-means++, max_iter=1200, n_clusters=18, n_init=15..\n",
            "[CV 1/5; 59/160] END init=k-means++, max_iter=1200, n_clusters=18, n_init=15;, score=-4504.466 total time=   2.1s\n",
            "[CV 2/5; 59/160] START init=k-means++, max_iter=1200, n_clusters=18, n_init=15..\n",
            "[CV 2/5; 59/160] END init=k-means++, max_iter=1200, n_clusters=18, n_init=15;, score=-4539.518 total time=   1.9s\n",
            "[CV 3/5; 59/160] START init=k-means++, max_iter=1200, n_clusters=18, n_init=15..\n",
            "[CV 3/5; 59/160] END init=k-means++, max_iter=1200, n_clusters=18, n_init=15;, score=-4623.292 total time=   1.9s\n",
            "[CV 4/5; 59/160] START init=k-means++, max_iter=1200, n_clusters=18, n_init=15..\n",
            "[CV 4/5; 59/160] END init=k-means++, max_iter=1200, n_clusters=18, n_init=15;, score=-4607.426 total time=   3.4s\n",
            "[CV 5/5; 59/160] START init=k-means++, max_iter=1200, n_clusters=18, n_init=15..\n",
            "[CV 5/5; 59/160] END init=k-means++, max_iter=1200, n_clusters=18, n_init=15;, score=-4591.528 total time=   2.0s\n",
            "[CV 1/5; 60/160] START init=k-means++, max_iter=1200, n_clusters=18, n_init=20..\n",
            "[CV 1/5; 60/160] END init=k-means++, max_iter=1200, n_clusters=18, n_init=20;, score=-4486.396 total time=   2.4s\n",
            "[CV 2/5; 60/160] START init=k-means++, max_iter=1200, n_clusters=18, n_init=20..\n",
            "[CV 2/5; 60/160] END init=k-means++, max_iter=1200, n_clusters=18, n_init=20;, score=-4547.723 total time=   2.3s\n",
            "[CV 3/5; 60/160] START init=k-means++, max_iter=1200, n_clusters=18, n_init=20..\n",
            "[CV 3/5; 60/160] END init=k-means++, max_iter=1200, n_clusters=18, n_init=20;, score=-4606.844 total time=   2.7s\n",
            "[CV 4/5; 60/160] START init=k-means++, max_iter=1200, n_clusters=18, n_init=20..\n",
            "[CV 4/5; 60/160] END init=k-means++, max_iter=1200, n_clusters=18, n_init=20;, score=-4649.306 total time=   4.4s\n",
            "[CV 5/5; 60/160] START init=k-means++, max_iter=1200, n_clusters=18, n_init=20..\n",
            "[CV 5/5; 60/160] END init=k-means++, max_iter=1200, n_clusters=18, n_init=20;, score=-4616.121 total time=   2.7s\n",
            "[CV 1/5; 61/160] START init=k-means++, max_iter=1200, n_clusters=24, n_init=5...\n",
            "[CV 1/5; 61/160] END init=k-means++, max_iter=1200, n_clusters=24, n_init=5;, score=-4150.467 total time=   0.6s\n",
            "[CV 2/5; 61/160] START init=k-means++, max_iter=1200, n_clusters=24, n_init=5...\n",
            "[CV 2/5; 61/160] END init=k-means++, max_iter=1200, n_clusters=24, n_init=5;, score=-4161.324 total time=   0.8s\n",
            "[CV 3/5; 61/160] START init=k-means++, max_iter=1200, n_clusters=24, n_init=5...\n",
            "[CV 3/5; 61/160] END init=k-means++, max_iter=1200, n_clusters=24, n_init=5;, score=-4245.421 total time=   0.8s\n",
            "[CV 4/5; 61/160] START init=k-means++, max_iter=1200, n_clusters=24, n_init=5...\n",
            "[CV 4/5; 61/160] END init=k-means++, max_iter=1200, n_clusters=24, n_init=5;, score=-4231.524 total time=   0.6s\n",
            "[CV 5/5; 61/160] START init=k-means++, max_iter=1200, n_clusters=24, n_init=5...\n",
            "[CV 5/5; 61/160] END init=k-means++, max_iter=1200, n_clusters=24, n_init=5;, score=-4290.619 total time=   0.8s\n",
            "[CV 1/5; 62/160] START init=k-means++, max_iter=1200, n_clusters=24, n_init=10..\n",
            "[CV 1/5; 62/160] END init=k-means++, max_iter=1200, n_clusters=24, n_init=10;, score=-4154.252 total time=   1.5s\n",
            "[CV 2/5; 62/160] START init=k-means++, max_iter=1200, n_clusters=24, n_init=10..\n",
            "[CV 2/5; 62/160] END init=k-means++, max_iter=1200, n_clusters=24, n_init=10;, score=-4168.118 total time=   2.4s\n",
            "[CV 3/5; 62/160] START init=k-means++, max_iter=1200, n_clusters=24, n_init=10..\n",
            "[CV 3/5; 62/160] END init=k-means++, max_iter=1200, n_clusters=24, n_init=10;, score=-4246.451 total time=   1.4s\n",
            "[CV 4/5; 62/160] START init=k-means++, max_iter=1200, n_clusters=24, n_init=10..\n",
            "[CV 4/5; 62/160] END init=k-means++, max_iter=1200, n_clusters=24, n_init=10;, score=-4209.022 total time=   1.3s\n",
            "[CV 5/5; 62/160] START init=k-means++, max_iter=1200, n_clusters=24, n_init=10..\n",
            "[CV 5/5; 62/160] END init=k-means++, max_iter=1200, n_clusters=24, n_init=10;, score=-4297.475 total time=   1.7s\n",
            "[CV 1/5; 63/160] START init=k-means++, max_iter=1200, n_clusters=24, n_init=15..\n",
            "[CV 1/5; 63/160] END init=k-means++, max_iter=1200, n_clusters=24, n_init=15;, score=-4159.889 total time=   1.8s\n",
            "[CV 2/5; 63/160] START init=k-means++, max_iter=1200, n_clusters=24, n_init=15..\n",
            "[CV 2/5; 63/160] END init=k-means++, max_iter=1200, n_clusters=24, n_init=15;, score=-4164.557 total time=   2.4s\n",
            "[CV 3/5; 63/160] START init=k-means++, max_iter=1200, n_clusters=24, n_init=15..\n",
            "[CV 3/5; 63/160] END init=k-means++, max_iter=1200, n_clusters=24, n_init=15;, score=-4263.724 total time=   3.5s\n",
            "[CV 4/5; 63/160] START init=k-means++, max_iter=1200, n_clusters=24, n_init=15..\n",
            "[CV 4/5; 63/160] END init=k-means++, max_iter=1200, n_clusters=24, n_init=15;, score=-4239.652 total time=   2.2s\n",
            "[CV 5/5; 63/160] START init=k-means++, max_iter=1200, n_clusters=24, n_init=15..\n",
            "[CV 5/5; 63/160] END init=k-means++, max_iter=1200, n_clusters=24, n_init=15;, score=-4211.926 total time=   2.1s\n",
            "[CV 1/5; 64/160] START init=k-means++, max_iter=1200, n_clusters=24, n_init=20..\n",
            "[CV 1/5; 64/160] END init=k-means++, max_iter=1200, n_clusters=24, n_init=20;, score=-4172.029 total time=   2.8s\n",
            "[CV 2/5; 64/160] START init=k-means++, max_iter=1200, n_clusters=24, n_init=20..\n",
            "[CV 2/5; 64/160] END init=k-means++, max_iter=1200, n_clusters=24, n_init=20;, score=-4181.872 total time=   4.2s\n",
            "[CV 3/5; 64/160] START init=k-means++, max_iter=1200, n_clusters=24, n_init=20..\n",
            "[CV 3/5; 64/160] END init=k-means++, max_iter=1200, n_clusters=24, n_init=20;, score=-4244.176 total time=   3.1s\n",
            "[CV 4/5; 64/160] START init=k-means++, max_iter=1200, n_clusters=24, n_init=20..\n",
            "[CV 4/5; 64/160] END init=k-means++, max_iter=1200, n_clusters=24, n_init=20;, score=-4246.593 total time=   2.9s\n",
            "[CV 5/5; 64/160] START init=k-means++, max_iter=1200, n_clusters=24, n_init=20..\n",
            "[CV 5/5; 64/160] END init=k-means++, max_iter=1200, n_clusters=24, n_init=20;, score=-4311.644 total time=   2.9s\n",
            "[CV 1/5; 65/160] START init=k-means++, max_iter=1500, n_clusters=6, n_init=5....\n",
            "[CV 1/5; 65/160] END init=k-means++, max_iter=1500, n_clusters=6, n_init=5;, score=-7309.047 total time=   0.4s\n",
            "[CV 2/5; 65/160] START init=k-means++, max_iter=1500, n_clusters=6, n_init=5....\n",
            "[CV 2/5; 65/160] END init=k-means++, max_iter=1500, n_clusters=6, n_init=5;, score=-7284.785 total time=   0.3s\n",
            "[CV 3/5; 65/160] START init=k-means++, max_iter=1500, n_clusters=6, n_init=5....\n",
            "[CV 3/5; 65/160] END init=k-means++, max_iter=1500, n_clusters=6, n_init=5;, score=-7604.289 total time=   0.4s\n",
            "[CV 4/5; 65/160] START init=k-means++, max_iter=1500, n_clusters=6, n_init=5....\n",
            "[CV 4/5; 65/160] END init=k-means++, max_iter=1500, n_clusters=6, n_init=5;, score=-7458.216 total time=   0.7s\n",
            "[CV 5/5; 65/160] START init=k-means++, max_iter=1500, n_clusters=6, n_init=5....\n",
            "[CV 5/5; 65/160] END init=k-means++, max_iter=1500, n_clusters=6, n_init=5;, score=-7522.658 total time=   0.9s\n",
            "[CV 1/5; 66/160] START init=k-means++, max_iter=1500, n_clusters=6, n_init=10...\n",
            "[CV 1/5; 66/160] END init=k-means++, max_iter=1500, n_clusters=6, n_init=10;, score=-7309.047 total time=   1.0s\n",
            "[CV 2/5; 66/160] START init=k-means++, max_iter=1500, n_clusters=6, n_init=10...\n",
            "[CV 2/5; 66/160] END init=k-means++, max_iter=1500, n_clusters=6, n_init=10;, score=-7285.107 total time=   0.6s\n",
            "[CV 3/5; 66/160] START init=k-means++, max_iter=1500, n_clusters=6, n_init=10...\n",
            "[CV 3/5; 66/160] END init=k-means++, max_iter=1500, n_clusters=6, n_init=10;, score=-7604.315 total time=   0.9s\n",
            "[CV 4/5; 66/160] START init=k-means++, max_iter=1500, n_clusters=6, n_init=10...\n",
            "[CV 4/5; 66/160] END init=k-means++, max_iter=1500, n_clusters=6, n_init=10;, score=-7458.845 total time=   0.9s\n",
            "[CV 5/5; 66/160] START init=k-means++, max_iter=1500, n_clusters=6, n_init=10...\n",
            "[CV 5/5; 66/160] END init=k-means++, max_iter=1500, n_clusters=6, n_init=10;, score=-7520.871 total time=   1.0s\n",
            "[CV 1/5; 67/160] START init=k-means++, max_iter=1500, n_clusters=6, n_init=15...\n",
            "[CV 1/5; 67/160] END init=k-means++, max_iter=1500, n_clusters=6, n_init=15;, score=-7309.130 total time=   1.2s\n",
            "[CV 2/5; 67/160] START init=k-means++, max_iter=1500, n_clusters=6, n_init=15...\n",
            "[CV 2/5; 67/160] END init=k-means++, max_iter=1500, n_clusters=6, n_init=15;, score=-7284.336 total time=   1.4s\n",
            "[CV 3/5; 67/160] START init=k-means++, max_iter=1500, n_clusters=6, n_init=15...\n",
            "[CV 3/5; 67/160] END init=k-means++, max_iter=1500, n_clusters=6, n_init=15;, score=-7604.289 total time=   1.1s\n",
            "[CV 4/5; 67/160] START init=k-means++, max_iter=1500, n_clusters=6, n_init=15...\n",
            "[CV 4/5; 67/160] END init=k-means++, max_iter=1500, n_clusters=6, n_init=15;, score=-7459.113 total time=   1.4s\n",
            "[CV 5/5; 67/160] START init=k-means++, max_iter=1500, n_clusters=6, n_init=15...\n",
            "[CV 5/5; 67/160] END init=k-means++, max_iter=1500, n_clusters=6, n_init=15;, score=-7522.527 total time=   1.4s\n",
            "[CV 1/5; 68/160] START init=k-means++, max_iter=1500, n_clusters=6, n_init=20...\n",
            "[CV 1/5; 68/160] END init=k-means++, max_iter=1500, n_clusters=6, n_init=20;, score=-7309.629 total time=   2.5s\n",
            "[CV 2/5; 68/160] START init=k-means++, max_iter=1500, n_clusters=6, n_init=20...\n",
            "[CV 2/5; 68/160] END init=k-means++, max_iter=1500, n_clusters=6, n_init=20;, score=-7284.923 total time=   1.8s\n",
            "[CV 3/5; 68/160] START init=k-means++, max_iter=1500, n_clusters=6, n_init=20...\n",
            "[CV 3/5; 68/160] END init=k-means++, max_iter=1500, n_clusters=6, n_init=20;, score=-7604.289 total time=   1.4s\n",
            "[CV 4/5; 68/160] START init=k-means++, max_iter=1500, n_clusters=6, n_init=20...\n",
            "[CV 4/5; 68/160] END init=k-means++, max_iter=1500, n_clusters=6, n_init=20;, score=-7458.865 total time=   1.7s\n",
            "[CV 5/5; 68/160] START init=k-means++, max_iter=1500, n_clusters=6, n_init=20...\n",
            "[CV 5/5; 68/160] END init=k-means++, max_iter=1500, n_clusters=6, n_init=20;, score=-7522.658 total time=   2.0s\n",
            "[CV 1/5; 69/160] START init=k-means++, max_iter=1500, n_clusters=12, n_init=5...\n",
            "[CV 1/5; 69/160] END init=k-means++, max_iter=1500, n_clusters=12, n_init=5;, score=-5124.080 total time=   0.6s\n",
            "[CV 2/5; 69/160] START init=k-means++, max_iter=1500, n_clusters=12, n_init=5...\n",
            "[CV 2/5; 69/160] END init=k-means++, max_iter=1500, n_clusters=12, n_init=5;, score=-5178.227 total time=   0.7s\n",
            "[CV 3/5; 69/160] START init=k-means++, max_iter=1500, n_clusters=12, n_init=5...\n",
            "[CV 3/5; 69/160] END init=k-means++, max_iter=1500, n_clusters=12, n_init=5;, score=-5268.986 total time=   0.5s\n",
            "[CV 4/5; 69/160] START init=k-means++, max_iter=1500, n_clusters=12, n_init=5...\n",
            "[CV 4/5; 69/160] END init=k-means++, max_iter=1500, n_clusters=12, n_init=5;, score=-5289.488 total time=   0.7s\n",
            "[CV 5/5; 69/160] START init=k-means++, max_iter=1500, n_clusters=12, n_init=5...\n",
            "[CV 5/5; 69/160] END init=k-means++, max_iter=1500, n_clusters=12, n_init=5;, score=-5301.323 total time=   1.7s\n",
            "[CV 1/5; 70/160] START init=k-means++, max_iter=1500, n_clusters=12, n_init=10..\n",
            "[CV 1/5; 70/160] END init=k-means++, max_iter=1500, n_clusters=12, n_init=10;, score=-5123.734 total time=   1.3s\n",
            "[CV 2/5; 70/160] START init=k-means++, max_iter=1500, n_clusters=12, n_init=10..\n",
            "[CV 2/5; 70/160] END init=k-means++, max_iter=1500, n_clusters=12, n_init=10;, score=-5178.402 total time=   0.8s\n",
            "[CV 3/5; 70/160] START init=k-means++, max_iter=1500, n_clusters=12, n_init=10..\n",
            "[CV 3/5; 70/160] END init=k-means++, max_iter=1500, n_clusters=12, n_init=10;, score=-5271.827 total time=   1.0s\n",
            "[CV 4/5; 70/160] START init=k-means++, max_iter=1500, n_clusters=12, n_init=10..\n",
            "[CV 4/5; 70/160] END init=k-means++, max_iter=1500, n_clusters=12, n_init=10;, score=-5290.750 total time=   1.1s\n",
            "[CV 5/5; 70/160] START init=k-means++, max_iter=1500, n_clusters=12, n_init=10..\n",
            "[CV 5/5; 70/160] END init=k-means++, max_iter=1500, n_clusters=12, n_init=10;, score=-5267.301 total time=   0.9s\n",
            "[CV 1/5; 71/160] START init=k-means++, max_iter=1500, n_clusters=12, n_init=15..\n",
            "[CV 1/5; 71/160] END init=k-means++, max_iter=1500, n_clusters=12, n_init=15;, score=-5123.978 total time=   1.6s\n",
            "[CV 2/5; 71/160] START init=k-means++, max_iter=1500, n_clusters=12, n_init=15..\n",
            "[CV 2/5; 71/160] END init=k-means++, max_iter=1500, n_clusters=12, n_init=15;, score=-5178.227 total time=   1.8s\n",
            "[CV 3/5; 71/160] START init=k-means++, max_iter=1500, n_clusters=12, n_init=15..\n",
            "[CV 3/5; 71/160] END init=k-means++, max_iter=1500, n_clusters=12, n_init=15;, score=-5246.747 total time=   1.8s\n",
            "[CV 4/5; 71/160] START init=k-means++, max_iter=1500, n_clusters=12, n_init=15..\n",
            "[CV 4/5; 71/160] END init=k-means++, max_iter=1500, n_clusters=12, n_init=15;, score=-5292.631 total time=   2.5s\n",
            "[CV 5/5; 71/160] START init=k-means++, max_iter=1500, n_clusters=12, n_init=15..\n",
            "[CV 5/5; 71/160] END init=k-means++, max_iter=1500, n_clusters=12, n_init=15;, score=-5270.442 total time=   1.8s\n",
            "[CV 1/5; 72/160] START init=k-means++, max_iter=1500, n_clusters=12, n_init=20..\n",
            "[CV 1/5; 72/160] END init=k-means++, max_iter=1500, n_clusters=12, n_init=20;, score=-5124.304 total time=   2.1s\n",
            "[CV 2/5; 72/160] START init=k-means++, max_iter=1500, n_clusters=12, n_init=20..\n",
            "[CV 2/5; 72/160] END init=k-means++, max_iter=1500, n_clusters=12, n_init=20;, score=-5178.460 total time=   2.1s\n",
            "[CV 3/5; 72/160] START init=k-means++, max_iter=1500, n_clusters=12, n_init=20..\n",
            "[CV 3/5; 72/160] END init=k-means++, max_iter=1500, n_clusters=12, n_init=20;, score=-5269.272 total time=   2.5s\n",
            "[CV 4/5; 72/160] START init=k-means++, max_iter=1500, n_clusters=12, n_init=20..\n",
            "[CV 4/5; 72/160] END init=k-means++, max_iter=1500, n_clusters=12, n_init=20;, score=-5292.539 total time=   3.5s\n",
            "[CV 5/5; 72/160] START init=k-means++, max_iter=1500, n_clusters=12, n_init=20..\n",
            "[CV 5/5; 72/160] END init=k-means++, max_iter=1500, n_clusters=12, n_init=20;, score=-5272.558 total time=   2.2s\n",
            "[CV 1/5; 73/160] START init=k-means++, max_iter=1500, n_clusters=18, n_init=5...\n",
            "[CV 1/5; 73/160] END init=k-means++, max_iter=1500, n_clusters=18, n_init=5;, score=-4531.099 total time=   0.7s\n",
            "[CV 2/5; 73/160] START init=k-means++, max_iter=1500, n_clusters=18, n_init=5...\n",
            "[CV 2/5; 73/160] END init=k-means++, max_iter=1500, n_clusters=18, n_init=5;, score=-4579.851 total time=   0.6s\n",
            "[CV 3/5; 73/160] START init=k-means++, max_iter=1500, n_clusters=18, n_init=5...\n",
            "[CV 3/5; 73/160] END init=k-means++, max_iter=1500, n_clusters=18, n_init=5;, score=-4627.077 total time=   0.7s\n",
            "[CV 4/5; 73/160] START init=k-means++, max_iter=1500, n_clusters=18, n_init=5...\n",
            "[CV 4/5; 73/160] END init=k-means++, max_iter=1500, n_clusters=18, n_init=5;, score=-4600.552 total time=   0.8s\n",
            "[CV 5/5; 73/160] START init=k-means++, max_iter=1500, n_clusters=18, n_init=5...\n",
            "[CV 5/5; 73/160] END init=k-means++, max_iter=1500, n_clusters=18, n_init=5;, score=-4608.563 total time=   0.6s\n",
            "[CV 1/5; 74/160] START init=k-means++, max_iter=1500, n_clusters=18, n_init=10..\n",
            "[CV 1/5; 74/160] END init=k-means++, max_iter=1500, n_clusters=18, n_init=10;, score=-4505.932 total time=   1.4s\n",
            "[CV 2/5; 74/160] START init=k-means++, max_iter=1500, n_clusters=18, n_init=10..\n",
            "[CV 2/5; 74/160] END init=k-means++, max_iter=1500, n_clusters=18, n_init=10;, score=-4566.579 total time=   1.3s\n",
            "[CV 3/5; 74/160] START init=k-means++, max_iter=1500, n_clusters=18, n_init=10..\n",
            "[CV 3/5; 74/160] END init=k-means++, max_iter=1500, n_clusters=18, n_init=10;, score=-4654.783 total time=   1.6s\n",
            "[CV 4/5; 74/160] START init=k-means++, max_iter=1500, n_clusters=18, n_init=10..\n",
            "[CV 4/5; 74/160] END init=k-means++, max_iter=1500, n_clusters=18, n_init=10;, score=-4596.324 total time=   2.5s\n",
            "[CV 5/5; 74/160] START init=k-means++, max_iter=1500, n_clusters=18, n_init=10..\n",
            "[CV 5/5; 74/160] END init=k-means++, max_iter=1500, n_clusters=18, n_init=10;, score=-4591.008 total time=   2.7s\n",
            "[CV 1/5; 75/160] START init=k-means++, max_iter=1500, n_clusters=18, n_init=15..\n",
            "[CV 1/5; 75/160] END init=k-means++, max_iter=1500, n_clusters=18, n_init=15;, score=-4490.823 total time=   2.3s\n",
            "[CV 2/5; 75/160] START init=k-means++, max_iter=1500, n_clusters=18, n_init=15..\n",
            "[CV 2/5; 75/160] END init=k-means++, max_iter=1500, n_clusters=18, n_init=15;, score=-4546.399 total time=   2.0s\n",
            "[CV 3/5; 75/160] START init=k-means++, max_iter=1500, n_clusters=18, n_init=15..\n",
            "[CV 3/5; 75/160] END init=k-means++, max_iter=1500, n_clusters=18, n_init=15;, score=-4595.858 total time=   1.8s\n",
            "[CV 4/5; 75/160] START init=k-means++, max_iter=1500, n_clusters=18, n_init=15..\n",
            "[CV 4/5; 75/160] END init=k-means++, max_iter=1500, n_clusters=18, n_init=15;, score=-4594.788 total time=   3.5s\n",
            "[CV 5/5; 75/160] START init=k-means++, max_iter=1500, n_clusters=18, n_init=15..\n",
            "[CV 5/5; 75/160] END init=k-means++, max_iter=1500, n_clusters=18, n_init=15;, score=-4631.442 total time=   2.1s\n",
            "[CV 1/5; 76/160] START init=k-means++, max_iter=1500, n_clusters=18, n_init=20..\n",
            "[CV 1/5; 76/160] END init=k-means++, max_iter=1500, n_clusters=18, n_init=20;, score=-4506.679 total time=   2.7s\n",
            "[CV 2/5; 76/160] START init=k-means++, max_iter=1500, n_clusters=18, n_init=20..\n",
            "[CV 2/5; 76/160] END init=k-means++, max_iter=1500, n_clusters=18, n_init=20;, score=-4566.206 total time=   2.3s\n",
            "[CV 3/5; 76/160] START init=k-means++, max_iter=1500, n_clusters=18, n_init=20..\n",
            "[CV 3/5; 76/160] END init=k-means++, max_iter=1500, n_clusters=18, n_init=20;, score=-4594.601 total time=   4.2s\n",
            "[CV 4/5; 76/160] START init=k-means++, max_iter=1500, n_clusters=18, n_init=20..\n",
            "[CV 4/5; 76/160] END init=k-means++, max_iter=1500, n_clusters=18, n_init=20;, score=-4577.293 total time=   2.8s\n",
            "[CV 5/5; 76/160] START init=k-means++, max_iter=1500, n_clusters=18, n_init=20..\n",
            "[CV 5/5; 76/160] END init=k-means++, max_iter=1500, n_clusters=18, n_init=20;, score=-4595.737 total time=   2.4s\n",
            "[CV 1/5; 77/160] START init=k-means++, max_iter=1500, n_clusters=24, n_init=5...\n",
            "[CV 1/5; 77/160] END init=k-means++, max_iter=1500, n_clusters=24, n_init=5;, score=-4150.321 total time=   0.7s\n",
            "[CV 2/5; 77/160] START init=k-means++, max_iter=1500, n_clusters=24, n_init=5...\n",
            "[CV 2/5; 77/160] END init=k-means++, max_iter=1500, n_clusters=24, n_init=5;, score=-4161.821 total time=   0.9s\n",
            "[CV 3/5; 77/160] START init=k-means++, max_iter=1500, n_clusters=24, n_init=5...\n",
            "[CV 3/5; 77/160] END init=k-means++, max_iter=1500, n_clusters=24, n_init=5;, score=-4257.183 total time=   0.7s\n",
            "[CV 4/5; 77/160] START init=k-means++, max_iter=1500, n_clusters=24, n_init=5...\n",
            "[CV 4/5; 77/160] END init=k-means++, max_iter=1500, n_clusters=24, n_init=5;, score=-4255.607 total time=   0.7s\n",
            "[CV 5/5; 77/160] START init=k-means++, max_iter=1500, n_clusters=24, n_init=5...\n",
            "[CV 5/5; 77/160] END init=k-means++, max_iter=1500, n_clusters=24, n_init=5;, score=-4302.030 total time=   0.7s\n",
            "[CV 1/5; 78/160] START init=k-means++, max_iter=1500, n_clusters=24, n_init=10..\n",
            "[CV 1/5; 78/160] END init=k-means++, max_iter=1500, n_clusters=24, n_init=10;, score=-4148.391 total time=   2.9s\n",
            "[CV 2/5; 78/160] START init=k-means++, max_iter=1500, n_clusters=24, n_init=10..\n",
            "[CV 2/5; 78/160] END init=k-means++, max_iter=1500, n_clusters=24, n_init=10;, score=-4179.087 total time=   1.6s\n",
            "[CV 3/5; 78/160] START init=k-means++, max_iter=1500, n_clusters=24, n_init=10..\n",
            "[CV 3/5; 78/160] END init=k-means++, max_iter=1500, n_clusters=24, n_init=10;, score=-4275.886 total time=   1.4s\n",
            "[CV 4/5; 78/160] START init=k-means++, max_iter=1500, n_clusters=24, n_init=10..\n",
            "[CV 4/5; 78/160] END init=k-means++, max_iter=1500, n_clusters=24, n_init=10;, score=-4262.912 total time=   1.4s\n",
            "[CV 5/5; 78/160] START init=k-means++, max_iter=1500, n_clusters=24, n_init=10..\n",
            "[CV 5/5; 78/160] END init=k-means++, max_iter=1500, n_clusters=24, n_init=10;, score=-4272.544 total time=   1.3s\n",
            "[CV 1/5; 79/160] START init=k-means++, max_iter=1500, n_clusters=24, n_init=15..\n",
            "[CV 1/5; 79/160] END init=k-means++, max_iter=1500, n_clusters=24, n_init=15;, score=-4137.435 total time=   2.2s\n",
            "[CV 2/5; 79/160] START init=k-means++, max_iter=1500, n_clusters=24, n_init=15..\n",
            "[CV 2/5; 79/160] END init=k-means++, max_iter=1500, n_clusters=24, n_init=15;, score=-4150.520 total time=   2.8s\n",
            "[CV 3/5; 79/160] START init=k-means++, max_iter=1500, n_clusters=24, n_init=15..\n",
            "[CV 3/5; 79/160] END init=k-means++, max_iter=1500, n_clusters=24, n_init=15;, score=-4240.933 total time=   3.0s\n",
            "[CV 4/5; 79/160] START init=k-means++, max_iter=1500, n_clusters=24, n_init=15..\n",
            "[CV 4/5; 79/160] END init=k-means++, max_iter=1500, n_clusters=24, n_init=15;, score=-4226.162 total time=   2.5s\n",
            "[CV 5/5; 79/160] START init=k-means++, max_iter=1500, n_clusters=24, n_init=15..\n",
            "[CV 5/5; 79/160] END init=k-means++, max_iter=1500, n_clusters=24, n_init=15;, score=-4309.027 total time=   2.1s\n",
            "[CV 1/5; 80/160] START init=k-means++, max_iter=1500, n_clusters=24, n_init=20..\n",
            "[CV 1/5; 80/160] END init=k-means++, max_iter=1500, n_clusters=24, n_init=20;, score=-4167.652 total time=   2.7s\n",
            "[CV 2/5; 80/160] START init=k-means++, max_iter=1500, n_clusters=24, n_init=20..\n",
            "[CV 2/5; 80/160] END init=k-means++, max_iter=1500, n_clusters=24, n_init=20;, score=-4164.074 total time=   4.7s\n",
            "[CV 3/5; 80/160] START init=k-means++, max_iter=1500, n_clusters=24, n_init=20..\n",
            "[CV 3/5; 80/160] END init=k-means++, max_iter=1500, n_clusters=24, n_init=20;, score=-4239.982 total time=   3.4s\n",
            "[CV 4/5; 80/160] START init=k-means++, max_iter=1500, n_clusters=24, n_init=20..\n",
            "[CV 4/5; 80/160] END init=k-means++, max_iter=1500, n_clusters=24, n_init=20;, score=-4210.563 total time=   2.7s\n",
            "[CV 5/5; 80/160] START init=k-means++, max_iter=1500, n_clusters=24, n_init=20..\n",
            "[CV 5/5; 80/160] END init=k-means++, max_iter=1500, n_clusters=24, n_init=20;, score=-4295.491 total time=   4.4s\n",
            "[CV 1/5; 81/160] START init=random, max_iter=300, n_clusters=6, n_init=5........\n",
            "[CV 1/5; 81/160] END init=random, max_iter=300, n_clusters=6, n_init=5;, score=-7309.963 total time=   0.1s\n",
            "[CV 2/5; 81/160] START init=random, max_iter=300, n_clusters=6, n_init=5........\n",
            "[CV 2/5; 81/160] END init=random, max_iter=300, n_clusters=6, n_init=5;, score=-7284.171 total time=   0.1s\n",
            "[CV 3/5; 81/160] START init=random, max_iter=300, n_clusters=6, n_init=5........\n",
            "[CV 3/5; 81/160] END init=random, max_iter=300, n_clusters=6, n_init=5;, score=-7604.289 total time=   0.0s\n",
            "[CV 4/5; 81/160] START init=random, max_iter=300, n_clusters=6, n_init=5........\n",
            "[CV 4/5; 81/160] END init=random, max_iter=300, n_clusters=6, n_init=5;, score=-7458.152 total time=   0.1s\n",
            "[CV 5/5; 81/160] START init=random, max_iter=300, n_clusters=6, n_init=5........\n",
            "[CV 5/5; 81/160] END init=random, max_iter=300, n_clusters=6, n_init=5;, score=-7522.293 total time=   0.1s\n",
            "[CV 1/5; 82/160] START init=random, max_iter=300, n_clusters=6, n_init=10.......\n",
            "[CV 1/5; 82/160] END init=random, max_iter=300, n_clusters=6, n_init=10;, score=-7309.214 total time=   0.1s\n",
            "[CV 2/5; 82/160] START init=random, max_iter=300, n_clusters=6, n_init=10.......\n",
            "[CV 2/5; 82/160] END init=random, max_iter=300, n_clusters=6, n_init=10;, score=-7284.483 total time=   0.1s\n",
            "[CV 3/5; 82/160] START init=random, max_iter=300, n_clusters=6, n_init=10.......\n",
            "[CV 3/5; 82/160] END init=random, max_iter=300, n_clusters=6, n_init=10;, score=-7604.315 total time=   0.1s\n",
            "[CV 4/5; 82/160] START init=random, max_iter=300, n_clusters=6, n_init=10.......\n",
            "[CV 4/5; 82/160] END init=random, max_iter=300, n_clusters=6, n_init=10;, score=-7459.046 total time=   0.1s\n",
            "[CV 5/5; 82/160] START init=random, max_iter=300, n_clusters=6, n_init=10.......\n",
            "[CV 5/5; 82/160] END init=random, max_iter=300, n_clusters=6, n_init=10;, score=-7522.644 total time=   0.1s\n",
            "[CV 1/5; 83/160] START init=random, max_iter=300, n_clusters=6, n_init=15.......\n",
            "[CV 1/5; 83/160] END init=random, max_iter=300, n_clusters=6, n_init=15;, score=-7309.130 total time=   0.1s\n",
            "[CV 2/5; 83/160] START init=random, max_iter=300, n_clusters=6, n_init=15.......\n",
            "[CV 2/5; 83/160] END init=random, max_iter=300, n_clusters=6, n_init=15;, score=-7284.336 total time=   0.1s\n",
            "[CV 3/5; 83/160] START init=random, max_iter=300, n_clusters=6, n_init=15.......\n",
            "[CV 3/5; 83/160] END init=random, max_iter=300, n_clusters=6, n_init=15;, score=-7604.289 total time=   0.1s\n",
            "[CV 4/5; 83/160] START init=random, max_iter=300, n_clusters=6, n_init=15.......\n",
            "[CV 4/5; 83/160] END init=random, max_iter=300, n_clusters=6, n_init=15;, score=-7458.195 total time=   0.2s\n",
            "[CV 5/5; 83/160] START init=random, max_iter=300, n_clusters=6, n_init=15.......\n",
            "[CV 5/5; 83/160] END init=random, max_iter=300, n_clusters=6, n_init=15;, score=-7521.518 total time=   0.2s\n",
            "[CV 1/5; 84/160] START init=random, max_iter=300, n_clusters=6, n_init=20.......\n",
            "[CV 1/5; 84/160] END init=random, max_iter=300, n_clusters=6, n_init=20;, score=-7309.286 total time=   0.2s\n",
            "[CV 2/5; 84/160] START init=random, max_iter=300, n_clusters=6, n_init=20.......\n",
            "[CV 2/5; 84/160] END init=random, max_iter=300, n_clusters=6, n_init=20;, score=-7284.483 total time=   0.2s\n",
            "[CV 3/5; 84/160] START init=random, max_iter=300, n_clusters=6, n_init=20.......\n",
            "[CV 3/5; 84/160] END init=random, max_iter=300, n_clusters=6, n_init=20;, score=-7604.410 total time=   0.2s\n",
            "[CV 4/5; 84/160] START init=random, max_iter=300, n_clusters=6, n_init=20.......\n",
            "[CV 4/5; 84/160] END init=random, max_iter=300, n_clusters=6, n_init=20;, score=-7458.852 total time=   0.3s\n",
            "[CV 5/5; 84/160] START init=random, max_iter=300, n_clusters=6, n_init=20.......\n",
            "[CV 5/5; 84/160] END init=random, max_iter=300, n_clusters=6, n_init=20;, score=-7521.591 total time=   0.2s\n",
            "[CV 1/5; 85/160] START init=random, max_iter=300, n_clusters=12, n_init=5.......\n",
            "[CV 1/5; 85/160] END init=random, max_iter=300, n_clusters=12, n_init=5;, score=-5124.304 total time=   0.1s\n",
            "[CV 2/5; 85/160] START init=random, max_iter=300, n_clusters=12, n_init=5.......\n",
            "[CV 2/5; 85/160] END init=random, max_iter=300, n_clusters=12, n_init=5;, score=-5178.516 total time=   0.1s\n",
            "[CV 3/5; 85/160] START init=random, max_iter=300, n_clusters=12, n_init=5.......\n",
            "[CV 3/5; 85/160] END init=random, max_iter=300, n_clusters=12, n_init=5;, score=-5274.858 total time=   0.1s\n",
            "[CV 4/5; 85/160] START init=random, max_iter=300, n_clusters=12, n_init=5.......\n",
            "[CV 4/5; 85/160] END init=random, max_iter=300, n_clusters=12, n_init=5;, score=-5345.072 total time=   0.1s\n",
            "[CV 5/5; 85/160] START init=random, max_iter=300, n_clusters=12, n_init=5.......\n",
            "[CV 5/5; 85/160] END init=random, max_iter=300, n_clusters=12, n_init=5;, score=-5267.332 total time=   0.2s\n",
            "[CV 1/5; 86/160] START init=random, max_iter=300, n_clusters=12, n_init=10......\n",
            "[CV 1/5; 86/160] END init=random, max_iter=300, n_clusters=12, n_init=10;, score=-5124.353 total time=   0.2s\n",
            "[CV 2/5; 86/160] START init=random, max_iter=300, n_clusters=12, n_init=10......\n",
            "[CV 2/5; 86/160] END init=random, max_iter=300, n_clusters=12, n_init=10;, score=-5178.429 total time=   0.2s\n",
            "[CV 3/5; 86/160] START init=random, max_iter=300, n_clusters=12, n_init=10......\n",
            "[CV 3/5; 86/160] END init=random, max_iter=300, n_clusters=12, n_init=10;, score=-5274.858 total time=   0.2s\n",
            "[CV 4/5; 86/160] START init=random, max_iter=300, n_clusters=12, n_init=10......\n",
            "[CV 4/5; 86/160] END init=random, max_iter=300, n_clusters=12, n_init=10;, score=-5275.608 total time=   0.2s\n",
            "[CV 5/5; 86/160] START init=random, max_iter=300, n_clusters=12, n_init=10......\n",
            "[CV 5/5; 86/160] END init=random, max_iter=300, n_clusters=12, n_init=10;, score=-5402.740 total time=   0.2s\n",
            "[CV 1/5; 87/160] START init=random, max_iter=300, n_clusters=12, n_init=15......\n",
            "[CV 1/5; 87/160] END init=random, max_iter=300, n_clusters=12, n_init=15;, score=-5124.291 total time=   0.3s\n",
            "[CV 2/5; 87/160] START init=random, max_iter=300, n_clusters=12, n_init=15......\n",
            "[CV 2/5; 87/160] END init=random, max_iter=300, n_clusters=12, n_init=15;, score=-5178.606 total time=   0.3s\n",
            "[CV 3/5; 87/160] START init=random, max_iter=300, n_clusters=12, n_init=15......\n",
            "[CV 3/5; 87/160] END init=random, max_iter=300, n_clusters=12, n_init=15;, score=-5266.583 total time=   0.2s\n",
            "[CV 4/5; 87/160] START init=random, max_iter=300, n_clusters=12, n_init=15......\n",
            "[CV 4/5; 87/160] END init=random, max_iter=300, n_clusters=12, n_init=15;, score=-5292.262 total time=   0.3s\n",
            "[CV 5/5; 87/160] START init=random, max_iter=300, n_clusters=12, n_init=15......\n",
            "[CV 5/5; 87/160] END init=random, max_iter=300, n_clusters=12, n_init=15;, score=-5270.432 total time=   0.3s\n",
            "[CV 1/5; 88/160] START init=random, max_iter=300, n_clusters=12, n_init=20......\n",
            "[CV 1/5; 88/160] END init=random, max_iter=300, n_clusters=12, n_init=20;, score=-5124.304 total time=   0.3s\n",
            "[CV 2/5; 88/160] START init=random, max_iter=300, n_clusters=12, n_init=20......\n",
            "[CV 2/5; 88/160] END init=random, max_iter=300, n_clusters=12, n_init=20;, score=-5178.446 total time=   0.3s\n",
            "[CV 3/5; 88/160] START init=random, max_iter=300, n_clusters=12, n_init=20......\n",
            "[CV 3/5; 88/160] END init=random, max_iter=300, n_clusters=12, n_init=20;, score=-5270.038 total time=   0.4s\n",
            "[CV 4/5; 88/160] START init=random, max_iter=300, n_clusters=12, n_init=20......\n",
            "[CV 4/5; 88/160] END init=random, max_iter=300, n_clusters=12, n_init=20;, score=-5292.741 total time=   0.3s\n",
            "[CV 5/5; 88/160] START init=random, max_iter=300, n_clusters=12, n_init=20......\n",
            "[CV 5/5; 88/160] END init=random, max_iter=300, n_clusters=12, n_init=20;, score=-5270.761 total time=   0.3s\n",
            "[CV 1/5; 89/160] START init=random, max_iter=300, n_clusters=18, n_init=5.......\n",
            "[CV 1/5; 89/160] END init=random, max_iter=300, n_clusters=18, n_init=5;, score=-4547.288 total time=   0.1s\n",
            "[CV 2/5; 89/160] START init=random, max_iter=300, n_clusters=18, n_init=5.......\n",
            "[CV 2/5; 89/160] END init=random, max_iter=300, n_clusters=18, n_init=5;, score=-4591.750 total time=   0.1s\n",
            "[CV 3/5; 89/160] START init=random, max_iter=300, n_clusters=18, n_init=5.......\n",
            "[CV 3/5; 89/160] END init=random, max_iter=300, n_clusters=18, n_init=5;, score=-4588.689 total time=   0.1s\n",
            "[CV 4/5; 89/160] START init=random, max_iter=300, n_clusters=18, n_init=5.......\n",
            "[CV 4/5; 89/160] END init=random, max_iter=300, n_clusters=18, n_init=5;, score=-4608.248 total time=   0.1s\n",
            "[CV 5/5; 89/160] START init=random, max_iter=300, n_clusters=18, n_init=5.......\n",
            "[CV 5/5; 89/160] END init=random, max_iter=300, n_clusters=18, n_init=5;, score=-4655.334 total time=   0.1s\n",
            "[CV 1/5; 90/160] START init=random, max_iter=300, n_clusters=18, n_init=10......\n",
            "[CV 1/5; 90/160] END init=random, max_iter=300, n_clusters=18, n_init=10;, score=-4551.832 total time=   0.3s\n",
            "[CV 2/5; 90/160] START init=random, max_iter=300, n_clusters=18, n_init=10......\n",
            "[CV 2/5; 90/160] END init=random, max_iter=300, n_clusters=18, n_init=10;, score=-4555.585 total time=   0.3s\n",
            "[CV 3/5; 90/160] START init=random, max_iter=300, n_clusters=18, n_init=10......\n",
            "[CV 3/5; 90/160] END init=random, max_iter=300, n_clusters=18, n_init=10;, score=-4609.025 total time=   0.3s\n",
            "[CV 4/5; 90/160] START init=random, max_iter=300, n_clusters=18, n_init=10......\n",
            "[CV 4/5; 90/160] END init=random, max_iter=300, n_clusters=18, n_init=10;, score=-4656.710 total time=   0.2s\n",
            "[CV 5/5; 90/160] START init=random, max_iter=300, n_clusters=18, n_init=10......\n",
            "[CV 5/5; 90/160] END init=random, max_iter=300, n_clusters=18, n_init=10;, score=-4689.052 total time=   0.3s\n",
            "[CV 1/5; 91/160] START init=random, max_iter=300, n_clusters=18, n_init=15......\n",
            "[CV 1/5; 91/160] END init=random, max_iter=300, n_clusters=18, n_init=15;, score=-4529.456 total time=   2.0s\n",
            "[CV 2/5; 91/160] START init=random, max_iter=300, n_clusters=18, n_init=15......\n",
            "[CV 2/5; 91/160] END init=random, max_iter=300, n_clusters=18, n_init=15;, score=-4532.251 total time=   0.4s\n",
            "[CV 3/5; 91/160] START init=random, max_iter=300, n_clusters=18, n_init=15......\n",
            "[CV 3/5; 91/160] END init=random, max_iter=300, n_clusters=18, n_init=15;, score=-4590.859 total time=   0.4s\n",
            "[CV 4/5; 91/160] START init=random, max_iter=300, n_clusters=18, n_init=15......\n",
            "[CV 4/5; 91/160] END init=random, max_iter=300, n_clusters=18, n_init=15;, score=-4624.022 total time=   0.5s\n",
            "[CV 5/5; 91/160] START init=random, max_iter=300, n_clusters=18, n_init=15......\n",
            "[CV 5/5; 91/160] END init=random, max_iter=300, n_clusters=18, n_init=15;, score=-4609.370 total time=   0.4s\n",
            "[CV 1/5; 92/160] START init=random, max_iter=300, n_clusters=18, n_init=20......\n",
            "[CV 1/5; 92/160] END init=random, max_iter=300, n_clusters=18, n_init=20;, score=-4490.202 total time=   0.6s\n",
            "[CV 2/5; 92/160] START init=random, max_iter=300, n_clusters=18, n_init=20......\n",
            "[CV 2/5; 92/160] END init=random, max_iter=300, n_clusters=18, n_init=20;, score=-4565.347 total time=   0.5s\n",
            "[CV 3/5; 92/160] START init=random, max_iter=300, n_clusters=18, n_init=20......\n",
            "[CV 3/5; 92/160] END init=random, max_iter=300, n_clusters=18, n_init=20;, score=-4633.184 total time=   0.6s\n",
            "[CV 4/5; 92/160] START init=random, max_iter=300, n_clusters=18, n_init=20......\n",
            "[CV 4/5; 92/160] END init=random, max_iter=300, n_clusters=18, n_init=20;, score=-4591.766 total time=   0.6s\n",
            "[CV 5/5; 92/160] START init=random, max_iter=300, n_clusters=18, n_init=20......\n",
            "[CV 5/5; 92/160] END init=random, max_iter=300, n_clusters=18, n_init=20;, score=-4599.878 total time=   0.6s\n",
            "[CV 1/5; 93/160] START init=random, max_iter=300, n_clusters=24, n_init=5.......\n",
            "[CV 1/5; 93/160] END init=random, max_iter=300, n_clusters=24, n_init=5;, score=-4188.823 total time=   0.2s\n",
            "[CV 2/5; 93/160] START init=random, max_iter=300, n_clusters=24, n_init=5.......\n",
            "[CV 2/5; 93/160] END init=random, max_iter=300, n_clusters=24, n_init=5;, score=-4220.532 total time=   0.2s\n",
            "[CV 3/5; 93/160] START init=random, max_iter=300, n_clusters=24, n_init=5.......\n",
            "[CV 3/5; 93/160] END init=random, max_iter=300, n_clusters=24, n_init=5;, score=-4250.405 total time=   0.2s\n",
            "[CV 4/5; 93/160] START init=random, max_iter=300, n_clusters=24, n_init=5.......\n",
            "[CV 4/5; 93/160] END init=random, max_iter=300, n_clusters=24, n_init=5;, score=-4257.725 total time=   0.3s\n",
            "[CV 5/5; 93/160] START init=random, max_iter=300, n_clusters=24, n_init=5.......\n",
            "[CV 5/5; 93/160] END init=random, max_iter=300, n_clusters=24, n_init=5;, score=-4278.945 total time=   0.2s\n",
            "[CV 1/5; 94/160] START init=random, max_iter=300, n_clusters=24, n_init=10......\n",
            "[CV 1/5; 94/160] END init=random, max_iter=300, n_clusters=24, n_init=10;, score=-4159.718 total time=   0.4s\n",
            "[CV 2/5; 94/160] START init=random, max_iter=300, n_clusters=24, n_init=10......\n",
            "[CV 2/5; 94/160] END init=random, max_iter=300, n_clusters=24, n_init=10;, score=-4182.015 total time=   0.4s\n",
            "[CV 3/5; 94/160] START init=random, max_iter=300, n_clusters=24, n_init=10......\n",
            "[CV 3/5; 94/160] END init=random, max_iter=300, n_clusters=24, n_init=10;, score=-4249.885 total time=   0.4s\n",
            "[CV 4/5; 94/160] START init=random, max_iter=300, n_clusters=24, n_init=10......\n",
            "[CV 4/5; 94/160] END init=random, max_iter=300, n_clusters=24, n_init=10;, score=-4233.030 total time=   0.4s\n",
            "[CV 5/5; 94/160] START init=random, max_iter=300, n_clusters=24, n_init=10......\n",
            "[CV 5/5; 94/160] END init=random, max_iter=300, n_clusters=24, n_init=10;, score=-4288.071 total time=   0.4s\n",
            "[CV 1/5; 95/160] START init=random, max_iter=300, n_clusters=24, n_init=15......\n",
            "[CV 1/5; 95/160] END init=random, max_iter=300, n_clusters=24, n_init=15;, score=-4178.731 total time=   0.7s\n",
            "[CV 2/5; 95/160] START init=random, max_iter=300, n_clusters=24, n_init=15......\n",
            "[CV 2/5; 95/160] END init=random, max_iter=300, n_clusters=24, n_init=15;, score=-4198.082 total time=   0.6s\n",
            "[CV 3/5; 95/160] START init=random, max_iter=300, n_clusters=24, n_init=15......\n",
            "[CV 3/5; 95/160] END init=random, max_iter=300, n_clusters=24, n_init=15;, score=-4270.116 total time=   0.5s\n",
            "[CV 4/5; 95/160] START init=random, max_iter=300, n_clusters=24, n_init=15......\n",
            "[CV 4/5; 95/160] END init=random, max_iter=300, n_clusters=24, n_init=15;, score=-4224.457 total time=   2.3s\n",
            "[CV 5/5; 95/160] START init=random, max_iter=300, n_clusters=24, n_init=15......\n",
            "[CV 5/5; 95/160] END init=random, max_iter=300, n_clusters=24, n_init=15;, score=-4264.541 total time=   0.5s\n",
            "[CV 1/5; 96/160] START init=random, max_iter=300, n_clusters=24, n_init=20......\n",
            "[CV 1/5; 96/160] END init=random, max_iter=300, n_clusters=24, n_init=20;, score=-4196.997 total time=   0.8s\n",
            "[CV 2/5; 96/160] START init=random, max_iter=300, n_clusters=24, n_init=20......\n",
            "[CV 2/5; 96/160] END init=random, max_iter=300, n_clusters=24, n_init=20;, score=-4169.330 total time=   0.8s\n",
            "[CV 3/5; 96/160] START init=random, max_iter=300, n_clusters=24, n_init=20......\n",
            "[CV 3/5; 96/160] END init=random, max_iter=300, n_clusters=24, n_init=20;, score=-4257.406 total time=   0.7s\n",
            "[CV 4/5; 96/160] START init=random, max_iter=300, n_clusters=24, n_init=20......\n",
            "[CV 4/5; 96/160] END init=random, max_iter=300, n_clusters=24, n_init=20;, score=-4265.056 total time=   0.7s\n",
            "[CV 5/5; 96/160] START init=random, max_iter=300, n_clusters=24, n_init=20......\n",
            "[CV 5/5; 96/160] END init=random, max_iter=300, n_clusters=24, n_init=20;, score=-4253.199 total time=   0.7s\n",
            "[CV 1/5; 97/160] START init=random, max_iter=600, n_clusters=6, n_init=5........\n",
            "[CV 1/5; 97/160] END init=random, max_iter=600, n_clusters=6, n_init=5;, score=-7310.868 total time=   0.1s\n",
            "[CV 2/5; 97/160] START init=random, max_iter=600, n_clusters=6, n_init=5........\n",
            "[CV 2/5; 97/160] END init=random, max_iter=600, n_clusters=6, n_init=5;, score=-7285.169 total time=   0.1s\n",
            "[CV 3/5; 97/160] START init=random, max_iter=600, n_clusters=6, n_init=5........\n",
            "[CV 3/5; 97/160] END init=random, max_iter=600, n_clusters=6, n_init=5;, score=-7604.800 total time=   0.1s\n",
            "[CV 4/5; 97/160] START init=random, max_iter=600, n_clusters=6, n_init=5........\n",
            "[CV 4/5; 97/160] END init=random, max_iter=600, n_clusters=6, n_init=5;, score=-7458.460 total time=   0.1s\n",
            "[CV 5/5; 97/160] START init=random, max_iter=600, n_clusters=6, n_init=5........\n",
            "[CV 5/5; 97/160] END init=random, max_iter=600, n_clusters=6, n_init=5;, score=-7522.296 total time=   0.1s\n",
            "[CV 1/5; 98/160] START init=random, max_iter=600, n_clusters=6, n_init=10.......\n",
            "[CV 1/5; 98/160] END init=random, max_iter=600, n_clusters=6, n_init=10;, score=-7309.972 total time=   0.1s\n",
            "[CV 2/5; 98/160] START init=random, max_iter=600, n_clusters=6, n_init=10.......\n",
            "[CV 2/5; 98/160] END init=random, max_iter=600, n_clusters=6, n_init=10;, score=-7284.307 total time=   0.1s\n",
            "[CV 3/5; 98/160] START init=random, max_iter=600, n_clusters=6, n_init=10.......\n",
            "[CV 3/5; 98/160] END init=random, max_iter=600, n_clusters=6, n_init=10;, score=-7604.260 total time=   0.1s\n",
            "[CV 4/5; 98/160] START init=random, max_iter=600, n_clusters=6, n_init=10.......\n",
            "[CV 4/5; 98/160] END init=random, max_iter=600, n_clusters=6, n_init=10;, score=-7458.337 total time=   0.1s\n",
            "[CV 5/5; 98/160] START init=random, max_iter=600, n_clusters=6, n_init=10.......\n",
            "[CV 5/5; 98/160] END init=random, max_iter=600, n_clusters=6, n_init=10;, score=-7521.742 total time=   0.1s\n",
            "[CV 1/5; 99/160] START init=random, max_iter=600, n_clusters=6, n_init=15.......\n",
            "[CV 1/5; 99/160] END init=random, max_iter=600, n_clusters=6, n_init=15;, score=-7309.963 total time=   0.1s\n",
            "[CV 2/5; 99/160] START init=random, max_iter=600, n_clusters=6, n_init=15.......\n",
            "[CV 2/5; 99/160] END init=random, max_iter=600, n_clusters=6, n_init=15;, score=-7283.882 total time=   0.2s\n",
            "[CV 3/5; 99/160] START init=random, max_iter=600, n_clusters=6, n_init=15.......\n",
            "[CV 3/5; 99/160] END init=random, max_iter=600, n_clusters=6, n_init=15;, score=-7604.289 total time=   0.1s\n",
            "[CV 4/5; 99/160] START init=random, max_iter=600, n_clusters=6, n_init=15.......\n",
            "[CV 4/5; 99/160] END init=random, max_iter=600, n_clusters=6, n_init=15;, score=-7458.673 total time=   0.1s\n",
            "[CV 5/5; 99/160] START init=random, max_iter=600, n_clusters=6, n_init=15.......\n",
            "[CV 5/5; 99/160] END init=random, max_iter=600, n_clusters=6, n_init=15;, score=-7522.515 total time=   0.1s\n",
            "[CV 1/5; 100/160] START init=random, max_iter=600, n_clusters=6, n_init=20......\n",
            "[CV 1/5; 100/160] END init=random, max_iter=600, n_clusters=6, n_init=20;, score=-7309.963 total time=   0.2s\n",
            "[CV 2/5; 100/160] START init=random, max_iter=600, n_clusters=6, n_init=20......\n",
            "[CV 2/5; 100/160] END init=random, max_iter=600, n_clusters=6, n_init=20;, score=-7284.301 total time=   0.2s\n",
            "[CV 3/5; 100/160] START init=random, max_iter=600, n_clusters=6, n_init=20......\n",
            "[CV 3/5; 100/160] END init=random, max_iter=600, n_clusters=6, n_init=20;, score=-7604.289 total time=   0.2s\n",
            "[CV 4/5; 100/160] START init=random, max_iter=600, n_clusters=6, n_init=20......\n",
            "[CV 4/5; 100/160] END init=random, max_iter=600, n_clusters=6, n_init=20;, score=-7458.877 total time=   0.2s\n",
            "[CV 5/5; 100/160] START init=random, max_iter=600, n_clusters=6, n_init=20......\n",
            "[CV 5/5; 100/160] END init=random, max_iter=600, n_clusters=6, n_init=20;, score=-7522.348 total time=   0.2s\n",
            "[CV 1/5; 101/160] START init=random, max_iter=600, n_clusters=12, n_init=5......\n",
            "[CV 1/5; 101/160] END init=random, max_iter=600, n_clusters=12, n_init=5;, score=-5293.552 total time=   0.1s\n",
            "[CV 2/5; 101/160] START init=random, max_iter=600, n_clusters=12, n_init=5......\n",
            "[CV 2/5; 101/160] END init=random, max_iter=600, n_clusters=12, n_init=5;, score=-5206.994 total time=   0.1s\n",
            "[CV 3/5; 101/160] START init=random, max_iter=600, n_clusters=12, n_init=5......\n",
            "[CV 3/5; 101/160] END init=random, max_iter=600, n_clusters=12, n_init=5;, score=-5266.850 total time=   0.1s\n",
            "[CV 4/5; 101/160] START init=random, max_iter=600, n_clusters=12, n_init=5......\n",
            "[CV 4/5; 101/160] END init=random, max_iter=600, n_clusters=12, n_init=5;, score=-5270.195 total time=   0.1s\n",
            "[CV 5/5; 101/160] START init=random, max_iter=600, n_clusters=12, n_init=5......\n",
            "[CV 5/5; 101/160] END init=random, max_iter=600, n_clusters=12, n_init=5;, score=-5484.540 total time=   0.1s\n",
            "[CV 1/5; 102/160] START init=random, max_iter=600, n_clusters=12, n_init=10.....\n",
            "[CV 1/5; 102/160] END init=random, max_iter=600, n_clusters=12, n_init=10;, score=-5124.353 total time=   0.3s\n",
            "[CV 2/5; 102/160] START init=random, max_iter=600, n_clusters=12, n_init=10.....\n",
            "[CV 2/5; 102/160] END init=random, max_iter=600, n_clusters=12, n_init=10;, score=-5178.419 total time=   0.2s\n",
            "[CV 3/5; 102/160] START init=random, max_iter=600, n_clusters=12, n_init=10.....\n",
            "[CV 3/5; 102/160] END init=random, max_iter=600, n_clusters=12, n_init=10;, score=-5271.918 total time=   0.2s\n",
            "[CV 4/5; 102/160] START init=random, max_iter=600, n_clusters=12, n_init=10.....\n",
            "[CV 4/5; 102/160] END init=random, max_iter=600, n_clusters=12, n_init=10;, score=-5275.993 total time=   0.2s\n",
            "[CV 5/5; 102/160] START init=random, max_iter=600, n_clusters=12, n_init=10.....\n",
            "[CV 5/5; 102/160] END init=random, max_iter=600, n_clusters=12, n_init=10;, score=-5270.432 total time=   0.2s\n",
            "[CV 1/5; 103/160] START init=random, max_iter=600, n_clusters=12, n_init=15.....\n",
            "[CV 1/5; 103/160] END init=random, max_iter=600, n_clusters=12, n_init=15;, score=-5124.291 total time=   0.3s\n",
            "[CV 2/5; 103/160] START init=random, max_iter=600, n_clusters=12, n_init=15.....\n",
            "[CV 2/5; 103/160] END init=random, max_iter=600, n_clusters=12, n_init=15;, score=-5179.777 total time=   0.3s\n",
            "[CV 3/5; 103/160] START init=random, max_iter=600, n_clusters=12, n_init=15.....\n",
            "[CV 3/5; 103/160] END init=random, max_iter=600, n_clusters=12, n_init=15;, score=-5270.038 total time=   0.3s\n",
            "[CV 4/5; 103/160] START init=random, max_iter=600, n_clusters=12, n_init=15.....\n",
            "[CV 4/5; 103/160] END init=random, max_iter=600, n_clusters=12, n_init=15;, score=-5291.348 total time=   0.3s\n",
            "[CV 5/5; 103/160] START init=random, max_iter=600, n_clusters=12, n_init=15.....\n",
            "[CV 5/5; 103/160] END init=random, max_iter=600, n_clusters=12, n_init=15;, score=-5270.187 total time=   0.2s\n",
            "[CV 1/5; 104/160] START init=random, max_iter=600, n_clusters=12, n_init=20.....\n",
            "[CV 1/5; 104/160] END init=random, max_iter=600, n_clusters=12, n_init=20;, score=-5124.304 total time=   1.8s\n",
            "[CV 2/5; 104/160] START init=random, max_iter=600, n_clusters=12, n_init=20.....\n",
            "[CV 2/5; 104/160] END init=random, max_iter=600, n_clusters=12, n_init=20;, score=-5178.713 total time=   0.7s\n",
            "[CV 3/5; 104/160] START init=random, max_iter=600, n_clusters=12, n_init=20.....\n",
            "[CV 3/5; 104/160] END init=random, max_iter=600, n_clusters=12, n_init=20;, score=-5273.954 total time=   0.3s\n",
            "[CV 4/5; 104/160] START init=random, max_iter=600, n_clusters=12, n_init=20.....\n",
            "[CV 4/5; 104/160] END init=random, max_iter=600, n_clusters=12, n_init=20;, score=-5290.769 total time=   0.4s\n",
            "[CV 5/5; 104/160] START init=random, max_iter=600, n_clusters=12, n_init=20.....\n",
            "[CV 5/5; 104/160] END init=random, max_iter=600, n_clusters=12, n_init=20;, score=-5270.540 total time=   0.4s\n",
            "[CV 1/5; 105/160] START init=random, max_iter=600, n_clusters=18, n_init=5......\n",
            "[CV 1/5; 105/160] END init=random, max_iter=600, n_clusters=18, n_init=5;, score=-4525.443 total time=   0.2s\n",
            "[CV 2/5; 105/160] START init=random, max_iter=600, n_clusters=18, n_init=5......\n",
            "[CV 2/5; 105/160] END init=random, max_iter=600, n_clusters=18, n_init=5;, score=-4635.833 total time=   0.1s\n",
            "[CV 3/5; 105/160] START init=random, max_iter=600, n_clusters=18, n_init=5......\n",
            "[CV 3/5; 105/160] END init=random, max_iter=600, n_clusters=18, n_init=5;, score=-4606.034 total time=   0.1s\n",
            "[CV 4/5; 105/160] START init=random, max_iter=600, n_clusters=18, n_init=5......\n",
            "[CV 4/5; 105/160] END init=random, max_iter=600, n_clusters=18, n_init=5;, score=-4610.477 total time=   0.1s\n",
            "[CV 5/5; 105/160] START init=random, max_iter=600, n_clusters=18, n_init=5......\n",
            "[CV 5/5; 105/160] END init=random, max_iter=600, n_clusters=18, n_init=5;, score=-4686.244 total time=   0.1s\n",
            "[CV 1/5; 106/160] START init=random, max_iter=600, n_clusters=18, n_init=10.....\n",
            "[CV 1/5; 106/160] END init=random, max_iter=600, n_clusters=18, n_init=10;, score=-4499.059 total time=   0.3s\n",
            "[CV 2/5; 106/160] START init=random, max_iter=600, n_clusters=18, n_init=10.....\n",
            "[CV 2/5; 106/160] END init=random, max_iter=600, n_clusters=18, n_init=10;, score=-4558.474 total time=   0.3s\n",
            "[CV 3/5; 106/160] START init=random, max_iter=600, n_clusters=18, n_init=10.....\n",
            "[CV 3/5; 106/160] END init=random, max_iter=600, n_clusters=18, n_init=10;, score=-4603.338 total time=   0.3s\n",
            "[CV 4/5; 106/160] START init=random, max_iter=600, n_clusters=18, n_init=10.....\n",
            "[CV 4/5; 106/160] END init=random, max_iter=600, n_clusters=18, n_init=10;, score=-4609.192 total time=   0.3s\n",
            "[CV 5/5; 106/160] START init=random, max_iter=600, n_clusters=18, n_init=10.....\n",
            "[CV 5/5; 106/160] END init=random, max_iter=600, n_clusters=18, n_init=10;, score=-4635.630 total time=   0.3s\n",
            "[CV 1/5; 107/160] START init=random, max_iter=600, n_clusters=18, n_init=15.....\n",
            "[CV 1/5; 107/160] END init=random, max_iter=600, n_clusters=18, n_init=15;, score=-4540.922 total time=   0.4s\n",
            "[CV 2/5; 107/160] START init=random, max_iter=600, n_clusters=18, n_init=15.....\n",
            "[CV 2/5; 107/160] END init=random, max_iter=600, n_clusters=18, n_init=15;, score=-4576.087 total time=   0.4s\n",
            "[CV 3/5; 107/160] START init=random, max_iter=600, n_clusters=18, n_init=15.....\n",
            "[CV 3/5; 107/160] END init=random, max_iter=600, n_clusters=18, n_init=15;, score=-4602.309 total time=   0.4s\n",
            "[CV 4/5; 107/160] START init=random, max_iter=600, n_clusters=18, n_init=15.....\n",
            "[CV 4/5; 107/160] END init=random, max_iter=600, n_clusters=18, n_init=15;, score=-4601.394 total time=   0.5s\n",
            "[CV 5/5; 107/160] START init=random, max_iter=600, n_clusters=18, n_init=15.....\n",
            "[CV 5/5; 107/160] END init=random, max_iter=600, n_clusters=18, n_init=15;, score=-4645.955 total time=   0.4s\n",
            "[CV 1/5; 108/160] START init=random, max_iter=600, n_clusters=18, n_init=20.....\n",
            "[CV 1/5; 108/160] END init=random, max_iter=600, n_clusters=18, n_init=20;, score=-4495.578 total time=   0.6s\n",
            "[CV 2/5; 108/160] START init=random, max_iter=600, n_clusters=18, n_init=20.....\n",
            "[CV 2/5; 108/160] END init=random, max_iter=600, n_clusters=18, n_init=20;, score=-4550.430 total time=   0.6s\n",
            "[CV 3/5; 108/160] START init=random, max_iter=600, n_clusters=18, n_init=20.....\n",
            "[CV 3/5; 108/160] END init=random, max_iter=600, n_clusters=18, n_init=20;, score=-4612.321 total time=   0.7s\n",
            "[CV 4/5; 108/160] START init=random, max_iter=600, n_clusters=18, n_init=20.....\n",
            "[CV 4/5; 108/160] END init=random, max_iter=600, n_clusters=18, n_init=20;, score=-4589.268 total time=   0.6s\n",
            "[CV 5/5; 108/160] START init=random, max_iter=600, n_clusters=18, n_init=20.....\n",
            "[CV 5/5; 108/160] END init=random, max_iter=600, n_clusters=18, n_init=20;, score=-4643.308 total time=   0.6s\n",
            "[CV 1/5; 109/160] START init=random, max_iter=600, n_clusters=24, n_init=5......\n",
            "[CV 1/5; 109/160] END init=random, max_iter=600, n_clusters=24, n_init=5;, score=-4153.201 total time=   0.2s\n",
            "[CV 2/5; 109/160] START init=random, max_iter=600, n_clusters=24, n_init=5......\n",
            "[CV 2/5; 109/160] END init=random, max_iter=600, n_clusters=24, n_init=5;, score=-4205.454 total time=   0.2s\n",
            "[CV 3/5; 109/160] START init=random, max_iter=600, n_clusters=24, n_init=5......\n",
            "[CV 3/5; 109/160] END init=random, max_iter=600, n_clusters=24, n_init=5;, score=-4260.538 total time=   0.2s\n",
            "[CV 4/5; 109/160] START init=random, max_iter=600, n_clusters=24, n_init=5......\n",
            "[CV 4/5; 109/160] END init=random, max_iter=600, n_clusters=24, n_init=5;, score=-4258.878 total time=   0.3s\n",
            "[CV 5/5; 109/160] START init=random, max_iter=600, n_clusters=24, n_init=5......\n",
            "[CV 5/5; 109/160] END init=random, max_iter=600, n_clusters=24, n_init=5;, score=-4315.811 total time=   0.2s\n",
            "[CV 1/5; 110/160] START init=random, max_iter=600, n_clusters=24, n_init=10.....\n",
            "[CV 1/5; 110/160] END init=random, max_iter=600, n_clusters=24, n_init=10;, score=-4198.199 total time=   2.1s\n",
            "[CV 2/5; 110/160] START init=random, max_iter=600, n_clusters=24, n_init=10.....\n",
            "[CV 2/5; 110/160] END init=random, max_iter=600, n_clusters=24, n_init=10;, score=-4157.815 total time=   0.4s\n",
            "[CV 3/5; 110/160] START init=random, max_iter=600, n_clusters=24, n_init=10.....\n",
            "[CV 3/5; 110/160] END init=random, max_iter=600, n_clusters=24, n_init=10;, score=-4271.683 total time=   0.4s\n",
            "[CV 4/5; 110/160] START init=random, max_iter=600, n_clusters=24, n_init=10.....\n",
            "[CV 4/5; 110/160] END init=random, max_iter=600, n_clusters=24, n_init=10;, score=-4257.774 total time=   0.4s\n",
            "[CV 5/5; 110/160] START init=random, max_iter=600, n_clusters=24, n_init=10.....\n",
            "[CV 5/5; 110/160] END init=random, max_iter=600, n_clusters=24, n_init=10;, score=-4273.541 total time=   0.3s\n",
            "[CV 1/5; 111/160] START init=random, max_iter=600, n_clusters=24, n_init=15.....\n",
            "[CV 1/5; 111/160] END init=random, max_iter=600, n_clusters=24, n_init=15;, score=-4166.248 total time=   0.5s\n",
            "[CV 2/5; 111/160] START init=random, max_iter=600, n_clusters=24, n_init=15.....\n",
            "[CV 2/5; 111/160] END init=random, max_iter=600, n_clusters=24, n_init=15;, score=-4191.790 total time=   0.5s\n",
            "[CV 3/5; 111/160] START init=random, max_iter=600, n_clusters=24, n_init=15.....\n",
            "[CV 3/5; 111/160] END init=random, max_iter=600, n_clusters=24, n_init=15;, score=-4264.051 total time=   0.5s\n",
            "[CV 4/5; 111/160] START init=random, max_iter=600, n_clusters=24, n_init=15.....\n",
            "[CV 4/5; 111/160] END init=random, max_iter=600, n_clusters=24, n_init=15;, score=-4234.900 total time=   0.6s\n",
            "[CV 5/5; 111/160] START init=random, max_iter=600, n_clusters=24, n_init=15.....\n",
            "[CV 5/5; 111/160] END init=random, max_iter=600, n_clusters=24, n_init=15;, score=-4276.496 total time=   0.7s\n",
            "[CV 1/5; 112/160] START init=random, max_iter=600, n_clusters=24, n_init=20.....\n",
            "[CV 1/5; 112/160] END init=random, max_iter=600, n_clusters=24, n_init=20;, score=-4158.977 total time=   0.7s\n",
            "[CV 2/5; 112/160] START init=random, max_iter=600, n_clusters=24, n_init=20.....\n",
            "[CV 2/5; 112/160] END init=random, max_iter=600, n_clusters=24, n_init=20;, score=-4207.485 total time=   0.8s\n",
            "[CV 3/5; 112/160] START init=random, max_iter=600, n_clusters=24, n_init=20.....\n",
            "[CV 3/5; 112/160] END init=random, max_iter=600, n_clusters=24, n_init=20;, score=-4254.059 total time=   0.7s\n",
            "[CV 4/5; 112/160] START init=random, max_iter=600, n_clusters=24, n_init=20.....\n",
            "[CV 4/5; 112/160] END init=random, max_iter=600, n_clusters=24, n_init=20;, score=-4234.952 total time=   0.8s\n",
            "[CV 5/5; 112/160] START init=random, max_iter=600, n_clusters=24, n_init=20.....\n",
            "[CV 5/5; 112/160] END init=random, max_iter=600, n_clusters=24, n_init=20;, score=-4257.320 total time=   0.7s\n",
            "[CV 1/5; 113/160] START init=random, max_iter=900, n_clusters=6, n_init=5.......\n",
            "[CV 1/5; 113/160] END init=random, max_iter=900, n_clusters=6, n_init=5;, score=-7309.214 total time=   0.1s\n",
            "[CV 2/5; 113/160] START init=random, max_iter=900, n_clusters=6, n_init=5.......\n",
            "[CV 2/5; 113/160] END init=random, max_iter=900, n_clusters=6, n_init=5;, score=-7284.166 total time=   0.1s\n",
            "[CV 3/5; 113/160] START init=random, max_iter=900, n_clusters=6, n_init=5.......\n",
            "[CV 3/5; 113/160] END init=random, max_iter=900, n_clusters=6, n_init=5;, score=-7604.451 total time=   0.1s\n",
            "[CV 4/5; 113/160] START init=random, max_iter=900, n_clusters=6, n_init=5.......\n",
            "[CV 4/5; 113/160] END init=random, max_iter=900, n_clusters=6, n_init=5;, score=-7458.460 total time=   0.1s\n",
            "[CV 5/5; 113/160] START init=random, max_iter=900, n_clusters=6, n_init=5.......\n",
            "[CV 5/5; 113/160] END init=random, max_iter=900, n_clusters=6, n_init=5;, score=-7522.348 total time=   0.1s\n",
            "[CV 1/5; 114/160] START init=random, max_iter=900, n_clusters=6, n_init=10......\n",
            "[CV 1/5; 114/160] END init=random, max_iter=900, n_clusters=6, n_init=10;, score=-7309.079 total time=   0.1s\n",
            "[CV 2/5; 114/160] START init=random, max_iter=900, n_clusters=6, n_init=10......\n",
            "[CV 2/5; 114/160] END init=random, max_iter=900, n_clusters=6, n_init=10;, score=-7284.508 total time=   0.1s\n",
            "[CV 3/5; 114/160] START init=random, max_iter=900, n_clusters=6, n_init=10......\n",
            "[CV 3/5; 114/160] END init=random, max_iter=900, n_clusters=6, n_init=10;, score=-7604.289 total time=   0.1s\n",
            "[CV 4/5; 114/160] START init=random, max_iter=900, n_clusters=6, n_init=10......\n",
            "[CV 4/5; 114/160] END init=random, max_iter=900, n_clusters=6, n_init=10;, score=-7458.865 total time=   0.1s\n",
            "[CV 5/5; 114/160] START init=random, max_iter=900, n_clusters=6, n_init=10......\n",
            "[CV 5/5; 114/160] END init=random, max_iter=900, n_clusters=6, n_init=10;, score=-7522.348 total time=   0.1s\n",
            "[CV 1/5; 115/160] START init=random, max_iter=900, n_clusters=6, n_init=15......\n",
            "[CV 1/5; 115/160] END init=random, max_iter=900, n_clusters=6, n_init=15;, score=-7309.130 total time=   0.2s\n",
            "[CV 2/5; 115/160] START init=random, max_iter=900, n_clusters=6, n_init=15......\n",
            "[CV 2/5; 115/160] END init=random, max_iter=900, n_clusters=6, n_init=15;, score=-7283.928 total time=   0.1s\n",
            "[CV 3/5; 115/160] START init=random, max_iter=900, n_clusters=6, n_init=15......\n",
            "[CV 3/5; 115/160] END init=random, max_iter=900, n_clusters=6, n_init=15;, score=-7604.435 total time=   0.1s\n",
            "[CV 4/5; 115/160] START init=random, max_iter=900, n_clusters=6, n_init=15......\n",
            "[CV 4/5; 115/160] END init=random, max_iter=900, n_clusters=6, n_init=15;, score=-7458.440 total time=   0.1s\n",
            "[CV 5/5; 115/160] START init=random, max_iter=900, n_clusters=6, n_init=15......\n",
            "[CV 5/5; 115/160] END init=random, max_iter=900, n_clusters=6, n_init=15;, score=-7522.658 total time=   0.2s\n",
            "[CV 1/5; 116/160] START init=random, max_iter=900, n_clusters=6, n_init=20......\n",
            "[CV 1/5; 116/160] END init=random, max_iter=900, n_clusters=6, n_init=20;, score=-7309.972 total time=   0.2s\n",
            "[CV 2/5; 116/160] START init=random, max_iter=900, n_clusters=6, n_init=20......\n",
            "[CV 2/5; 116/160] END init=random, max_iter=900, n_clusters=6, n_init=20;, score=-7283.928 total time=   0.2s\n",
            "[CV 3/5; 116/160] START init=random, max_iter=900, n_clusters=6, n_init=20......\n",
            "[CV 3/5; 116/160] END init=random, max_iter=900, n_clusters=6, n_init=20;, score=-7604.289 total time=   1.8s\n",
            "[CV 4/5; 116/160] START init=random, max_iter=900, n_clusters=6, n_init=20......\n",
            "[CV 4/5; 116/160] END init=random, max_iter=900, n_clusters=6, n_init=20;, score=-7458.845 total time=   0.2s\n",
            "[CV 5/5; 116/160] START init=random, max_iter=900, n_clusters=6, n_init=20......\n",
            "[CV 5/5; 116/160] END init=random, max_iter=900, n_clusters=6, n_init=20;, score=-7522.348 total time=   0.2s\n",
            "[CV 1/5; 117/160] START init=random, max_iter=900, n_clusters=12, n_init=5......\n",
            "[CV 1/5; 117/160] END init=random, max_iter=900, n_clusters=12, n_init=5;, score=-5124.334 total time=   0.1s\n",
            "[CV 2/5; 117/160] START init=random, max_iter=900, n_clusters=12, n_init=5......\n",
            "[CV 2/5; 117/160] END init=random, max_iter=900, n_clusters=12, n_init=5;, score=-5181.289 total time=   0.1s\n",
            "[CV 3/5; 117/160] START init=random, max_iter=900, n_clusters=12, n_init=5......\n",
            "[CV 3/5; 117/160] END init=random, max_iter=900, n_clusters=12, n_init=5;, score=-5266.850 total time=   0.1s\n",
            "[CV 4/5; 117/160] START init=random, max_iter=900, n_clusters=12, n_init=5......\n",
            "[CV 4/5; 117/160] END init=random, max_iter=900, n_clusters=12, n_init=5;, score=-5291.135 total time=   0.1s\n",
            "[CV 5/5; 117/160] START init=random, max_iter=900, n_clusters=12, n_init=5......\n",
            "[CV 5/5; 117/160] END init=random, max_iter=900, n_clusters=12, n_init=5;, score=-5264.943 total time=   0.1s\n",
            "[CV 1/5; 118/160] START init=random, max_iter=900, n_clusters=12, n_init=10.....\n",
            "[CV 1/5; 118/160] END init=random, max_iter=900, n_clusters=12, n_init=10;, score=-5124.353 total time=   0.2s\n",
            "[CV 2/5; 118/160] START init=random, max_iter=900, n_clusters=12, n_init=10.....\n",
            "[CV 2/5; 118/160] END init=random, max_iter=900, n_clusters=12, n_init=10;, score=-5206.973 total time=   0.2s\n",
            "[CV 3/5; 118/160] START init=random, max_iter=900, n_clusters=12, n_init=10.....\n",
            "[CV 3/5; 118/160] END init=random, max_iter=900, n_clusters=12, n_init=10;, score=-5269.921 total time=   0.2s\n",
            "[CV 4/5; 118/160] START init=random, max_iter=900, n_clusters=12, n_init=10.....\n",
            "[CV 4/5; 118/160] END init=random, max_iter=900, n_clusters=12, n_init=10;, score=-5292.015 total time=   0.1s\n",
            "[CV 5/5; 118/160] START init=random, max_iter=900, n_clusters=12, n_init=10.....\n",
            "[CV 5/5; 118/160] END init=random, max_iter=900, n_clusters=12, n_init=10;, score=-5270.432 total time=   0.2s\n",
            "[CV 1/5; 119/160] START init=random, max_iter=900, n_clusters=12, n_init=15.....\n",
            "[CV 1/5; 119/160] END init=random, max_iter=900, n_clusters=12, n_init=15;, score=-5124.276 total time=   0.3s\n",
            "[CV 2/5; 119/160] START init=random, max_iter=900, n_clusters=12, n_init=15.....\n",
            "[CV 2/5; 119/160] END init=random, max_iter=900, n_clusters=12, n_init=15;, score=-5208.163 total time=   0.3s\n",
            "[CV 3/5; 119/160] START init=random, max_iter=900, n_clusters=12, n_init=15.....\n",
            "[CV 3/5; 119/160] END init=random, max_iter=900, n_clusters=12, n_init=15;, score=-5274.753 total time=   0.3s\n",
            "[CV 4/5; 119/160] START init=random, max_iter=900, n_clusters=12, n_init=15.....\n",
            "[CV 4/5; 119/160] END init=random, max_iter=900, n_clusters=12, n_init=15;, score=-5291.314 total time=   0.3s\n",
            "[CV 5/5; 119/160] START init=random, max_iter=900, n_clusters=12, n_init=15.....\n",
            "[CV 5/5; 119/160] END init=random, max_iter=900, n_clusters=12, n_init=15;, score=-5267.573 total time=   0.2s\n",
            "[CV 1/5; 120/160] START init=random, max_iter=900, n_clusters=12, n_init=20.....\n",
            "[CV 1/5; 120/160] END init=random, max_iter=900, n_clusters=12, n_init=20;, score=-5124.353 total time=   0.3s\n",
            "[CV 2/5; 120/160] START init=random, max_iter=900, n_clusters=12, n_init=20.....\n",
            "[CV 2/5; 120/160] END init=random, max_iter=900, n_clusters=12, n_init=20;, score=-5178.764 total time=   0.3s\n",
            "[CV 3/5; 120/160] START init=random, max_iter=900, n_clusters=12, n_init=20.....\n",
            "[CV 3/5; 120/160] END init=random, max_iter=900, n_clusters=12, n_init=20;, score=-5269.407 total time=   0.3s\n",
            "[CV 4/5; 120/160] START init=random, max_iter=900, n_clusters=12, n_init=20.....\n",
            "[CV 4/5; 120/160] END init=random, max_iter=900, n_clusters=12, n_init=20;, score=-5292.567 total time=   0.4s\n",
            "[CV 5/5; 120/160] START init=random, max_iter=900, n_clusters=12, n_init=20.....\n",
            "[CV 5/5; 120/160] END init=random, max_iter=900, n_clusters=12, n_init=20;, score=-5271.445 total time=   0.4s\n",
            "[CV 1/5; 121/160] START init=random, max_iter=900, n_clusters=18, n_init=5......\n",
            "[CV 1/5; 121/160] END init=random, max_iter=900, n_clusters=18, n_init=5;, score=-4511.604 total time=   0.2s\n",
            "[CV 2/5; 121/160] START init=random, max_iter=900, n_clusters=18, n_init=5......\n",
            "[CV 2/5; 121/160] END init=random, max_iter=900, n_clusters=18, n_init=5;, score=-4570.183 total time=   0.1s\n",
            "[CV 3/5; 121/160] START init=random, max_iter=900, n_clusters=18, n_init=5......\n",
            "[CV 3/5; 121/160] END init=random, max_iter=900, n_clusters=18, n_init=5;, score=-4607.238 total time=   0.1s\n",
            "[CV 4/5; 121/160] START init=random, max_iter=900, n_clusters=18, n_init=5......\n",
            "[CV 4/5; 121/160] END init=random, max_iter=900, n_clusters=18, n_init=5;, score=-4610.148 total time=   0.2s\n",
            "[CV 5/5; 121/160] START init=random, max_iter=900, n_clusters=18, n_init=5......\n",
            "[CV 5/5; 121/160] END init=random, max_iter=900, n_clusters=18, n_init=5;, score=-4669.617 total time=   0.2s\n",
            "[CV 1/5; 122/160] START init=random, max_iter=900, n_clusters=18, n_init=10.....\n",
            "[CV 1/5; 122/160] END init=random, max_iter=900, n_clusters=18, n_init=10;, score=-4527.429 total time=   0.3s\n",
            "[CV 2/5; 122/160] START init=random, max_iter=900, n_clusters=18, n_init=10.....\n",
            "[CV 2/5; 122/160] END init=random, max_iter=900, n_clusters=18, n_init=10;, score=-4541.717 total time=   0.3s\n",
            "[CV 3/5; 122/160] START init=random, max_iter=900, n_clusters=18, n_init=10.....\n",
            "[CV 3/5; 122/160] END init=random, max_iter=900, n_clusters=18, n_init=10;, score=-4597.512 total time=   0.3s\n",
            "[CV 4/5; 122/160] START init=random, max_iter=900, n_clusters=18, n_init=10.....\n",
            "[CV 4/5; 122/160] END init=random, max_iter=900, n_clusters=18, n_init=10;, score=-4605.436 total time=   0.3s\n",
            "[CV 5/5; 122/160] START init=random, max_iter=900, n_clusters=18, n_init=10.....\n",
            "[CV 5/5; 122/160] END init=random, max_iter=900, n_clusters=18, n_init=10;, score=-4640.938 total time=   0.3s\n",
            "[CV 1/5; 123/160] START init=random, max_iter=900, n_clusters=18, n_init=15.....\n",
            "[CV 1/5; 123/160] END init=random, max_iter=900, n_clusters=18, n_init=15;, score=-4549.899 total time=   0.4s\n",
            "[CV 2/5; 123/160] START init=random, max_iter=900, n_clusters=18, n_init=15.....\n",
            "[CV 2/5; 123/160] END init=random, max_iter=900, n_clusters=18, n_init=15;, score=-4575.623 total time=   0.4s\n",
            "[CV 3/5; 123/160] START init=random, max_iter=900, n_clusters=18, n_init=15.....\n",
            "[CV 3/5; 123/160] END init=random, max_iter=900, n_clusters=18, n_init=15;, score=-4619.024 total time=   0.5s\n",
            "[CV 4/5; 123/160] START init=random, max_iter=900, n_clusters=18, n_init=15.....\n",
            "[CV 4/5; 123/160] END init=random, max_iter=900, n_clusters=18, n_init=15;, score=-4600.268 total time=   0.5s\n",
            "[CV 5/5; 123/160] START init=random, max_iter=900, n_clusters=18, n_init=15.....\n",
            "[CV 5/5; 123/160] END init=random, max_iter=900, n_clusters=18, n_init=15;, score=-4628.536 total time=   0.4s\n",
            "[CV 1/5; 124/160] START init=random, max_iter=900, n_clusters=18, n_init=20.....\n",
            "[CV 1/5; 124/160] END init=random, max_iter=900, n_clusters=18, n_init=20;, score=-4496.895 total time=   2.4s\n",
            "[CV 2/5; 124/160] START init=random, max_iter=900, n_clusters=18, n_init=20.....\n",
            "[CV 2/5; 124/160] END init=random, max_iter=900, n_clusters=18, n_init=20;, score=-4540.757 total time=   0.5s\n",
            "[CV 3/5; 124/160] START init=random, max_iter=900, n_clusters=18, n_init=20.....\n",
            "[CV 3/5; 124/160] END init=random, max_iter=900, n_clusters=18, n_init=20;, score=-4581.131 total time=   0.7s\n",
            "[CV 4/5; 124/160] START init=random, max_iter=900, n_clusters=18, n_init=20.....\n",
            "[CV 4/5; 124/160] END init=random, max_iter=900, n_clusters=18, n_init=20;, score=-4643.947 total time=   0.5s\n",
            "[CV 5/5; 124/160] START init=random, max_iter=900, n_clusters=18, n_init=20.....\n",
            "[CV 5/5; 124/160] END init=random, max_iter=900, n_clusters=18, n_init=20;, score=-4651.422 total time=   0.5s\n",
            "[CV 1/5; 125/160] START init=random, max_iter=900, n_clusters=24, n_init=5......\n",
            "[CV 1/5; 125/160] END init=random, max_iter=900, n_clusters=24, n_init=5;, score=-4171.162 total time=   0.2s\n",
            "[CV 2/5; 125/160] START init=random, max_iter=900, n_clusters=24, n_init=5......\n",
            "[CV 2/5; 125/160] END init=random, max_iter=900, n_clusters=24, n_init=5;, score=-4231.994 total time=   0.2s\n",
            "[CV 3/5; 125/160] START init=random, max_iter=900, n_clusters=24, n_init=5......\n",
            "[CV 3/5; 125/160] END init=random, max_iter=900, n_clusters=24, n_init=5;, score=-4273.359 total time=   0.2s\n",
            "[CV 4/5; 125/160] START init=random, max_iter=900, n_clusters=24, n_init=5......\n",
            "[CV 4/5; 125/160] END init=random, max_iter=900, n_clusters=24, n_init=5;, score=-4260.451 total time=   0.2s\n",
            "[CV 5/5; 125/160] START init=random, max_iter=900, n_clusters=24, n_init=5......\n",
            "[CV 5/5; 125/160] END init=random, max_iter=900, n_clusters=24, n_init=5;, score=-4288.695 total time=   0.1s\n",
            "[CV 1/5; 126/160] START init=random, max_iter=900, n_clusters=24, n_init=10.....\n",
            "[CV 1/5; 126/160] END init=random, max_iter=900, n_clusters=24, n_init=10;, score=-4175.444 total time=   2.1s\n",
            "[CV 2/5; 126/160] START init=random, max_iter=900, n_clusters=24, n_init=10.....\n",
            "[CV 2/5; 126/160] END init=random, max_iter=900, n_clusters=24, n_init=10;, score=-4195.059 total time=   0.5s\n",
            "[CV 3/5; 126/160] START init=random, max_iter=900, n_clusters=24, n_init=10.....\n",
            "[CV 3/5; 126/160] END init=random, max_iter=900, n_clusters=24, n_init=10;, score=-4242.474 total time=   0.4s\n",
            "[CV 4/5; 126/160] START init=random, max_iter=900, n_clusters=24, n_init=10.....\n",
            "[CV 4/5; 126/160] END init=random, max_iter=900, n_clusters=24, n_init=10;, score=-4243.820 total time=   0.4s\n",
            "[CV 5/5; 126/160] START init=random, max_iter=900, n_clusters=24, n_init=10.....\n",
            "[CV 5/5; 126/160] END init=random, max_iter=900, n_clusters=24, n_init=10;, score=-4281.144 total time=   0.4s\n",
            "[CV 1/5; 127/160] START init=random, max_iter=900, n_clusters=24, n_init=15.....\n",
            "[CV 1/5; 127/160] END init=random, max_iter=900, n_clusters=24, n_init=15;, score=-4160.455 total time=   0.6s\n",
            "[CV 2/5; 127/160] START init=random, max_iter=900, n_clusters=24, n_init=15.....\n",
            "[CV 2/5; 127/160] END init=random, max_iter=900, n_clusters=24, n_init=15;, score=-4171.086 total time=   0.5s\n",
            "[CV 3/5; 127/160] START init=random, max_iter=900, n_clusters=24, n_init=15.....\n",
            "[CV 3/5; 127/160] END init=random, max_iter=900, n_clusters=24, n_init=15;, score=-4245.546 total time=   0.5s\n",
            "[CV 4/5; 127/160] START init=random, max_iter=900, n_clusters=24, n_init=15.....\n",
            "[CV 4/5; 127/160] END init=random, max_iter=900, n_clusters=24, n_init=15;, score=-4259.396 total time=   0.6s\n",
            "[CV 5/5; 127/160] START init=random, max_iter=900, n_clusters=24, n_init=15.....\n",
            "[CV 5/5; 127/160] END init=random, max_iter=900, n_clusters=24, n_init=15;, score=-4285.467 total time=   0.6s\n",
            "[CV 1/5; 128/160] START init=random, max_iter=900, n_clusters=24, n_init=20.....\n",
            "[CV 1/5; 128/160] END init=random, max_iter=900, n_clusters=24, n_init=20;, score=-4182.006 total time=   2.4s\n",
            "[CV 2/5; 128/160] START init=random, max_iter=900, n_clusters=24, n_init=20.....\n",
            "[CV 2/5; 128/160] END init=random, max_iter=900, n_clusters=24, n_init=20;, score=-4167.211 total time=   0.9s\n",
            "[CV 3/5; 128/160] START init=random, max_iter=900, n_clusters=24, n_init=20.....\n",
            "[CV 3/5; 128/160] END init=random, max_iter=900, n_clusters=24, n_init=20;, score=-4224.595 total time=   0.7s\n",
            "[CV 4/5; 128/160] START init=random, max_iter=900, n_clusters=24, n_init=20.....\n",
            "[CV 4/5; 128/160] END init=random, max_iter=900, n_clusters=24, n_init=20;, score=-4266.446 total time=   0.8s\n",
            "[CV 5/5; 128/160] START init=random, max_iter=900, n_clusters=24, n_init=20.....\n",
            "[CV 5/5; 128/160] END init=random, max_iter=900, n_clusters=24, n_init=20;, score=-4276.062 total time=   0.8s\n",
            "[CV 1/5; 129/160] START init=random, max_iter=1200, n_clusters=6, n_init=5......\n",
            "[CV 1/5; 129/160] END init=random, max_iter=1200, n_clusters=6, n_init=5;, score=-7308.901 total time=   0.1s\n",
            "[CV 2/5; 129/160] START init=random, max_iter=1200, n_clusters=6, n_init=5......\n",
            "[CV 2/5; 129/160] END init=random, max_iter=1200, n_clusters=6, n_init=5;, score=-7284.244 total time=   0.1s\n",
            "[CV 3/5; 129/160] START init=random, max_iter=1200, n_clusters=6, n_init=5......\n",
            "[CV 3/5; 129/160] END init=random, max_iter=1200, n_clusters=6, n_init=5;, score=-7604.289 total time=   0.1s\n",
            "[CV 4/5; 129/160] START init=random, max_iter=1200, n_clusters=6, n_init=5......\n",
            "[CV 4/5; 129/160] END init=random, max_iter=1200, n_clusters=6, n_init=5;, score=-7458.865 total time=   0.1s\n",
            "[CV 5/5; 129/160] START init=random, max_iter=1200, n_clusters=6, n_init=5......\n",
            "[CV 5/5; 129/160] END init=random, max_iter=1200, n_clusters=6, n_init=5;, score=-7520.365 total time=   0.1s\n",
            "[CV 1/5; 130/160] START init=random, max_iter=1200, n_clusters=6, n_init=10.....\n",
            "[CV 1/5; 130/160] END init=random, max_iter=1200, n_clusters=6, n_init=10;, score=-7309.068 total time=   0.1s\n",
            "[CV 2/5; 130/160] START init=random, max_iter=1200, n_clusters=6, n_init=10.....\n",
            "[CV 2/5; 130/160] END init=random, max_iter=1200, n_clusters=6, n_init=10;, score=-7284.170 total time=   0.1s\n",
            "[CV 3/5; 130/160] START init=random, max_iter=1200, n_clusters=6, n_init=10.....\n",
            "[CV 3/5; 130/160] END init=random, max_iter=1200, n_clusters=6, n_init=10;, score=-7604.289 total time=   0.1s\n",
            "[CV 4/5; 130/160] START init=random, max_iter=1200, n_clusters=6, n_init=10.....\n",
            "[CV 4/5; 130/160] END init=random, max_iter=1200, n_clusters=6, n_init=10;, score=-7458.580 total time=   0.1s\n",
            "[CV 5/5; 130/160] START init=random, max_iter=1200, n_clusters=6, n_init=10.....\n",
            "[CV 5/5; 130/160] END init=random, max_iter=1200, n_clusters=6, n_init=10;, score=-7522.512 total time=   0.1s\n",
            "[CV 1/5; 131/160] START init=random, max_iter=1200, n_clusters=6, n_init=15.....\n",
            "[CV 1/5; 131/160] END init=random, max_iter=1200, n_clusters=6, n_init=15;, score=-7309.047 total time=   0.1s\n",
            "[CV 2/5; 131/160] START init=random, max_iter=1200, n_clusters=6, n_init=15.....\n",
            "[CV 2/5; 131/160] END init=random, max_iter=1200, n_clusters=6, n_init=15;, score=-7284.315 total time=   0.1s\n",
            "[CV 3/5; 131/160] START init=random, max_iter=1200, n_clusters=6, n_init=15.....\n",
            "[CV 3/5; 131/160] END init=random, max_iter=1200, n_clusters=6, n_init=15;, score=-7604.259 total time=   0.1s\n",
            "[CV 4/5; 131/160] START init=random, max_iter=1200, n_clusters=6, n_init=15.....\n",
            "[CV 4/5; 131/160] END init=random, max_iter=1200, n_clusters=6, n_init=15;, score=-7458.137 total time=   0.1s\n",
            "[CV 5/5; 131/160] START init=random, max_iter=1200, n_clusters=6, n_init=15.....\n",
            "[CV 5/5; 131/160] END init=random, max_iter=1200, n_clusters=6, n_init=15;, score=-7522.515 total time=   0.2s\n",
            "[CV 1/5; 132/160] START init=random, max_iter=1200, n_clusters=6, n_init=20.....\n",
            "[CV 1/5; 132/160] END init=random, max_iter=1200, n_clusters=6, n_init=20;, score=-7309.364 total time=   0.2s\n",
            "[CV 2/5; 132/160] START init=random, max_iter=1200, n_clusters=6, n_init=20.....\n",
            "[CV 2/5; 132/160] END init=random, max_iter=1200, n_clusters=6, n_init=20;, score=-7284.336 total time=   0.2s\n",
            "[CV 3/5; 132/160] START init=random, max_iter=1200, n_clusters=6, n_init=20.....\n",
            "[CV 3/5; 132/160] END init=random, max_iter=1200, n_clusters=6, n_init=20;, score=-7604.259 total time=   0.2s\n",
            "[CV 4/5; 132/160] START init=random, max_iter=1200, n_clusters=6, n_init=20.....\n",
            "[CV 4/5; 132/160] END init=random, max_iter=1200, n_clusters=6, n_init=20;, score=-7458.803 total time=   0.2s\n",
            "[CV 5/5; 132/160] START init=random, max_iter=1200, n_clusters=6, n_init=20.....\n",
            "[CV 5/5; 132/160] END init=random, max_iter=1200, n_clusters=6, n_init=20;, score=-7522.515 total time=   0.2s\n",
            "[CV 1/5; 133/160] START init=random, max_iter=1200, n_clusters=12, n_init=5.....\n",
            "[CV 1/5; 133/160] END init=random, max_iter=1200, n_clusters=12, n_init=5;, score=-5124.291 total time=   0.1s\n",
            "[CV 2/5; 133/160] START init=random, max_iter=1200, n_clusters=12, n_init=5.....\n",
            "[CV 2/5; 133/160] END init=random, max_iter=1200, n_clusters=12, n_init=5;, score=-5178.676 total time=   0.1s\n",
            "[CV 3/5; 133/160] START init=random, max_iter=1200, n_clusters=12, n_init=5.....\n",
            "[CV 3/5; 133/160] END init=random, max_iter=1200, n_clusters=12, n_init=5;, score=-5347.053 total time=   0.2s\n",
            "[CV 4/5; 133/160] START init=random, max_iter=1200, n_clusters=12, n_init=5.....\n",
            "[CV 4/5; 133/160] END init=random, max_iter=1200, n_clusters=12, n_init=5;, score=-5274.841 total time=   0.1s\n",
            "[CV 5/5; 133/160] START init=random, max_iter=1200, n_clusters=12, n_init=5.....\n",
            "[CV 5/5; 133/160] END init=random, max_iter=1200, n_clusters=12, n_init=5;, score=-5267.629 total time=   0.1s\n",
            "[CV 1/5; 134/160] START init=random, max_iter=1200, n_clusters=12, n_init=10....\n",
            "[CV 1/5; 134/160] END init=random, max_iter=1200, n_clusters=12, n_init=10;, score=-5148.860 total time=   0.2s\n",
            "[CV 2/5; 134/160] START init=random, max_iter=1200, n_clusters=12, n_init=10....\n",
            "[CV 2/5; 134/160] END init=random, max_iter=1200, n_clusters=12, n_init=10;, score=-5179.617 total time=   0.2s\n",
            "[CV 3/5; 134/160] START init=random, max_iter=1200, n_clusters=12, n_init=10....\n",
            "[CV 3/5; 134/160] END init=random, max_iter=1200, n_clusters=12, n_init=10;, score=-5270.038 total time=   0.2s\n",
            "[CV 4/5; 134/160] START init=random, max_iter=1200, n_clusters=12, n_init=10....\n",
            "[CV 4/5; 134/160] END init=random, max_iter=1200, n_clusters=12, n_init=10;, score=-5276.468 total time=   0.2s\n",
            "[CV 5/5; 134/160] START init=random, max_iter=1200, n_clusters=12, n_init=10....\n",
            "[CV 5/5; 134/160] END init=random, max_iter=1200, n_clusters=12, n_init=10;, score=-5268.313 total time=   0.2s\n",
            "[CV 1/5; 135/160] START init=random, max_iter=1200, n_clusters=12, n_init=15....\n",
            "[CV 1/5; 135/160] END init=random, max_iter=1200, n_clusters=12, n_init=15;, score=-5124.353 total time=   0.2s\n",
            "[CV 2/5; 135/160] START init=random, max_iter=1200, n_clusters=12, n_init=15....\n",
            "[CV 2/5; 135/160] END init=random, max_iter=1200, n_clusters=12, n_init=15;, score=-5178.816 total time=   0.2s\n",
            "[CV 3/5; 135/160] START init=random, max_iter=1200, n_clusters=12, n_init=15....\n",
            "[CV 3/5; 135/160] END init=random, max_iter=1200, n_clusters=12, n_init=15;, score=-5271.120 total time=   0.3s\n",
            "[CV 4/5; 135/160] START init=random, max_iter=1200, n_clusters=12, n_init=15....\n",
            "[CV 4/5; 135/160] END init=random, max_iter=1200, n_clusters=12, n_init=15;, score=-5291.204 total time=   0.2s\n",
            "[CV 5/5; 135/160] START init=random, max_iter=1200, n_clusters=12, n_init=15....\n",
            "[CV 5/5; 135/160] END init=random, max_iter=1200, n_clusters=12, n_init=15;, score=-5270.164 total time=   0.3s\n",
            "[CV 1/5; 136/160] START init=random, max_iter=1200, n_clusters=12, n_init=20....\n",
            "[CV 1/5; 136/160] END init=random, max_iter=1200, n_clusters=12, n_init=20;, score=-5123.646 total time=   0.3s\n",
            "[CV 2/5; 136/160] START init=random, max_iter=1200, n_clusters=12, n_init=20....\n",
            "[CV 2/5; 136/160] END init=random, max_iter=1200, n_clusters=12, n_init=20;, score=-5178.254 total time=   0.4s\n",
            "[CV 3/5; 136/160] START init=random, max_iter=1200, n_clusters=12, n_init=20....\n",
            "[CV 3/5; 136/160] END init=random, max_iter=1200, n_clusters=12, n_init=20;, score=-5270.038 total time=   2.1s\n",
            "[CV 4/5; 136/160] START init=random, max_iter=1200, n_clusters=12, n_init=20....\n",
            "[CV 4/5; 136/160] END init=random, max_iter=1200, n_clusters=12, n_init=20;, score=-5292.313 total time=   0.3s\n",
            "[CV 5/5; 136/160] START init=random, max_iter=1200, n_clusters=12, n_init=20....\n",
            "[CV 5/5; 136/160] END init=random, max_iter=1200, n_clusters=12, n_init=20;, score=-5268.720 total time=   0.4s\n",
            "[CV 1/5; 137/160] START init=random, max_iter=1200, n_clusters=18, n_init=5.....\n",
            "[CV 1/5; 137/160] END init=random, max_iter=1200, n_clusters=18, n_init=5;, score=-4549.846 total time=   0.1s\n",
            "[CV 2/5; 137/160] START init=random, max_iter=1200, n_clusters=18, n_init=5.....\n",
            "[CV 2/5; 137/160] END init=random, max_iter=1200, n_clusters=18, n_init=5;, score=-4541.868 total time=   0.2s\n",
            "[CV 3/5; 137/160] START init=random, max_iter=1200, n_clusters=18, n_init=5.....\n",
            "[CV 3/5; 137/160] END init=random, max_iter=1200, n_clusters=18, n_init=5;, score=-4593.496 total time=   0.2s\n",
            "[CV 4/5; 137/160] START init=random, max_iter=1200, n_clusters=18, n_init=5.....\n",
            "[CV 4/5; 137/160] END init=random, max_iter=1200, n_clusters=18, n_init=5;, score=-4591.128 total time=   0.2s\n",
            "[CV 5/5; 137/160] START init=random, max_iter=1200, n_clusters=18, n_init=5.....\n",
            "[CV 5/5; 137/160] END init=random, max_iter=1200, n_clusters=18, n_init=5;, score=-4609.043 total time=   0.1s\n",
            "[CV 1/5; 138/160] START init=random, max_iter=1200, n_clusters=18, n_init=10....\n",
            "[CV 1/5; 138/160] END init=random, max_iter=1200, n_clusters=18, n_init=10;, score=-4500.116 total time=   0.3s\n",
            "[CV 2/5; 138/160] START init=random, max_iter=1200, n_clusters=18, n_init=10....\n",
            "[CV 2/5; 138/160] END init=random, max_iter=1200, n_clusters=18, n_init=10;, score=-4570.413 total time=   0.2s\n",
            "[CV 3/5; 138/160] START init=random, max_iter=1200, n_clusters=18, n_init=10....\n",
            "[CV 3/5; 138/160] END init=random, max_iter=1200, n_clusters=18, n_init=10;, score=-4620.770 total time=   0.3s\n",
            "[CV 4/5; 138/160] START init=random, max_iter=1200, n_clusters=18, n_init=10....\n",
            "[CV 4/5; 138/160] END init=random, max_iter=1200, n_clusters=18, n_init=10;, score=-4591.723 total time=   0.3s\n",
            "[CV 5/5; 138/160] START init=random, max_iter=1200, n_clusters=18, n_init=10....\n",
            "[CV 5/5; 138/160] END init=random, max_iter=1200, n_clusters=18, n_init=10;, score=-4645.186 total time=   0.3s\n",
            "[CV 1/5; 139/160] START init=random, max_iter=1200, n_clusters=18, n_init=15....\n",
            "[CV 1/5; 139/160] END init=random, max_iter=1200, n_clusters=18, n_init=15;, score=-4524.300 total time=   0.6s\n",
            "[CV 2/5; 139/160] START init=random, max_iter=1200, n_clusters=18, n_init=15....\n",
            "[CV 2/5; 139/160] END init=random, max_iter=1200, n_clusters=18, n_init=15;, score=-4551.670 total time=   0.4s\n",
            "[CV 3/5; 139/160] START init=random, max_iter=1200, n_clusters=18, n_init=15....\n",
            "[CV 3/5; 139/160] END init=random, max_iter=1200, n_clusters=18, n_init=15;, score=-4614.967 total time=   0.4s\n",
            "[CV 4/5; 139/160] START init=random, max_iter=1200, n_clusters=18, n_init=15....\n",
            "[CV 4/5; 139/160] END init=random, max_iter=1200, n_clusters=18, n_init=15;, score=-4593.395 total time=   0.4s\n",
            "[CV 5/5; 139/160] START init=random, max_iter=1200, n_clusters=18, n_init=15....\n",
            "[CV 5/5; 139/160] END init=random, max_iter=1200, n_clusters=18, n_init=15;, score=-4618.982 total time=   0.5s\n",
            "[CV 1/5; 140/160] START init=random, max_iter=1200, n_clusters=18, n_init=20....\n",
            "[CV 1/5; 140/160] END init=random, max_iter=1200, n_clusters=18, n_init=20;, score=-4502.078 total time=   0.5s\n",
            "[CV 2/5; 140/160] START init=random, max_iter=1200, n_clusters=18, n_init=20....\n",
            "[CV 2/5; 140/160] END init=random, max_iter=1200, n_clusters=18, n_init=20;, score=-4535.791 total time=   0.6s\n",
            "[CV 3/5; 140/160] START init=random, max_iter=1200, n_clusters=18, n_init=20....\n",
            "[CV 3/5; 140/160] END init=random, max_iter=1200, n_clusters=18, n_init=20;, score=-4579.346 total time=   0.5s\n",
            "[CV 4/5; 140/160] START init=random, max_iter=1200, n_clusters=18, n_init=20....\n",
            "[CV 4/5; 140/160] END init=random, max_iter=1200, n_clusters=18, n_init=20;, score=-4599.177 total time=   0.7s\n",
            "[CV 5/5; 140/160] START init=random, max_iter=1200, n_clusters=18, n_init=20....\n",
            "[CV 5/5; 140/160] END init=random, max_iter=1200, n_clusters=18, n_init=20;, score=-4641.886 total time=   0.6s\n",
            "[CV 1/5; 141/160] START init=random, max_iter=1200, n_clusters=24, n_init=5.....\n",
            "[CV 1/5; 141/160] END init=random, max_iter=1200, n_clusters=24, n_init=5;, score=-4167.619 total time=   0.2s\n",
            "[CV 2/5; 141/160] START init=random, max_iter=1200, n_clusters=24, n_init=5.....\n",
            "[CV 2/5; 141/160] END init=random, max_iter=1200, n_clusters=24, n_init=5;, score=-4178.561 total time=   0.2s\n",
            "[CV 3/5; 141/160] START init=random, max_iter=1200, n_clusters=24, n_init=5.....\n",
            "[CV 3/5; 141/160] END init=random, max_iter=1200, n_clusters=24, n_init=5;, score=-4230.155 total time=   0.2s\n",
            "[CV 4/5; 141/160] START init=random, max_iter=1200, n_clusters=24, n_init=5.....\n",
            "[CV 4/5; 141/160] END init=random, max_iter=1200, n_clusters=24, n_init=5;, score=-4237.972 total time=   0.2s\n",
            "[CV 5/5; 141/160] START init=random, max_iter=1200, n_clusters=24, n_init=5.....\n",
            "[CV 5/5; 141/160] END init=random, max_iter=1200, n_clusters=24, n_init=5;, score=-4278.460 total time=   0.3s\n",
            "[CV 1/5; 142/160] START init=random, max_iter=1200, n_clusters=24, n_init=10....\n",
            "[CV 1/5; 142/160] END init=random, max_iter=1200, n_clusters=24, n_init=10;, score=-4140.521 total time=   0.4s\n",
            "[CV 2/5; 142/160] START init=random, max_iter=1200, n_clusters=24, n_init=10....\n",
            "[CV 2/5; 142/160] END init=random, max_iter=1200, n_clusters=24, n_init=10;, score=-4181.333 total time=   0.7s\n",
            "[CV 3/5; 142/160] START init=random, max_iter=1200, n_clusters=24, n_init=10....\n",
            "[CV 3/5; 142/160] END init=random, max_iter=1200, n_clusters=24, n_init=10;, score=-4258.279 total time=   1.7s\n",
            "[CV 4/5; 142/160] START init=random, max_iter=1200, n_clusters=24, n_init=10....\n",
            "[CV 4/5; 142/160] END init=random, max_iter=1200, n_clusters=24, n_init=10;, score=-4246.404 total time=   0.4s\n",
            "[CV 5/5; 142/160] START init=random, max_iter=1200, n_clusters=24, n_init=10....\n",
            "[CV 5/5; 142/160] END init=random, max_iter=1200, n_clusters=24, n_init=10;, score=-4281.058 total time=   0.4s\n",
            "[CV 1/5; 143/160] START init=random, max_iter=1200, n_clusters=24, n_init=15....\n",
            "[CV 1/5; 143/160] END init=random, max_iter=1200, n_clusters=24, n_init=15;, score=-4140.366 total time=   0.7s\n",
            "[CV 2/5; 143/160] START init=random, max_iter=1200, n_clusters=24, n_init=15....\n",
            "[CV 2/5; 143/160] END init=random, max_iter=1200, n_clusters=24, n_init=15;, score=-4182.711 total time=   0.6s\n",
            "[CV 3/5; 143/160] START init=random, max_iter=1200, n_clusters=24, n_init=15....\n",
            "[CV 3/5; 143/160] END init=random, max_iter=1200, n_clusters=24, n_init=15;, score=-4243.294 total time=   0.6s\n",
            "[CV 4/5; 143/160] START init=random, max_iter=1200, n_clusters=24, n_init=15....\n",
            "[CV 4/5; 143/160] END init=random, max_iter=1200, n_clusters=24, n_init=15;, score=-4224.277 total time=   0.6s\n",
            "[CV 5/5; 143/160] START init=random, max_iter=1200, n_clusters=24, n_init=15....\n",
            "[CV 5/5; 143/160] END init=random, max_iter=1200, n_clusters=24, n_init=15;, score=-4288.599 total time=   0.5s\n",
            "[CV 1/5; 144/160] START init=random, max_iter=1200, n_clusters=24, n_init=20....\n",
            "[CV 1/5; 144/160] END init=random, max_iter=1200, n_clusters=24, n_init=20;, score=-4166.896 total time=   0.7s\n",
            "[CV 2/5; 144/160] START init=random, max_iter=1200, n_clusters=24, n_init=20....\n",
            "[CV 2/5; 144/160] END init=random, max_iter=1200, n_clusters=24, n_init=20;, score=-4190.694 total time=   0.8s\n",
            "[CV 3/5; 144/160] START init=random, max_iter=1200, n_clusters=24, n_init=20....\n",
            "[CV 3/5; 144/160] END init=random, max_iter=1200, n_clusters=24, n_init=20;, score=-4234.082 total time=   0.7s\n",
            "[CV 4/5; 144/160] START init=random, max_iter=1200, n_clusters=24, n_init=20....\n",
            "[CV 4/5; 144/160] END init=random, max_iter=1200, n_clusters=24, n_init=20;, score=-4238.129 total time=   0.9s\n",
            "[CV 5/5; 144/160] START init=random, max_iter=1200, n_clusters=24, n_init=20....\n",
            "[CV 5/5; 144/160] END init=random, max_iter=1200, n_clusters=24, n_init=20;, score=-4279.396 total time=   0.8s\n",
            "[CV 1/5; 145/160] START init=random, max_iter=1500, n_clusters=6, n_init=5......\n",
            "[CV 1/5; 145/160] END init=random, max_iter=1500, n_clusters=6, n_init=5;, score=-7309.047 total time=   0.1s\n",
            "[CV 2/5; 145/160] START init=random, max_iter=1500, n_clusters=6, n_init=5......\n",
            "[CV 2/5; 145/160] END init=random, max_iter=1500, n_clusters=6, n_init=5;, score=-7283.660 total time=   0.1s\n",
            "[CV 3/5; 145/160] START init=random, max_iter=1500, n_clusters=6, n_init=5......\n",
            "[CV 3/5; 145/160] END init=random, max_iter=1500, n_clusters=6, n_init=5;, score=-7604.289 total time=   0.1s\n",
            "[CV 4/5; 145/160] START init=random, max_iter=1500, n_clusters=6, n_init=5......\n",
            "[CV 4/5; 145/160] END init=random, max_iter=1500, n_clusters=6, n_init=5;, score=-7458.584 total time=   0.1s\n",
            "[CV 5/5; 145/160] START init=random, max_iter=1500, n_clusters=6, n_init=5......\n",
            "[CV 5/5; 145/160] END init=random, max_iter=1500, n_clusters=6, n_init=5;, score=-7629.794 total time=   0.1s\n",
            "[CV 1/5; 146/160] START init=random, max_iter=1500, n_clusters=6, n_init=10.....\n",
            "[CV 1/5; 146/160] END init=random, max_iter=1500, n_clusters=6, n_init=10;, score=-7309.047 total time=   0.1s\n",
            "[CV 2/5; 146/160] START init=random, max_iter=1500, n_clusters=6, n_init=10.....\n",
            "[CV 2/5; 146/160] END init=random, max_iter=1500, n_clusters=6, n_init=10;, score=-7284.483 total time=   0.1s\n",
            "[CV 3/5; 146/160] START init=random, max_iter=1500, n_clusters=6, n_init=10.....\n",
            "[CV 3/5; 146/160] END init=random, max_iter=1500, n_clusters=6, n_init=10;, score=-7604.289 total time=   0.1s\n",
            "[CV 4/5; 146/160] START init=random, max_iter=1500, n_clusters=6, n_init=10.....\n",
            "[CV 4/5; 146/160] END init=random, max_iter=1500, n_clusters=6, n_init=10;, score=-7458.234 total time=   0.1s\n",
            "[CV 5/5; 146/160] START init=random, max_iter=1500, n_clusters=6, n_init=10.....\n",
            "[CV 5/5; 146/160] END init=random, max_iter=1500, n_clusters=6, n_init=10;, score=-7522.296 total time=   0.1s\n",
            "[CV 1/5; 147/160] START init=random, max_iter=1500, n_clusters=6, n_init=15.....\n",
            "[CV 1/5; 147/160] END init=random, max_iter=1500, n_clusters=6, n_init=15;, score=-7309.963 total time=   0.1s\n",
            "[CV 2/5; 147/160] START init=random, max_iter=1500, n_clusters=6, n_init=15.....\n",
            "[CV 2/5; 147/160] END init=random, max_iter=1500, n_clusters=6, n_init=15;, score=-7284.171 total time=   0.2s\n",
            "[CV 3/5; 147/160] START init=random, max_iter=1500, n_clusters=6, n_init=15.....\n",
            "[CV 3/5; 147/160] END init=random, max_iter=1500, n_clusters=6, n_init=15;, score=-7604.351 total time=   0.1s\n",
            "[CV 4/5; 147/160] START init=random, max_iter=1500, n_clusters=6, n_init=15.....\n",
            "[CV 4/5; 147/160] END init=random, max_iter=1500, n_clusters=6, n_init=15;, score=-7458.511 total time=   0.2s\n",
            "[CV 5/5; 147/160] START init=random, max_iter=1500, n_clusters=6, n_init=15.....\n",
            "[CV 5/5; 147/160] END init=random, max_iter=1500, n_clusters=6, n_init=15;, score=-7522.296 total time=   0.1s\n",
            "[CV 1/5; 148/160] START init=random, max_iter=1500, n_clusters=6, n_init=20.....\n",
            "[CV 1/5; 148/160] END init=random, max_iter=1500, n_clusters=6, n_init=20;, score=-7310.306 total time=   0.2s\n",
            "[CV 2/5; 148/160] START init=random, max_iter=1500, n_clusters=6, n_init=20.....\n",
            "[CV 2/5; 148/160] END init=random, max_iter=1500, n_clusters=6, n_init=20;, score=-7285.246 total time=   1.3s\n",
            "[CV 3/5; 148/160] START init=random, max_iter=1500, n_clusters=6, n_init=20.....\n",
            "[CV 3/5; 148/160] END init=random, max_iter=1500, n_clusters=6, n_init=20;, score=-7604.259 total time=   0.8s\n",
            "[CV 4/5; 148/160] START init=random, max_iter=1500, n_clusters=6, n_init=20.....\n",
            "[CV 4/5; 148/160] END init=random, max_iter=1500, n_clusters=6, n_init=20;, score=-7458.918 total time=   0.2s\n",
            "[CV 5/5; 148/160] START init=random, max_iter=1500, n_clusters=6, n_init=20.....\n",
            "[CV 5/5; 148/160] END init=random, max_iter=1500, n_clusters=6, n_init=20;, score=-7522.512 total time=   0.2s\n",
            "[CV 1/5; 149/160] START init=random, max_iter=1500, n_clusters=12, n_init=5.....\n",
            "[CV 1/5; 149/160] END init=random, max_iter=1500, n_clusters=12, n_init=5;, score=-5124.334 total time=   0.1s\n",
            "[CV 2/5; 149/160] START init=random, max_iter=1500, n_clusters=12, n_init=5.....\n",
            "[CV 2/5; 149/160] END init=random, max_iter=1500, n_clusters=12, n_init=5;, score=-5179.617 total time=   0.1s\n",
            "[CV 3/5; 149/160] START init=random, max_iter=1500, n_clusters=12, n_init=5.....\n",
            "[CV 3/5; 149/160] END init=random, max_iter=1500, n_clusters=12, n_init=5;, score=-5270.771 total time=   0.1s\n",
            "[CV 4/5; 149/160] START init=random, max_iter=1500, n_clusters=12, n_init=5.....\n",
            "[CV 4/5; 149/160] END init=random, max_iter=1500, n_clusters=12, n_init=5;, score=-5291.513 total time=   0.1s\n",
            "[CV 5/5; 149/160] START init=random, max_iter=1500, n_clusters=12, n_init=5.....\n",
            "[CV 5/5; 149/160] END init=random, max_iter=1500, n_clusters=12, n_init=5;, score=-5267.776 total time=   0.1s\n",
            "[CV 1/5; 150/160] START init=random, max_iter=1500, n_clusters=12, n_init=10....\n",
            "[CV 1/5; 150/160] END init=random, max_iter=1500, n_clusters=12, n_init=10;, score=-5124.353 total time=   0.2s\n",
            "[CV 2/5; 150/160] START init=random, max_iter=1500, n_clusters=12, n_init=10....\n",
            "[CV 2/5; 150/160] END init=random, max_iter=1500, n_clusters=12, n_init=10;, score=-5293.746 total time=   0.2s\n",
            "[CV 3/5; 150/160] START init=random, max_iter=1500, n_clusters=12, n_init=10....\n",
            "[CV 3/5; 150/160] END init=random, max_iter=1500, n_clusters=12, n_init=10;, score=-5273.647 total time=   0.2s\n",
            "[CV 4/5; 150/160] START init=random, max_iter=1500, n_clusters=12, n_init=10....\n",
            "[CV 4/5; 150/160] END init=random, max_iter=1500, n_clusters=12, n_init=10;, score=-5290.603 total time=   0.2s\n",
            "[CV 5/5; 150/160] START init=random, max_iter=1500, n_clusters=12, n_init=10....\n",
            "[CV 5/5; 150/160] END init=random, max_iter=1500, n_clusters=12, n_init=10;, score=-5372.185 total time=   0.2s\n",
            "[CV 1/5; 151/160] START init=random, max_iter=1500, n_clusters=12, n_init=15....\n",
            "[CV 1/5; 151/160] END init=random, max_iter=1500, n_clusters=12, n_init=15;, score=-5148.609 total time=   0.3s\n",
            "[CV 2/5; 151/160] START init=random, max_iter=1500, n_clusters=12, n_init=15....\n",
            "[CV 2/5; 151/160] END init=random, max_iter=1500, n_clusters=12, n_init=15;, score=-5179.709 total time=   0.3s\n",
            "[CV 3/5; 151/160] START init=random, max_iter=1500, n_clusters=12, n_init=15....\n",
            "[CV 3/5; 151/160] END init=random, max_iter=1500, n_clusters=12, n_init=15;, score=-5269.476 total time=   0.2s\n",
            "[CV 4/5; 151/160] START init=random, max_iter=1500, n_clusters=12, n_init=15....\n",
            "[CV 4/5; 151/160] END init=random, max_iter=1500, n_clusters=12, n_init=15;, score=-5292.645 total time=   0.3s\n",
            "[CV 5/5; 151/160] START init=random, max_iter=1500, n_clusters=12, n_init=15....\n",
            "[CV 5/5; 151/160] END init=random, max_iter=1500, n_clusters=12, n_init=15;, score=-5272.426 total time=   0.3s\n",
            "[CV 1/5; 152/160] START init=random, max_iter=1500, n_clusters=12, n_init=20....\n",
            "[CV 1/5; 152/160] END init=random, max_iter=1500, n_clusters=12, n_init=20;, score=-5124.304 total time=   0.4s\n",
            "[CV 2/5; 152/160] START init=random, max_iter=1500, n_clusters=12, n_init=20....\n",
            "[CV 2/5; 152/160] END init=random, max_iter=1500, n_clusters=12, n_init=20;, score=-5178.634 total time=   0.3s\n",
            "[CV 3/5; 152/160] START init=random, max_iter=1500, n_clusters=12, n_init=20....\n",
            "[CV 3/5; 152/160] END init=random, max_iter=1500, n_clusters=12, n_init=20;, score=-5270.817 total time=   0.3s\n",
            "[CV 4/5; 152/160] START init=random, max_iter=1500, n_clusters=12, n_init=20....\n",
            "[CV 4/5; 152/160] END init=random, max_iter=1500, n_clusters=12, n_init=20;, score=-5290.834 total time=   0.3s\n",
            "[CV 5/5; 152/160] START init=random, max_iter=1500, n_clusters=12, n_init=20....\n",
            "[CV 5/5; 152/160] END init=random, max_iter=1500, n_clusters=12, n_init=20;, score=-5269.020 total time=   0.4s\n",
            "[CV 1/5; 153/160] START init=random, max_iter=1500, n_clusters=18, n_init=5.....\n",
            "[CV 1/5; 153/160] END init=random, max_iter=1500, n_clusters=18, n_init=5;, score=-4513.966 total time=   0.2s\n",
            "[CV 2/5; 153/160] START init=random, max_iter=1500, n_clusters=18, n_init=5.....\n",
            "[CV 2/5; 153/160] END init=random, max_iter=1500, n_clusters=18, n_init=5;, score=-4590.741 total time=   0.1s\n",
            "[CV 3/5; 153/160] START init=random, max_iter=1500, n_clusters=18, n_init=5.....\n",
            "[CV 3/5; 153/160] END init=random, max_iter=1500, n_clusters=18, n_init=5;, score=-4625.430 total time=   0.1s\n",
            "[CV 4/5; 153/160] START init=random, max_iter=1500, n_clusters=18, n_init=5.....\n",
            "[CV 4/5; 153/160] END init=random, max_iter=1500, n_clusters=18, n_init=5;, score=-4599.467 total time=   0.1s\n",
            "[CV 5/5; 153/160] START init=random, max_iter=1500, n_clusters=18, n_init=5.....\n",
            "[CV 5/5; 153/160] END init=random, max_iter=1500, n_clusters=18, n_init=5;, score=-4652.994 total time=   0.2s\n",
            "[CV 1/5; 154/160] START init=random, max_iter=1500, n_clusters=18, n_init=10....\n",
            "[CV 1/5; 154/160] END init=random, max_iter=1500, n_clusters=18, n_init=10;, score=-4501.454 total time=   0.3s\n",
            "[CV 2/5; 154/160] START init=random, max_iter=1500, n_clusters=18, n_init=10....\n",
            "[CV 2/5; 154/160] END init=random, max_iter=1500, n_clusters=18, n_init=10;, score=-4557.420 total time=   0.3s\n",
            "[CV 3/5; 154/160] START init=random, max_iter=1500, n_clusters=18, n_init=10....\n",
            "[CV 3/5; 154/160] END init=random, max_iter=1500, n_clusters=18, n_init=10;, score=-4593.664 total time=   0.3s\n",
            "[CV 4/5; 154/160] START init=random, max_iter=1500, n_clusters=18, n_init=10....\n",
            "[CV 4/5; 154/160] END init=random, max_iter=1500, n_clusters=18, n_init=10;, score=-4583.095 total time=   0.4s\n",
            "[CV 5/5; 154/160] START init=random, max_iter=1500, n_clusters=18, n_init=10....\n",
            "[CV 5/5; 154/160] END init=random, max_iter=1500, n_clusters=18, n_init=10;, score=-4620.436 total time=   0.2s\n",
            "[CV 1/5; 155/160] START init=random, max_iter=1500, n_clusters=18, n_init=15....\n",
            "[CV 1/5; 155/160] END init=random, max_iter=1500, n_clusters=18, n_init=15;, score=-4488.200 total time=   0.5s\n",
            "[CV 2/5; 155/160] START init=random, max_iter=1500, n_clusters=18, n_init=15....\n",
            "[CV 2/5; 155/160] END init=random, max_iter=1500, n_clusters=18, n_init=15;, score=-4530.529 total time=   0.4s\n",
            "[CV 3/5; 155/160] START init=random, max_iter=1500, n_clusters=18, n_init=15....\n",
            "[CV 3/5; 155/160] END init=random, max_iter=1500, n_clusters=18, n_init=15;, score=-4622.048 total time=   0.4s\n",
            "[CV 4/5; 155/160] START init=random, max_iter=1500, n_clusters=18, n_init=15....\n",
            "[CV 4/5; 155/160] END init=random, max_iter=1500, n_clusters=18, n_init=15;, score=-4587.341 total time=   0.4s\n",
            "[CV 5/5; 155/160] START init=random, max_iter=1500, n_clusters=18, n_init=15....\n",
            "[CV 5/5; 155/160] END init=random, max_iter=1500, n_clusters=18, n_init=15;, score=-4692.001 total time=   0.4s\n",
            "[CV 1/5; 156/160] START init=random, max_iter=1500, n_clusters=18, n_init=20....\n",
            "[CV 1/5; 156/160] END init=random, max_iter=1500, n_clusters=18, n_init=20;, score=-4488.587 total time=   2.2s\n",
            "[CV 2/5; 156/160] START init=random, max_iter=1500, n_clusters=18, n_init=20....\n",
            "[CV 2/5; 156/160] END init=random, max_iter=1500, n_clusters=18, n_init=20;, score=-4548.349 total time=   0.5s\n",
            "[CV 3/5; 156/160] START init=random, max_iter=1500, n_clusters=18, n_init=20....\n",
            "[CV 3/5; 156/160] END init=random, max_iter=1500, n_clusters=18, n_init=20;, score=-4600.965 total time=   0.5s\n",
            "[CV 4/5; 156/160] START init=random, max_iter=1500, n_clusters=18, n_init=20....\n",
            "[CV 4/5; 156/160] END init=random, max_iter=1500, n_clusters=18, n_init=20;, score=-4602.676 total time=   0.6s\n",
            "[CV 5/5; 156/160] START init=random, max_iter=1500, n_clusters=18, n_init=20....\n",
            "[CV 5/5; 156/160] END init=random, max_iter=1500, n_clusters=18, n_init=20;, score=-4665.048 total time=   0.6s\n",
            "[CV 1/5; 157/160] START init=random, max_iter=1500, n_clusters=24, n_init=5.....\n",
            "[CV 1/5; 157/160] END init=random, max_iter=1500, n_clusters=24, n_init=5;, score=-4175.035 total time=   0.2s\n",
            "[CV 2/5; 157/160] START init=random, max_iter=1500, n_clusters=24, n_init=5.....\n",
            "[CV 2/5; 157/160] END init=random, max_iter=1500, n_clusters=24, n_init=5;, score=-4167.184 total time=   0.3s\n",
            "[CV 3/5; 157/160] START init=random, max_iter=1500, n_clusters=24, n_init=5.....\n",
            "[CV 3/5; 157/160] END init=random, max_iter=1500, n_clusters=24, n_init=5;, score=-4256.025 total time=   0.2s\n",
            "[CV 4/5; 157/160] START init=random, max_iter=1500, n_clusters=24, n_init=5.....\n",
            "[CV 4/5; 157/160] END init=random, max_iter=1500, n_clusters=24, n_init=5;, score=-4260.947 total time=   0.2s\n",
            "[CV 5/5; 157/160] START init=random, max_iter=1500, n_clusters=24, n_init=5.....\n",
            "[CV 5/5; 157/160] END init=random, max_iter=1500, n_clusters=24, n_init=5;, score=-4338.735 total time=   0.2s\n",
            "[CV 1/5; 158/160] START init=random, max_iter=1500, n_clusters=24, n_init=10....\n",
            "[CV 1/5; 158/160] END init=random, max_iter=1500, n_clusters=24, n_init=10;, score=-4148.763 total time=   0.4s\n",
            "[CV 2/5; 158/160] START init=random, max_iter=1500, n_clusters=24, n_init=10....\n",
            "[CV 2/5; 158/160] END init=random, max_iter=1500, n_clusters=24, n_init=10;, score=-4164.933 total time=   0.3s\n",
            "[CV 3/5; 158/160] START init=random, max_iter=1500, n_clusters=24, n_init=10....\n",
            "[CV 3/5; 158/160] END init=random, max_iter=1500, n_clusters=24, n_init=10;, score=-4256.727 total time=   0.4s\n",
            "[CV 4/5; 158/160] START init=random, max_iter=1500, n_clusters=24, n_init=10....\n",
            "[CV 4/5; 158/160] END init=random, max_iter=1500, n_clusters=24, n_init=10;, score=-4235.692 total time=   0.4s\n",
            "[CV 5/5; 158/160] START init=random, max_iter=1500, n_clusters=24, n_init=10....\n",
            "[CV 5/5; 158/160] END init=random, max_iter=1500, n_clusters=24, n_init=10;, score=-4289.805 total time=   0.4s\n",
            "[CV 1/5; 159/160] START init=random, max_iter=1500, n_clusters=24, n_init=15....\n",
            "[CV 1/5; 159/160] END init=random, max_iter=1500, n_clusters=24, n_init=15;, score=-4176.582 total time=   0.7s\n",
            "[CV 2/5; 159/160] START init=random, max_iter=1500, n_clusters=24, n_init=15....\n",
            "[CV 2/5; 159/160] END init=random, max_iter=1500, n_clusters=24, n_init=15;, score=-4183.012 total time=   0.5s\n",
            "[CV 3/5; 159/160] START init=random, max_iter=1500, n_clusters=24, n_init=15....\n",
            "[CV 3/5; 159/160] END init=random, max_iter=1500, n_clusters=24, n_init=15;, score=-4235.756 total time=   0.6s\n",
            "[CV 4/5; 159/160] START init=random, max_iter=1500, n_clusters=24, n_init=15....\n",
            "[CV 4/5; 159/160] END init=random, max_iter=1500, n_clusters=24, n_init=15;, score=-4251.012 total time=   0.6s\n",
            "[CV 5/5; 159/160] START init=random, max_iter=1500, n_clusters=24, n_init=15....\n",
            "[CV 5/5; 159/160] END init=random, max_iter=1500, n_clusters=24, n_init=15;, score=-4264.503 total time=   0.6s\n",
            "[CV 1/5; 160/160] START init=random, max_iter=1500, n_clusters=24, n_init=20....\n",
            "[CV 1/5; 160/160] END init=random, max_iter=1500, n_clusters=24, n_init=20;, score=-4110.382 total time=   0.8s\n",
            "[CV 2/5; 160/160] START init=random, max_iter=1500, n_clusters=24, n_init=20....\n",
            "[CV 2/5; 160/160] END init=random, max_iter=1500, n_clusters=24, n_init=20;, score=-4167.514 total time=   0.8s\n",
            "[CV 3/5; 160/160] START init=random, max_iter=1500, n_clusters=24, n_init=20....\n",
            "[CV 3/5; 160/160] END init=random, max_iter=1500, n_clusters=24, n_init=20;, score=-4249.482 total time=   2.4s\n",
            "[CV 4/5; 160/160] START init=random, max_iter=1500, n_clusters=24, n_init=20....\n",
            "[CV 4/5; 160/160] END init=random, max_iter=1500, n_clusters=24, n_init=20;, score=-4214.544 total time=   0.7s\n",
            "[CV 5/5; 160/160] START init=random, max_iter=1500, n_clusters=24, n_init=20....\n",
            "[CV 5/5; 160/160] END init=random, max_iter=1500, n_clusters=24, n_init=20;, score=-4298.024 total time=   0.7s\n",
            "Best parameters:  {'init': 'k-means++', 'max_iter': 600, 'n_clusters': 24, 'n_init': 15}\n"
          ]
        }
      ],
      "source": [
        "from sklearn.cluster import KMeans\n",
        "from sklearn.model_selection import GridSearchCV\n",
        "\n",
        "param_grid = {\n",
        "    'init': ['k-means++', 'random'],\n",
        "    'n_clusters': [6,12,18,24],\n",
        "    'n_init': [5, 10, 15, 20],\n",
        "    'max_iter': [300, 600, 900, 1200, 1500]\n",
        "}\n",
        "\n",
        "kmeans = KMeans()\n",
        "\n",
        "grid_clf = GridSearchCV(kmeans, param_grid, cv=5, verbose=10)\n",
        "\n",
        "grid_clf.fit(train_vectors)\n",
        "\n",
        "print(\"Best parameters: \", grid_clf.best_params_)\n"
      ]
    },
    {
      "cell_type": "code",
      "execution_count": 24,
      "metadata": {
        "colab": {
          "base_uri": "https://localhost:8080/"
        },
        "id": "50qbP2LdnXFu",
        "outputId": "49023701-6714-4428-f9d0-57f676601370"
      },
      "outputs": [
        {
          "name": "stdout",
          "output_type": "stream",
          "text": [
            "Fitting 3 folds for each of 144 candidates, totalling 432 fits\n",
            "[CV 1/3; 1/144] START epochs=5, min_count=1, vector_size=10, window=1...........\n"
          ]
        },
        {
          "name": "stderr",
          "output_type": "stream",
          "text": [
            "WARNING:gensim.models.doc2vec:Highest int doctag (8999) larger than count of documents (6000). This means at least 2999 excess, unused slots (119960 bytes) will be allocated for vectors.\n"
          ]
        },
        {
          "name": "stdout",
          "output_type": "stream",
          "text": [
            "[CV 1/3; 1/144] END epochs=5, min_count=1, vector_size=10, window=1;, score=0.154 total time=  38.1s\n",
            "[CV 2/3; 1/144] START epochs=5, min_count=1, vector_size=10, window=1...........\n"
          ]
        },
        {
          "name": "stderr",
          "output_type": "stream",
          "text": [
            "WARNING:gensim.models.doc2vec:Highest int doctag (8999) larger than count of documents (6000). This means at least 2999 excess, unused slots (119960 bytes) will be allocated for vectors.\n"
          ]
        },
        {
          "name": "stdout",
          "output_type": "stream",
          "text": [
            "[CV 2/3; 1/144] END epochs=5, min_count=1, vector_size=10, window=1;, score=0.146 total time=  31.3s\n",
            "[CV 3/3; 1/144] START epochs=5, min_count=1, vector_size=10, window=1...........\n",
            "[CV 3/3; 1/144] END epochs=5, min_count=1, vector_size=10, window=1;, score=0.163 total time=  30.9s\n",
            "[CV 1/3; 2/144] START epochs=5, min_count=1, vector_size=10, window=2...........\n"
          ]
        },
        {
          "name": "stderr",
          "output_type": "stream",
          "text": [
            "WARNING:gensim.models.doc2vec:Highest int doctag (8999) larger than count of documents (6000). This means at least 2999 excess, unused slots (119960 bytes) will be allocated for vectors.\n"
          ]
        },
        {
          "name": "stdout",
          "output_type": "stream",
          "text": [
            "[CV 1/3; 2/144] END epochs=5, min_count=1, vector_size=10, window=2;, score=0.160 total time=  32.9s\n",
            "[CV 2/3; 2/144] START epochs=5, min_count=1, vector_size=10, window=2...........\n"
          ]
        },
        {
          "name": "stderr",
          "output_type": "stream",
          "text": [
            "WARNING:gensim.models.doc2vec:Highest int doctag (8999) larger than count of documents (6000). This means at least 2999 excess, unused slots (119960 bytes) will be allocated for vectors.\n"
          ]
        },
        {
          "name": "stdout",
          "output_type": "stream",
          "text": [
            "[CV 2/3; 2/144] END epochs=5, min_count=1, vector_size=10, window=2;, score=0.151 total time=  31.6s\n",
            "[CV 3/3; 2/144] START epochs=5, min_count=1, vector_size=10, window=2...........\n",
            "[CV 3/3; 2/144] END epochs=5, min_count=1, vector_size=10, window=2;, score=0.158 total time=  30.6s\n",
            "[CV 1/3; 3/144] START epochs=5, min_count=1, vector_size=10, window=3...........\n"
          ]
        },
        {
          "name": "stderr",
          "output_type": "stream",
          "text": [
            "WARNING:gensim.models.doc2vec:Highest int doctag (8999) larger than count of documents (6000). This means at least 2999 excess, unused slots (119960 bytes) will be allocated for vectors.\n"
          ]
        },
        {
          "name": "stdout",
          "output_type": "stream",
          "text": [
            "[CV 1/3; 3/144] END epochs=5, min_count=1, vector_size=10, window=3;, score=0.160 total time=  33.2s\n",
            "[CV 2/3; 3/144] START epochs=5, min_count=1, vector_size=10, window=3...........\n"
          ]
        },
        {
          "name": "stderr",
          "output_type": "stream",
          "text": [
            "WARNING:gensim.models.doc2vec:Highest int doctag (8999) larger than count of documents (6000). This means at least 2999 excess, unused slots (119960 bytes) will be allocated for vectors.\n"
          ]
        },
        {
          "name": "stdout",
          "output_type": "stream",
          "text": [
            "[CV 2/3; 3/144] END epochs=5, min_count=1, vector_size=10, window=3;, score=0.160 total time=  32.8s\n",
            "[CV 3/3; 3/144] START epochs=5, min_count=1, vector_size=10, window=3...........\n",
            "[CV 3/3; 3/144] END epochs=5, min_count=1, vector_size=10, window=3;, score=0.152 total time=  31.4s\n",
            "[CV 1/3; 4/144] START epochs=5, min_count=1, vector_size=10, window=5...........\n"
          ]
        },
        {
          "name": "stderr",
          "output_type": "stream",
          "text": [
            "WARNING:gensim.models.doc2vec:Highest int doctag (8999) larger than count of documents (6000). This means at least 2999 excess, unused slots (119960 bytes) will be allocated for vectors.\n"
          ]
        },
        {
          "name": "stdout",
          "output_type": "stream",
          "text": [
            "[CV 1/3; 4/144] END epochs=5, min_count=1, vector_size=10, window=5;, score=0.147 total time=  34.0s\n",
            "[CV 2/3; 4/144] START epochs=5, min_count=1, vector_size=10, window=5...........\n"
          ]
        },
        {
          "name": "stderr",
          "output_type": "stream",
          "text": [
            "WARNING:gensim.models.doc2vec:Highest int doctag (8999) larger than count of documents (6000). This means at least 2999 excess, unused slots (119960 bytes) will be allocated for vectors.\n"
          ]
        },
        {
          "name": "stdout",
          "output_type": "stream",
          "text": [
            "[CV 2/3; 4/144] END epochs=5, min_count=1, vector_size=10, window=5;, score=0.144 total time=  32.1s\n",
            "[CV 3/3; 4/144] START epochs=5, min_count=1, vector_size=10, window=5...........\n",
            "[CV 3/3; 4/144] END epochs=5, min_count=1, vector_size=10, window=5;, score=0.156 total time=  33.9s\n",
            "[CV 1/3; 5/144] START epochs=5, min_count=1, vector_size=50, window=1...........\n"
          ]
        },
        {
          "name": "stderr",
          "output_type": "stream",
          "text": [
            "WARNING:gensim.models.doc2vec:Highest int doctag (8999) larger than count of documents (6000). This means at least 2999 excess, unused slots (599800 bytes) will be allocated for vectors.\n"
          ]
        },
        {
          "name": "stdout",
          "output_type": "stream",
          "text": [
            "[CV 1/3; 5/144] END epochs=5, min_count=1, vector_size=50, window=1;, score=0.106 total time=  37.1s\n",
            "[CV 2/3; 5/144] START epochs=5, min_count=1, vector_size=50, window=1...........\n"
          ]
        },
        {
          "name": "stderr",
          "output_type": "stream",
          "text": [
            "WARNING:gensim.models.doc2vec:Highest int doctag (8999) larger than count of documents (6000). This means at least 2999 excess, unused slots (599800 bytes) will be allocated for vectors.\n"
          ]
        },
        {
          "name": "stdout",
          "output_type": "stream",
          "text": [
            "[CV 2/3; 5/144] END epochs=5, min_count=1, vector_size=50, window=1;, score=0.101 total time=  37.3s\n",
            "[CV 3/3; 5/144] START epochs=5, min_count=1, vector_size=50, window=1...........\n",
            "[CV 3/3; 5/144] END epochs=5, min_count=1, vector_size=50, window=1;, score=0.102 total time=  37.4s\n",
            "[CV 1/3; 6/144] START epochs=5, min_count=1, vector_size=50, window=2...........\n"
          ]
        },
        {
          "name": "stderr",
          "output_type": "stream",
          "text": [
            "WARNING:gensim.models.doc2vec:Highest int doctag (8999) larger than count of documents (6000). This means at least 2999 excess, unused slots (599800 bytes) will be allocated for vectors.\n"
          ]
        },
        {
          "name": "stdout",
          "output_type": "stream",
          "text": [
            "[CV 1/3; 6/144] END epochs=5, min_count=1, vector_size=50, window=2;, score=0.096 total time=  38.5s\n",
            "[CV 2/3; 6/144] START epochs=5, min_count=1, vector_size=50, window=2...........\n"
          ]
        },
        {
          "name": "stderr",
          "output_type": "stream",
          "text": [
            "WARNING:gensim.models.doc2vec:Highest int doctag (8999) larger than count of documents (6000). This means at least 2999 excess, unused slots (599800 bytes) will be allocated for vectors.\n"
          ]
        },
        {
          "name": "stdout",
          "output_type": "stream",
          "text": [
            "[CV 2/3; 6/144] END epochs=5, min_count=1, vector_size=50, window=2;, score=0.091 total time=  39.3s\n",
            "[CV 3/3; 6/144] START epochs=5, min_count=1, vector_size=50, window=2...........\n",
            "[CV 3/3; 6/144] END epochs=5, min_count=1, vector_size=50, window=2;, score=0.097 total time=  40.2s\n",
            "[CV 1/3; 7/144] START epochs=5, min_count=1, vector_size=50, window=3...........\n"
          ]
        },
        {
          "name": "stderr",
          "output_type": "stream",
          "text": [
            "WARNING:gensim.models.doc2vec:Highest int doctag (8999) larger than count of documents (6000). This means at least 2999 excess, unused slots (599800 bytes) will be allocated for vectors.\n"
          ]
        },
        {
          "name": "stdout",
          "output_type": "stream",
          "text": [
            "[CV 1/3; 7/144] END epochs=5, min_count=1, vector_size=50, window=3;, score=0.090 total time=  39.1s\n",
            "[CV 2/3; 7/144] START epochs=5, min_count=1, vector_size=50, window=3...........\n"
          ]
        },
        {
          "name": "stderr",
          "output_type": "stream",
          "text": [
            "WARNING:gensim.models.doc2vec:Highest int doctag (8999) larger than count of documents (6000). This means at least 2999 excess, unused slots (599800 bytes) will be allocated for vectors.\n"
          ]
        },
        {
          "name": "stdout",
          "output_type": "stream",
          "text": [
            "[CV 2/3; 7/144] END epochs=5, min_count=1, vector_size=50, window=3;, score=0.084 total time=  37.9s\n",
            "[CV 3/3; 7/144] START epochs=5, min_count=1, vector_size=50, window=3...........\n",
            "[CV 3/3; 7/144] END epochs=5, min_count=1, vector_size=50, window=3;, score=0.086 total time=  38.5s\n",
            "[CV 1/3; 8/144] START epochs=5, min_count=1, vector_size=50, window=5...........\n"
          ]
        },
        {
          "name": "stderr",
          "output_type": "stream",
          "text": [
            "WARNING:gensim.models.doc2vec:Highest int doctag (8999) larger than count of documents (6000). This means at least 2999 excess, unused slots (599800 bytes) will be allocated for vectors.\n"
          ]
        },
        {
          "name": "stdout",
          "output_type": "stream",
          "text": [
            "[CV 1/3; 8/144] END epochs=5, min_count=1, vector_size=50, window=5;, score=0.055 total time=  43.4s\n",
            "[CV 2/3; 8/144] START epochs=5, min_count=1, vector_size=50, window=5...........\n"
          ]
        },
        {
          "name": "stderr",
          "output_type": "stream",
          "text": [
            "WARNING:gensim.models.doc2vec:Highest int doctag (8999) larger than count of documents (6000). This means at least 2999 excess, unused slots (599800 bytes) will be allocated for vectors.\n"
          ]
        },
        {
          "name": "stdout",
          "output_type": "stream",
          "text": [
            "[CV 2/3; 8/144] END epochs=5, min_count=1, vector_size=50, window=5;, score=0.077 total time=  41.5s\n",
            "[CV 3/3; 8/144] START epochs=5, min_count=1, vector_size=50, window=5...........\n",
            "[CV 3/3; 8/144] END epochs=5, min_count=1, vector_size=50, window=5;, score=0.071 total time=  40.7s\n",
            "[CV 1/3; 9/144] START epochs=5, min_count=1, vector_size=100, window=1..........\n"
          ]
        },
        {
          "name": "stderr",
          "output_type": "stream",
          "text": [
            "WARNING:gensim.models.doc2vec:Highest int doctag (8999) larger than count of documents (6000). This means at least 2999 excess, unused slots (1199600 bytes) will be allocated for vectors.\n"
          ]
        },
        {
          "name": "stdout",
          "output_type": "stream",
          "text": [
            "[CV 1/3; 9/144] END epochs=5, min_count=1, vector_size=100, window=1;, score=0.097 total time=  34.2s\n",
            "[CV 2/3; 9/144] START epochs=5, min_count=1, vector_size=100, window=1..........\n"
          ]
        },
        {
          "name": "stderr",
          "output_type": "stream",
          "text": [
            "WARNING:gensim.models.doc2vec:Highest int doctag (8999) larger than count of documents (6000). This means at least 2999 excess, unused slots (1199600 bytes) will be allocated for vectors.\n"
          ]
        },
        {
          "name": "stdout",
          "output_type": "stream",
          "text": [
            "[CV 2/3; 9/144] END epochs=5, min_count=1, vector_size=100, window=1;, score=0.082 total time=  37.3s\n",
            "[CV 3/3; 9/144] START epochs=5, min_count=1, vector_size=100, window=1..........\n",
            "[CV 3/3; 9/144] END epochs=5, min_count=1, vector_size=100, window=1;, score=0.090 total time=  38.7s\n",
            "[CV 1/3; 10/144] START epochs=5, min_count=1, vector_size=100, window=2.........\n"
          ]
        },
        {
          "name": "stderr",
          "output_type": "stream",
          "text": [
            "WARNING:gensim.models.doc2vec:Highest int doctag (8999) larger than count of documents (6000). This means at least 2999 excess, unused slots (1199600 bytes) will be allocated for vectors.\n"
          ]
        },
        {
          "name": "stdout",
          "output_type": "stream",
          "text": [
            "[CV 1/3; 10/144] END epochs=5, min_count=1, vector_size=100, window=2;, score=0.084 total time=  38.3s\n",
            "[CV 2/3; 10/144] START epochs=5, min_count=1, vector_size=100, window=2.........\n"
          ]
        },
        {
          "name": "stderr",
          "output_type": "stream",
          "text": [
            "WARNING:gensim.models.doc2vec:Highest int doctag (8999) larger than count of documents (6000). This means at least 2999 excess, unused slots (1199600 bytes) will be allocated for vectors.\n"
          ]
        },
        {
          "name": "stdout",
          "output_type": "stream",
          "text": [
            "[CV 2/3; 10/144] END epochs=5, min_count=1, vector_size=100, window=2;, score=0.081 total time=  38.7s\n",
            "[CV 3/3; 10/144] START epochs=5, min_count=1, vector_size=100, window=2.........\n",
            "[CV 3/3; 10/144] END epochs=5, min_count=1, vector_size=100, window=2;, score=0.076 total time=  38.9s\n",
            "[CV 1/3; 11/144] START epochs=5, min_count=1, vector_size=100, window=3.........\n"
          ]
        },
        {
          "name": "stderr",
          "output_type": "stream",
          "text": [
            "WARNING:gensim.models.doc2vec:Highest int doctag (8999) larger than count of documents (6000). This means at least 2999 excess, unused slots (1199600 bytes) will be allocated for vectors.\n"
          ]
        },
        {
          "name": "stdout",
          "output_type": "stream",
          "text": [
            "[CV 1/3; 11/144] END epochs=5, min_count=1, vector_size=100, window=3;, score=0.073 total time=  40.4s\n",
            "[CV 2/3; 11/144] START epochs=5, min_count=1, vector_size=100, window=3.........\n"
          ]
        },
        {
          "name": "stderr",
          "output_type": "stream",
          "text": [
            "WARNING:gensim.models.doc2vec:Highest int doctag (8999) larger than count of documents (6000). This means at least 2999 excess, unused slots (1199600 bytes) will be allocated for vectors.\n"
          ]
        },
        {
          "name": "stdout",
          "output_type": "stream",
          "text": [
            "[CV 2/3; 11/144] END epochs=5, min_count=1, vector_size=100, window=3;, score=0.074 total time=  38.6s\n",
            "[CV 3/3; 11/144] START epochs=5, min_count=1, vector_size=100, window=3.........\n",
            "[CV 3/3; 11/144] END epochs=5, min_count=1, vector_size=100, window=3;, score=0.049 total time=  39.6s\n",
            "[CV 1/3; 12/144] START epochs=5, min_count=1, vector_size=100, window=5.........\n"
          ]
        },
        {
          "name": "stderr",
          "output_type": "stream",
          "text": [
            "WARNING:gensim.models.doc2vec:Highest int doctag (8999) larger than count of documents (6000). This means at least 2999 excess, unused slots (1199600 bytes) will be allocated for vectors.\n"
          ]
        },
        {
          "name": "stdout",
          "output_type": "stream",
          "text": [
            "[CV 1/3; 12/144] END epochs=5, min_count=1, vector_size=100, window=5;, score=0.046 total time=  40.6s\n",
            "[CV 2/3; 12/144] START epochs=5, min_count=1, vector_size=100, window=5.........\n"
          ]
        },
        {
          "name": "stderr",
          "output_type": "stream",
          "text": [
            "WARNING:gensim.models.doc2vec:Highest int doctag (8999) larger than count of documents (6000). This means at least 2999 excess, unused slots (1199600 bytes) will be allocated for vectors.\n"
          ]
        },
        {
          "name": "stdout",
          "output_type": "stream",
          "text": [
            "[CV 2/3; 12/144] END epochs=5, min_count=1, vector_size=100, window=5;, score=0.057 total time=  40.7s\n",
            "[CV 3/3; 12/144] START epochs=5, min_count=1, vector_size=100, window=5.........\n",
            "[CV 3/3; 12/144] END epochs=5, min_count=1, vector_size=100, window=5;, score=0.062 total time=  42.1s\n",
            "[CV 1/3; 13/144] START epochs=5, min_count=1, vector_size=300, window=1.........\n"
          ]
        },
        {
          "name": "stderr",
          "output_type": "stream",
          "text": [
            "WARNING:gensim.models.doc2vec:Highest int doctag (8999) larger than count of documents (6000). This means at least 2999 excess, unused slots (3598800 bytes) will be allocated for vectors.\n"
          ]
        },
        {
          "name": "stdout",
          "output_type": "stream",
          "text": [
            "[CV 1/3; 13/144] END epochs=5, min_count=1, vector_size=300, window=1;, score=0.093 total time=  52.1s\n",
            "[CV 2/3; 13/144] START epochs=5, min_count=1, vector_size=300, window=1.........\n"
          ]
        },
        {
          "name": "stderr",
          "output_type": "stream",
          "text": [
            "WARNING:gensim.models.doc2vec:Highest int doctag (8999) larger than count of documents (6000). This means at least 2999 excess, unused slots (3598800 bytes) will be allocated for vectors.\n"
          ]
        },
        {
          "name": "stdout",
          "output_type": "stream",
          "text": [
            "[CV 2/3; 13/144] END epochs=5, min_count=1, vector_size=300, window=1;, score=0.085 total time=  52.4s\n",
            "[CV 3/3; 13/144] START epochs=5, min_count=1, vector_size=300, window=1.........\n",
            "[CV 3/3; 13/144] END epochs=5, min_count=1, vector_size=300, window=1;, score=0.088 total time=  53.5s\n",
            "[CV 1/3; 14/144] START epochs=5, min_count=1, vector_size=300, window=2.........\n"
          ]
        },
        {
          "name": "stderr",
          "output_type": "stream",
          "text": [
            "WARNING:gensim.models.doc2vec:Highest int doctag (8999) larger than count of documents (6000). This means at least 2999 excess, unused slots (3598800 bytes) will be allocated for vectors.\n"
          ]
        },
        {
          "name": "stdout",
          "output_type": "stream",
          "text": [
            "[CV 1/3; 14/144] END epochs=5, min_count=1, vector_size=300, window=2;, score=0.086 total time=  53.5s\n",
            "[CV 2/3; 14/144] START epochs=5, min_count=1, vector_size=300, window=2.........\n"
          ]
        },
        {
          "name": "stderr",
          "output_type": "stream",
          "text": [
            "WARNING:gensim.models.doc2vec:Highest int doctag (8999) larger than count of documents (6000). This means at least 2999 excess, unused slots (3598800 bytes) will be allocated for vectors.\n"
          ]
        },
        {
          "name": "stdout",
          "output_type": "stream",
          "text": [
            "[CV 2/3; 14/144] END epochs=5, min_count=1, vector_size=300, window=2;, score=0.083 total time=  53.2s\n",
            "[CV 3/3; 14/144] START epochs=5, min_count=1, vector_size=300, window=2.........\n",
            "[CV 3/3; 14/144] END epochs=5, min_count=1, vector_size=300, window=2;, score=0.082 total time=  53.5s\n",
            "[CV 1/3; 15/144] START epochs=5, min_count=1, vector_size=300, window=3.........\n"
          ]
        },
        {
          "name": "stderr",
          "output_type": "stream",
          "text": [
            "WARNING:gensim.models.doc2vec:Highest int doctag (8999) larger than count of documents (6000). This means at least 2999 excess, unused slots (3598800 bytes) will be allocated for vectors.\n"
          ]
        },
        {
          "name": "stdout",
          "output_type": "stream",
          "text": [
            "[CV 1/3; 15/144] END epochs=5, min_count=1, vector_size=300, window=3;, score=0.077 total time=  56.7s\n",
            "[CV 2/3; 15/144] START epochs=5, min_count=1, vector_size=300, window=3.........\n"
          ]
        },
        {
          "name": "stderr",
          "output_type": "stream",
          "text": [
            "WARNING:gensim.models.doc2vec:Highest int doctag (8999) larger than count of documents (6000). This means at least 2999 excess, unused slots (3598800 bytes) will be allocated for vectors.\n"
          ]
        },
        {
          "name": "stdout",
          "output_type": "stream",
          "text": [
            "[CV 2/3; 15/144] END epochs=5, min_count=1, vector_size=300, window=3;, score=0.074 total time=  54.6s\n",
            "[CV 3/3; 15/144] START epochs=5, min_count=1, vector_size=300, window=3.........\n",
            "[CV 3/3; 15/144] END epochs=5, min_count=1, vector_size=300, window=3;, score=0.070 total time=  56.1s\n",
            "[CV 1/3; 16/144] START epochs=5, min_count=1, vector_size=300, window=5.........\n"
          ]
        },
        {
          "name": "stderr",
          "output_type": "stream",
          "text": [
            "WARNING:gensim.models.doc2vec:Highest int doctag (8999) larger than count of documents (6000). This means at least 2999 excess, unused slots (3598800 bytes) will be allocated for vectors.\n"
          ]
        },
        {
          "name": "stdout",
          "output_type": "stream",
          "text": [
            "[CV 1/3; 16/144] END epochs=5, min_count=1, vector_size=300, window=5;, score=0.063 total time=  58.9s\n",
            "[CV 2/3; 16/144] START epochs=5, min_count=1, vector_size=300, window=5.........\n"
          ]
        },
        {
          "name": "stderr",
          "output_type": "stream",
          "text": [
            "WARNING:gensim.models.doc2vec:Highest int doctag (8999) larger than count of documents (6000). This means at least 2999 excess, unused slots (3598800 bytes) will be allocated for vectors.\n"
          ]
        },
        {
          "name": "stdout",
          "output_type": "stream",
          "text": [
            "[CV 2/3; 16/144] END epochs=5, min_count=1, vector_size=300, window=5;, score=0.054 total time=  57.1s\n",
            "[CV 3/3; 16/144] START epochs=5, min_count=1, vector_size=300, window=5.........\n",
            "[CV 3/3; 16/144] END epochs=5, min_count=1, vector_size=300, window=5;, score=0.062 total time=  57.9s\n",
            "[CV 1/3; 17/144] START epochs=5, min_count=2, vector_size=10, window=1..........\n"
          ]
        },
        {
          "name": "stderr",
          "output_type": "stream",
          "text": [
            "WARNING:gensim.models.doc2vec:Highest int doctag (8999) larger than count of documents (6000). This means at least 2999 excess, unused slots (119960 bytes) will be allocated for vectors.\n"
          ]
        },
        {
          "name": "stdout",
          "output_type": "stream",
          "text": [
            "[CV 1/3; 17/144] END epochs=5, min_count=2, vector_size=10, window=1;, score=0.156 total time=  30.0s\n",
            "[CV 2/3; 17/144] START epochs=5, min_count=2, vector_size=10, window=1..........\n"
          ]
        },
        {
          "name": "stderr",
          "output_type": "stream",
          "text": [
            "WARNING:gensim.models.doc2vec:Highest int doctag (8999) larger than count of documents (6000). This means at least 2999 excess, unused slots (119960 bytes) will be allocated for vectors.\n"
          ]
        },
        {
          "name": "stdout",
          "output_type": "stream",
          "text": [
            "[CV 2/3; 17/144] END epochs=5, min_count=2, vector_size=10, window=1;, score=0.145 total time=  28.5s\n",
            "[CV 3/3; 17/144] START epochs=5, min_count=2, vector_size=10, window=1..........\n",
            "[CV 3/3; 17/144] END epochs=5, min_count=2, vector_size=10, window=1;, score=0.167 total time=  28.2s\n",
            "[CV 1/3; 18/144] START epochs=5, min_count=2, vector_size=10, window=2..........\n"
          ]
        },
        {
          "name": "stderr",
          "output_type": "stream",
          "text": [
            "WARNING:gensim.models.doc2vec:Highest int doctag (8999) larger than count of documents (6000). This means at least 2999 excess, unused slots (119960 bytes) will be allocated for vectors.\n"
          ]
        },
        {
          "name": "stdout",
          "output_type": "stream",
          "text": [
            "[CV 1/3; 18/144] END epochs=5, min_count=2, vector_size=10, window=2;, score=0.152 total time=  28.9s\n",
            "[CV 2/3; 18/144] START epochs=5, min_count=2, vector_size=10, window=2..........\n"
          ]
        },
        {
          "name": "stderr",
          "output_type": "stream",
          "text": [
            "WARNING:gensim.models.doc2vec:Highest int doctag (8999) larger than count of documents (6000). This means at least 2999 excess, unused slots (119960 bytes) will be allocated for vectors.\n"
          ]
        },
        {
          "name": "stdout",
          "output_type": "stream",
          "text": [
            "[CV 2/3; 18/144] END epochs=5, min_count=2, vector_size=10, window=2;, score=0.165 total time=  29.1s\n",
            "[CV 3/3; 18/144] START epochs=5, min_count=2, vector_size=10, window=2..........\n",
            "[CV 3/3; 18/144] END epochs=5, min_count=2, vector_size=10, window=2;, score=0.154 total time=  30.6s\n",
            "[CV 1/3; 19/144] START epochs=5, min_count=2, vector_size=10, window=3..........\n"
          ]
        },
        {
          "name": "stderr",
          "output_type": "stream",
          "text": [
            "WARNING:gensim.models.doc2vec:Highest int doctag (8999) larger than count of documents (6000). This means at least 2999 excess, unused slots (119960 bytes) will be allocated for vectors.\n"
          ]
        },
        {
          "name": "stdout",
          "output_type": "stream",
          "text": [
            "[CV 1/3; 19/144] END epochs=5, min_count=2, vector_size=10, window=3;, score=0.159 total time=  31.0s\n",
            "[CV 2/3; 19/144] START epochs=5, min_count=2, vector_size=10, window=3..........\n"
          ]
        },
        {
          "name": "stderr",
          "output_type": "stream",
          "text": [
            "WARNING:gensim.models.doc2vec:Highest int doctag (8999) larger than count of documents (6000). This means at least 2999 excess, unused slots (119960 bytes) will be allocated for vectors.\n"
          ]
        },
        {
          "name": "stdout",
          "output_type": "stream",
          "text": [
            "[CV 2/3; 19/144] END epochs=5, min_count=2, vector_size=10, window=3;, score=0.155 total time=  29.6s\n",
            "[CV 3/3; 19/144] START epochs=5, min_count=2, vector_size=10, window=3..........\n",
            "[CV 3/3; 19/144] END epochs=5, min_count=2, vector_size=10, window=3;, score=0.161 total time=  29.8s\n",
            "[CV 1/3; 20/144] START epochs=5, min_count=2, vector_size=10, window=5..........\n"
          ]
        },
        {
          "name": "stderr",
          "output_type": "stream",
          "text": [
            "WARNING:gensim.models.doc2vec:Highest int doctag (8999) larger than count of documents (6000). This means at least 2999 excess, unused slots (119960 bytes) will be allocated for vectors.\n"
          ]
        },
        {
          "name": "stdout",
          "output_type": "stream",
          "text": [
            "[CV 1/3; 20/144] END epochs=5, min_count=2, vector_size=10, window=5;, score=0.146 total time=  31.6s\n",
            "[CV 2/3; 20/144] START epochs=5, min_count=2, vector_size=10, window=5..........\n"
          ]
        },
        {
          "name": "stderr",
          "output_type": "stream",
          "text": [
            "WARNING:gensim.models.doc2vec:Highest int doctag (8999) larger than count of documents (6000). This means at least 2999 excess, unused slots (119960 bytes) will be allocated for vectors.\n"
          ]
        },
        {
          "name": "stdout",
          "output_type": "stream",
          "text": [
            "[CV 2/3; 20/144] END epochs=5, min_count=2, vector_size=10, window=5;, score=0.147 total time=  30.8s\n",
            "[CV 3/3; 20/144] START epochs=5, min_count=2, vector_size=10, window=5..........\n",
            "[CV 3/3; 20/144] END epochs=5, min_count=2, vector_size=10, window=5;, score=0.146 total time=  32.2s\n",
            "[CV 1/3; 21/144] START epochs=5, min_count=2, vector_size=50, window=1..........\n"
          ]
        },
        {
          "name": "stderr",
          "output_type": "stream",
          "text": [
            "WARNING:gensim.models.doc2vec:Highest int doctag (8999) larger than count of documents (6000). This means at least 2999 excess, unused slots (599800 bytes) will be allocated for vectors.\n"
          ]
        },
        {
          "name": "stdout",
          "output_type": "stream",
          "text": [
            "[CV 1/3; 21/144] END epochs=5, min_count=2, vector_size=50, window=1;, score=0.103 total time=  35.8s\n",
            "[CV 2/3; 21/144] START epochs=5, min_count=2, vector_size=50, window=1..........\n"
          ]
        },
        {
          "name": "stderr",
          "output_type": "stream",
          "text": [
            "WARNING:gensim.models.doc2vec:Highest int doctag (8999) larger than count of documents (6000). This means at least 2999 excess, unused slots (599800 bytes) will be allocated for vectors.\n"
          ]
        },
        {
          "name": "stdout",
          "output_type": "stream",
          "text": [
            "[CV 2/3; 21/144] END epochs=5, min_count=2, vector_size=50, window=1;, score=0.093 total time=  35.8s\n",
            "[CV 3/3; 21/144] START epochs=5, min_count=2, vector_size=50, window=1..........\n",
            "[CV 3/3; 21/144] END epochs=5, min_count=2, vector_size=50, window=1;, score=0.100 total time=  34.2s\n",
            "[CV 1/3; 22/144] START epochs=5, min_count=2, vector_size=50, window=2..........\n"
          ]
        },
        {
          "name": "stderr",
          "output_type": "stream",
          "text": [
            "WARNING:gensim.models.doc2vec:Highest int doctag (8999) larger than count of documents (6000). This means at least 2999 excess, unused slots (599800 bytes) will be allocated for vectors.\n"
          ]
        },
        {
          "name": "stdout",
          "output_type": "stream",
          "text": [
            "[CV 1/3; 22/144] END epochs=5, min_count=2, vector_size=50, window=2;, score=0.092 total time=  36.5s\n",
            "[CV 2/3; 22/144] START epochs=5, min_count=2, vector_size=50, window=2..........\n"
          ]
        },
        {
          "name": "stderr",
          "output_type": "stream",
          "text": [
            "WARNING:gensim.models.doc2vec:Highest int doctag (8999) larger than count of documents (6000). This means at least 2999 excess, unused slots (599800 bytes) will be allocated for vectors.\n"
          ]
        },
        {
          "name": "stdout",
          "output_type": "stream",
          "text": [
            "[CV 2/3; 22/144] END epochs=5, min_count=2, vector_size=50, window=2;, score=0.084 total time=  39.0s\n",
            "[CV 3/3; 22/144] START epochs=5, min_count=2, vector_size=50, window=2..........\n",
            "[CV 3/3; 22/144] END epochs=5, min_count=2, vector_size=50, window=2;, score=0.090 total time=  35.8s\n",
            "[CV 1/3; 23/144] START epochs=5, min_count=2, vector_size=50, window=3..........\n"
          ]
        },
        {
          "name": "stderr",
          "output_type": "stream",
          "text": [
            "WARNING:gensim.models.doc2vec:Highest int doctag (8999) larger than count of documents (6000). This means at least 2999 excess, unused slots (599800 bytes) will be allocated for vectors.\n"
          ]
        },
        {
          "name": "stdout",
          "output_type": "stream",
          "text": [
            "[CV 1/3; 23/144] END epochs=5, min_count=2, vector_size=50, window=3;, score=0.084 total time=  37.5s\n",
            "[CV 2/3; 23/144] START epochs=5, min_count=2, vector_size=50, window=3..........\n"
          ]
        },
        {
          "name": "stderr",
          "output_type": "stream",
          "text": [
            "WARNING:gensim.models.doc2vec:Highest int doctag (8999) larger than count of documents (6000). This means at least 2999 excess, unused slots (599800 bytes) will be allocated for vectors.\n"
          ]
        },
        {
          "name": "stdout",
          "output_type": "stream",
          "text": [
            "[CV 2/3; 23/144] END epochs=5, min_count=2, vector_size=50, window=3;, score=0.082 total time=  37.6s\n",
            "[CV 3/3; 23/144] START epochs=5, min_count=2, vector_size=50, window=3..........\n",
            "[CV 3/3; 23/144] END epochs=5, min_count=2, vector_size=50, window=3;, score=0.083 total time=  37.9s\n",
            "[CV 1/3; 24/144] START epochs=5, min_count=2, vector_size=50, window=5..........\n"
          ]
        },
        {
          "name": "stderr",
          "output_type": "stream",
          "text": [
            "WARNING:gensim.models.doc2vec:Highest int doctag (8999) larger than count of documents (6000). This means at least 2999 excess, unused slots (599800 bytes) will be allocated for vectors.\n"
          ]
        },
        {
          "name": "stdout",
          "output_type": "stream",
          "text": [
            "[CV 1/3; 24/144] END epochs=5, min_count=2, vector_size=50, window=5;, score=0.057 total time=  40.9s\n",
            "[CV 2/3; 24/144] START epochs=5, min_count=2, vector_size=50, window=5..........\n"
          ]
        },
        {
          "name": "stderr",
          "output_type": "stream",
          "text": [
            "WARNING:gensim.models.doc2vec:Highest int doctag (8999) larger than count of documents (6000). This means at least 2999 excess, unused slots (599800 bytes) will be allocated for vectors.\n"
          ]
        },
        {
          "name": "stdout",
          "output_type": "stream",
          "text": [
            "[CV 2/3; 24/144] END epochs=5, min_count=2, vector_size=50, window=5;, score=0.066 total time=  39.4s\n",
            "[CV 3/3; 24/144] START epochs=5, min_count=2, vector_size=50, window=5..........\n",
            "[CV 3/3; 24/144] END epochs=5, min_count=2, vector_size=50, window=5;, score=0.057 total time=  40.2s\n",
            "[CV 1/3; 25/144] START epochs=5, min_count=2, vector_size=100, window=1.........\n"
          ]
        },
        {
          "name": "stderr",
          "output_type": "stream",
          "text": [
            "WARNING:gensim.models.doc2vec:Highest int doctag (8999) larger than count of documents (6000). This means at least 2999 excess, unused slots (1199600 bytes) will be allocated for vectors.\n"
          ]
        },
        {
          "name": "stdout",
          "output_type": "stream",
          "text": [
            "[CV 1/3; 25/144] END epochs=5, min_count=2, vector_size=100, window=1;, score=0.090 total time=  32.6s\n",
            "[CV 2/3; 25/144] START epochs=5, min_count=2, vector_size=100, window=1.........\n"
          ]
        },
        {
          "name": "stderr",
          "output_type": "stream",
          "text": [
            "WARNING:gensim.models.doc2vec:Highest int doctag (8999) larger than count of documents (6000). This means at least 2999 excess, unused slots (1199600 bytes) will be allocated for vectors.\n"
          ]
        },
        {
          "name": "stdout",
          "output_type": "stream",
          "text": [
            "[CV 2/3; 25/144] END epochs=5, min_count=2, vector_size=100, window=1;, score=0.085 total time=  35.3s\n",
            "[CV 3/3; 25/144] START epochs=5, min_count=2, vector_size=100, window=1.........\n",
            "[CV 3/3; 25/144] END epochs=5, min_count=2, vector_size=100, window=1;, score=0.082 total time=  32.4s\n",
            "[CV 1/3; 26/144] START epochs=5, min_count=2, vector_size=100, window=2.........\n"
          ]
        },
        {
          "name": "stderr",
          "output_type": "stream",
          "text": [
            "WARNING:gensim.models.doc2vec:Highest int doctag (8999) larger than count of documents (6000). This means at least 2999 excess, unused slots (1199600 bytes) will be allocated for vectors.\n"
          ]
        },
        {
          "name": "stdout",
          "output_type": "stream",
          "text": [
            "[CV 1/3; 26/144] END epochs=5, min_count=2, vector_size=100, window=2;, score=0.080 total time=  33.8s\n",
            "[CV 2/3; 26/144] START epochs=5, min_count=2, vector_size=100, window=2.........\n"
          ]
        },
        {
          "name": "stderr",
          "output_type": "stream",
          "text": [
            "WARNING:gensim.models.doc2vec:Highest int doctag (8999) larger than count of documents (6000). This means at least 2999 excess, unused slots (1199600 bytes) will be allocated for vectors.\n"
          ]
        },
        {
          "name": "stdout",
          "output_type": "stream",
          "text": [
            "[CV 2/3; 26/144] END epochs=5, min_count=2, vector_size=100, window=2;, score=0.061 total time=  33.1s\n",
            "[CV 3/3; 26/144] START epochs=5, min_count=2, vector_size=100, window=2.........\n",
            "[CV 3/3; 26/144] END epochs=5, min_count=2, vector_size=100, window=2;, score=0.075 total time=  33.4s\n",
            "[CV 1/3; 27/144] START epochs=5, min_count=2, vector_size=100, window=3.........\n"
          ]
        },
        {
          "name": "stderr",
          "output_type": "stream",
          "text": [
            "WARNING:gensim.models.doc2vec:Highest int doctag (8999) larger than count of documents (6000). This means at least 2999 excess, unused slots (1199600 bytes) will be allocated for vectors.\n"
          ]
        },
        {
          "name": "stdout",
          "output_type": "stream",
          "text": [
            "[CV 1/3; 27/144] END epochs=5, min_count=2, vector_size=100, window=3;, score=0.071 total time=  33.8s\n",
            "[CV 2/3; 27/144] START epochs=5, min_count=2, vector_size=100, window=3.........\n"
          ]
        },
        {
          "name": "stderr",
          "output_type": "stream",
          "text": [
            "WARNING:gensim.models.doc2vec:Highest int doctag (8999) larger than count of documents (6000). This means at least 2999 excess, unused slots (1199600 bytes) will be allocated for vectors.\n"
          ]
        },
        {
          "name": "stdout",
          "output_type": "stream",
          "text": [
            "[CV 2/3; 27/144] END epochs=5, min_count=2, vector_size=100, window=3;, score=0.060 total time=  34.4s\n",
            "[CV 3/3; 27/144] START epochs=5, min_count=2, vector_size=100, window=3.........\n",
            "[CV 3/3; 27/144] END epochs=5, min_count=2, vector_size=100, window=3;, score=0.068 total time=  34.0s\n",
            "[CV 1/3; 28/144] START epochs=5, min_count=2, vector_size=100, window=5.........\n"
          ]
        },
        {
          "name": "stderr",
          "output_type": "stream",
          "text": [
            "WARNING:gensim.models.doc2vec:Highest int doctag (8999) larger than count of documents (6000). This means at least 2999 excess, unused slots (1199600 bytes) will be allocated for vectors.\n"
          ]
        },
        {
          "name": "stdout",
          "output_type": "stream",
          "text": [
            "[CV 1/3; 28/144] END epochs=5, min_count=2, vector_size=100, window=5;, score=0.046 total time=  35.6s\n",
            "[CV 2/3; 28/144] START epochs=5, min_count=2, vector_size=100, window=5.........\n"
          ]
        },
        {
          "name": "stderr",
          "output_type": "stream",
          "text": [
            "WARNING:gensim.models.doc2vec:Highest int doctag (8999) larger than count of documents (6000). This means at least 2999 excess, unused slots (1199600 bytes) will be allocated for vectors.\n"
          ]
        },
        {
          "name": "stdout",
          "output_type": "stream",
          "text": [
            "[CV 2/3; 28/144] END epochs=5, min_count=2, vector_size=100, window=5;, score=0.037 total time=  35.4s\n",
            "[CV 3/3; 28/144] START epochs=5, min_count=2, vector_size=100, window=5.........\n",
            "[CV 3/3; 28/144] END epochs=5, min_count=2, vector_size=100, window=5;, score=0.047 total time=  36.9s\n",
            "[CV 1/3; 29/144] START epochs=5, min_count=2, vector_size=300, window=1.........\n"
          ]
        },
        {
          "name": "stderr",
          "output_type": "stream",
          "text": [
            "WARNING:gensim.models.doc2vec:Highest int doctag (8999) larger than count of documents (6000). This means at least 2999 excess, unused slots (3598800 bytes) will be allocated for vectors.\n"
          ]
        },
        {
          "name": "stdout",
          "output_type": "stream",
          "text": [
            "[CV 1/3; 29/144] END epochs=5, min_count=2, vector_size=300, window=1;, score=0.072 total time=  44.3s\n",
            "[CV 2/3; 29/144] START epochs=5, min_count=2, vector_size=300, window=1.........\n"
          ]
        },
        {
          "name": "stderr",
          "output_type": "stream",
          "text": [
            "WARNING:gensim.models.doc2vec:Highest int doctag (8999) larger than count of documents (6000). This means at least 2999 excess, unused slots (3598800 bytes) will be allocated for vectors.\n"
          ]
        },
        {
          "name": "stdout",
          "output_type": "stream",
          "text": [
            "[CV 2/3; 29/144] END epochs=5, min_count=2, vector_size=300, window=1;, score=0.078 total time=  46.9s\n",
            "[CV 3/3; 29/144] START epochs=5, min_count=2, vector_size=300, window=1.........\n",
            "[CV 3/3; 29/144] END epochs=5, min_count=2, vector_size=300, window=1;, score=0.083 total time=  46.8s\n",
            "[CV 1/3; 30/144] START epochs=5, min_count=2, vector_size=300, window=2.........\n"
          ]
        },
        {
          "name": "stderr",
          "output_type": "stream",
          "text": [
            "WARNING:gensim.models.doc2vec:Highest int doctag (8999) larger than count of documents (6000). This means at least 2999 excess, unused slots (3598800 bytes) will be allocated for vectors.\n"
          ]
        },
        {
          "name": "stdout",
          "output_type": "stream",
          "text": [
            "[CV 1/3; 30/144] END epochs=5, min_count=2, vector_size=300, window=2;, score=0.080 total time=  49.7s\n",
            "[CV 2/3; 30/144] START epochs=5, min_count=2, vector_size=300, window=2.........\n"
          ]
        },
        {
          "name": "stderr",
          "output_type": "stream",
          "text": [
            "WARNING:gensim.models.doc2vec:Highest int doctag (8999) larger than count of documents (6000). This means at least 2999 excess, unused slots (3598800 bytes) will be allocated for vectors.\n"
          ]
        },
        {
          "name": "stdout",
          "output_type": "stream",
          "text": [
            "[CV 2/3; 30/144] END epochs=5, min_count=2, vector_size=300, window=2;, score=0.065 total time=  50.9s\n",
            "[CV 3/3; 30/144] START epochs=5, min_count=2, vector_size=300, window=2.........\n",
            "[CV 3/3; 30/144] END epochs=5, min_count=2, vector_size=300, window=2;, score=0.070 total time=  49.1s\n",
            "[CV 1/3; 31/144] START epochs=5, min_count=2, vector_size=300, window=3.........\n"
          ]
        },
        {
          "name": "stderr",
          "output_type": "stream",
          "text": [
            "WARNING:gensim.models.doc2vec:Highest int doctag (8999) larger than count of documents (6000). This means at least 2999 excess, unused slots (3598800 bytes) will be allocated for vectors.\n"
          ]
        },
        {
          "name": "stdout",
          "output_type": "stream",
          "text": [
            "[CV 1/3; 31/144] END epochs=5, min_count=2, vector_size=300, window=3;, score=0.062 total time=  50.6s\n",
            "[CV 2/3; 31/144] START epochs=5, min_count=2, vector_size=300, window=3.........\n"
          ]
        },
        {
          "name": "stderr",
          "output_type": "stream",
          "text": [
            "WARNING:gensim.models.doc2vec:Highest int doctag (8999) larger than count of documents (6000). This means at least 2999 excess, unused slots (3598800 bytes) will be allocated for vectors.\n"
          ]
        },
        {
          "name": "stdout",
          "output_type": "stream",
          "text": [
            "[CV 2/3; 31/144] END epochs=5, min_count=2, vector_size=300, window=3;, score=0.067 total time=  50.5s\n",
            "[CV 3/3; 31/144] START epochs=5, min_count=2, vector_size=300, window=3.........\n",
            "[CV 3/3; 31/144] END epochs=5, min_count=2, vector_size=300, window=3;, score=0.037 total time=  50.3s\n",
            "[CV 1/3; 32/144] START epochs=5, min_count=2, vector_size=300, window=5.........\n"
          ]
        },
        {
          "name": "stderr",
          "output_type": "stream",
          "text": [
            "WARNING:gensim.models.doc2vec:Highest int doctag (8999) larger than count of documents (6000). This means at least 2999 excess, unused slots (3598800 bytes) will be allocated for vectors.\n"
          ]
        },
        {
          "name": "stdout",
          "output_type": "stream",
          "text": [
            "[CV 1/3; 32/144] END epochs=5, min_count=2, vector_size=300, window=5;, score=0.041 total time=  54.0s\n",
            "[CV 2/3; 32/144] START epochs=5, min_count=2, vector_size=300, window=5.........\n"
          ]
        },
        {
          "name": "stderr",
          "output_type": "stream",
          "text": [
            "WARNING:gensim.models.doc2vec:Highest int doctag (8999) larger than count of documents (6000). This means at least 2999 excess, unused slots (3598800 bytes) will be allocated for vectors.\n"
          ]
        },
        {
          "name": "stdout",
          "output_type": "stream",
          "text": [
            "[CV 2/3; 32/144] END epochs=5, min_count=2, vector_size=300, window=5;, score=0.053 total time=  53.1s\n",
            "[CV 3/3; 32/144] START epochs=5, min_count=2, vector_size=300, window=5.........\n",
            "[CV 3/3; 32/144] END epochs=5, min_count=2, vector_size=300, window=5;, score=0.052 total time=  51.9s\n",
            "[CV 1/3; 33/144] START epochs=5, min_count=3, vector_size=10, window=1..........\n"
          ]
        },
        {
          "name": "stderr",
          "output_type": "stream",
          "text": [
            "WARNING:gensim.models.doc2vec:Highest int doctag (8999) larger than count of documents (6000). This means at least 2999 excess, unused slots (119960 bytes) will be allocated for vectors.\n"
          ]
        },
        {
          "name": "stdout",
          "output_type": "stream",
          "text": [
            "[CV 1/3; 33/144] END epochs=5, min_count=3, vector_size=10, window=1;, score=0.155 total time=  27.8s\n",
            "[CV 2/3; 33/144] START epochs=5, min_count=3, vector_size=10, window=1..........\n"
          ]
        },
        {
          "name": "stderr",
          "output_type": "stream",
          "text": [
            "WARNING:gensim.models.doc2vec:Highest int doctag (8999) larger than count of documents (6000). This means at least 2999 excess, unused slots (119960 bytes) will be allocated for vectors.\n"
          ]
        },
        {
          "name": "stdout",
          "output_type": "stream",
          "text": [
            "[CV 2/3; 33/144] END epochs=5, min_count=3, vector_size=10, window=1;, score=0.158 total time=  26.3s\n",
            "[CV 3/3; 33/144] START epochs=5, min_count=3, vector_size=10, window=1..........\n",
            "[CV 3/3; 33/144] END epochs=5, min_count=3, vector_size=10, window=1;, score=0.157 total time=  27.3s\n",
            "[CV 1/3; 34/144] START epochs=5, min_count=3, vector_size=10, window=2..........\n"
          ]
        },
        {
          "name": "stderr",
          "output_type": "stream",
          "text": [
            "WARNING:gensim.models.doc2vec:Highest int doctag (8999) larger than count of documents (6000). This means at least 2999 excess, unused slots (119960 bytes) will be allocated for vectors.\n"
          ]
        },
        {
          "name": "stdout",
          "output_type": "stream",
          "text": [
            "[CV 1/3; 34/144] END epochs=5, min_count=3, vector_size=10, window=2;, score=0.148 total time=  27.1s\n",
            "[CV 2/3; 34/144] START epochs=5, min_count=3, vector_size=10, window=2..........\n"
          ]
        },
        {
          "name": "stderr",
          "output_type": "stream",
          "text": [
            "WARNING:gensim.models.doc2vec:Highest int doctag (8999) larger than count of documents (6000). This means at least 2999 excess, unused slots (119960 bytes) will be allocated for vectors.\n"
          ]
        },
        {
          "name": "stdout",
          "output_type": "stream",
          "text": [
            "[CV 2/3; 34/144] END epochs=5, min_count=3, vector_size=10, window=2;, score=0.159 total time=  27.9s\n",
            "[CV 3/3; 34/144] START epochs=5, min_count=3, vector_size=10, window=2..........\n",
            "[CV 3/3; 34/144] END epochs=5, min_count=3, vector_size=10, window=2;, score=0.162 total time=  28.1s\n",
            "[CV 1/3; 35/144] START epochs=5, min_count=3, vector_size=10, window=3..........\n"
          ]
        },
        {
          "name": "stderr",
          "output_type": "stream",
          "text": [
            "WARNING:gensim.models.doc2vec:Highest int doctag (8999) larger than count of documents (6000). This means at least 2999 excess, unused slots (119960 bytes) will be allocated for vectors.\n"
          ]
        },
        {
          "name": "stdout",
          "output_type": "stream",
          "text": [
            "[CV 1/3; 35/144] END epochs=5, min_count=3, vector_size=10, window=3;, score=0.134 total time=  27.8s\n",
            "[CV 2/3; 35/144] START epochs=5, min_count=3, vector_size=10, window=3..........\n"
          ]
        },
        {
          "name": "stderr",
          "output_type": "stream",
          "text": [
            "WARNING:gensim.models.doc2vec:Highest int doctag (8999) larger than count of documents (6000). This means at least 2999 excess, unused slots (119960 bytes) will be allocated for vectors.\n"
          ]
        },
        {
          "name": "stdout",
          "output_type": "stream",
          "text": [
            "[CV 2/3; 35/144] END epochs=5, min_count=3, vector_size=10, window=3;, score=0.155 total time=  28.1s\n",
            "[CV 3/3; 35/144] START epochs=5, min_count=3, vector_size=10, window=3..........\n",
            "[CV 3/3; 35/144] END epochs=5, min_count=3, vector_size=10, window=3;, score=0.143 total time=  29.5s\n",
            "[CV 1/3; 36/144] START epochs=5, min_count=3, vector_size=10, window=5..........\n"
          ]
        },
        {
          "name": "stderr",
          "output_type": "stream",
          "text": [
            "WARNING:gensim.models.doc2vec:Highest int doctag (8999) larger than count of documents (6000). This means at least 2999 excess, unused slots (119960 bytes) will be allocated for vectors.\n"
          ]
        },
        {
          "name": "stdout",
          "output_type": "stream",
          "text": [
            "[CV 1/3; 36/144] END epochs=5, min_count=3, vector_size=10, window=5;, score=0.150 total time=  28.6s\n",
            "[CV 2/3; 36/144] START epochs=5, min_count=3, vector_size=10, window=5..........\n"
          ]
        },
        {
          "name": "stderr",
          "output_type": "stream",
          "text": [
            "WARNING:gensim.models.doc2vec:Highest int doctag (8999) larger than count of documents (6000). This means at least 2999 excess, unused slots (119960 bytes) will be allocated for vectors.\n"
          ]
        },
        {
          "name": "stdout",
          "output_type": "stream",
          "text": [
            "[CV 2/3; 36/144] END epochs=5, min_count=3, vector_size=10, window=5;, score=0.147 total time=  28.8s\n",
            "[CV 3/3; 36/144] START epochs=5, min_count=3, vector_size=10, window=5..........\n",
            "[CV 3/3; 36/144] END epochs=5, min_count=3, vector_size=10, window=5;, score=0.144 total time=  29.9s\n",
            "[CV 1/3; 37/144] START epochs=5, min_count=3, vector_size=50, window=1..........\n"
          ]
        },
        {
          "name": "stderr",
          "output_type": "stream",
          "text": [
            "WARNING:gensim.models.doc2vec:Highest int doctag (8999) larger than count of documents (6000). This means at least 2999 excess, unused slots (599800 bytes) will be allocated for vectors.\n"
          ]
        },
        {
          "name": "stdout",
          "output_type": "stream",
          "text": [
            "[CV 1/3; 37/144] END epochs=5, min_count=3, vector_size=50, window=1;, score=0.095 total time=  33.9s\n",
            "[CV 2/3; 37/144] START epochs=5, min_count=3, vector_size=50, window=1..........\n"
          ]
        },
        {
          "name": "stderr",
          "output_type": "stream",
          "text": [
            "WARNING:gensim.models.doc2vec:Highest int doctag (8999) larger than count of documents (6000). This means at least 2999 excess, unused slots (599800 bytes) will be allocated for vectors.\n"
          ]
        },
        {
          "name": "stdout",
          "output_type": "stream",
          "text": [
            "[CV 2/3; 37/144] END epochs=5, min_count=3, vector_size=50, window=1;, score=0.092 total time=  32.6s\n",
            "[CV 3/3; 37/144] START epochs=5, min_count=3, vector_size=50, window=1..........\n",
            "[CV 3/3; 37/144] END epochs=5, min_count=3, vector_size=50, window=1;, score=0.094 total time=  34.5s\n",
            "[CV 1/3; 38/144] START epochs=5, min_count=3, vector_size=50, window=2..........\n"
          ]
        },
        {
          "name": "stderr",
          "output_type": "stream",
          "text": [
            "WARNING:gensim.models.doc2vec:Highest int doctag (8999) larger than count of documents (6000). This means at least 2999 excess, unused slots (599800 bytes) will be allocated for vectors.\n"
          ]
        },
        {
          "name": "stdout",
          "output_type": "stream",
          "text": [
            "[CV 1/3; 38/144] END epochs=5, min_count=3, vector_size=50, window=2;, score=0.088 total time=  34.8s\n",
            "[CV 2/3; 38/144] START epochs=5, min_count=3, vector_size=50, window=2..........\n"
          ]
        },
        {
          "name": "stderr",
          "output_type": "stream",
          "text": [
            "WARNING:gensim.models.doc2vec:Highest int doctag (8999) larger than count of documents (6000). This means at least 2999 excess, unused slots (599800 bytes) will be allocated for vectors.\n"
          ]
        },
        {
          "name": "stdout",
          "output_type": "stream",
          "text": [
            "[CV 2/3; 38/144] END epochs=5, min_count=3, vector_size=50, window=2;, score=0.070 total time=  34.6s\n",
            "[CV 3/3; 38/144] START epochs=5, min_count=3, vector_size=50, window=2..........\n",
            "[CV 3/3; 38/144] END epochs=5, min_count=3, vector_size=50, window=2;, score=0.085 total time=  33.5s\n",
            "[CV 1/3; 39/144] START epochs=5, min_count=3, vector_size=50, window=3..........\n"
          ]
        },
        {
          "name": "stderr",
          "output_type": "stream",
          "text": [
            "WARNING:gensim.models.doc2vec:Highest int doctag (8999) larger than count of documents (6000). This means at least 2999 excess, unused slots (599800 bytes) will be allocated for vectors.\n"
          ]
        },
        {
          "name": "stdout",
          "output_type": "stream",
          "text": [
            "[CV 1/3; 39/144] END epochs=5, min_count=3, vector_size=50, window=3;, score=0.079 total time=  35.2s\n",
            "[CV 2/3; 39/144] START epochs=5, min_count=3, vector_size=50, window=3..........\n"
          ]
        },
        {
          "name": "stderr",
          "output_type": "stream",
          "text": [
            "WARNING:gensim.models.doc2vec:Highest int doctag (8999) larger than count of documents (6000). This means at least 2999 excess, unused slots (599800 bytes) will be allocated for vectors.\n"
          ]
        },
        {
          "name": "stdout",
          "output_type": "stream",
          "text": [
            "[CV 2/3; 39/144] END epochs=5, min_count=3, vector_size=50, window=3;, score=0.081 total time=  36.8s\n",
            "[CV 3/3; 39/144] START epochs=5, min_count=3, vector_size=50, window=3..........\n",
            "[CV 3/3; 39/144] END epochs=5, min_count=3, vector_size=50, window=3;, score=0.075 total time=  35.7s\n",
            "[CV 1/3; 40/144] START epochs=5, min_count=3, vector_size=50, window=5..........\n"
          ]
        },
        {
          "name": "stderr",
          "output_type": "stream",
          "text": [
            "WARNING:gensim.models.doc2vec:Highest int doctag (8999) larger than count of documents (6000). This means at least 2999 excess, unused slots (599800 bytes) will be allocated for vectors.\n"
          ]
        },
        {
          "name": "stdout",
          "output_type": "stream",
          "text": [
            "[CV 1/3; 40/144] END epochs=5, min_count=3, vector_size=50, window=5;, score=0.049 total time=  37.0s\n",
            "[CV 2/3; 40/144] START epochs=5, min_count=3, vector_size=50, window=5..........\n"
          ]
        },
        {
          "name": "stderr",
          "output_type": "stream",
          "text": [
            "WARNING:gensim.models.doc2vec:Highest int doctag (8999) larger than count of documents (6000). This means at least 2999 excess, unused slots (599800 bytes) will be allocated for vectors.\n"
          ]
        },
        {
          "name": "stdout",
          "output_type": "stream",
          "text": [
            "[CV 2/3; 40/144] END epochs=5, min_count=3, vector_size=50, window=5;, score=0.048 total time=  37.1s\n",
            "[CV 3/3; 40/144] START epochs=5, min_count=3, vector_size=50, window=5..........\n",
            "[CV 3/3; 40/144] END epochs=5, min_count=3, vector_size=50, window=5;, score=0.066 total time=  38.1s\n",
            "[CV 1/3; 41/144] START epochs=5, min_count=3, vector_size=100, window=1.........\n"
          ]
        },
        {
          "name": "stderr",
          "output_type": "stream",
          "text": [
            "WARNING:gensim.models.doc2vec:Highest int doctag (8999) larger than count of documents (6000). This means at least 2999 excess, unused slots (1199600 bytes) will be allocated for vectors.\n"
          ]
        },
        {
          "name": "stdout",
          "output_type": "stream",
          "text": [
            "[CV 1/3; 41/144] END epochs=5, min_count=3, vector_size=100, window=1;, score=0.084 total time=  32.2s\n",
            "[CV 2/3; 41/144] START epochs=5, min_count=3, vector_size=100, window=1.........\n"
          ]
        },
        {
          "name": "stderr",
          "output_type": "stream",
          "text": [
            "WARNING:gensim.models.doc2vec:Highest int doctag (8999) larger than count of documents (6000). This means at least 2999 excess, unused slots (1199600 bytes) will be allocated for vectors.\n"
          ]
        },
        {
          "name": "stdout",
          "output_type": "stream",
          "text": [
            "[CV 2/3; 41/144] END epochs=5, min_count=3, vector_size=100, window=1;, score=0.078 total time=  32.4s\n",
            "[CV 3/3; 41/144] START epochs=5, min_count=3, vector_size=100, window=1.........\n",
            "[CV 3/3; 41/144] END epochs=5, min_count=3, vector_size=100, window=1;, score=0.077 total time=  31.2s\n",
            "[CV 1/3; 42/144] START epochs=5, min_count=3, vector_size=100, window=2.........\n"
          ]
        },
        {
          "name": "stderr",
          "output_type": "stream",
          "text": [
            "WARNING:gensim.models.doc2vec:Highest int doctag (8999) larger than count of documents (6000). This means at least 2999 excess, unused slots (1199600 bytes) will be allocated for vectors.\n"
          ]
        },
        {
          "name": "stdout",
          "output_type": "stream",
          "text": [
            "[CV 1/3; 42/144] END epochs=5, min_count=3, vector_size=100, window=2;, score=0.074 total time=  33.0s\n",
            "[CV 2/3; 42/144] START epochs=5, min_count=3, vector_size=100, window=2.........\n"
          ]
        },
        {
          "name": "stderr",
          "output_type": "stream",
          "text": [
            "WARNING:gensim.models.doc2vec:Highest int doctag (8999) larger than count of documents (6000). This means at least 2999 excess, unused slots (1199600 bytes) will be allocated for vectors.\n"
          ]
        },
        {
          "name": "stdout",
          "output_type": "stream",
          "text": [
            "[CV 2/3; 42/144] END epochs=5, min_count=3, vector_size=100, window=2;, score=0.076 total time=  33.7s\n",
            "[CV 3/3; 42/144] START epochs=5, min_count=3, vector_size=100, window=2.........\n",
            "[CV 3/3; 42/144] END epochs=5, min_count=3, vector_size=100, window=2;, score=0.066 total time=  32.2s\n",
            "[CV 1/3; 43/144] START epochs=5, min_count=3, vector_size=100, window=3.........\n"
          ]
        },
        {
          "name": "stderr",
          "output_type": "stream",
          "text": [
            "WARNING:gensim.models.doc2vec:Highest int doctag (8999) larger than count of documents (6000). This means at least 2999 excess, unused slots (1199600 bytes) will be allocated for vectors.\n"
          ]
        },
        {
          "name": "stdout",
          "output_type": "stream",
          "text": [
            "[CV 1/3; 43/144] END epochs=5, min_count=3, vector_size=100, window=3;, score=0.063 total time=  33.4s\n",
            "[CV 2/3; 43/144] START epochs=5, min_count=3, vector_size=100, window=3.........\n"
          ]
        },
        {
          "name": "stderr",
          "output_type": "stream",
          "text": [
            "WARNING:gensim.models.doc2vec:Highest int doctag (8999) larger than count of documents (6000). This means at least 2999 excess, unused slots (1199600 bytes) will be allocated for vectors.\n"
          ]
        },
        {
          "name": "stdout",
          "output_type": "stream",
          "text": [
            "[CV 2/3; 43/144] END epochs=5, min_count=3, vector_size=100, window=3;, score=0.061 total time=  34.1s\n",
            "[CV 3/3; 43/144] START epochs=5, min_count=3, vector_size=100, window=3.........\n",
            "[CV 3/3; 43/144] END epochs=5, min_count=3, vector_size=100, window=3;, score=0.063 total time=  32.5s\n",
            "[CV 1/3; 44/144] START epochs=5, min_count=3, vector_size=100, window=5.........\n"
          ]
        },
        {
          "name": "stderr",
          "output_type": "stream",
          "text": [
            "WARNING:gensim.models.doc2vec:Highest int doctag (8999) larger than count of documents (6000). This means at least 2999 excess, unused slots (1199600 bytes) will be allocated for vectors.\n"
          ]
        },
        {
          "name": "stdout",
          "output_type": "stream",
          "text": [
            "[CV 1/3; 44/144] END epochs=5, min_count=3, vector_size=100, window=5;, score=0.058 total time=  35.8s\n",
            "[CV 2/3; 44/144] START epochs=5, min_count=3, vector_size=100, window=5.........\n"
          ]
        },
        {
          "name": "stderr",
          "output_type": "stream",
          "text": [
            "WARNING:gensim.models.doc2vec:Highest int doctag (8999) larger than count of documents (6000). This means at least 2999 excess, unused slots (1199600 bytes) will be allocated for vectors.\n"
          ]
        },
        {
          "name": "stdout",
          "output_type": "stream",
          "text": [
            "[CV 2/3; 44/144] END epochs=5, min_count=3, vector_size=100, window=5;, score=0.046 total time=  35.0s\n",
            "[CV 3/3; 44/144] START epochs=5, min_count=3, vector_size=100, window=5.........\n",
            "[CV 3/3; 44/144] END epochs=5, min_count=3, vector_size=100, window=5;, score=0.048 total time=  34.5s\n",
            "[CV 1/3; 45/144] START epochs=5, min_count=3, vector_size=300, window=1.........\n"
          ]
        },
        {
          "name": "stderr",
          "output_type": "stream",
          "text": [
            "WARNING:gensim.models.doc2vec:Highest int doctag (8999) larger than count of documents (6000). This means at least 2999 excess, unused slots (3598800 bytes) will be allocated for vectors.\n"
          ]
        },
        {
          "name": "stdout",
          "output_type": "stream",
          "text": [
            "[CV 1/3; 45/144] END epochs=5, min_count=3, vector_size=300, window=1;, score=0.084 total time=  42.4s\n",
            "[CV 2/3; 45/144] START epochs=5, min_count=3, vector_size=300, window=1.........\n"
          ]
        },
        {
          "name": "stderr",
          "output_type": "stream",
          "text": [
            "WARNING:gensim.models.doc2vec:Highest int doctag (8999) larger than count of documents (6000). This means at least 2999 excess, unused slots (3598800 bytes) will be allocated for vectors.\n"
          ]
        },
        {
          "name": "stdout",
          "output_type": "stream",
          "text": [
            "[CV 2/3; 45/144] END epochs=5, min_count=3, vector_size=300, window=1;, score=0.076 total time=  46.7s\n",
            "[CV 3/3; 45/144] START epochs=5, min_count=3, vector_size=300, window=1.........\n",
            "[CV 3/3; 45/144] END epochs=5, min_count=3, vector_size=300, window=1;, score=0.080 total time=  47.3s\n",
            "[CV 1/3; 46/144] START epochs=5, min_count=3, vector_size=300, window=2.........\n"
          ]
        },
        {
          "name": "stderr",
          "output_type": "stream",
          "text": [
            "WARNING:gensim.models.doc2vec:Highest int doctag (8999) larger than count of documents (6000). This means at least 2999 excess, unused slots (3598800 bytes) will be allocated for vectors.\n"
          ]
        },
        {
          "name": "stdout",
          "output_type": "stream",
          "text": [
            "[CV 1/3; 46/144] END epochs=5, min_count=3, vector_size=300, window=2;, score=0.061 total time=  47.5s\n",
            "[CV 2/3; 46/144] START epochs=5, min_count=3, vector_size=300, window=2.........\n"
          ]
        },
        {
          "name": "stderr",
          "output_type": "stream",
          "text": [
            "WARNING:gensim.models.doc2vec:Highest int doctag (8999) larger than count of documents (6000). This means at least 2999 excess, unused slots (3598800 bytes) will be allocated for vectors.\n"
          ]
        },
        {
          "name": "stdout",
          "output_type": "stream",
          "text": [
            "[CV 2/3; 46/144] END epochs=5, min_count=3, vector_size=300, window=2;, score=0.063 total time=  47.8s\n",
            "[CV 3/3; 46/144] START epochs=5, min_count=3, vector_size=300, window=2.........\n",
            "[CV 3/3; 46/144] END epochs=5, min_count=3, vector_size=300, window=2;, score=0.068 total time=  49.0s\n",
            "[CV 1/3; 47/144] START epochs=5, min_count=3, vector_size=300, window=3.........\n"
          ]
        },
        {
          "name": "stderr",
          "output_type": "stream",
          "text": [
            "WARNING:gensim.models.doc2vec:Highest int doctag (8999) larger than count of documents (6000). This means at least 2999 excess, unused slots (3598800 bytes) will be allocated for vectors.\n"
          ]
        },
        {
          "name": "stdout",
          "output_type": "stream",
          "text": [
            "[CV 1/3; 47/144] END epochs=5, min_count=3, vector_size=300, window=3;, score=0.068 total time=  48.8s\n",
            "[CV 2/3; 47/144] START epochs=5, min_count=3, vector_size=300, window=3.........\n"
          ]
        },
        {
          "name": "stderr",
          "output_type": "stream",
          "text": [
            "WARNING:gensim.models.doc2vec:Highest int doctag (8999) larger than count of documents (6000). This means at least 2999 excess, unused slots (3598800 bytes) will be allocated for vectors.\n"
          ]
        },
        {
          "name": "stdout",
          "output_type": "stream",
          "text": [
            "[CV 2/3; 47/144] END epochs=5, min_count=3, vector_size=300, window=3;, score=0.070 total time=  49.0s\n",
            "[CV 3/3; 47/144] START epochs=5, min_count=3, vector_size=300, window=3.........\n",
            "[CV 3/3; 47/144] END epochs=5, min_count=3, vector_size=300, window=3;, score=0.062 total time=  50.4s\n",
            "[CV 1/3; 48/144] START epochs=5, min_count=3, vector_size=300, window=5.........\n"
          ]
        },
        {
          "name": "stderr",
          "output_type": "stream",
          "text": [
            "WARNING:gensim.models.doc2vec:Highest int doctag (8999) larger than count of documents (6000). This means at least 2999 excess, unused slots (3598800 bytes) will be allocated for vectors.\n"
          ]
        },
        {
          "name": "stdout",
          "output_type": "stream",
          "text": [
            "[CV 1/3; 48/144] END epochs=5, min_count=3, vector_size=300, window=5;, score=0.040 total time=  50.7s\n",
            "[CV 2/3; 48/144] START epochs=5, min_count=3, vector_size=300, window=5.........\n"
          ]
        },
        {
          "name": "stderr",
          "output_type": "stream",
          "text": [
            "WARNING:gensim.models.doc2vec:Highest int doctag (8999) larger than count of documents (6000). This means at least 2999 excess, unused slots (3598800 bytes) will be allocated for vectors.\n"
          ]
        },
        {
          "name": "stdout",
          "output_type": "stream",
          "text": [
            "[CV 2/3; 48/144] END epochs=5, min_count=3, vector_size=300, window=5;, score=0.043 total time=  50.8s\n",
            "[CV 3/3; 48/144] START epochs=5, min_count=3, vector_size=300, window=5.........\n",
            "[CV 3/3; 48/144] END epochs=5, min_count=3, vector_size=300, window=5;, score=0.037 total time=  50.4s\n",
            "[CV 1/3; 49/144] START epochs=10, min_count=1, vector_size=10, window=1.........\n"
          ]
        },
        {
          "name": "stderr",
          "output_type": "stream",
          "text": [
            "WARNING:gensim.models.doc2vec:Highest int doctag (8999) larger than count of documents (6000). This means at least 2999 excess, unused slots (119960 bytes) will be allocated for vectors.\n"
          ]
        },
        {
          "name": "stdout",
          "output_type": "stream",
          "text": [
            "[CV 1/3; 49/144] END epochs=10, min_count=1, vector_size=10, window=1;, score=0.154 total time=  56.4s\n",
            "[CV 2/3; 49/144] START epochs=10, min_count=1, vector_size=10, window=1.........\n"
          ]
        },
        {
          "name": "stderr",
          "output_type": "stream",
          "text": [
            "WARNING:gensim.models.doc2vec:Highest int doctag (8999) larger than count of documents (6000). This means at least 2999 excess, unused slots (119960 bytes) will be allocated for vectors.\n"
          ]
        },
        {
          "name": "stdout",
          "output_type": "stream",
          "text": [
            "[CV 2/3; 49/144] END epochs=10, min_count=1, vector_size=10, window=1;, score=0.147 total time=  54.6s\n",
            "[CV 3/3; 49/144] START epochs=10, min_count=1, vector_size=10, window=1.........\n",
            "[CV 3/3; 49/144] END epochs=10, min_count=1, vector_size=10, window=1;, score=0.155 total time=  55.4s\n",
            "[CV 1/3; 50/144] START epochs=10, min_count=1, vector_size=10, window=2.........\n"
          ]
        },
        {
          "name": "stderr",
          "output_type": "stream",
          "text": [
            "WARNING:gensim.models.doc2vec:Highest int doctag (8999) larger than count of documents (6000). This means at least 2999 excess, unused slots (119960 bytes) will be allocated for vectors.\n"
          ]
        },
        {
          "name": "stdout",
          "output_type": "stream",
          "text": [
            "[CV 1/3; 50/144] END epochs=10, min_count=1, vector_size=10, window=2;, score=0.166 total time=  58.6s\n",
            "[CV 2/3; 50/144] START epochs=10, min_count=1, vector_size=10, window=2.........\n"
          ]
        },
        {
          "name": "stderr",
          "output_type": "stream",
          "text": [
            "WARNING:gensim.models.doc2vec:Highest int doctag (8999) larger than count of documents (6000). This means at least 2999 excess, unused slots (119960 bytes) will be allocated for vectors.\n"
          ]
        },
        {
          "name": "stdout",
          "output_type": "stream",
          "text": [
            "[CV 2/3; 50/144] END epochs=10, min_count=1, vector_size=10, window=2;, score=0.160 total time=  56.6s\n",
            "[CV 3/3; 50/144] START epochs=10, min_count=1, vector_size=10, window=2.........\n",
            "[CV 3/3; 50/144] END epochs=10, min_count=1, vector_size=10, window=2;, score=0.170 total time=  57.7s\n",
            "[CV 1/3; 51/144] START epochs=10, min_count=1, vector_size=10, window=3.........\n"
          ]
        },
        {
          "name": "stderr",
          "output_type": "stream",
          "text": [
            "WARNING:gensim.models.doc2vec:Highest int doctag (8999) larger than count of documents (6000). This means at least 2999 excess, unused slots (119960 bytes) will be allocated for vectors.\n"
          ]
        },
        {
          "name": "stdout",
          "output_type": "stream",
          "text": [
            "[CV 1/3; 51/144] END epochs=10, min_count=1, vector_size=10, window=3;, score=0.160 total time=  59.0s\n",
            "[CV 2/3; 51/144] START epochs=10, min_count=1, vector_size=10, window=3.........\n"
          ]
        },
        {
          "name": "stderr",
          "output_type": "stream",
          "text": [
            "WARNING:gensim.models.doc2vec:Highest int doctag (8999) larger than count of documents (6000). This means at least 2999 excess, unused slots (119960 bytes) will be allocated for vectors.\n"
          ]
        },
        {
          "name": "stdout",
          "output_type": "stream",
          "text": [
            "[CV 2/3; 51/144] END epochs=10, min_count=1, vector_size=10, window=3;, score=0.157 total time=  57.5s\n",
            "[CV 3/3; 51/144] START epochs=10, min_count=1, vector_size=10, window=3.........\n",
            "[CV 3/3; 51/144] END epochs=10, min_count=1, vector_size=10, window=3;, score=0.161 total time=  58.3s\n",
            "[CV 1/3; 52/144] START epochs=10, min_count=1, vector_size=10, window=5.........\n"
          ]
        },
        {
          "name": "stderr",
          "output_type": "stream",
          "text": [
            "WARNING:gensim.models.doc2vec:Highest int doctag (8999) larger than count of documents (6000). This means at least 2999 excess, unused slots (119960 bytes) will be allocated for vectors.\n"
          ]
        },
        {
          "name": "stdout",
          "output_type": "stream",
          "text": [
            "[CV 1/3; 52/144] END epochs=10, min_count=1, vector_size=10, window=5;, score=0.153 total time= 1.0min\n",
            "[CV 2/3; 52/144] START epochs=10, min_count=1, vector_size=10, window=5.........\n"
          ]
        },
        {
          "name": "stderr",
          "output_type": "stream",
          "text": [
            "WARNING:gensim.models.doc2vec:Highest int doctag (8999) larger than count of documents (6000). This means at least 2999 excess, unused slots (119960 bytes) will be allocated for vectors.\n"
          ]
        },
        {
          "name": "stdout",
          "output_type": "stream",
          "text": [
            "[CV 2/3; 52/144] END epochs=10, min_count=1, vector_size=10, window=5;, score=0.127 total time= 1.0min\n",
            "[CV 3/3; 52/144] START epochs=10, min_count=1, vector_size=10, window=5.........\n",
            "[CV 3/3; 52/144] END epochs=10, min_count=1, vector_size=10, window=5;, score=0.142 total time= 1.0min\n",
            "[CV 1/3; 53/144] START epochs=10, min_count=1, vector_size=50, window=1.........\n"
          ]
        },
        {
          "name": "stderr",
          "output_type": "stream",
          "text": [
            "WARNING:gensim.models.doc2vec:Highest int doctag (8999) larger than count of documents (6000). This means at least 2999 excess, unused slots (599800 bytes) will be allocated for vectors.\n"
          ]
        },
        {
          "name": "stdout",
          "output_type": "stream",
          "text": [
            "[CV 1/3; 53/144] END epochs=10, min_count=1, vector_size=50, window=1;, score=0.086 total time= 1.1min\n",
            "[CV 2/3; 53/144] START epochs=10, min_count=1, vector_size=50, window=1.........\n"
          ]
        },
        {
          "name": "stderr",
          "output_type": "stream",
          "text": [
            "WARNING:gensim.models.doc2vec:Highest int doctag (8999) larger than count of documents (6000). This means at least 2999 excess, unused slots (599800 bytes) will be allocated for vectors.\n"
          ]
        },
        {
          "name": "stdout",
          "output_type": "stream",
          "text": [
            "[CV 2/3; 53/144] END epochs=10, min_count=1, vector_size=50, window=1;, score=0.078 total time= 1.1min\n",
            "[CV 3/3; 53/144] START epochs=10, min_count=1, vector_size=50, window=1.........\n",
            "[CV 3/3; 53/144] END epochs=10, min_count=1, vector_size=50, window=1;, score=0.078 total time= 1.1min\n",
            "[CV 1/3; 54/144] START epochs=10, min_count=1, vector_size=50, window=2.........\n"
          ]
        },
        {
          "name": "stderr",
          "output_type": "stream",
          "text": [
            "WARNING:gensim.models.doc2vec:Highest int doctag (8999) larger than count of documents (6000). This means at least 2999 excess, unused slots (599800 bytes) will be allocated for vectors.\n"
          ]
        },
        {
          "name": "stdout",
          "output_type": "stream",
          "text": [
            "[CV 1/3; 54/144] END epochs=10, min_count=1, vector_size=50, window=2;, score=0.078 total time= 1.2min\n",
            "[CV 2/3; 54/144] START epochs=10, min_count=1, vector_size=50, window=2.........\n"
          ]
        },
        {
          "name": "stderr",
          "output_type": "stream",
          "text": [
            "WARNING:gensim.models.doc2vec:Highest int doctag (8999) larger than count of documents (6000). This means at least 2999 excess, unused slots (599800 bytes) will be allocated for vectors.\n"
          ]
        },
        {
          "name": "stdout",
          "output_type": "stream",
          "text": [
            "[CV 2/3; 54/144] END epochs=10, min_count=1, vector_size=50, window=2;, score=0.072 total time= 1.2min\n",
            "[CV 3/3; 54/144] START epochs=10, min_count=1, vector_size=50, window=2.........\n",
            "[CV 3/3; 54/144] END epochs=10, min_count=1, vector_size=50, window=2;, score=0.077 total time= 1.2min\n",
            "[CV 1/3; 55/144] START epochs=10, min_count=1, vector_size=50, window=3.........\n"
          ]
        },
        {
          "name": "stderr",
          "output_type": "stream",
          "text": [
            "WARNING:gensim.models.doc2vec:Highest int doctag (8999) larger than count of documents (6000). This means at least 2999 excess, unused slots (599800 bytes) will be allocated for vectors.\n"
          ]
        },
        {
          "name": "stdout",
          "output_type": "stream",
          "text": [
            "[CV 1/3; 55/144] END epochs=10, min_count=1, vector_size=50, window=3;, score=0.069 total time= 1.2min\n",
            "[CV 2/3; 55/144] START epochs=10, min_count=1, vector_size=50, window=3.........\n"
          ]
        },
        {
          "name": "stderr",
          "output_type": "stream",
          "text": [
            "WARNING:gensim.models.doc2vec:Highest int doctag (8999) larger than count of documents (6000). This means at least 2999 excess, unused slots (599800 bytes) will be allocated for vectors.\n"
          ]
        },
        {
          "name": "stdout",
          "output_type": "stream",
          "text": [
            "[CV 2/3; 55/144] END epochs=10, min_count=1, vector_size=50, window=3;, score=0.058 total time= 1.2min\n",
            "[CV 3/3; 55/144] START epochs=10, min_count=1, vector_size=50, window=3.........\n",
            "[CV 3/3; 55/144] END epochs=10, min_count=1, vector_size=50, window=3;, score=0.063 total time= 1.2min\n",
            "[CV 1/3; 56/144] START epochs=10, min_count=1, vector_size=50, window=5.........\n"
          ]
        },
        {
          "name": "stderr",
          "output_type": "stream",
          "text": [
            "WARNING:gensim.models.doc2vec:Highest int doctag (8999) larger than count of documents (6000). This means at least 2999 excess, unused slots (599800 bytes) will be allocated for vectors.\n"
          ]
        },
        {
          "name": "stdout",
          "output_type": "stream",
          "text": [
            "[CV 1/3; 56/144] END epochs=10, min_count=1, vector_size=50, window=5;, score=0.047 total time= 1.3min\n",
            "[CV 2/3; 56/144] START epochs=10, min_count=1, vector_size=50, window=5.........\n"
          ]
        },
        {
          "name": "stderr",
          "output_type": "stream",
          "text": [
            "WARNING:gensim.models.doc2vec:Highest int doctag (8999) larger than count of documents (6000). This means at least 2999 excess, unused slots (599800 bytes) will be allocated for vectors.\n"
          ]
        },
        {
          "name": "stdout",
          "output_type": "stream",
          "text": [
            "[CV 2/3; 56/144] END epochs=10, min_count=1, vector_size=50, window=5;, score=0.047 total time= 1.3min\n",
            "[CV 3/3; 56/144] START epochs=10, min_count=1, vector_size=50, window=5.........\n",
            "[CV 3/3; 56/144] END epochs=10, min_count=1, vector_size=50, window=5;, score=0.043 total time= 1.3min\n",
            "[CV 1/3; 57/144] START epochs=10, min_count=1, vector_size=100, window=1........\n"
          ]
        },
        {
          "name": "stderr",
          "output_type": "stream",
          "text": [
            "WARNING:gensim.models.doc2vec:Highest int doctag (8999) larger than count of documents (6000). This means at least 2999 excess, unused slots (1199600 bytes) will be allocated for vectors.\n"
          ]
        },
        {
          "name": "stdout",
          "output_type": "stream",
          "text": [
            "[CV 1/3; 57/144] END epochs=10, min_count=1, vector_size=100, window=1;, score=0.051 total time= 1.1min\n",
            "[CV 2/3; 57/144] START epochs=10, min_count=1, vector_size=100, window=1........\n"
          ]
        },
        {
          "name": "stderr",
          "output_type": "stream",
          "text": [
            "WARNING:gensim.models.doc2vec:Highest int doctag (8999) larger than count of documents (6000). This means at least 2999 excess, unused slots (1199600 bytes) will be allocated for vectors.\n"
          ]
        },
        {
          "name": "stdout",
          "output_type": "stream",
          "text": [
            "[CV 2/3; 57/144] END epochs=10, min_count=1, vector_size=100, window=1;, score=0.038 total time= 1.1min\n",
            "[CV 3/3; 57/144] START epochs=10, min_count=1, vector_size=100, window=1........\n",
            "[CV 3/3; 57/144] END epochs=10, min_count=1, vector_size=100, window=1;, score=0.044 total time= 1.1min\n",
            "[CV 1/3; 58/144] START epochs=10, min_count=1, vector_size=100, window=2........\n"
          ]
        },
        {
          "name": "stderr",
          "output_type": "stream",
          "text": [
            "WARNING:gensim.models.doc2vec:Highest int doctag (8999) larger than count of documents (6000). This means at least 2999 excess, unused slots (1199600 bytes) will be allocated for vectors.\n"
          ]
        },
        {
          "name": "stdout",
          "output_type": "stream",
          "text": [
            "[CV 1/3; 58/144] END epochs=10, min_count=1, vector_size=100, window=2;, score=0.042 total time= 1.1min\n",
            "[CV 2/3; 58/144] START epochs=10, min_count=1, vector_size=100, window=2........\n"
          ]
        },
        {
          "name": "stderr",
          "output_type": "stream",
          "text": [
            "WARNING:gensim.models.doc2vec:Highest int doctag (8999) larger than count of documents (6000). This means at least 2999 excess, unused slots (1199600 bytes) will be allocated for vectors.\n"
          ]
        },
        {
          "name": "stdout",
          "output_type": "stream",
          "text": [
            "[CV 2/3; 58/144] END epochs=10, min_count=1, vector_size=100, window=2;, score=0.036 total time= 1.2min\n",
            "[CV 3/3; 58/144] START epochs=10, min_count=1, vector_size=100, window=2........\n",
            "[CV 3/3; 58/144] END epochs=10, min_count=1, vector_size=100, window=2;, score=0.034 total time= 1.2min\n",
            "[CV 1/3; 59/144] START epochs=10, min_count=1, vector_size=100, window=3........\n"
          ]
        },
        {
          "name": "stderr",
          "output_type": "stream",
          "text": [
            "WARNING:gensim.models.doc2vec:Highest int doctag (8999) larger than count of documents (6000). This means at least 2999 excess, unused slots (1199600 bytes) will be allocated for vectors.\n"
          ]
        },
        {
          "name": "stdout",
          "output_type": "stream",
          "text": [
            "[CV 1/3; 59/144] END epochs=10, min_count=1, vector_size=100, window=3;, score=0.034 total time= 1.2min\n",
            "[CV 2/3; 59/144] START epochs=10, min_count=1, vector_size=100, window=3........\n"
          ]
        },
        {
          "name": "stderr",
          "output_type": "stream",
          "text": [
            "WARNING:gensim.models.doc2vec:Highest int doctag (8999) larger than count of documents (6000). This means at least 2999 excess, unused slots (1199600 bytes) will be allocated for vectors.\n"
          ]
        },
        {
          "name": "stdout",
          "output_type": "stream",
          "text": [
            "[CV 2/3; 59/144] END epochs=10, min_count=1, vector_size=100, window=3;, score=0.028 total time= 1.2min\n",
            "[CV 3/3; 59/144] START epochs=10, min_count=1, vector_size=100, window=3........\n",
            "[CV 3/3; 59/144] END epochs=10, min_count=1, vector_size=100, window=3;, score=0.030 total time= 1.2min\n",
            "[CV 1/3; 60/144] START epochs=10, min_count=1, vector_size=100, window=5........\n"
          ]
        },
        {
          "name": "stderr",
          "output_type": "stream",
          "text": [
            "WARNING:gensim.models.doc2vec:Highest int doctag (8999) larger than count of documents (6000). This means at least 2999 excess, unused slots (1199600 bytes) will be allocated for vectors.\n"
          ]
        },
        {
          "name": "stdout",
          "output_type": "stream",
          "text": [
            "[CV 1/3; 60/144] END epochs=10, min_count=1, vector_size=100, window=5;, score=0.021 total time= 1.2min\n",
            "[CV 2/3; 60/144] START epochs=10, min_count=1, vector_size=100, window=5........\n"
          ]
        },
        {
          "name": "stderr",
          "output_type": "stream",
          "text": [
            "WARNING:gensim.models.doc2vec:Highest int doctag (8999) larger than count of documents (6000). This means at least 2999 excess, unused slots (1199600 bytes) will be allocated for vectors.\n"
          ]
        },
        {
          "name": "stdout",
          "output_type": "stream",
          "text": [
            "[CV 2/3; 60/144] END epochs=10, min_count=1, vector_size=100, window=5;, score=0.012 total time= 1.2min\n",
            "[CV 3/3; 60/144] START epochs=10, min_count=1, vector_size=100, window=5........\n",
            "[CV 3/3; 60/144] END epochs=10, min_count=1, vector_size=100, window=5;, score=0.013 total time= 1.2min\n",
            "[CV 1/3; 61/144] START epochs=10, min_count=1, vector_size=300, window=1........\n"
          ]
        },
        {
          "name": "stderr",
          "output_type": "stream",
          "text": [
            "WARNING:gensim.models.doc2vec:Highest int doctag (8999) larger than count of documents (6000). This means at least 2999 excess, unused slots (3598800 bytes) will be allocated for vectors.\n"
          ]
        },
        {
          "name": "stdout",
          "output_type": "stream",
          "text": [
            "[CV 1/3; 61/144] END epochs=10, min_count=1, vector_size=300, window=1;, score=0.038 total time= 1.6min\n",
            "[CV 2/3; 61/144] START epochs=10, min_count=1, vector_size=300, window=1........\n"
          ]
        },
        {
          "name": "stderr",
          "output_type": "stream",
          "text": [
            "WARNING:gensim.models.doc2vec:Highest int doctag (8999) larger than count of documents (6000). This means at least 2999 excess, unused slots (3598800 bytes) will be allocated for vectors.\n"
          ]
        },
        {
          "name": "stdout",
          "output_type": "stream",
          "text": [
            "[CV 2/3; 61/144] END epochs=10, min_count=1, vector_size=300, window=1;, score=0.029 total time= 1.5min\n",
            "[CV 3/3; 61/144] START epochs=10, min_count=1, vector_size=300, window=1........\n",
            "[CV 3/3; 61/144] END epochs=10, min_count=1, vector_size=300, window=1;, score=0.030 total time= 1.6min\n",
            "[CV 1/3; 62/144] START epochs=10, min_count=1, vector_size=300, window=2........\n"
          ]
        },
        {
          "name": "stderr",
          "output_type": "stream",
          "text": [
            "WARNING:gensim.models.doc2vec:Highest int doctag (8999) larger than count of documents (6000). This means at least 2999 excess, unused slots (3598800 bytes) will be allocated for vectors.\n"
          ]
        },
        {
          "name": "stdout",
          "output_type": "stream",
          "text": [
            "[CV 1/3; 62/144] END epochs=10, min_count=1, vector_size=300, window=2;, score=0.025 total time= 1.6min\n",
            "[CV 2/3; 62/144] START epochs=10, min_count=1, vector_size=300, window=2........\n"
          ]
        },
        {
          "name": "stderr",
          "output_type": "stream",
          "text": [
            "WARNING:gensim.models.doc2vec:Highest int doctag (8999) larger than count of documents (6000). This means at least 2999 excess, unused slots (3598800 bytes) will be allocated for vectors.\n"
          ]
        },
        {
          "name": "stdout",
          "output_type": "stream",
          "text": [
            "[CV 2/3; 62/144] END epochs=10, min_count=1, vector_size=300, window=2;, score=0.023 total time= 1.6min\n",
            "[CV 3/3; 62/144] START epochs=10, min_count=1, vector_size=300, window=2........\n",
            "[CV 3/3; 62/144] END epochs=10, min_count=1, vector_size=300, window=2;, score=0.019 total time= 1.6min\n",
            "[CV 1/3; 63/144] START epochs=10, min_count=1, vector_size=300, window=3........\n"
          ]
        },
        {
          "name": "stderr",
          "output_type": "stream",
          "text": [
            "WARNING:gensim.models.doc2vec:Highest int doctag (8999) larger than count of documents (6000). This means at least 2999 excess, unused slots (3598800 bytes) will be allocated for vectors.\n"
          ]
        },
        {
          "name": "stdout",
          "output_type": "stream",
          "text": [
            "[CV 1/3; 63/144] END epochs=10, min_count=1, vector_size=300, window=3;, score=0.022 total time= 1.7min\n",
            "[CV 2/3; 63/144] START epochs=10, min_count=1, vector_size=300, window=3........\n"
          ]
        },
        {
          "name": "stderr",
          "output_type": "stream",
          "text": [
            "WARNING:gensim.models.doc2vec:Highest int doctag (8999) larger than count of documents (6000). This means at least 2999 excess, unused slots (3598800 bytes) will be allocated for vectors.\n"
          ]
        },
        {
          "name": "stdout",
          "output_type": "stream",
          "text": [
            "[CV 2/3; 63/144] END epochs=10, min_count=1, vector_size=300, window=3;, score=0.019 total time= 1.7min\n",
            "[CV 3/3; 63/144] START epochs=10, min_count=1, vector_size=300, window=3........\n",
            "[CV 3/3; 63/144] END epochs=10, min_count=1, vector_size=300, window=3;, score=0.020 total time= 1.6min\n",
            "[CV 1/3; 64/144] START epochs=10, min_count=1, vector_size=300, window=5........\n"
          ]
        },
        {
          "name": "stderr",
          "output_type": "stream",
          "text": [
            "WARNING:gensim.models.doc2vec:Highest int doctag (8999) larger than count of documents (6000). This means at least 2999 excess, unused slots (3598800 bytes) will be allocated for vectors.\n"
          ]
        },
        {
          "name": "stdout",
          "output_type": "stream",
          "text": [
            "[CV 1/3; 64/144] END epochs=10, min_count=1, vector_size=300, window=5;, score=0.005 total time= 1.8min\n",
            "[CV 2/3; 64/144] START epochs=10, min_count=1, vector_size=300, window=5........\n"
          ]
        },
        {
          "name": "stderr",
          "output_type": "stream",
          "text": [
            "WARNING:gensim.models.doc2vec:Highest int doctag (8999) larger than count of documents (6000). This means at least 2999 excess, unused slots (3598800 bytes) will be allocated for vectors.\n"
          ]
        },
        {
          "name": "stdout",
          "output_type": "stream",
          "text": [
            "[CV 2/3; 64/144] END epochs=10, min_count=1, vector_size=300, window=5;, score=-0.000 total time= 1.7min\n",
            "[CV 3/3; 64/144] START epochs=10, min_count=1, vector_size=300, window=5........\n",
            "[CV 3/3; 64/144] END epochs=10, min_count=1, vector_size=300, window=5;, score=-0.000 total time= 1.7min\n",
            "[CV 1/3; 65/144] START epochs=10, min_count=2, vector_size=10, window=1.........\n"
          ]
        },
        {
          "name": "stderr",
          "output_type": "stream",
          "text": [
            "WARNING:gensim.models.doc2vec:Highest int doctag (8999) larger than count of documents (6000). This means at least 2999 excess, unused slots (119960 bytes) will be allocated for vectors.\n"
          ]
        },
        {
          "name": "stdout",
          "output_type": "stream",
          "text": [
            "[CV 1/3; 65/144] END epochs=10, min_count=2, vector_size=10, window=1;, score=0.145 total time=  53.5s\n",
            "[CV 2/3; 65/144] START epochs=10, min_count=2, vector_size=10, window=1.........\n"
          ]
        },
        {
          "name": "stderr",
          "output_type": "stream",
          "text": [
            "WARNING:gensim.models.doc2vec:Highest int doctag (8999) larger than count of documents (6000). This means at least 2999 excess, unused slots (119960 bytes) will be allocated for vectors.\n"
          ]
        },
        {
          "name": "stdout",
          "output_type": "stream",
          "text": [
            "[CV 2/3; 65/144] END epochs=10, min_count=2, vector_size=10, window=1;, score=0.134 total time=  52.2s\n",
            "[CV 3/3; 65/144] START epochs=10, min_count=2, vector_size=10, window=1.........\n",
            "[CV 3/3; 65/144] END epochs=10, min_count=2, vector_size=10, window=1;, score=0.148 total time=  52.9s\n",
            "[CV 1/3; 66/144] START epochs=10, min_count=2, vector_size=10, window=2.........\n"
          ]
        },
        {
          "name": "stderr",
          "output_type": "stream",
          "text": [
            "WARNING:gensim.models.doc2vec:Highest int doctag (8999) larger than count of documents (6000). This means at least 2999 excess, unused slots (119960 bytes) will be allocated for vectors.\n"
          ]
        },
        {
          "name": "stdout",
          "output_type": "stream",
          "text": [
            "[CV 1/3; 66/144] END epochs=10, min_count=2, vector_size=10, window=2;, score=0.155 total time=  56.3s\n",
            "[CV 2/3; 66/144] START epochs=10, min_count=2, vector_size=10, window=2.........\n"
          ]
        },
        {
          "name": "stderr",
          "output_type": "stream",
          "text": [
            "WARNING:gensim.models.doc2vec:Highest int doctag (8999) larger than count of documents (6000). This means at least 2999 excess, unused slots (119960 bytes) will be allocated for vectors.\n"
          ]
        },
        {
          "name": "stdout",
          "output_type": "stream",
          "text": [
            "[CV 2/3; 66/144] END epochs=10, min_count=2, vector_size=10, window=2;, score=0.143 total time=  54.4s\n",
            "[CV 3/3; 66/144] START epochs=10, min_count=2, vector_size=10, window=2.........\n",
            "[CV 3/3; 66/144] END epochs=10, min_count=2, vector_size=10, window=2;, score=0.169 total time=  54.0s\n",
            "[CV 1/3; 67/144] START epochs=10, min_count=2, vector_size=10, window=3.........\n"
          ]
        },
        {
          "name": "stderr",
          "output_type": "stream",
          "text": [
            "WARNING:gensim.models.doc2vec:Highest int doctag (8999) larger than count of documents (6000). This means at least 2999 excess, unused slots (119960 bytes) will be allocated for vectors.\n"
          ]
        },
        {
          "name": "stdout",
          "output_type": "stream",
          "text": [
            "[CV 1/3; 67/144] END epochs=10, min_count=2, vector_size=10, window=3;, score=0.165 total time=  54.9s\n",
            "[CV 2/3; 67/144] START epochs=10, min_count=2, vector_size=10, window=3.........\n"
          ]
        },
        {
          "name": "stderr",
          "output_type": "stream",
          "text": [
            "WARNING:gensim.models.doc2vec:Highest int doctag (8999) larger than count of documents (6000). This means at least 2999 excess, unused slots (119960 bytes) will be allocated for vectors.\n"
          ]
        },
        {
          "name": "stdout",
          "output_type": "stream",
          "text": [
            "[CV 2/3; 67/144] END epochs=10, min_count=2, vector_size=10, window=3;, score=0.155 total time=  56.9s\n",
            "[CV 3/3; 67/144] START epochs=10, min_count=2, vector_size=10, window=3.........\n",
            "[CV 3/3; 67/144] END epochs=10, min_count=2, vector_size=10, window=3;, score=0.161 total time=  54.9s\n",
            "[CV 1/3; 68/144] START epochs=10, min_count=2, vector_size=10, window=5.........\n"
          ]
        },
        {
          "name": "stderr",
          "output_type": "stream",
          "text": [
            "WARNING:gensim.models.doc2vec:Highest int doctag (8999) larger than count of documents (6000). This means at least 2999 excess, unused slots (119960 bytes) will be allocated for vectors.\n"
          ]
        },
        {
          "name": "stdout",
          "output_type": "stream",
          "text": [
            "[CV 1/3; 68/144] END epochs=10, min_count=2, vector_size=10, window=5;, score=0.153 total time=  58.1s\n",
            "[CV 2/3; 68/144] START epochs=10, min_count=2, vector_size=10, window=5.........\n"
          ]
        },
        {
          "name": "stderr",
          "output_type": "stream",
          "text": [
            "WARNING:gensim.models.doc2vec:Highest int doctag (8999) larger than count of documents (6000). This means at least 2999 excess, unused slots (119960 bytes) will be allocated for vectors.\n"
          ]
        },
        {
          "name": "stdout",
          "output_type": "stream",
          "text": [
            "[CV 2/3; 68/144] END epochs=10, min_count=2, vector_size=10, window=5;, score=0.144 total time= 1.0min\n",
            "[CV 3/3; 68/144] START epochs=10, min_count=2, vector_size=10, window=5.........\n",
            "[CV 3/3; 68/144] END epochs=10, min_count=2, vector_size=10, window=5;, score=0.143 total time=  59.0s\n",
            "[CV 1/3; 69/144] START epochs=10, min_count=2, vector_size=50, window=1.........\n"
          ]
        },
        {
          "name": "stderr",
          "output_type": "stream",
          "text": [
            "WARNING:gensim.models.doc2vec:Highest int doctag (8999) larger than count of documents (6000). This means at least 2999 excess, unused slots (599800 bytes) will be allocated for vectors.\n"
          ]
        },
        {
          "name": "stdout",
          "output_type": "stream",
          "text": [
            "[CV 1/3; 69/144] END epochs=10, min_count=2, vector_size=50, window=1;, score=0.081 total time= 1.1min\n",
            "[CV 2/3; 69/144] START epochs=10, min_count=2, vector_size=50, window=1.........\n"
          ]
        },
        {
          "name": "stderr",
          "output_type": "stream",
          "text": [
            "WARNING:gensim.models.doc2vec:Highest int doctag (8999) larger than count of documents (6000). This means at least 2999 excess, unused slots (599800 bytes) will be allocated for vectors.\n"
          ]
        },
        {
          "name": "stdout",
          "output_type": "stream",
          "text": [
            "[CV 2/3; 69/144] END epochs=10, min_count=2, vector_size=50, window=1;, score=0.079 total time= 1.1min\n",
            "[CV 3/3; 69/144] START epochs=10, min_count=2, vector_size=50, window=1.........\n",
            "[CV 3/3; 69/144] END epochs=10, min_count=2, vector_size=50, window=1;, score=0.080 total time= 1.1min\n",
            "[CV 1/3; 70/144] START epochs=10, min_count=2, vector_size=50, window=2.........\n"
          ]
        },
        {
          "name": "stderr",
          "output_type": "stream",
          "text": [
            "WARNING:gensim.models.doc2vec:Highest int doctag (8999) larger than count of documents (6000). This means at least 2999 excess, unused slots (599800 bytes) will be allocated for vectors.\n"
          ]
        },
        {
          "name": "stdout",
          "output_type": "stream",
          "text": [
            "[CV 1/3; 70/144] END epochs=10, min_count=2, vector_size=50, window=2;, score=0.077 total time= 1.1min\n",
            "[CV 2/3; 70/144] START epochs=10, min_count=2, vector_size=50, window=2.........\n"
          ]
        },
        {
          "name": "stderr",
          "output_type": "stream",
          "text": [
            "WARNING:gensim.models.doc2vec:Highest int doctag (8999) larger than count of documents (6000). This means at least 2999 excess, unused slots (599800 bytes) will be allocated for vectors.\n"
          ]
        },
        {
          "name": "stdout",
          "output_type": "stream",
          "text": [
            "[CV 2/3; 70/144] END epochs=10, min_count=2, vector_size=50, window=2;, score=0.076 total time= 1.1min\n",
            "[CV 3/3; 70/144] START epochs=10, min_count=2, vector_size=50, window=2.........\n",
            "[CV 3/3; 70/144] END epochs=10, min_count=2, vector_size=50, window=2;, score=0.073 total time= 1.1min\n",
            "[CV 1/3; 71/144] START epochs=10, min_count=2, vector_size=50, window=3.........\n"
          ]
        },
        {
          "name": "stderr",
          "output_type": "stream",
          "text": [
            "WARNING:gensim.models.doc2vec:Highest int doctag (8999) larger than count of documents (6000). This means at least 2999 excess, unused slots (599800 bytes) will be allocated for vectors.\n"
          ]
        },
        {
          "name": "stdout",
          "output_type": "stream",
          "text": [
            "[CV 1/3; 71/144] END epochs=10, min_count=2, vector_size=50, window=3;, score=0.063 total time= 1.2min\n",
            "[CV 2/3; 71/144] START epochs=10, min_count=2, vector_size=50, window=3.........\n"
          ]
        },
        {
          "name": "stderr",
          "output_type": "stream",
          "text": [
            "WARNING:gensim.models.doc2vec:Highest int doctag (8999) larger than count of documents (6000). This means at least 2999 excess, unused slots (599800 bytes) will be allocated for vectors.\n"
          ]
        },
        {
          "name": "stdout",
          "output_type": "stream",
          "text": [
            "[CV 2/3; 71/144] END epochs=10, min_count=2, vector_size=50, window=3;, score=0.056 total time= 1.1min\n",
            "[CV 3/3; 71/144] START epochs=10, min_count=2, vector_size=50, window=3.........\n",
            "[CV 3/3; 71/144] END epochs=10, min_count=2, vector_size=50, window=3;, score=0.057 total time= 1.1min\n",
            "[CV 1/3; 72/144] START epochs=10, min_count=2, vector_size=50, window=5.........\n"
          ]
        },
        {
          "name": "stderr",
          "output_type": "stream",
          "text": [
            "WARNING:gensim.models.doc2vec:Highest int doctag (8999) larger than count of documents (6000). This means at least 2999 excess, unused slots (599800 bytes) will be allocated for vectors.\n"
          ]
        },
        {
          "name": "stdout",
          "output_type": "stream",
          "text": [
            "[CV 1/3; 72/144] END epochs=10, min_count=2, vector_size=50, window=5;, score=0.010 total time= 1.2min\n",
            "[CV 2/3; 72/144] START epochs=10, min_count=2, vector_size=50, window=5.........\n"
          ]
        },
        {
          "name": "stderr",
          "output_type": "stream",
          "text": [
            "WARNING:gensim.models.doc2vec:Highest int doctag (8999) larger than count of documents (6000). This means at least 2999 excess, unused slots (599800 bytes) will be allocated for vectors.\n"
          ]
        },
        {
          "name": "stdout",
          "output_type": "stream",
          "text": [
            "[CV 2/3; 72/144] END epochs=10, min_count=2, vector_size=50, window=5;, score=0.044 total time= 1.2min\n",
            "[CV 3/3; 72/144] START epochs=10, min_count=2, vector_size=50, window=5.........\n",
            "[CV 3/3; 72/144] END epochs=10, min_count=2, vector_size=50, window=5;, score=0.008 total time= 1.2min\n",
            "[CV 1/3; 73/144] START epochs=10, min_count=2, vector_size=100, window=1........\n"
          ]
        },
        {
          "name": "stderr",
          "output_type": "stream",
          "text": [
            "WARNING:gensim.models.doc2vec:Highest int doctag (8999) larger than count of documents (6000). This means at least 2999 excess, unused slots (1199600 bytes) will be allocated for vectors.\n"
          ]
        },
        {
          "name": "stdout",
          "output_type": "stream",
          "text": [
            "[CV 1/3; 73/144] END epochs=10, min_count=2, vector_size=100, window=1;, score=0.045 total time= 1.0min\n",
            "[CV 2/3; 73/144] START epochs=10, min_count=2, vector_size=100, window=1........\n"
          ]
        },
        {
          "name": "stderr",
          "output_type": "stream",
          "text": [
            "WARNING:gensim.models.doc2vec:Highest int doctag (8999) larger than count of documents (6000). This means at least 2999 excess, unused slots (1199600 bytes) will be allocated for vectors.\n"
          ]
        },
        {
          "name": "stdout",
          "output_type": "stream",
          "text": [
            "[CV 2/3; 73/144] END epochs=10, min_count=2, vector_size=100, window=1;, score=0.037 total time=  59.9s\n",
            "[CV 3/3; 73/144] START epochs=10, min_count=2, vector_size=100, window=1........\n",
            "[CV 3/3; 73/144] END epochs=10, min_count=2, vector_size=100, window=1;, score=0.039 total time= 1.0min\n",
            "[CV 1/3; 74/144] START epochs=10, min_count=2, vector_size=100, window=2........\n"
          ]
        },
        {
          "name": "stderr",
          "output_type": "stream",
          "text": [
            "WARNING:gensim.models.doc2vec:Highest int doctag (8999) larger than count of documents (6000). This means at least 2999 excess, unused slots (1199600 bytes) will be allocated for vectors.\n"
          ]
        },
        {
          "name": "stdout",
          "output_type": "stream",
          "text": [
            "[CV 1/3; 74/144] END epochs=10, min_count=2, vector_size=100, window=2;, score=0.038 total time= 1.0min\n",
            "[CV 2/3; 74/144] START epochs=10, min_count=2, vector_size=100, window=2........\n"
          ]
        },
        {
          "name": "stderr",
          "output_type": "stream",
          "text": [
            "WARNING:gensim.models.doc2vec:Highest int doctag (8999) larger than count of documents (6000). This means at least 2999 excess, unused slots (1199600 bytes) will be allocated for vectors.\n"
          ]
        },
        {
          "name": "stdout",
          "output_type": "stream",
          "text": [
            "[CV 2/3; 74/144] END epochs=10, min_count=2, vector_size=100, window=2;, score=0.034 total time= 1.0min\n",
            "[CV 3/3; 74/144] START epochs=10, min_count=2, vector_size=100, window=2........\n",
            "[CV 3/3; 74/144] END epochs=10, min_count=2, vector_size=100, window=2;, score=0.035 total time= 1.1min\n",
            "[CV 1/3; 75/144] START epochs=10, min_count=2, vector_size=100, window=3........\n"
          ]
        },
        {
          "name": "stderr",
          "output_type": "stream",
          "text": [
            "WARNING:gensim.models.doc2vec:Highest int doctag (8999) larger than count of documents (6000). This means at least 2999 excess, unused slots (1199600 bytes) will be allocated for vectors.\n"
          ]
        },
        {
          "name": "stdout",
          "output_type": "stream",
          "text": [
            "[CV 1/3; 75/144] END epochs=10, min_count=2, vector_size=100, window=3;, score=0.024 total time= 1.1min\n",
            "[CV 2/3; 75/144] START epochs=10, min_count=2, vector_size=100, window=3........\n"
          ]
        },
        {
          "name": "stderr",
          "output_type": "stream",
          "text": [
            "WARNING:gensim.models.doc2vec:Highest int doctag (8999) larger than count of documents (6000). This means at least 2999 excess, unused slots (1199600 bytes) will be allocated for vectors.\n"
          ]
        },
        {
          "name": "stdout",
          "output_type": "stream",
          "text": [
            "[CV 2/3; 75/144] END epochs=10, min_count=2, vector_size=100, window=3;, score=0.027 total time= 1.1min\n",
            "[CV 3/3; 75/144] START epochs=10, min_count=2, vector_size=100, window=3........\n",
            "[CV 3/3; 75/144] END epochs=10, min_count=2, vector_size=100, window=3;, score=0.026 total time= 1.1min\n",
            "[CV 1/3; 76/144] START epochs=10, min_count=2, vector_size=100, window=5........\n"
          ]
        },
        {
          "name": "stderr",
          "output_type": "stream",
          "text": [
            "WARNING:gensim.models.doc2vec:Highest int doctag (8999) larger than count of documents (6000). This means at least 2999 excess, unused slots (1199600 bytes) will be allocated for vectors.\n"
          ]
        },
        {
          "name": "stdout",
          "output_type": "stream",
          "text": [
            "[CV 1/3; 76/144] END epochs=10, min_count=2, vector_size=100, window=5;, score=0.022 total time= 1.1min\n",
            "[CV 2/3; 76/144] START epochs=10, min_count=2, vector_size=100, window=5........\n"
          ]
        },
        {
          "name": "stderr",
          "output_type": "stream",
          "text": [
            "WARNING:gensim.models.doc2vec:Highest int doctag (8999) larger than count of documents (6000). This means at least 2999 excess, unused slots (1199600 bytes) will be allocated for vectors.\n"
          ]
        },
        {
          "name": "stdout",
          "output_type": "stream",
          "text": [
            "[CV 2/3; 76/144] END epochs=10, min_count=2, vector_size=100, window=5;, score=-0.015 total time= 1.1min\n",
            "[CV 3/3; 76/144] START epochs=10, min_count=2, vector_size=100, window=5........\n",
            "[CV 3/3; 76/144] END epochs=10, min_count=2, vector_size=100, window=5;, score=0.012 total time= 1.1min\n",
            "[CV 1/3; 77/144] START epochs=10, min_count=2, vector_size=300, window=1........\n"
          ]
        },
        {
          "name": "stderr",
          "output_type": "stream",
          "text": [
            "WARNING:gensim.models.doc2vec:Highest int doctag (8999) larger than count of documents (6000). This means at least 2999 excess, unused slots (3598800 bytes) will be allocated for vectors.\n"
          ]
        },
        {
          "name": "stdout",
          "output_type": "stream",
          "text": [
            "[CV 1/3; 77/144] END epochs=10, min_count=2, vector_size=300, window=1;, score=0.022 total time= 1.4min\n",
            "[CV 2/3; 77/144] START epochs=10, min_count=2, vector_size=300, window=1........\n"
          ]
        },
        {
          "name": "stderr",
          "output_type": "stream",
          "text": [
            "WARNING:gensim.models.doc2vec:Highest int doctag (8999) larger than count of documents (6000). This means at least 2999 excess, unused slots (3598800 bytes) will be allocated for vectors.\n"
          ]
        },
        {
          "name": "stdout",
          "output_type": "stream",
          "text": [
            "[CV 2/3; 77/144] END epochs=10, min_count=2, vector_size=300, window=1;, score=0.025 total time= 1.5min\n",
            "[CV 3/3; 77/144] START epochs=10, min_count=2, vector_size=300, window=1........\n",
            "[CV 3/3; 77/144] END epochs=10, min_count=2, vector_size=300, window=1;, score=0.023 total time= 1.5min\n",
            "[CV 1/3; 78/144] START epochs=10, min_count=2, vector_size=300, window=2........\n"
          ]
        },
        {
          "name": "stderr",
          "output_type": "stream",
          "text": [
            "WARNING:gensim.models.doc2vec:Highest int doctag (8999) larger than count of documents (6000). This means at least 2999 excess, unused slots (3598800 bytes) will be allocated for vectors.\n"
          ]
        },
        {
          "name": "stdout",
          "output_type": "stream",
          "text": [
            "[CV 1/3; 78/144] END epochs=10, min_count=2, vector_size=300, window=2;, score=0.023 total time= 1.5min\n",
            "[CV 2/3; 78/144] START epochs=10, min_count=2, vector_size=300, window=2........\n"
          ]
        },
        {
          "name": "stderr",
          "output_type": "stream",
          "text": [
            "WARNING:gensim.models.doc2vec:Highest int doctag (8999) larger than count of documents (6000). This means at least 2999 excess, unused slots (3598800 bytes) will be allocated for vectors.\n"
          ]
        },
        {
          "name": "stdout",
          "output_type": "stream",
          "text": [
            "[CV 2/3; 78/144] END epochs=10, min_count=2, vector_size=300, window=2;, score=0.021 total time= 1.5min\n",
            "[CV 3/3; 78/144] START epochs=10, min_count=2, vector_size=300, window=2........\n",
            "[CV 3/3; 78/144] END epochs=10, min_count=2, vector_size=300, window=2;, score=0.016 total time= 1.5min\n",
            "[CV 1/3; 79/144] START epochs=10, min_count=2, vector_size=300, window=3........\n"
          ]
        },
        {
          "name": "stderr",
          "output_type": "stream",
          "text": [
            "WARNING:gensim.models.doc2vec:Highest int doctag (8999) larger than count of documents (6000). This means at least 2999 excess, unused slots (3598800 bytes) will be allocated for vectors.\n"
          ]
        },
        {
          "name": "stdout",
          "output_type": "stream",
          "text": [
            "[CV 1/3; 79/144] END epochs=10, min_count=2, vector_size=300, window=3;, score=0.015 total time= 1.6min\n",
            "[CV 2/3; 79/144] START epochs=10, min_count=2, vector_size=300, window=3........\n"
          ]
        },
        {
          "name": "stderr",
          "output_type": "stream",
          "text": [
            "WARNING:gensim.models.doc2vec:Highest int doctag (8999) larger than count of documents (6000). This means at least 2999 excess, unused slots (3598800 bytes) will be allocated for vectors.\n"
          ]
        },
        {
          "name": "stdout",
          "output_type": "stream",
          "text": [
            "[CV 2/3; 79/144] END epochs=10, min_count=2, vector_size=300, window=3;, score=0.006 total time= 1.6min\n",
            "[CV 3/3; 79/144] START epochs=10, min_count=2, vector_size=300, window=3........\n",
            "[CV 3/3; 79/144] END epochs=10, min_count=2, vector_size=300, window=3;, score=0.011 total time= 1.6min\n",
            "[CV 1/3; 80/144] START epochs=10, min_count=2, vector_size=300, window=5........\n"
          ]
        },
        {
          "name": "stderr",
          "output_type": "stream",
          "text": [
            "WARNING:gensim.models.doc2vec:Highest int doctag (8999) larger than count of documents (6000). This means at least 2999 excess, unused slots (3598800 bytes) will be allocated for vectors.\n"
          ]
        },
        {
          "name": "stdout",
          "output_type": "stream",
          "text": [
            "[CV 1/3; 80/144] END epochs=10, min_count=2, vector_size=300, window=5;, score=-0.000 total time= 1.7min\n",
            "[CV 2/3; 80/144] START epochs=10, min_count=2, vector_size=300, window=5........\n"
          ]
        },
        {
          "name": "stderr",
          "output_type": "stream",
          "text": [
            "WARNING:gensim.models.doc2vec:Highest int doctag (8999) larger than count of documents (6000). This means at least 2999 excess, unused slots (3598800 bytes) will be allocated for vectors.\n"
          ]
        },
        {
          "name": "stdout",
          "output_type": "stream",
          "text": [
            "[CV 2/3; 80/144] END epochs=10, min_count=2, vector_size=300, window=5;, score=0.001 total time= 1.7min\n",
            "[CV 3/3; 80/144] START epochs=10, min_count=2, vector_size=300, window=5........\n",
            "[CV 3/3; 80/144] END epochs=10, min_count=2, vector_size=300, window=5;, score=0.005 total time= 1.7min\n",
            "[CV 1/3; 81/144] START epochs=10, min_count=3, vector_size=10, window=1.........\n"
          ]
        },
        {
          "name": "stderr",
          "output_type": "stream",
          "text": [
            "WARNING:gensim.models.doc2vec:Highest int doctag (8999) larger than count of documents (6000). This means at least 2999 excess, unused slots (119960 bytes) will be allocated for vectors.\n"
          ]
        },
        {
          "name": "stdout",
          "output_type": "stream",
          "text": [
            "[CV 1/3; 81/144] END epochs=10, min_count=3, vector_size=10, window=1;, score=0.145 total time=  50.9s\n",
            "[CV 2/3; 81/144] START epochs=10, min_count=3, vector_size=10, window=1.........\n"
          ]
        },
        {
          "name": "stderr",
          "output_type": "stream",
          "text": [
            "WARNING:gensim.models.doc2vec:Highest int doctag (8999) larger than count of documents (6000). This means at least 2999 excess, unused slots (119960 bytes) will be allocated for vectors.\n"
          ]
        },
        {
          "name": "stdout",
          "output_type": "stream",
          "text": [
            "[CV 2/3; 81/144] END epochs=10, min_count=3, vector_size=10, window=1;, score=0.152 total time=  51.9s\n",
            "[CV 3/3; 81/144] START epochs=10, min_count=3, vector_size=10, window=1.........\n",
            "[CV 3/3; 81/144] END epochs=10, min_count=3, vector_size=10, window=1;, score=0.156 total time=  51.8s\n",
            "[CV 1/3; 82/144] START epochs=10, min_count=3, vector_size=10, window=2.........\n"
          ]
        },
        {
          "name": "stderr",
          "output_type": "stream",
          "text": [
            "WARNING:gensim.models.doc2vec:Highest int doctag (8999) larger than count of documents (6000). This means at least 2999 excess, unused slots (119960 bytes) will be allocated for vectors.\n"
          ]
        },
        {
          "name": "stdout",
          "output_type": "stream",
          "text": [
            "[CV 1/3; 82/144] END epochs=10, min_count=3, vector_size=10, window=2;, score=0.157 total time=  53.6s\n",
            "[CV 2/3; 82/144] START epochs=10, min_count=3, vector_size=10, window=2.........\n"
          ]
        },
        {
          "name": "stderr",
          "output_type": "stream",
          "text": [
            "WARNING:gensim.models.doc2vec:Highest int doctag (8999) larger than count of documents (6000). This means at least 2999 excess, unused slots (119960 bytes) will be allocated for vectors.\n"
          ]
        },
        {
          "name": "stdout",
          "output_type": "stream",
          "text": [
            "[CV 2/3; 82/144] END epochs=10, min_count=3, vector_size=10, window=2;, score=0.156 total time=  53.1s\n",
            "[CV 3/3; 82/144] START epochs=10, min_count=3, vector_size=10, window=2.........\n",
            "[CV 3/3; 82/144] END epochs=10, min_count=3, vector_size=10, window=2;, score=0.166 total time=  53.7s\n",
            "[CV 1/3; 83/144] START epochs=10, min_count=3, vector_size=10, window=3.........\n"
          ]
        },
        {
          "name": "stderr",
          "output_type": "stream",
          "text": [
            "WARNING:gensim.models.doc2vec:Highest int doctag (8999) larger than count of documents (6000). This means at least 2999 excess, unused slots (119960 bytes) will be allocated for vectors.\n"
          ]
        },
        {
          "name": "stdout",
          "output_type": "stream",
          "text": [
            "[CV 1/3; 83/144] END epochs=10, min_count=3, vector_size=10, window=3;, score=0.165 total time=  54.3s\n",
            "[CV 2/3; 83/144] START epochs=10, min_count=3, vector_size=10, window=3.........\n"
          ]
        },
        {
          "name": "stderr",
          "output_type": "stream",
          "text": [
            "WARNING:gensim.models.doc2vec:Highest int doctag (8999) larger than count of documents (6000). This means at least 2999 excess, unused slots (119960 bytes) will be allocated for vectors.\n"
          ]
        },
        {
          "name": "stdout",
          "output_type": "stream",
          "text": [
            "[CV 2/3; 83/144] END epochs=10, min_count=3, vector_size=10, window=3;, score=0.148 total time=  55.3s\n",
            "[CV 3/3; 83/144] START epochs=10, min_count=3, vector_size=10, window=3.........\n",
            "[CV 3/3; 83/144] END epochs=10, min_count=3, vector_size=10, window=3;, score=0.156 total time=  54.2s\n",
            "[CV 1/3; 84/144] START epochs=10, min_count=3, vector_size=10, window=5.........\n"
          ]
        },
        {
          "name": "stderr",
          "output_type": "stream",
          "text": [
            "WARNING:gensim.models.doc2vec:Highest int doctag (8999) larger than count of documents (6000). This means at least 2999 excess, unused slots (119960 bytes) will be allocated for vectors.\n"
          ]
        },
        {
          "name": "stdout",
          "output_type": "stream",
          "text": [
            "[CV 1/3; 84/144] END epochs=10, min_count=3, vector_size=10, window=5;, score=0.147 total time=  57.3s\n",
            "[CV 2/3; 84/144] START epochs=10, min_count=3, vector_size=10, window=5.........\n"
          ]
        },
        {
          "name": "stderr",
          "output_type": "stream",
          "text": [
            "WARNING:gensim.models.doc2vec:Highest int doctag (8999) larger than count of documents (6000). This means at least 2999 excess, unused slots (119960 bytes) will be allocated for vectors.\n"
          ]
        },
        {
          "name": "stdout",
          "output_type": "stream",
          "text": [
            "[CV 2/3; 84/144] END epochs=10, min_count=3, vector_size=10, window=5;, score=0.120 total time=  56.7s\n",
            "[CV 3/3; 84/144] START epochs=10, min_count=3, vector_size=10, window=5.........\n",
            "[CV 3/3; 84/144] END epochs=10, min_count=3, vector_size=10, window=5;, score=0.144 total time=  57.6s\n",
            "[CV 1/3; 85/144] START epochs=10, min_count=3, vector_size=50, window=1.........\n"
          ]
        },
        {
          "name": "stderr",
          "output_type": "stream",
          "text": [
            "WARNING:gensim.models.doc2vec:Highest int doctag (8999) larger than count of documents (6000). This means at least 2999 excess, unused slots (599800 bytes) will be allocated for vectors.\n"
          ]
        },
        {
          "name": "stdout",
          "output_type": "stream",
          "text": [
            "[CV 1/3; 85/144] END epochs=10, min_count=3, vector_size=50, window=1;, score=0.080 total time= 1.0min\n",
            "[CV 2/3; 85/144] START epochs=10, min_count=3, vector_size=50, window=1.........\n"
          ]
        },
        {
          "name": "stderr",
          "output_type": "stream",
          "text": [
            "WARNING:gensim.models.doc2vec:Highest int doctag (8999) larger than count of documents (6000). This means at least 2999 excess, unused slots (599800 bytes) will be allocated for vectors.\n"
          ]
        },
        {
          "name": "stdout",
          "output_type": "stream",
          "text": [
            "[CV 2/3; 85/144] END epochs=10, min_count=3, vector_size=50, window=1;, score=0.072 total time= 1.1min\n",
            "[CV 3/3; 85/144] START epochs=10, min_count=3, vector_size=50, window=1.........\n",
            "[CV 3/3; 85/144] END epochs=10, min_count=3, vector_size=50, window=1;, score=0.075 total time= 1.1min\n",
            "[CV 1/3; 86/144] START epochs=10, min_count=3, vector_size=50, window=2.........\n"
          ]
        },
        {
          "name": "stderr",
          "output_type": "stream",
          "text": [
            "WARNING:gensim.models.doc2vec:Highest int doctag (8999) larger than count of documents (6000). This means at least 2999 excess, unused slots (599800 bytes) will be allocated for vectors.\n"
          ]
        },
        {
          "name": "stdout",
          "output_type": "stream",
          "text": [
            "[CV 1/3; 86/144] END epochs=10, min_count=3, vector_size=50, window=2;, score=0.074 total time= 1.1min\n",
            "[CV 2/3; 86/144] START epochs=10, min_count=3, vector_size=50, window=2.........\n"
          ]
        },
        {
          "name": "stderr",
          "output_type": "stream",
          "text": [
            "WARNING:gensim.models.doc2vec:Highest int doctag (8999) larger than count of documents (6000). This means at least 2999 excess, unused slots (599800 bytes) will be allocated for vectors.\n"
          ]
        },
        {
          "name": "stdout",
          "output_type": "stream",
          "text": [
            "[CV 2/3; 86/144] END epochs=10, min_count=3, vector_size=50, window=2;, score=0.069 total time= 1.1min\n",
            "[CV 3/3; 86/144] START epochs=10, min_count=3, vector_size=50, window=2.........\n",
            "[CV 3/3; 86/144] END epochs=10, min_count=3, vector_size=50, window=2;, score=0.073 total time= 1.1min\n",
            "[CV 1/3; 87/144] START epochs=10, min_count=3, vector_size=50, window=3.........\n"
          ]
        },
        {
          "name": "stderr",
          "output_type": "stream",
          "text": [
            "WARNING:gensim.models.doc2vec:Highest int doctag (8999) larger than count of documents (6000). This means at least 2999 excess, unused slots (599800 bytes) will be allocated for vectors.\n"
          ]
        },
        {
          "name": "stdout",
          "output_type": "stream",
          "text": [
            "[CV 1/3; 87/144] END epochs=10, min_count=3, vector_size=50, window=3;, score=0.067 total time= 1.1min\n",
            "[CV 2/3; 87/144] START epochs=10, min_count=3, vector_size=50, window=3.........\n"
          ]
        },
        {
          "name": "stderr",
          "output_type": "stream",
          "text": [
            "WARNING:gensim.models.doc2vec:Highest int doctag (8999) larger than count of documents (6000). This means at least 2999 excess, unused slots (599800 bytes) will be allocated for vectors.\n"
          ]
        },
        {
          "name": "stdout",
          "output_type": "stream",
          "text": [
            "[CV 2/3; 87/144] END epochs=10, min_count=3, vector_size=50, window=3;, score=0.065 total time= 1.1min\n",
            "[CV 3/3; 87/144] START epochs=10, min_count=3, vector_size=50, window=3.........\n",
            "[CV 3/3; 87/144] END epochs=10, min_count=3, vector_size=50, window=3;, score=0.055 total time= 1.1min\n",
            "[CV 1/3; 88/144] START epochs=10, min_count=3, vector_size=50, window=5.........\n"
          ]
        },
        {
          "name": "stderr",
          "output_type": "stream",
          "text": [
            "WARNING:gensim.models.doc2vec:Highest int doctag (8999) larger than count of documents (6000). This means at least 2999 excess, unused slots (599800 bytes) will be allocated for vectors.\n"
          ]
        },
        {
          "name": "stdout",
          "output_type": "stream",
          "text": [
            "[CV 1/3; 88/144] END epochs=10, min_count=3, vector_size=50, window=5;, score=0.010 total time= 1.2min\n",
            "[CV 2/3; 88/144] START epochs=10, min_count=3, vector_size=50, window=5.........\n"
          ]
        },
        {
          "name": "stderr",
          "output_type": "stream",
          "text": [
            "WARNING:gensim.models.doc2vec:Highest int doctag (8999) larger than count of documents (6000). This means at least 2999 excess, unused slots (599800 bytes) will be allocated for vectors.\n"
          ]
        },
        {
          "name": "stdout",
          "output_type": "stream",
          "text": [
            "[CV 2/3; 88/144] END epochs=10, min_count=3, vector_size=50, window=5;, score=0.032 total time= 1.2min\n",
            "[CV 3/3; 88/144] START epochs=10, min_count=3, vector_size=50, window=5.........\n",
            "[CV 3/3; 88/144] END epochs=10, min_count=3, vector_size=50, window=5;, score=0.041 total time= 1.2min\n",
            "[CV 1/3; 89/144] START epochs=10, min_count=3, vector_size=100, window=1........\n"
          ]
        },
        {
          "name": "stderr",
          "output_type": "stream",
          "text": [
            "WARNING:gensim.models.doc2vec:Highest int doctag (8999) larger than count of documents (6000). This means at least 2999 excess, unused slots (1199600 bytes) will be allocated for vectors.\n"
          ]
        },
        {
          "name": "stdout",
          "output_type": "stream",
          "text": [
            "[CV 1/3; 89/144] END epochs=10, min_count=3, vector_size=100, window=1;, score=0.041 total time= 1.0min\n",
            "[CV 2/3; 89/144] START epochs=10, min_count=3, vector_size=100, window=1........\n"
          ]
        },
        {
          "name": "stderr",
          "output_type": "stream",
          "text": [
            "WARNING:gensim.models.doc2vec:Highest int doctag (8999) larger than count of documents (6000). This means at least 2999 excess, unused slots (1199600 bytes) will be allocated for vectors.\n"
          ]
        },
        {
          "name": "stdout",
          "output_type": "stream",
          "text": [
            "[CV 2/3; 89/144] END epochs=10, min_count=3, vector_size=100, window=1;, score=0.035 total time=  59.4s\n",
            "[CV 3/3; 89/144] START epochs=10, min_count=3, vector_size=100, window=1........\n",
            "[CV 3/3; 89/144] END epochs=10, min_count=3, vector_size=100, window=1;, score=0.030 total time= 1.0min\n",
            "[CV 1/3; 90/144] START epochs=10, min_count=3, vector_size=100, window=2........\n"
          ]
        },
        {
          "name": "stderr",
          "output_type": "stream",
          "text": [
            "WARNING:gensim.models.doc2vec:Highest int doctag (8999) larger than count of documents (6000). This means at least 2999 excess, unused slots (1199600 bytes) will be allocated for vectors.\n"
          ]
        },
        {
          "name": "stdout",
          "output_type": "stream",
          "text": [
            "[CV 1/3; 90/144] END epochs=10, min_count=3, vector_size=100, window=2;, score=0.034 total time= 1.1min\n",
            "[CV 2/3; 90/144] START epochs=10, min_count=3, vector_size=100, window=2........\n"
          ]
        },
        {
          "name": "stderr",
          "output_type": "stream",
          "text": [
            "WARNING:gensim.models.doc2vec:Highest int doctag (8999) larger than count of documents (6000). This means at least 2999 excess, unused slots (1199600 bytes) will be allocated for vectors.\n"
          ]
        },
        {
          "name": "stdout",
          "output_type": "stream",
          "text": [
            "[CV 2/3; 90/144] END epochs=10, min_count=3, vector_size=100, window=2;, score=0.032 total time= 1.0min\n",
            "[CV 3/3; 90/144] START epochs=10, min_count=3, vector_size=100, window=2........\n",
            "[CV 3/3; 90/144] END epochs=10, min_count=3, vector_size=100, window=2;, score=0.025 total time= 1.0min\n",
            "[CV 1/3; 91/144] START epochs=10, min_count=3, vector_size=100, window=3........\n"
          ]
        },
        {
          "name": "stderr",
          "output_type": "stream",
          "text": [
            "WARNING:gensim.models.doc2vec:Highest int doctag (8999) larger than count of documents (6000). This means at least 2999 excess, unused slots (1199600 bytes) will be allocated for vectors.\n"
          ]
        },
        {
          "name": "stdout",
          "output_type": "stream",
          "text": [
            "[CV 1/3; 91/144] END epochs=10, min_count=3, vector_size=100, window=3;, score=0.031 total time= 1.0min\n",
            "[CV 2/3; 91/144] START epochs=10, min_count=3, vector_size=100, window=3........\n"
          ]
        },
        {
          "name": "stderr",
          "output_type": "stream",
          "text": [
            "WARNING:gensim.models.doc2vec:Highest int doctag (8999) larger than count of documents (6000). This means at least 2999 excess, unused slots (1199600 bytes) will be allocated for vectors.\n"
          ]
        },
        {
          "name": "stdout",
          "output_type": "stream",
          "text": [
            "[CV 2/3; 91/144] END epochs=10, min_count=3, vector_size=100, window=3;, score=0.021 total time= 1.0min\n",
            "[CV 3/3; 91/144] START epochs=10, min_count=3, vector_size=100, window=3........\n",
            "[CV 3/3; 91/144] END epochs=10, min_count=3, vector_size=100, window=3;, score=0.028 total time= 1.0min\n",
            "[CV 1/3; 92/144] START epochs=10, min_count=3, vector_size=100, window=5........\n"
          ]
        },
        {
          "name": "stderr",
          "output_type": "stream",
          "text": [
            "WARNING:gensim.models.doc2vec:Highest int doctag (8999) larger than count of documents (6000). This means at least 2999 excess, unused slots (1199600 bytes) will be allocated for vectors.\n"
          ]
        },
        {
          "name": "stdout",
          "output_type": "stream",
          "text": [
            "[CV 1/3; 92/144] END epochs=10, min_count=3, vector_size=100, window=5;, score=0.019 total time= 1.1min\n",
            "[CV 2/3; 92/144] START epochs=10, min_count=3, vector_size=100, window=5........\n"
          ]
        },
        {
          "name": "stderr",
          "output_type": "stream",
          "text": [
            "WARNING:gensim.models.doc2vec:Highest int doctag (8999) larger than count of documents (6000). This means at least 2999 excess, unused slots (1199600 bytes) will be allocated for vectors.\n"
          ]
        },
        {
          "name": "stdout",
          "output_type": "stream",
          "text": [
            "[CV 2/3; 92/144] END epochs=10, min_count=3, vector_size=100, window=5;, score=0.003 total time= 1.1min\n",
            "[CV 3/3; 92/144] START epochs=10, min_count=3, vector_size=100, window=5........\n",
            "[CV 3/3; 92/144] END epochs=10, min_count=3, vector_size=100, window=5;, score=-0.009 total time= 1.1min\n",
            "[CV 1/3; 93/144] START epochs=10, min_count=3, vector_size=300, window=1........\n"
          ]
        },
        {
          "name": "stderr",
          "output_type": "stream",
          "text": [
            "WARNING:gensim.models.doc2vec:Highest int doctag (8999) larger than count of documents (6000). This means at least 2999 excess, unused slots (3598800 bytes) will be allocated for vectors.\n"
          ]
        },
        {
          "name": "stdout",
          "output_type": "stream",
          "text": [
            "[CV 1/3; 93/144] END epochs=10, min_count=3, vector_size=300, window=1;, score=0.026 total time= 1.3min\n",
            "[CV 2/3; 93/144] START epochs=10, min_count=3, vector_size=300, window=1........\n"
          ]
        },
        {
          "name": "stderr",
          "output_type": "stream",
          "text": [
            "WARNING:gensim.models.doc2vec:Highest int doctag (8999) larger than count of documents (6000). This means at least 2999 excess, unused slots (3598800 bytes) will be allocated for vectors.\n"
          ]
        },
        {
          "name": "stdout",
          "output_type": "stream",
          "text": [
            "[CV 2/3; 93/144] END epochs=10, min_count=3, vector_size=300, window=1;, score=0.020 total time= 1.3min\n",
            "[CV 3/3; 93/144] START epochs=10, min_count=3, vector_size=300, window=1........\n",
            "[CV 3/3; 93/144] END epochs=10, min_count=3, vector_size=300, window=1;, score=0.019 total time= 1.3min\n",
            "[CV 1/3; 94/144] START epochs=10, min_count=3, vector_size=300, window=2........\n"
          ]
        },
        {
          "name": "stderr",
          "output_type": "stream",
          "text": [
            "WARNING:gensim.models.doc2vec:Highest int doctag (8999) larger than count of documents (6000). This means at least 2999 excess, unused slots (3598800 bytes) will be allocated for vectors.\n"
          ]
        },
        {
          "name": "stdout",
          "output_type": "stream",
          "text": [
            "[CV 1/3; 94/144] END epochs=10, min_count=3, vector_size=300, window=2;, score=0.009 total time= 1.4min\n",
            "[CV 2/3; 94/144] START epochs=10, min_count=3, vector_size=300, window=2........\n"
          ]
        },
        {
          "name": "stderr",
          "output_type": "stream",
          "text": [
            "WARNING:gensim.models.doc2vec:Highest int doctag (8999) larger than count of documents (6000). This means at least 2999 excess, unused slots (3598800 bytes) will be allocated for vectors.\n"
          ]
        },
        {
          "name": "stdout",
          "output_type": "stream",
          "text": [
            "[CV 2/3; 94/144] END epochs=10, min_count=3, vector_size=300, window=2;, score=0.014 total time= 1.4min\n",
            "[CV 3/3; 94/144] START epochs=10, min_count=3, vector_size=300, window=2........\n",
            "[CV 3/3; 94/144] END epochs=10, min_count=3, vector_size=300, window=2;, score=0.015 total time= 1.4min\n",
            "[CV 1/3; 95/144] START epochs=10, min_count=3, vector_size=300, window=3........\n"
          ]
        },
        {
          "name": "stderr",
          "output_type": "stream",
          "text": [
            "WARNING:gensim.models.doc2vec:Highest int doctag (8999) larger than count of documents (6000). This means at least 2999 excess, unused slots (3598800 bytes) will be allocated for vectors.\n"
          ]
        },
        {
          "name": "stdout",
          "output_type": "stream",
          "text": [
            "[CV 1/3; 95/144] END epochs=10, min_count=3, vector_size=300, window=3;, score=0.015 total time= 1.4min\n",
            "[CV 2/3; 95/144] START epochs=10, min_count=3, vector_size=300, window=3........\n"
          ]
        },
        {
          "name": "stderr",
          "output_type": "stream",
          "text": [
            "WARNING:gensim.models.doc2vec:Highest int doctag (8999) larger than count of documents (6000). This means at least 2999 excess, unused slots (3598800 bytes) will be allocated for vectors.\n"
          ]
        },
        {
          "name": "stdout",
          "output_type": "stream",
          "text": [
            "[CV 2/3; 95/144] END epochs=10, min_count=3, vector_size=300, window=3;, score=0.005 total time= 1.4min\n",
            "[CV 3/3; 95/144] START epochs=10, min_count=3, vector_size=300, window=3........\n",
            "[CV 3/3; 95/144] END epochs=10, min_count=3, vector_size=300, window=3;, score=0.010 total time= 1.4min\n",
            "[CV 1/3; 96/144] START epochs=10, min_count=3, vector_size=300, window=5........\n"
          ]
        },
        {
          "name": "stderr",
          "output_type": "stream",
          "text": [
            "WARNING:gensim.models.doc2vec:Highest int doctag (8999) larger than count of documents (6000). This means at least 2999 excess, unused slots (3598800 bytes) will be allocated for vectors.\n"
          ]
        },
        {
          "name": "stdout",
          "output_type": "stream",
          "text": [
            "[CV 1/3; 96/144] END epochs=10, min_count=3, vector_size=300, window=5;, score=0.001 total time= 1.5min\n",
            "[CV 2/3; 96/144] START epochs=10, min_count=3, vector_size=300, window=5........\n"
          ]
        },
        {
          "name": "stderr",
          "output_type": "stream",
          "text": [
            "WARNING:gensim.models.doc2vec:Highest int doctag (8999) larger than count of documents (6000). This means at least 2999 excess, unused slots (3598800 bytes) will be allocated for vectors.\n"
          ]
        },
        {
          "name": "stdout",
          "output_type": "stream",
          "text": [
            "[CV 2/3; 96/144] END epochs=10, min_count=3, vector_size=300, window=5;, score=-0.003 total time= 1.5min\n",
            "[CV 3/3; 96/144] START epochs=10, min_count=3, vector_size=300, window=5........\n",
            "[CV 3/3; 96/144] END epochs=10, min_count=3, vector_size=300, window=5;, score=-0.008 total time= 1.5min\n",
            "[CV 1/3; 97/144] START epochs=20, min_count=1, vector_size=10, window=1.........\n"
          ]
        },
        {
          "name": "stderr",
          "output_type": "stream",
          "text": [
            "WARNING:gensim.models.doc2vec:Highest int doctag (8999) larger than count of documents (6000). This means at least 2999 excess, unused slots (119960 bytes) will be allocated for vectors.\n"
          ]
        },
        {
          "name": "stdout",
          "output_type": "stream",
          "text": [
            "[CV 1/3; 97/144] END epochs=20, min_count=1, vector_size=10, window=1;, score=0.135 total time= 1.7min\n",
            "[CV 2/3; 97/144] START epochs=20, min_count=1, vector_size=10, window=1.........\n"
          ]
        },
        {
          "name": "stderr",
          "output_type": "stream",
          "text": [
            "WARNING:gensim.models.doc2vec:Highest int doctag (8999) larger than count of documents (6000). This means at least 2999 excess, unused slots (119960 bytes) will be allocated for vectors.\n"
          ]
        },
        {
          "name": "stdout",
          "output_type": "stream",
          "text": [
            "[CV 2/3; 97/144] END epochs=20, min_count=1, vector_size=10, window=1;, score=0.129 total time= 1.7min\n",
            "[CV 3/3; 97/144] START epochs=20, min_count=1, vector_size=10, window=1.........\n",
            "[CV 3/3; 97/144] END epochs=20, min_count=1, vector_size=10, window=1;, score=0.142 total time= 1.7min\n",
            "[CV 1/3; 98/144] START epochs=20, min_count=1, vector_size=10, window=2.........\n"
          ]
        },
        {
          "name": "stderr",
          "output_type": "stream",
          "text": [
            "WARNING:gensim.models.doc2vec:Highest int doctag (8999) larger than count of documents (6000). This means at least 2999 excess, unused slots (119960 bytes) will be allocated for vectors.\n"
          ]
        },
        {
          "name": "stdout",
          "output_type": "stream",
          "text": [
            "[CV 1/3; 98/144] END epochs=20, min_count=1, vector_size=10, window=2;, score=0.146 total time= 1.8min\n",
            "[CV 2/3; 98/144] START epochs=20, min_count=1, vector_size=10, window=2.........\n"
          ]
        },
        {
          "name": "stderr",
          "output_type": "stream",
          "text": [
            "WARNING:gensim.models.doc2vec:Highest int doctag (8999) larger than count of documents (6000). This means at least 2999 excess, unused slots (119960 bytes) will be allocated for vectors.\n"
          ]
        },
        {
          "name": "stdout",
          "output_type": "stream",
          "text": [
            "[CV 2/3; 98/144] END epochs=20, min_count=1, vector_size=10, window=2;, score=0.157 total time= 1.8min\n",
            "[CV 3/3; 98/144] START epochs=20, min_count=1, vector_size=10, window=2.........\n",
            "[CV 3/3; 98/144] END epochs=20, min_count=1, vector_size=10, window=2;, score=0.164 total time= 1.8min\n",
            "[CV 1/3; 99/144] START epochs=20, min_count=1, vector_size=10, window=3.........\n"
          ]
        },
        {
          "name": "stderr",
          "output_type": "stream",
          "text": [
            "WARNING:gensim.models.doc2vec:Highest int doctag (8999) larger than count of documents (6000). This means at least 2999 excess, unused slots (119960 bytes) will be allocated for vectors.\n"
          ]
        },
        {
          "name": "stdout",
          "output_type": "stream",
          "text": [
            "[CV 1/3; 99/144] END epochs=20, min_count=1, vector_size=10, window=3;, score=0.158 total time= 1.8min\n",
            "[CV 2/3; 99/144] START epochs=20, min_count=1, vector_size=10, window=3.........\n"
          ]
        },
        {
          "name": "stderr",
          "output_type": "stream",
          "text": [
            "WARNING:gensim.models.doc2vec:Highest int doctag (8999) larger than count of documents (6000). This means at least 2999 excess, unused slots (119960 bytes) will be allocated for vectors.\n"
          ]
        },
        {
          "name": "stdout",
          "output_type": "stream",
          "text": [
            "[CV 2/3; 99/144] END epochs=20, min_count=1, vector_size=10, window=3;, score=0.154 total time= 1.8min\n",
            "[CV 3/3; 99/144] START epochs=20, min_count=1, vector_size=10, window=3.........\n",
            "[CV 3/3; 99/144] END epochs=20, min_count=1, vector_size=10, window=3;, score=0.165 total time= 1.8min\n",
            "[CV 1/3; 100/144] START epochs=20, min_count=1, vector_size=10, window=5........\n"
          ]
        },
        {
          "name": "stderr",
          "output_type": "stream",
          "text": [
            "WARNING:gensim.models.doc2vec:Highest int doctag (8999) larger than count of documents (6000). This means at least 2999 excess, unused slots (119960 bytes) will be allocated for vectors.\n"
          ]
        },
        {
          "name": "stdout",
          "output_type": "stream",
          "text": [
            "[CV 1/3; 100/144] END epochs=20, min_count=1, vector_size=10, window=5;, score=0.153 total time= 1.9min\n",
            "[CV 2/3; 100/144] START epochs=20, min_count=1, vector_size=10, window=5........\n"
          ]
        },
        {
          "name": "stderr",
          "output_type": "stream",
          "text": [
            "WARNING:gensim.models.doc2vec:Highest int doctag (8999) larger than count of documents (6000). This means at least 2999 excess, unused slots (119960 bytes) will be allocated for vectors.\n"
          ]
        },
        {
          "name": "stdout",
          "output_type": "stream",
          "text": [
            "[CV 2/3; 100/144] END epochs=20, min_count=1, vector_size=10, window=5;, score=0.148 total time= 1.9min\n",
            "[CV 3/3; 100/144] START epochs=20, min_count=1, vector_size=10, window=5........\n",
            "[CV 3/3; 100/144] END epochs=20, min_count=1, vector_size=10, window=5;, score=0.150 total time= 1.9min\n",
            "[CV 1/3; 101/144] START epochs=20, min_count=1, vector_size=50, window=1........\n"
          ]
        },
        {
          "name": "stderr",
          "output_type": "stream",
          "text": [
            "WARNING:gensim.models.doc2vec:Highest int doctag (8999) larger than count of documents (6000). This means at least 2999 excess, unused slots (599800 bytes) will be allocated for vectors.\n"
          ]
        },
        {
          "name": "stdout",
          "output_type": "stream",
          "text": [
            "[CV 1/3; 101/144] END epochs=20, min_count=1, vector_size=50, window=1;, score=0.070 total time= 2.1min\n",
            "[CV 2/3; 101/144] START epochs=20, min_count=1, vector_size=50, window=1........\n"
          ]
        },
        {
          "name": "stderr",
          "output_type": "stream",
          "text": [
            "WARNING:gensim.models.doc2vec:Highest int doctag (8999) larger than count of documents (6000). This means at least 2999 excess, unused slots (599800 bytes) will be allocated for vectors.\n"
          ]
        },
        {
          "name": "stdout",
          "output_type": "stream",
          "text": [
            "[CV 2/3; 101/144] END epochs=20, min_count=1, vector_size=50, window=1;, score=0.065 total time= 2.2min\n",
            "[CV 3/3; 101/144] START epochs=20, min_count=1, vector_size=50, window=1........\n",
            "[CV 3/3; 101/144] END epochs=20, min_count=1, vector_size=50, window=1;, score=0.064 total time= 2.1min\n",
            "[CV 1/3; 102/144] START epochs=20, min_count=1, vector_size=50, window=2........\n"
          ]
        },
        {
          "name": "stderr",
          "output_type": "stream",
          "text": [
            "WARNING:gensim.models.doc2vec:Highest int doctag (8999) larger than count of documents (6000). This means at least 2999 excess, unused slots (599800 bytes) will be allocated for vectors.\n"
          ]
        },
        {
          "name": "stdout",
          "output_type": "stream",
          "text": [
            "[CV 1/3; 102/144] END epochs=20, min_count=1, vector_size=50, window=2;, score=0.066 total time= 2.2min\n",
            "[CV 2/3; 102/144] START epochs=20, min_count=1, vector_size=50, window=2........\n"
          ]
        },
        {
          "name": "stderr",
          "output_type": "stream",
          "text": [
            "WARNING:gensim.models.doc2vec:Highest int doctag (8999) larger than count of documents (6000). This means at least 2999 excess, unused slots (599800 bytes) will be allocated for vectors.\n"
          ]
        },
        {
          "name": "stdout",
          "output_type": "stream",
          "text": [
            "[CV 2/3; 102/144] END epochs=20, min_count=1, vector_size=50, window=2;, score=0.065 total time= 2.2min\n",
            "[CV 3/3; 102/144] START epochs=20, min_count=1, vector_size=50, window=2........\n",
            "[CV 3/3; 102/144] END epochs=20, min_count=1, vector_size=50, window=2;, score=0.060 total time= 2.2min\n",
            "[CV 1/3; 103/144] START epochs=20, min_count=1, vector_size=50, window=3........\n"
          ]
        },
        {
          "name": "stderr",
          "output_type": "stream",
          "text": [
            "WARNING:gensim.models.doc2vec:Highest int doctag (8999) larger than count of documents (6000). This means at least 2999 excess, unused slots (599800 bytes) will be allocated for vectors.\n"
          ]
        },
        {
          "name": "stdout",
          "output_type": "stream",
          "text": [
            "[CV 1/3; 103/144] END epochs=20, min_count=1, vector_size=50, window=3;, score=0.060 total time= 2.3min\n",
            "[CV 2/3; 103/144] START epochs=20, min_count=1, vector_size=50, window=3........\n"
          ]
        },
        {
          "name": "stderr",
          "output_type": "stream",
          "text": [
            "WARNING:gensim.models.doc2vec:Highest int doctag (8999) larger than count of documents (6000). This means at least 2999 excess, unused slots (599800 bytes) will be allocated for vectors.\n"
          ]
        },
        {
          "name": "stdout",
          "output_type": "stream",
          "text": [
            "[CV 2/3; 103/144] END epochs=20, min_count=1, vector_size=50, window=3;, score=0.049 total time= 2.3min\n",
            "[CV 3/3; 103/144] START epochs=20, min_count=1, vector_size=50, window=3........\n",
            "[CV 3/3; 103/144] END epochs=20, min_count=1, vector_size=50, window=3;, score=0.053 total time= 2.3min\n",
            "[CV 1/3; 104/144] START epochs=20, min_count=1, vector_size=50, window=5........\n"
          ]
        },
        {
          "name": "stderr",
          "output_type": "stream",
          "text": [
            "WARNING:gensim.models.doc2vec:Highest int doctag (8999) larger than count of documents (6000). This means at least 2999 excess, unused slots (599800 bytes) will be allocated for vectors.\n"
          ]
        },
        {
          "name": "stdout",
          "output_type": "stream",
          "text": [
            "[CV 1/3; 104/144] END epochs=20, min_count=1, vector_size=50, window=5;, score=0.039 total time= 2.4min\n",
            "[CV 2/3; 104/144] START epochs=20, min_count=1, vector_size=50, window=5........\n"
          ]
        },
        {
          "name": "stderr",
          "output_type": "stream",
          "text": [
            "WARNING:gensim.models.doc2vec:Highest int doctag (8999) larger than count of documents (6000). This means at least 2999 excess, unused slots (599800 bytes) will be allocated for vectors.\n"
          ]
        },
        {
          "name": "stdout",
          "output_type": "stream",
          "text": [
            "[CV 2/3; 104/144] END epochs=20, min_count=1, vector_size=50, window=5;, score=0.032 total time= 2.4min\n",
            "[CV 3/3; 104/144] START epochs=20, min_count=1, vector_size=50, window=5........\n",
            "[CV 3/3; 104/144] END epochs=20, min_count=1, vector_size=50, window=5;, score=0.033 total time= 2.4min\n",
            "[CV 1/3; 105/144] START epochs=20, min_count=1, vector_size=100, window=1.......\n"
          ]
        },
        {
          "name": "stderr",
          "output_type": "stream",
          "text": [
            "WARNING:gensim.models.doc2vec:Highest int doctag (8999) larger than count of documents (6000). This means at least 2999 excess, unused slots (1199600 bytes) will be allocated for vectors.\n"
          ]
        },
        {
          "name": "stdout",
          "output_type": "stream",
          "text": [
            "[CV 1/3; 105/144] END epochs=20, min_count=1, vector_size=100, window=1;, score=0.016 total time= 2.1min\n",
            "[CV 2/3; 105/144] START epochs=20, min_count=1, vector_size=100, window=1.......\n"
          ]
        },
        {
          "name": "stderr",
          "output_type": "stream",
          "text": [
            "WARNING:gensim.models.doc2vec:Highest int doctag (8999) larger than count of documents (6000). This means at least 2999 excess, unused slots (1199600 bytes) will be allocated for vectors.\n"
          ]
        },
        {
          "name": "stdout",
          "output_type": "stream",
          "text": [
            "[CV 2/3; 105/144] END epochs=20, min_count=1, vector_size=100, window=1;, score=0.011 total time= 2.1min\n",
            "[CV 3/3; 105/144] START epochs=20, min_count=1, vector_size=100, window=1.......\n",
            "[CV 3/3; 105/144] END epochs=20, min_count=1, vector_size=100, window=1;, score=0.010 total time= 2.1min\n",
            "[CV 1/3; 106/144] START epochs=20, min_count=1, vector_size=100, window=2.......\n"
          ]
        },
        {
          "name": "stderr",
          "output_type": "stream",
          "text": [
            "WARNING:gensim.models.doc2vec:Highest int doctag (8999) larger than count of documents (6000). This means at least 2999 excess, unused slots (1199600 bytes) will be allocated for vectors.\n"
          ]
        },
        {
          "name": "stdout",
          "output_type": "stream",
          "text": [
            "[CV 1/3; 106/144] END epochs=20, min_count=1, vector_size=100, window=2;, score=0.016 total time= 2.1min\n",
            "[CV 2/3; 106/144] START epochs=20, min_count=1, vector_size=100, window=2.......\n"
          ]
        },
        {
          "name": "stderr",
          "output_type": "stream",
          "text": [
            "WARNING:gensim.models.doc2vec:Highest int doctag (8999) larger than count of documents (6000). This means at least 2999 excess, unused slots (1199600 bytes) will be allocated for vectors.\n"
          ]
        },
        {
          "name": "stdout",
          "output_type": "stream",
          "text": [
            "[CV 2/3; 106/144] END epochs=20, min_count=1, vector_size=100, window=2;, score=0.012 total time= 2.1min\n",
            "[CV 3/3; 106/144] START epochs=20, min_count=1, vector_size=100, window=2.......\n",
            "[CV 3/3; 106/144] END epochs=20, min_count=1, vector_size=100, window=2;, score=0.012 total time= 2.2min\n",
            "[CV 1/3; 107/144] START epochs=20, min_count=1, vector_size=100, window=3.......\n"
          ]
        },
        {
          "name": "stderr",
          "output_type": "stream",
          "text": [
            "WARNING:gensim.models.doc2vec:Highest int doctag (8999) larger than count of documents (6000). This means at least 2999 excess, unused slots (1199600 bytes) will be allocated for vectors.\n"
          ]
        },
        {
          "name": "stdout",
          "output_type": "stream",
          "text": [
            "[CV 1/3; 107/144] END epochs=20, min_count=1, vector_size=100, window=3;, score=0.007 total time= 2.1min\n",
            "[CV 2/3; 107/144] START epochs=20, min_count=1, vector_size=100, window=3.......\n"
          ]
        },
        {
          "name": "stderr",
          "output_type": "stream",
          "text": [
            "WARNING:gensim.models.doc2vec:Highest int doctag (8999) larger than count of documents (6000). This means at least 2999 excess, unused slots (1199600 bytes) will be allocated for vectors.\n"
          ]
        },
        {
          "name": "stdout",
          "output_type": "stream",
          "text": [
            "[CV 2/3; 107/144] END epochs=20, min_count=1, vector_size=100, window=3;, score=0.006 total time= 2.2min\n",
            "[CV 3/3; 107/144] START epochs=20, min_count=1, vector_size=100, window=3.......\n",
            "[CV 3/3; 107/144] END epochs=20, min_count=1, vector_size=100, window=3;, score=0.006 total time= 2.2min\n",
            "[CV 1/3; 108/144] START epochs=20, min_count=1, vector_size=100, window=5.......\n"
          ]
        },
        {
          "name": "stderr",
          "output_type": "stream",
          "text": [
            "WARNING:gensim.models.doc2vec:Highest int doctag (8999) larger than count of documents (6000). This means at least 2999 excess, unused slots (1199600 bytes) will be allocated for vectors.\n"
          ]
        },
        {
          "name": "stdout",
          "output_type": "stream",
          "text": [
            "[CV 1/3; 108/144] END epochs=20, min_count=1, vector_size=100, window=5;, score=-0.006 total time= 2.3min\n",
            "[CV 2/3; 108/144] START epochs=20, min_count=1, vector_size=100, window=5.......\n"
          ]
        },
        {
          "name": "stderr",
          "output_type": "stream",
          "text": [
            "WARNING:gensim.models.doc2vec:Highest int doctag (8999) larger than count of documents (6000). This means at least 2999 excess, unused slots (1199600 bytes) will be allocated for vectors.\n"
          ]
        },
        {
          "name": "stdout",
          "output_type": "stream",
          "text": [
            "[CV 2/3; 108/144] END epochs=20, min_count=1, vector_size=100, window=5;, score=-0.018 total time= 2.2min\n",
            "[CV 3/3; 108/144] START epochs=20, min_count=1, vector_size=100, window=5.......\n",
            "[CV 3/3; 108/144] END epochs=20, min_count=1, vector_size=100, window=5;, score=-0.009 total time= 2.2min\n",
            "[CV 1/3; 109/144] START epochs=20, min_count=1, vector_size=300, window=1.......\n"
          ]
        },
        {
          "name": "stderr",
          "output_type": "stream",
          "text": [
            "WARNING:gensim.models.doc2vec:Highest int doctag (8999) larger than count of documents (6000). This means at least 2999 excess, unused slots (3598800 bytes) will be allocated for vectors.\n"
          ]
        },
        {
          "name": "stdout",
          "output_type": "stream",
          "text": [
            "[CV 1/3; 109/144] END epochs=20, min_count=1, vector_size=300, window=1;, score=-0.032 total time= 3.0min\n",
            "[CV 2/3; 109/144] START epochs=20, min_count=1, vector_size=300, window=1.......\n"
          ]
        },
        {
          "name": "stderr",
          "output_type": "stream",
          "text": [
            "WARNING:gensim.models.doc2vec:Highest int doctag (8999) larger than count of documents (6000). This means at least 2999 excess, unused slots (3598800 bytes) will be allocated for vectors.\n"
          ]
        },
        {
          "name": "stdout",
          "output_type": "stream",
          "text": [
            "[CV 2/3; 109/144] END epochs=20, min_count=1, vector_size=300, window=1;, score=-0.039 total time= 3.0min\n",
            "[CV 3/3; 109/144] START epochs=20, min_count=1, vector_size=300, window=1.......\n",
            "[CV 3/3; 109/144] END epochs=20, min_count=1, vector_size=300, window=1;, score=-0.050 total time= 3.1min\n",
            "[CV 1/3; 110/144] START epochs=20, min_count=1, vector_size=300, window=2.......\n"
          ]
        },
        {
          "name": "stderr",
          "output_type": "stream",
          "text": [
            "WARNING:gensim.models.doc2vec:Highest int doctag (8999) larger than count of documents (6000). This means at least 2999 excess, unused slots (3598800 bytes) will be allocated for vectors.\n"
          ]
        },
        {
          "name": "stdout",
          "output_type": "stream",
          "text": [
            "[CV 1/3; 110/144] END epochs=20, min_count=1, vector_size=300, window=2;, score=-0.032 total time= 3.2min\n",
            "[CV 2/3; 110/144] START epochs=20, min_count=1, vector_size=300, window=2.......\n"
          ]
        },
        {
          "name": "stderr",
          "output_type": "stream",
          "text": [
            "WARNING:gensim.models.doc2vec:Highest int doctag (8999) larger than count of documents (6000). This means at least 2999 excess, unused slots (3598800 bytes) will be allocated for vectors.\n"
          ]
        },
        {
          "name": "stdout",
          "output_type": "stream",
          "text": [
            "[CV 2/3; 110/144] END epochs=20, min_count=1, vector_size=300, window=2;, score=-0.044 total time= 3.1min\n",
            "[CV 3/3; 110/144] START epochs=20, min_count=1, vector_size=300, window=2.......\n",
            "[CV 3/3; 110/144] END epochs=20, min_count=1, vector_size=300, window=2;, score=-0.035 total time= 3.1min\n",
            "[CV 1/3; 111/144] START epochs=20, min_count=1, vector_size=300, window=3.......\n"
          ]
        },
        {
          "name": "stderr",
          "output_type": "stream",
          "text": [
            "WARNING:gensim.models.doc2vec:Highest int doctag (8999) larger than count of documents (6000). This means at least 2999 excess, unused slots (3598800 bytes) will be allocated for vectors.\n"
          ]
        },
        {
          "name": "stdout",
          "output_type": "stream",
          "text": [
            "[CV 1/3; 111/144] END epochs=20, min_count=1, vector_size=300, window=3;, score=-0.030 total time= 3.1min\n",
            "[CV 2/3; 111/144] START epochs=20, min_count=1, vector_size=300, window=3.......\n"
          ]
        },
        {
          "name": "stderr",
          "output_type": "stream",
          "text": [
            "WARNING:gensim.models.doc2vec:Highest int doctag (8999) larger than count of documents (6000). This means at least 2999 excess, unused slots (3598800 bytes) will be allocated for vectors.\n"
          ]
        },
        {
          "name": "stdout",
          "output_type": "stream",
          "text": [
            "[CV 2/3; 111/144] END epochs=20, min_count=1, vector_size=300, window=3;, score=-0.041 total time= 3.2min\n",
            "[CV 3/3; 111/144] START epochs=20, min_count=1, vector_size=300, window=3.......\n",
            "[CV 3/3; 111/144] END epochs=20, min_count=1, vector_size=300, window=3;, score=-0.034 total time= 3.2min\n",
            "[CV 1/3; 112/144] START epochs=20, min_count=1, vector_size=300, window=5.......\n"
          ]
        },
        {
          "name": "stderr",
          "output_type": "stream",
          "text": [
            "WARNING:gensim.models.doc2vec:Highest int doctag (8999) larger than count of documents (6000). This means at least 2999 excess, unused slots (3598800 bytes) will be allocated for vectors.\n"
          ]
        },
        {
          "name": "stdout",
          "output_type": "stream",
          "text": [
            "[CV 1/3; 112/144] END epochs=20, min_count=1, vector_size=300, window=5;, score=-0.032 total time= 3.3min\n",
            "[CV 2/3; 112/144] START epochs=20, min_count=1, vector_size=300, window=5.......\n"
          ]
        },
        {
          "name": "stderr",
          "output_type": "stream",
          "text": [
            "WARNING:gensim.models.doc2vec:Highest int doctag (8999) larger than count of documents (6000). This means at least 2999 excess, unused slots (3598800 bytes) will be allocated for vectors.\n"
          ]
        },
        {
          "name": "stdout",
          "output_type": "stream",
          "text": [
            "[CV 2/3; 112/144] END epochs=20, min_count=1, vector_size=300, window=5;, score=-0.014 total time= 3.4min\n",
            "[CV 3/3; 112/144] START epochs=20, min_count=1, vector_size=300, window=5.......\n",
            "[CV 3/3; 112/144] END epochs=20, min_count=1, vector_size=300, window=5;, score=0.052 total time= 3.4min\n",
            "[CV 1/3; 113/144] START epochs=20, min_count=2, vector_size=10, window=1........\n"
          ]
        },
        {
          "name": "stderr",
          "output_type": "stream",
          "text": [
            "WARNING:gensim.models.doc2vec:Highest int doctag (8999) larger than count of documents (6000). This means at least 2999 excess, unused slots (119960 bytes) will be allocated for vectors.\n"
          ]
        },
        {
          "name": "stdout",
          "output_type": "stream",
          "text": [
            "[CV 1/3; 113/144] END epochs=20, min_count=2, vector_size=10, window=1;, score=0.131 total time= 1.7min\n",
            "[CV 2/3; 113/144] START epochs=20, min_count=2, vector_size=10, window=1........\n"
          ]
        },
        {
          "name": "stderr",
          "output_type": "stream",
          "text": [
            "WARNING:gensim.models.doc2vec:Highest int doctag (8999) larger than count of documents (6000). This means at least 2999 excess, unused slots (119960 bytes) will be allocated for vectors.\n"
          ]
        },
        {
          "name": "stdout",
          "output_type": "stream",
          "text": [
            "[CV 2/3; 113/144] END epochs=20, min_count=2, vector_size=10, window=1;, score=0.136 total time= 1.7min\n",
            "[CV 3/3; 113/144] START epochs=20, min_count=2, vector_size=10, window=1........\n",
            "[CV 3/3; 113/144] END epochs=20, min_count=2, vector_size=10, window=1;, score=0.138 total time= 1.7min\n",
            "[CV 1/3; 114/144] START epochs=20, min_count=2, vector_size=10, window=2........\n"
          ]
        },
        {
          "name": "stderr",
          "output_type": "stream",
          "text": [
            "WARNING:gensim.models.doc2vec:Highest int doctag (8999) larger than count of documents (6000). This means at least 2999 excess, unused slots (119960 bytes) will be allocated for vectors.\n"
          ]
        },
        {
          "name": "stdout",
          "output_type": "stream",
          "text": [
            "[CV 1/3; 114/144] END epochs=20, min_count=2, vector_size=10, window=2;, score=0.153 total time= 1.7min\n",
            "[CV 2/3; 114/144] START epochs=20, min_count=2, vector_size=10, window=2........\n"
          ]
        },
        {
          "name": "stderr",
          "output_type": "stream",
          "text": [
            "WARNING:gensim.models.doc2vec:Highest int doctag (8999) larger than count of documents (6000). This means at least 2999 excess, unused slots (119960 bytes) will be allocated for vectors.\n"
          ]
        },
        {
          "name": "stdout",
          "output_type": "stream",
          "text": [
            "[CV 2/3; 114/144] END epochs=20, min_count=2, vector_size=10, window=2;, score=0.144 total time= 1.7min\n",
            "[CV 3/3; 114/144] START epochs=20, min_count=2, vector_size=10, window=2........\n",
            "[CV 3/3; 114/144] END epochs=20, min_count=2, vector_size=10, window=2;, score=0.149 total time= 1.7min\n",
            "[CV 1/3; 115/144] START epochs=20, min_count=2, vector_size=10, window=3........\n"
          ]
        },
        {
          "name": "stderr",
          "output_type": "stream",
          "text": [
            "WARNING:gensim.models.doc2vec:Highest int doctag (8999) larger than count of documents (6000). This means at least 2999 excess, unused slots (119960 bytes) will be allocated for vectors.\n"
          ]
        },
        {
          "name": "stdout",
          "output_type": "stream",
          "text": [
            "[CV 1/3; 115/144] END epochs=20, min_count=2, vector_size=10, window=3;, score=0.151 total time= 1.8min\n",
            "[CV 2/3; 115/144] START epochs=20, min_count=2, vector_size=10, window=3........\n"
          ]
        },
        {
          "name": "stderr",
          "output_type": "stream",
          "text": [
            "WARNING:gensim.models.doc2vec:Highest int doctag (8999) larger than count of documents (6000). This means at least 2999 excess, unused slots (119960 bytes) will be allocated for vectors.\n"
          ]
        },
        {
          "name": "stdout",
          "output_type": "stream",
          "text": [
            "[CV 2/3; 115/144] END epochs=20, min_count=2, vector_size=10, window=3;, score=0.152 total time= 1.8min\n",
            "[CV 3/3; 115/144] START epochs=20, min_count=2, vector_size=10, window=3........\n",
            "[CV 3/3; 115/144] END epochs=20, min_count=2, vector_size=10, window=3;, score=0.164 total time= 1.8min\n",
            "[CV 1/3; 116/144] START epochs=20, min_count=2, vector_size=10, window=5........\n"
          ]
        },
        {
          "name": "stderr",
          "output_type": "stream",
          "text": [
            "WARNING:gensim.models.doc2vec:Highest int doctag (8999) larger than count of documents (6000). This means at least 2999 excess, unused slots (119960 bytes) will be allocated for vectors.\n"
          ]
        },
        {
          "name": "stdout",
          "output_type": "stream",
          "text": [
            "[CV 1/3; 116/144] END epochs=20, min_count=2, vector_size=10, window=5;, score=0.149 total time= 1.8min\n",
            "[CV 2/3; 116/144] START epochs=20, min_count=2, vector_size=10, window=5........\n"
          ]
        },
        {
          "name": "stderr",
          "output_type": "stream",
          "text": [
            "WARNING:gensim.models.doc2vec:Highest int doctag (8999) larger than count of documents (6000). This means at least 2999 excess, unused slots (119960 bytes) will be allocated for vectors.\n"
          ]
        },
        {
          "name": "stdout",
          "output_type": "stream",
          "text": [
            "[CV 2/3; 116/144] END epochs=20, min_count=2, vector_size=10, window=5;, score=0.150 total time= 1.8min\n",
            "[CV 3/3; 116/144] START epochs=20, min_count=2, vector_size=10, window=5........\n",
            "[CV 3/3; 116/144] END epochs=20, min_count=2, vector_size=10, window=5;, score=0.150 total time= 1.8min\n",
            "[CV 1/3; 117/144] START epochs=20, min_count=2, vector_size=50, window=1........\n"
          ]
        },
        {
          "name": "stderr",
          "output_type": "stream",
          "text": [
            "WARNING:gensim.models.doc2vec:Highest int doctag (8999) larger than count of documents (6000). This means at least 2999 excess, unused slots (599800 bytes) will be allocated for vectors.\n"
          ]
        },
        {
          "name": "stdout",
          "output_type": "stream",
          "text": [
            "[CV 1/3; 117/144] END epochs=20, min_count=2, vector_size=50, window=1;, score=0.046 total time= 2.0min\n",
            "[CV 2/3; 117/144] START epochs=20, min_count=2, vector_size=50, window=1........\n"
          ]
        },
        {
          "name": "stderr",
          "output_type": "stream",
          "text": [
            "WARNING:gensim.models.doc2vec:Highest int doctag (8999) larger than count of documents (6000). This means at least 2999 excess, unused slots (599800 bytes) will be allocated for vectors.\n"
          ]
        },
        {
          "name": "stdout",
          "output_type": "stream",
          "text": [
            "[CV 2/3; 117/144] END epochs=20, min_count=2, vector_size=50, window=1;, score=0.058 total time= 2.0min\n",
            "[CV 3/3; 117/144] START epochs=20, min_count=2, vector_size=50, window=1........\n",
            "[CV 3/3; 117/144] END epochs=20, min_count=2, vector_size=50, window=1;, score=0.026 total time= 2.0min\n",
            "[CV 1/3; 118/144] START epochs=20, min_count=2, vector_size=50, window=2........\n"
          ]
        },
        {
          "name": "stderr",
          "output_type": "stream",
          "text": [
            "WARNING:gensim.models.doc2vec:Highest int doctag (8999) larger than count of documents (6000). This means at least 2999 excess, unused slots (599800 bytes) will be allocated for vectors.\n"
          ]
        },
        {
          "name": "stdout",
          "output_type": "stream",
          "text": [
            "[CV 1/3; 118/144] END epochs=20, min_count=2, vector_size=50, window=2;, score=0.065 total time= 2.1min\n",
            "[CV 2/3; 118/144] START epochs=20, min_count=2, vector_size=50, window=2........\n"
          ]
        },
        {
          "name": "stderr",
          "output_type": "stream",
          "text": [
            "WARNING:gensim.models.doc2vec:Highest int doctag (8999) larger than count of documents (6000). This means at least 2999 excess, unused slots (599800 bytes) will be allocated for vectors.\n"
          ]
        },
        {
          "name": "stdout",
          "output_type": "stream",
          "text": [
            "[CV 2/3; 118/144] END epochs=20, min_count=2, vector_size=50, window=2;, score=0.053 total time= 2.1min\n",
            "[CV 3/3; 118/144] START epochs=20, min_count=2, vector_size=50, window=2........\n",
            "[CV 3/3; 118/144] END epochs=20, min_count=2, vector_size=50, window=2;, score=0.059 total time= 2.1min\n",
            "[CV 1/3; 119/144] START epochs=20, min_count=2, vector_size=50, window=3........\n"
          ]
        },
        {
          "name": "stderr",
          "output_type": "stream",
          "text": [
            "WARNING:gensim.models.doc2vec:Highest int doctag (8999) larger than count of documents (6000). This means at least 2999 excess, unused slots (599800 bytes) will be allocated for vectors.\n"
          ]
        },
        {
          "name": "stdout",
          "output_type": "stream",
          "text": [
            "[CV 1/3; 119/144] END epochs=20, min_count=2, vector_size=50, window=3;, score=0.057 total time= 2.2min\n",
            "[CV 2/3; 119/144] START epochs=20, min_count=2, vector_size=50, window=3........\n"
          ]
        },
        {
          "name": "stderr",
          "output_type": "stream",
          "text": [
            "WARNING:gensim.models.doc2vec:Highest int doctag (8999) larger than count of documents (6000). This means at least 2999 excess, unused slots (599800 bytes) will be allocated for vectors.\n"
          ]
        },
        {
          "name": "stdout",
          "output_type": "stream",
          "text": [
            "[CV 2/3; 119/144] END epochs=20, min_count=2, vector_size=50, window=3;, score=0.054 total time= 2.2min\n",
            "[CV 3/3; 119/144] START epochs=20, min_count=2, vector_size=50, window=3........\n",
            "[CV 3/3; 119/144] END epochs=20, min_count=2, vector_size=50, window=3;, score=0.054 total time= 2.2min\n",
            "[CV 1/3; 120/144] START epochs=20, min_count=2, vector_size=50, window=5........\n"
          ]
        },
        {
          "name": "stderr",
          "output_type": "stream",
          "text": [
            "WARNING:gensim.models.doc2vec:Highest int doctag (8999) larger than count of documents (6000). This means at least 2999 excess, unused slots (599800 bytes) will be allocated for vectors.\n"
          ]
        },
        {
          "name": "stdout",
          "output_type": "stream",
          "text": [
            "[CV 1/3; 120/144] END epochs=20, min_count=2, vector_size=50, window=5;, score=0.036 total time= 2.3min\n",
            "[CV 2/3; 120/144] START epochs=20, min_count=2, vector_size=50, window=5........\n"
          ]
        },
        {
          "name": "stderr",
          "output_type": "stream",
          "text": [
            "WARNING:gensim.models.doc2vec:Highest int doctag (8999) larger than count of documents (6000). This means at least 2999 excess, unused slots (599800 bytes) will be allocated for vectors.\n"
          ]
        },
        {
          "name": "stdout",
          "output_type": "stream",
          "text": [
            "[CV 2/3; 120/144] END epochs=20, min_count=2, vector_size=50, window=5;, score=0.037 total time= 2.3min\n",
            "[CV 3/3; 120/144] START epochs=20, min_count=2, vector_size=50, window=5........\n",
            "[CV 3/3; 120/144] END epochs=20, min_count=2, vector_size=50, window=5;, score=0.037 total time= 2.3min\n",
            "[CV 1/3; 121/144] START epochs=20, min_count=2, vector_size=100, window=1.......\n"
          ]
        },
        {
          "name": "stderr",
          "output_type": "stream",
          "text": [
            "WARNING:gensim.models.doc2vec:Highest int doctag (8999) larger than count of documents (6000). This means at least 2999 excess, unused slots (1199600 bytes) will be allocated for vectors.\n"
          ]
        },
        {
          "name": "stdout",
          "output_type": "stream",
          "text": [
            "[CV 1/3; 121/144] END epochs=20, min_count=2, vector_size=100, window=1;, score=0.008 total time= 2.0min\n",
            "[CV 2/3; 121/144] START epochs=20, min_count=2, vector_size=100, window=1.......\n"
          ]
        },
        {
          "name": "stderr",
          "output_type": "stream",
          "text": [
            "WARNING:gensim.models.doc2vec:Highest int doctag (8999) larger than count of documents (6000). This means at least 2999 excess, unused slots (1199600 bytes) will be allocated for vectors.\n"
          ]
        },
        {
          "name": "stdout",
          "output_type": "stream",
          "text": [
            "[CV 2/3; 121/144] END epochs=20, min_count=2, vector_size=100, window=1;, score=0.009 total time= 1.9min\n",
            "[CV 3/3; 121/144] START epochs=20, min_count=2, vector_size=100, window=1.......\n",
            "[CV 3/3; 121/144] END epochs=20, min_count=2, vector_size=100, window=1;, score=0.006 total time= 2.0min\n",
            "[CV 1/3; 122/144] START epochs=20, min_count=2, vector_size=100, window=2.......\n"
          ]
        },
        {
          "name": "stderr",
          "output_type": "stream",
          "text": [
            "WARNING:gensim.models.doc2vec:Highest int doctag (8999) larger than count of documents (6000). This means at least 2999 excess, unused slots (1199600 bytes) will be allocated for vectors.\n"
          ]
        },
        {
          "name": "stdout",
          "output_type": "stream",
          "text": [
            "[CV 1/3; 122/144] END epochs=20, min_count=2, vector_size=100, window=2;, score=0.013 total time= 2.0min\n",
            "[CV 2/3; 122/144] START epochs=20, min_count=2, vector_size=100, window=2.......\n"
          ]
        },
        {
          "name": "stderr",
          "output_type": "stream",
          "text": [
            "WARNING:gensim.models.doc2vec:Highest int doctag (8999) larger than count of documents (6000). This means at least 2999 excess, unused slots (1199600 bytes) will be allocated for vectors.\n"
          ]
        },
        {
          "name": "stdout",
          "output_type": "stream",
          "text": [
            "[CV 2/3; 122/144] END epochs=20, min_count=2, vector_size=100, window=2;, score=0.015 total time= 2.0min\n",
            "[CV 3/3; 122/144] START epochs=20, min_count=2, vector_size=100, window=2.......\n",
            "[CV 3/3; 122/144] END epochs=20, min_count=2, vector_size=100, window=2;, score=0.007 total time= 2.0min\n",
            "[CV 1/3; 123/144] START epochs=20, min_count=2, vector_size=100, window=3.......\n"
          ]
        },
        {
          "name": "stderr",
          "output_type": "stream",
          "text": [
            "WARNING:gensim.models.doc2vec:Highest int doctag (8999) larger than count of documents (6000). This means at least 2999 excess, unused slots (1199600 bytes) will be allocated for vectors.\n"
          ]
        },
        {
          "name": "stdout",
          "output_type": "stream",
          "text": [
            "[CV 1/3; 123/144] END epochs=20, min_count=2, vector_size=100, window=3;, score=0.009 total time= 2.0min\n",
            "[CV 2/3; 123/144] START epochs=20, min_count=2, vector_size=100, window=3.......\n"
          ]
        },
        {
          "name": "stderr",
          "output_type": "stream",
          "text": [
            "WARNING:gensim.models.doc2vec:Highest int doctag (8999) larger than count of documents (6000). This means at least 2999 excess, unused slots (1199600 bytes) will be allocated for vectors.\n"
          ]
        },
        {
          "name": "stdout",
          "output_type": "stream",
          "text": [
            "[CV 2/3; 123/144] END epochs=20, min_count=2, vector_size=100, window=3;, score=0.004 total time= 2.1min\n",
            "[CV 3/3; 123/144] START epochs=20, min_count=2, vector_size=100, window=3.......\n",
            "[CV 3/3; 123/144] END epochs=20, min_count=2, vector_size=100, window=3;, score=0.006 total time= 2.1min\n",
            "[CV 1/3; 124/144] START epochs=20, min_count=2, vector_size=100, window=5.......\n"
          ]
        },
        {
          "name": "stderr",
          "output_type": "stream",
          "text": [
            "WARNING:gensim.models.doc2vec:Highest int doctag (8999) larger than count of documents (6000). This means at least 2999 excess, unused slots (1199600 bytes) will be allocated for vectors.\n"
          ]
        },
        {
          "name": "stdout",
          "output_type": "stream",
          "text": [
            "[CV 1/3; 124/144] END epochs=20, min_count=2, vector_size=100, window=5;, score=-0.009 total time= 2.1min\n",
            "[CV 2/3; 124/144] START epochs=20, min_count=2, vector_size=100, window=5.......\n"
          ]
        },
        {
          "name": "stderr",
          "output_type": "stream",
          "text": [
            "WARNING:gensim.models.doc2vec:Highest int doctag (8999) larger than count of documents (6000). This means at least 2999 excess, unused slots (1199600 bytes) will be allocated for vectors.\n"
          ]
        },
        {
          "name": "stdout",
          "output_type": "stream",
          "text": [
            "[CV 2/3; 124/144] END epochs=20, min_count=2, vector_size=100, window=5;, score=-0.016 total time= 2.1min\n",
            "[CV 3/3; 124/144] START epochs=20, min_count=2, vector_size=100, window=5.......\n",
            "[CV 3/3; 124/144] END epochs=20, min_count=2, vector_size=100, window=5;, score=-0.011 total time= 2.1min\n",
            "[CV 1/3; 125/144] START epochs=20, min_count=2, vector_size=300, window=1.......\n"
          ]
        },
        {
          "name": "stderr",
          "output_type": "stream",
          "text": [
            "WARNING:gensim.models.doc2vec:Highest int doctag (8999) larger than count of documents (6000). This means at least 2999 excess, unused slots (3598800 bytes) will be allocated for vectors.\n"
          ]
        },
        {
          "name": "stdout",
          "output_type": "stream",
          "text": [
            "[CV 1/3; 125/144] END epochs=20, min_count=2, vector_size=300, window=1;, score=-0.045 total time= 2.7min\n",
            "[CV 2/3; 125/144] START epochs=20, min_count=2, vector_size=300, window=1.......\n"
          ]
        },
        {
          "name": "stderr",
          "output_type": "stream",
          "text": [
            "WARNING:gensim.models.doc2vec:Highest int doctag (8999) larger than count of documents (6000). This means at least 2999 excess, unused slots (3598800 bytes) will be allocated for vectors.\n"
          ]
        },
        {
          "name": "stdout",
          "output_type": "stream",
          "text": [
            "[CV 2/3; 125/144] END epochs=20, min_count=2, vector_size=300, window=1;, score=-0.047 total time= 2.7min\n",
            "[CV 3/3; 125/144] START epochs=20, min_count=2, vector_size=300, window=1.......\n",
            "[CV 3/3; 125/144] END epochs=20, min_count=2, vector_size=300, window=1;, score=-0.047 total time= 2.7min\n",
            "[CV 1/3; 126/144] START epochs=20, min_count=2, vector_size=300, window=2.......\n"
          ]
        },
        {
          "name": "stderr",
          "output_type": "stream",
          "text": [
            "WARNING:gensim.models.doc2vec:Highest int doctag (8999) larger than count of documents (6000). This means at least 2999 excess, unused slots (3598800 bytes) will be allocated for vectors.\n"
          ]
        },
        {
          "name": "stdout",
          "output_type": "stream",
          "text": [
            "[CV 1/3; 126/144] END epochs=20, min_count=2, vector_size=300, window=2;, score=-0.037 total time= 2.8min\n",
            "[CV 2/3; 126/144] START epochs=20, min_count=2, vector_size=300, window=2.......\n"
          ]
        },
        {
          "name": "stderr",
          "output_type": "stream",
          "text": [
            "WARNING:gensim.models.doc2vec:Highest int doctag (8999) larger than count of documents (6000). This means at least 2999 excess, unused slots (3598800 bytes) will be allocated for vectors.\n"
          ]
        },
        {
          "name": "stdout",
          "output_type": "stream",
          "text": [
            "[CV 2/3; 126/144] END epochs=20, min_count=2, vector_size=300, window=2;, score=-0.039 total time= 2.8min\n",
            "[CV 3/3; 126/144] START epochs=20, min_count=2, vector_size=300, window=2.......\n",
            "[CV 3/3; 126/144] END epochs=20, min_count=2, vector_size=300, window=2;, score=-0.029 total time= 2.8min\n",
            "[CV 1/3; 127/144] START epochs=20, min_count=2, vector_size=300, window=3.......\n"
          ]
        },
        {
          "name": "stderr",
          "output_type": "stream",
          "text": [
            "WARNING:gensim.models.doc2vec:Highest int doctag (8999) larger than count of documents (6000). This means at least 2999 excess, unused slots (3598800 bytes) will be allocated for vectors.\n"
          ]
        },
        {
          "name": "stdout",
          "output_type": "stream",
          "text": [
            "[CV 1/3; 127/144] END epochs=20, min_count=2, vector_size=300, window=3;, score=-0.035 total time= 2.9min\n",
            "[CV 2/3; 127/144] START epochs=20, min_count=2, vector_size=300, window=3.......\n"
          ]
        },
        {
          "name": "stderr",
          "output_type": "stream",
          "text": [
            "WARNING:gensim.models.doc2vec:Highest int doctag (8999) larger than count of documents (6000). This means at least 2999 excess, unused slots (3598800 bytes) will be allocated for vectors.\n"
          ]
        },
        {
          "name": "stdout",
          "output_type": "stream",
          "text": [
            "[CV 2/3; 127/144] END epochs=20, min_count=2, vector_size=300, window=3;, score=-0.043 total time= 2.9min\n",
            "[CV 3/3; 127/144] START epochs=20, min_count=2, vector_size=300, window=3.......\n",
            "[CV 3/3; 127/144] END epochs=20, min_count=2, vector_size=300, window=3;, score=-0.041 total time= 2.9min\n",
            "[CV 1/3; 128/144] START epochs=20, min_count=2, vector_size=300, window=5.......\n"
          ]
        },
        {
          "name": "stderr",
          "output_type": "stream",
          "text": [
            "WARNING:gensim.models.doc2vec:Highest int doctag (8999) larger than count of documents (6000). This means at least 2999 excess, unused slots (3598800 bytes) will be allocated for vectors.\n"
          ]
        },
        {
          "name": "stdout",
          "output_type": "stream",
          "text": [
            "[CV 1/3; 128/144] END epochs=20, min_count=2, vector_size=300, window=5;, score=-0.041 total time= 3.1min\n",
            "[CV 2/3; 128/144] START epochs=20, min_count=2, vector_size=300, window=5.......\n"
          ]
        },
        {
          "name": "stderr",
          "output_type": "stream",
          "text": [
            "WARNING:gensim.models.doc2vec:Highest int doctag (8999) larger than count of documents (6000). This means at least 2999 excess, unused slots (3598800 bytes) will be allocated for vectors.\n"
          ]
        },
        {
          "name": "stdout",
          "output_type": "stream",
          "text": [
            "[CV 2/3; 128/144] END epochs=20, min_count=2, vector_size=300, window=5;, score=-0.042 total time= 3.1min\n",
            "[CV 3/3; 128/144] START epochs=20, min_count=2, vector_size=300, window=5.......\n",
            "[CV 3/3; 128/144] END epochs=20, min_count=2, vector_size=300, window=5;, score=-0.043 total time= 3.1min\n",
            "[CV 1/3; 129/144] START epochs=20, min_count=3, vector_size=10, window=1........\n"
          ]
        },
        {
          "name": "stderr",
          "output_type": "stream",
          "text": [
            "WARNING:gensim.models.doc2vec:Highest int doctag (8999) larger than count of documents (6000). This means at least 2999 excess, unused slots (119960 bytes) will be allocated for vectors.\n"
          ]
        },
        {
          "name": "stdout",
          "output_type": "stream",
          "text": [
            "[CV 1/3; 129/144] END epochs=20, min_count=3, vector_size=10, window=1;, score=0.130 total time= 1.7min\n",
            "[CV 2/3; 129/144] START epochs=20, min_count=3, vector_size=10, window=1........\n"
          ]
        },
        {
          "name": "stderr",
          "output_type": "stream",
          "text": [
            "WARNING:gensim.models.doc2vec:Highest int doctag (8999) larger than count of documents (6000). This means at least 2999 excess, unused slots (119960 bytes) will be allocated for vectors.\n"
          ]
        },
        {
          "name": "stdout",
          "output_type": "stream",
          "text": [
            "[CV 2/3; 129/144] END epochs=20, min_count=3, vector_size=10, window=1;, score=0.128 total time= 1.6min\n",
            "[CV 3/3; 129/144] START epochs=20, min_count=3, vector_size=10, window=1........\n",
            "[CV 3/3; 129/144] END epochs=20, min_count=3, vector_size=10, window=1;, score=0.135 total time= 1.6min\n",
            "[CV 1/3; 130/144] START epochs=20, min_count=3, vector_size=10, window=2........\n"
          ]
        },
        {
          "name": "stderr",
          "output_type": "stream",
          "text": [
            "WARNING:gensim.models.doc2vec:Highest int doctag (8999) larger than count of documents (6000). This means at least 2999 excess, unused slots (119960 bytes) will be allocated for vectors.\n"
          ]
        },
        {
          "name": "stdout",
          "output_type": "stream",
          "text": [
            "[CV 1/3; 130/144] END epochs=20, min_count=3, vector_size=10, window=2;, score=0.150 total time= 1.7min\n",
            "[CV 2/3; 130/144] START epochs=20, min_count=3, vector_size=10, window=2........\n"
          ]
        },
        {
          "name": "stderr",
          "output_type": "stream",
          "text": [
            "WARNING:gensim.models.doc2vec:Highest int doctag (8999) larger than count of documents (6000). This means at least 2999 excess, unused slots (119960 bytes) will be allocated for vectors.\n"
          ]
        },
        {
          "name": "stdout",
          "output_type": "stream",
          "text": [
            "[CV 2/3; 130/144] END epochs=20, min_count=3, vector_size=10, window=2;, score=0.141 total time= 1.7min\n",
            "[CV 3/3; 130/144] START epochs=20, min_count=3, vector_size=10, window=2........\n",
            "[CV 3/3; 130/144] END epochs=20, min_count=3, vector_size=10, window=2;, score=0.154 total time= 1.7min\n",
            "[CV 1/3; 131/144] START epochs=20, min_count=3, vector_size=10, window=3........\n"
          ]
        },
        {
          "name": "stderr",
          "output_type": "stream",
          "text": [
            "WARNING:gensim.models.doc2vec:Highest int doctag (8999) larger than count of documents (6000). This means at least 2999 excess, unused slots (119960 bytes) will be allocated for vectors.\n"
          ]
        },
        {
          "name": "stdout",
          "output_type": "stream",
          "text": [
            "[CV 1/3; 131/144] END epochs=20, min_count=3, vector_size=10, window=3;, score=0.152 total time= 1.7min\n",
            "[CV 2/3; 131/144] START epochs=20, min_count=3, vector_size=10, window=3........\n"
          ]
        },
        {
          "name": "stderr",
          "output_type": "stream",
          "text": [
            "WARNING:gensim.models.doc2vec:Highest int doctag (8999) larger than count of documents (6000). This means at least 2999 excess, unused slots (119960 bytes) will be allocated for vectors.\n"
          ]
        },
        {
          "name": "stdout",
          "output_type": "stream",
          "text": [
            "[CV 2/3; 131/144] END epochs=20, min_count=3, vector_size=10, window=3;, score=0.149 total time= 1.7min\n",
            "[CV 3/3; 131/144] START epochs=20, min_count=3, vector_size=10, window=3........\n",
            "[CV 3/3; 131/144] END epochs=20, min_count=3, vector_size=10, window=3;, score=0.160 total time= 1.7min\n",
            "[CV 1/3; 132/144] START epochs=20, min_count=3, vector_size=10, window=5........\n"
          ]
        },
        {
          "name": "stderr",
          "output_type": "stream",
          "text": [
            "WARNING:gensim.models.doc2vec:Highest int doctag (8999) larger than count of documents (6000). This means at least 2999 excess, unused slots (119960 bytes) will be allocated for vectors.\n"
          ]
        },
        {
          "name": "stdout",
          "output_type": "stream",
          "text": [
            "[CV 1/3; 132/144] END epochs=20, min_count=3, vector_size=10, window=5;, score=0.157 total time= 1.8min\n",
            "[CV 2/3; 132/144] START epochs=20, min_count=3, vector_size=10, window=5........\n"
          ]
        },
        {
          "name": "stderr",
          "output_type": "stream",
          "text": [
            "WARNING:gensim.models.doc2vec:Highest int doctag (8999) larger than count of documents (6000). This means at least 2999 excess, unused slots (119960 bytes) will be allocated for vectors.\n"
          ]
        },
        {
          "name": "stdout",
          "output_type": "stream",
          "text": [
            "[CV 2/3; 132/144] END epochs=20, min_count=3, vector_size=10, window=5;, score=0.151 total time= 1.8min\n",
            "[CV 3/3; 132/144] START epochs=20, min_count=3, vector_size=10, window=5........\n",
            "[CV 3/3; 132/144] END epochs=20, min_count=3, vector_size=10, window=5;, score=0.150 total time= 1.8min\n",
            "[CV 1/3; 133/144] START epochs=20, min_count=3, vector_size=50, window=1........\n"
          ]
        },
        {
          "name": "stderr",
          "output_type": "stream",
          "text": [
            "WARNING:gensim.models.doc2vec:Highest int doctag (8999) larger than count of documents (6000). This means at least 2999 excess, unused slots (599800 bytes) will be allocated for vectors.\n"
          ]
        },
        {
          "name": "stdout",
          "output_type": "stream",
          "text": [
            "[CV 1/3; 133/144] END epochs=20, min_count=3, vector_size=50, window=1;, score=0.057 total time= 2.0min\n",
            "[CV 2/3; 133/144] START epochs=20, min_count=3, vector_size=50, window=1........\n"
          ]
        },
        {
          "name": "stderr",
          "output_type": "stream",
          "text": [
            "WARNING:gensim.models.doc2vec:Highest int doctag (8999) larger than count of documents (6000). This means at least 2999 excess, unused slots (599800 bytes) will be allocated for vectors.\n"
          ]
        },
        {
          "name": "stdout",
          "output_type": "stream",
          "text": [
            "[CV 2/3; 133/144] END epochs=20, min_count=3, vector_size=50, window=1;, score=0.060 total time= 2.0min\n",
            "[CV 3/3; 133/144] START epochs=20, min_count=3, vector_size=50, window=1........\n",
            "[CV 3/3; 133/144] END epochs=20, min_count=3, vector_size=50, window=1;, score=0.055 total time= 2.0min\n",
            "[CV 1/3; 134/144] START epochs=20, min_count=3, vector_size=50, window=2........\n"
          ]
        },
        {
          "name": "stderr",
          "output_type": "stream",
          "text": [
            "WARNING:gensim.models.doc2vec:Highest int doctag (8999) larger than count of documents (6000). This means at least 2999 excess, unused slots (599800 bytes) will be allocated for vectors.\n"
          ]
        },
        {
          "name": "stdout",
          "output_type": "stream",
          "text": [
            "[CV 1/3; 134/144] END epochs=20, min_count=3, vector_size=50, window=2;, score=0.066 total time= 2.1min\n",
            "[CV 2/3; 134/144] START epochs=20, min_count=3, vector_size=50, window=2........\n"
          ]
        },
        {
          "name": "stderr",
          "output_type": "stream",
          "text": [
            "WARNING:gensim.models.doc2vec:Highest int doctag (8999) larger than count of documents (6000). This means at least 2999 excess, unused slots (599800 bytes) will be allocated for vectors.\n"
          ]
        },
        {
          "name": "stdout",
          "output_type": "stream",
          "text": [
            "[CV 2/3; 134/144] END epochs=20, min_count=3, vector_size=50, window=2;, score=0.056 total time= 2.1min\n",
            "[CV 3/3; 134/144] START epochs=20, min_count=3, vector_size=50, window=2........\n",
            "[CV 3/3; 134/144] END epochs=20, min_count=3, vector_size=50, window=2;, score=0.058 total time= 2.1min\n",
            "[CV 1/3; 135/144] START epochs=20, min_count=3, vector_size=50, window=3........\n"
          ]
        },
        {
          "name": "stderr",
          "output_type": "stream",
          "text": [
            "WARNING:gensim.models.doc2vec:Highest int doctag (8999) larger than count of documents (6000). This means at least 2999 excess, unused slots (599800 bytes) will be allocated for vectors.\n"
          ]
        },
        {
          "name": "stdout",
          "output_type": "stream",
          "text": [
            "[CV 1/3; 135/144] END epochs=20, min_count=3, vector_size=50, window=3;, score=0.054 total time= 2.1min\n",
            "[CV 2/3; 135/144] START epochs=20, min_count=3, vector_size=50, window=3........\n"
          ]
        },
        {
          "name": "stderr",
          "output_type": "stream",
          "text": [
            "WARNING:gensim.models.doc2vec:Highest int doctag (8999) larger than count of documents (6000). This means at least 2999 excess, unused slots (599800 bytes) will be allocated for vectors.\n"
          ]
        },
        {
          "name": "stdout",
          "output_type": "stream",
          "text": [
            "[CV 2/3; 135/144] END epochs=20, min_count=3, vector_size=50, window=3;, score=0.051 total time= 2.2min\n",
            "[CV 3/3; 135/144] START epochs=20, min_count=3, vector_size=50, window=3........\n",
            "[CV 3/3; 135/144] END epochs=20, min_count=3, vector_size=50, window=3;, score=0.053 total time= 2.1min\n",
            "[CV 1/3; 136/144] START epochs=20, min_count=3, vector_size=50, window=5........\n"
          ]
        },
        {
          "name": "stderr",
          "output_type": "stream",
          "text": [
            "WARNING:gensim.models.doc2vec:Highest int doctag (8999) larger than count of documents (6000). This means at least 2999 excess, unused slots (599800 bytes) will be allocated for vectors.\n"
          ]
        },
        {
          "name": "stdout",
          "output_type": "stream",
          "text": [
            "[CV 1/3; 136/144] END epochs=20, min_count=3, vector_size=50, window=5;, score=0.039 total time= 2.3min\n",
            "[CV 2/3; 136/144] START epochs=20, min_count=3, vector_size=50, window=5........\n"
          ]
        },
        {
          "name": "stderr",
          "output_type": "stream",
          "text": [
            "WARNING:gensim.models.doc2vec:Highest int doctag (8999) larger than count of documents (6000). This means at least 2999 excess, unused slots (599800 bytes) will be allocated for vectors.\n"
          ]
        },
        {
          "name": "stdout",
          "output_type": "stream",
          "text": [
            "[CV 2/3; 136/144] END epochs=20, min_count=3, vector_size=50, window=5;, score=0.036 total time= 2.3min\n",
            "[CV 3/3; 136/144] START epochs=20, min_count=3, vector_size=50, window=5........\n",
            "[CV 3/3; 136/144] END epochs=20, min_count=3, vector_size=50, window=5;, score=0.028 total time= 2.2min\n",
            "[CV 1/3; 137/144] START epochs=20, min_count=3, vector_size=100, window=1.......\n"
          ]
        },
        {
          "name": "stderr",
          "output_type": "stream",
          "text": [
            "WARNING:gensim.models.doc2vec:Highest int doctag (8999) larger than count of documents (6000). This means at least 2999 excess, unused slots (1199600 bytes) will be allocated for vectors.\n"
          ]
        },
        {
          "name": "stdout",
          "output_type": "stream",
          "text": [
            "[CV 1/3; 137/144] END epochs=20, min_count=3, vector_size=100, window=1;, score=0.013 total time= 1.9min\n",
            "[CV 2/3; 137/144] START epochs=20, min_count=3, vector_size=100, window=1.......\n"
          ]
        },
        {
          "name": "stderr",
          "output_type": "stream",
          "text": [
            "WARNING:gensim.models.doc2vec:Highest int doctag (8999) larger than count of documents (6000). This means at least 2999 excess, unused slots (1199600 bytes) will be allocated for vectors.\n"
          ]
        },
        {
          "name": "stdout",
          "output_type": "stream",
          "text": [
            "[CV 2/3; 137/144] END epochs=20, min_count=3, vector_size=100, window=1;, score=0.003 total time= 1.9min\n",
            "[CV 3/3; 137/144] START epochs=20, min_count=3, vector_size=100, window=1.......\n",
            "[CV 3/3; 137/144] END epochs=20, min_count=3, vector_size=100, window=1;, score=0.006 total time= 1.9min\n",
            "[CV 1/3; 138/144] START epochs=20, min_count=3, vector_size=100, window=2.......\n"
          ]
        },
        {
          "name": "stderr",
          "output_type": "stream",
          "text": [
            "WARNING:gensim.models.doc2vec:Highest int doctag (8999) larger than count of documents (6000). This means at least 2999 excess, unused slots (1199600 bytes) will be allocated for vectors.\n"
          ]
        },
        {
          "name": "stdout",
          "output_type": "stream",
          "text": [
            "[CV 1/3; 138/144] END epochs=20, min_count=3, vector_size=100, window=2;, score=0.012 total time= 1.9min\n",
            "[CV 2/3; 138/144] START epochs=20, min_count=3, vector_size=100, window=2.......\n"
          ]
        },
        {
          "name": "stderr",
          "output_type": "stream",
          "text": [
            "WARNING:gensim.models.doc2vec:Highest int doctag (8999) larger than count of documents (6000). This means at least 2999 excess, unused slots (1199600 bytes) will be allocated for vectors.\n"
          ]
        },
        {
          "name": "stdout",
          "output_type": "stream",
          "text": [
            "[CV 2/3; 138/144] END epochs=20, min_count=3, vector_size=100, window=2;, score=0.009 total time= 2.0min\n",
            "[CV 3/3; 138/144] START epochs=20, min_count=3, vector_size=100, window=2.......\n",
            "[CV 3/3; 138/144] END epochs=20, min_count=3, vector_size=100, window=2;, score=0.009 total time= 1.9min\n",
            "[CV 1/3; 139/144] START epochs=20, min_count=3, vector_size=100, window=3.......\n"
          ]
        },
        {
          "name": "stderr",
          "output_type": "stream",
          "text": [
            "WARNING:gensim.models.doc2vec:Highest int doctag (8999) larger than count of documents (6000). This means at least 2999 excess, unused slots (1199600 bytes) will be allocated for vectors.\n"
          ]
        },
        {
          "name": "stdout",
          "output_type": "stream",
          "text": [
            "[CV 1/3; 139/144] END epochs=20, min_count=3, vector_size=100, window=3;, score=0.000 total time= 2.0min\n",
            "[CV 2/3; 139/144] START epochs=20, min_count=3, vector_size=100, window=3.......\n"
          ]
        },
        {
          "name": "stderr",
          "output_type": "stream",
          "text": [
            "WARNING:gensim.models.doc2vec:Highest int doctag (8999) larger than count of documents (6000). This means at least 2999 excess, unused slots (1199600 bytes) will be allocated for vectors.\n"
          ]
        },
        {
          "name": "stdout",
          "output_type": "stream",
          "text": [
            "[CV 2/3; 139/144] END epochs=20, min_count=3, vector_size=100, window=3;, score=-0.000 total time= 2.0min\n",
            "[CV 3/3; 139/144] START epochs=20, min_count=3, vector_size=100, window=3.......\n",
            "[CV 3/3; 139/144] END epochs=20, min_count=3, vector_size=100, window=3;, score=0.001 total time= 2.0min\n",
            "[CV 1/3; 140/144] START epochs=20, min_count=3, vector_size=100, window=5.......\n"
          ]
        },
        {
          "name": "stderr",
          "output_type": "stream",
          "text": [
            "WARNING:gensim.models.doc2vec:Highest int doctag (8999) larger than count of documents (6000). This means at least 2999 excess, unused slots (1199600 bytes) will be allocated for vectors.\n"
          ]
        },
        {
          "name": "stdout",
          "output_type": "stream",
          "text": [
            "[CV 1/3; 140/144] END epochs=20, min_count=3, vector_size=100, window=5;, score=0.000 total time= 2.1min\n",
            "[CV 2/3; 140/144] START epochs=20, min_count=3, vector_size=100, window=5.......\n"
          ]
        },
        {
          "name": "stderr",
          "output_type": "stream",
          "text": [
            "WARNING:gensim.models.doc2vec:Highest int doctag (8999) larger than count of documents (6000). This means at least 2999 excess, unused slots (1199600 bytes) will be allocated for vectors.\n"
          ]
        },
        {
          "name": "stdout",
          "output_type": "stream",
          "text": [
            "[CV 2/3; 140/144] END epochs=20, min_count=3, vector_size=100, window=5;, score=-0.011 total time= 2.1min\n",
            "[CV 3/3; 140/144] START epochs=20, min_count=3, vector_size=100, window=5.......\n",
            "[CV 3/3; 140/144] END epochs=20, min_count=3, vector_size=100, window=5;, score=0.000 total time= 2.0min\n",
            "[CV 1/3; 141/144] START epochs=20, min_count=3, vector_size=300, window=1.......\n"
          ]
        },
        {
          "name": "stderr",
          "output_type": "stream",
          "text": [
            "WARNING:gensim.models.doc2vec:Highest int doctag (8999) larger than count of documents (6000). This means at least 2999 excess, unused slots (3598800 bytes) will be allocated for vectors.\n"
          ]
        },
        {
          "name": "stdout",
          "output_type": "stream",
          "text": [
            "[CV 1/3; 141/144] END epochs=20, min_count=3, vector_size=300, window=1;, score=-0.040 total time= 2.5min\n",
            "[CV 2/3; 141/144] START epochs=20, min_count=3, vector_size=300, window=1.......\n"
          ]
        },
        {
          "name": "stderr",
          "output_type": "stream",
          "text": [
            "WARNING:gensim.models.doc2vec:Highest int doctag (8999) larger than count of documents (6000). This means at least 2999 excess, unused slots (3598800 bytes) will be allocated for vectors.\n"
          ]
        },
        {
          "name": "stdout",
          "output_type": "stream",
          "text": [
            "[CV 2/3; 141/144] END epochs=20, min_count=3, vector_size=300, window=1;, score=-0.046 total time= 2.6min\n",
            "[CV 3/3; 141/144] START epochs=20, min_count=3, vector_size=300, window=1.......\n",
            "[CV 3/3; 141/144] END epochs=20, min_count=3, vector_size=300, window=1;, score=-0.056 total time= 2.5min\n",
            "[CV 1/3; 142/144] START epochs=20, min_count=3, vector_size=300, window=2.......\n"
          ]
        },
        {
          "name": "stderr",
          "output_type": "stream",
          "text": [
            "WARNING:gensim.models.doc2vec:Highest int doctag (8999) larger than count of documents (6000). This means at least 2999 excess, unused slots (3598800 bytes) will be allocated for vectors.\n"
          ]
        },
        {
          "name": "stdout",
          "output_type": "stream",
          "text": [
            "[CV 1/3; 142/144] END epochs=20, min_count=3, vector_size=300, window=2;, score=-0.037 total time= 2.7min\n",
            "[CV 2/3; 142/144] START epochs=20, min_count=3, vector_size=300, window=2.......\n"
          ]
        },
        {
          "name": "stderr",
          "output_type": "stream",
          "text": [
            "WARNING:gensim.models.doc2vec:Highest int doctag (8999) larger than count of documents (6000). This means at least 2999 excess, unused slots (3598800 bytes) will be allocated for vectors.\n"
          ]
        },
        {
          "name": "stdout",
          "output_type": "stream",
          "text": [
            "[CV 2/3; 142/144] END epochs=20, min_count=3, vector_size=300, window=2;, score=-0.047 total time= 2.7min\n",
            "[CV 3/3; 142/144] START epochs=20, min_count=3, vector_size=300, window=2.......\n",
            "[CV 3/3; 142/144] END epochs=20, min_count=3, vector_size=300, window=2;, score=-0.042 total time= 2.7min\n",
            "[CV 1/3; 143/144] START epochs=20, min_count=3, vector_size=300, window=3.......\n"
          ]
        },
        {
          "name": "stderr",
          "output_type": "stream",
          "text": [
            "WARNING:gensim.models.doc2vec:Highest int doctag (8999) larger than count of documents (6000). This means at least 2999 excess, unused slots (3598800 bytes) will be allocated for vectors.\n"
          ]
        },
        {
          "name": "stdout",
          "output_type": "stream",
          "text": [
            "[CV 1/3; 143/144] END epochs=20, min_count=3, vector_size=300, window=3;, score=-0.044 total time= 2.8min\n",
            "[CV 2/3; 143/144] START epochs=20, min_count=3, vector_size=300, window=3.......\n"
          ]
        },
        {
          "name": "stderr",
          "output_type": "stream",
          "text": [
            "WARNING:gensim.models.doc2vec:Highest int doctag (8999) larger than count of documents (6000). This means at least 2999 excess, unused slots (3598800 bytes) will be allocated for vectors.\n"
          ]
        },
        {
          "name": "stdout",
          "output_type": "stream",
          "text": [
            "[CV 2/3; 143/144] END epochs=20, min_count=3, vector_size=300, window=3;, score=-0.045 total time= 2.7min\n",
            "[CV 3/3; 143/144] START epochs=20, min_count=3, vector_size=300, window=3.......\n",
            "[CV 3/3; 143/144] END epochs=20, min_count=3, vector_size=300, window=3;, score=-0.042 total time= 2.7min\n",
            "[CV 1/3; 144/144] START epochs=20, min_count=3, vector_size=300, window=5.......\n"
          ]
        },
        {
          "name": "stderr",
          "output_type": "stream",
          "text": [
            "WARNING:gensim.models.doc2vec:Highest int doctag (8999) larger than count of documents (6000). This means at least 2999 excess, unused slots (3598800 bytes) will be allocated for vectors.\n"
          ]
        },
        {
          "name": "stdout",
          "output_type": "stream",
          "text": [
            "[CV 1/3; 144/144] END epochs=20, min_count=3, vector_size=300, window=5;, score=-0.031 total time= 2.9min\n",
            "[CV 2/3; 144/144] START epochs=20, min_count=3, vector_size=300, window=5.......\n"
          ]
        },
        {
          "name": "stderr",
          "output_type": "stream",
          "text": [
            "WARNING:gensim.models.doc2vec:Highest int doctag (8999) larger than count of documents (6000). This means at least 2999 excess, unused slots (3598800 bytes) will be allocated for vectors.\n"
          ]
        },
        {
          "name": "stdout",
          "output_type": "stream",
          "text": [
            "[CV 2/3; 144/144] END epochs=20, min_count=3, vector_size=300, window=5;, score=-0.043 total time= 2.9min\n",
            "[CV 3/3; 144/144] START epochs=20, min_count=3, vector_size=300, window=5.......\n",
            "[CV 3/3; 144/144] END epochs=20, min_count=3, vector_size=300, window=5;, score=-0.009 total time= 2.9min\n",
            "Best parameters:  {'epochs': 10, 'min_count': 1, 'vector_size': 10, 'window': 2}\n"
          ]
        }
      ],
      "source": [
        "from sklearn.model_selection import GridSearchCV\n",
        "from gensim.models import Doc2Vec\n",
        "from sklearn.base import BaseEstimator\n",
        "from sklearn.metrics import silhouette_score, homogeneity_score\n",
        "from sklearn.cluster import KMeans\n",
        "\n",
        "class D2V(BaseEstimator):\n",
        "    def __init__(self, vector_size=100, window=5, min_count=5, workers=4, epochs=5):\n",
        "        self.vector_size = vector_size\n",
        "        self.window = window\n",
        "        self.min_count = min_count\n",
        "        self.workers = workers\n",
        "        self.epochs = epochs\n",
        "        self.model = None\n",
        "\n",
        "    def fit(self, X, y=None):\n",
        "        self.model = Doc2Vec(X, vector_size=self.vector_size, window=self.window, min_count=self.min_count, workers=self.workers, epochs=self.epochs)\n",
        "        return self\n",
        "\n",
        "    def transform(self, X):\n",
        "        return [self.model.infer_vector(doc.words) for doc in X]\n",
        "\n",
        "    def score(self, X, y=None):\n",
        "        vectors = self.transform(X)\n",
        "\n",
        "        km_model = KMeans(n_clusters=24, init='k-means++', max_iter=600, n_init=15, random_state=10)\n",
        "        km_model.fit(vectors)\n",
        "\n",
        "        silhouette = silhouette_score(vectors, km_model.labels_)\n",
        "\n",
        "        homogeneity = homogeneity_score(y, km_model.labels_)\n",
        "\n",
        "        return (silhouette * homogeneity)/(silhouette + homogeneity)\n",
        "\n",
        "param_grid = {\n",
        "    'vector_size': [10 , 50, 100, 300],\n",
        "    'window': [1, 2, 3, 5],\n",
        "    'min_count': [1, 2, 3],\n",
        "    'epochs': [5, 10, 20]\n",
        "}\n",
        "\n",
        "d2v = D2V()\n",
        "\n",
        "grid_clf = GridSearchCV(d2v, param_grid, cv=3, verbose=10)\n",
        "\n",
        "grid_clf.fit(tagged_documents_train, true_labels)\n",
        "\n",
        "print(\"Best parameters: \", grid_clf.best_params_)\n"
      ]
    },
    {
      "cell_type": "code",
      "execution_count": 44,
      "metadata": {
        "colab": {
          "base_uri": "https://localhost:8080/"
        },
        "id": "mwLFfStE5kbQ",
        "outputId": "cc387e56-8203-433a-f5ac-bc32834dce9d"
      },
      "outputs": [
        {
          "name": "stderr",
          "output_type": "stream",
          "text": [
            "\n",
            "  0%|          | 0/9000 [00:00<?, ?it/s]\u001b[A\n",
            "  0%|          | 9/9000 [00:00<01:47, 83.50it/s]\u001b[A\n",
            "  0%|          | 24/9000 [00:00<01:17, 115.51it/s]\u001b[A\n",
            "  0%|          | 41/9000 [00:00<01:04, 137.90it/s]\u001b[A\n",
            "  1%|          | 68/9000 [00:00<00:49, 180.59it/s]\u001b[A\n",
            "  1%|          | 86/9000 [00:00<00:55, 161.75it/s]\u001b[A\n",
            "  1%|          | 103/9000 [00:00<00:56, 158.26it/s]\u001b[A\n",
            "  1%|▏         | 119/9000 [00:00<01:03, 138.88it/s]\u001b[A\n",
            "  1%|▏         | 134/9000 [00:00<01:05, 134.78it/s]\u001b[A\n",
            "  2%|▏         | 148/9000 [00:01<01:06, 133.87it/s]\u001b[A\n",
            "  2%|▏         | 169/9000 [00:01<00:59, 149.09it/s]\u001b[A\n",
            "  2%|▏         | 185/9000 [00:01<00:59, 148.30it/s]\u001b[A\n",
            "  2%|▏         | 206/9000 [00:01<00:54, 161.91it/s]\u001b[A\n",
            "  2%|▏         | 223/9000 [00:01<00:57, 152.36it/s]\u001b[A\n",
            "  3%|▎         | 240/9000 [00:01<00:56, 154.29it/s]\u001b[A\n",
            "  3%|▎         | 261/9000 [00:01<00:51, 169.46it/s]\u001b[A\n",
            "  3%|▎         | 279/9000 [00:01<00:52, 167.71it/s]\u001b[A\n",
            "  3%|▎         | 301/9000 [00:01<00:47, 182.19it/s]\u001b[A\n",
            "  4%|▎         | 322/9000 [00:02<00:46, 185.89it/s]\u001b[A\n",
            "  4%|▍         | 349/9000 [00:02<00:41, 208.93it/s]\u001b[A\n",
            "  4%|▍         | 371/9000 [00:02<00:42, 203.20it/s]\u001b[A\n",
            "  4%|▍         | 392/9000 [00:02<00:45, 190.70it/s]\u001b[A\n",
            "  5%|▍         | 412/9000 [00:02<00:50, 169.61it/s]\u001b[A\n",
            "  5%|▍         | 435/9000 [00:02<00:46, 184.67it/s]\u001b[A\n",
            "  5%|▌         | 455/9000 [00:02<00:52, 163.61it/s]\u001b[A\n",
            "  5%|▌         | 476/9000 [00:02<00:48, 174.84it/s]\u001b[A\n",
            "  6%|▌         | 495/9000 [00:03<00:52, 162.00it/s]\u001b[A\n",
            "  6%|▌         | 512/9000 [00:03<00:56, 150.71it/s]\u001b[A\n",
            "  6%|▌         | 529/9000 [00:03<00:55, 152.51it/s]\u001b[A\n",
            "  6%|▌         | 545/9000 [00:03<00:56, 148.62it/s]\u001b[A\n",
            "  6%|▌         | 561/9000 [00:03<00:56, 150.63it/s]\u001b[A\n",
            "  6%|▋         | 577/9000 [00:03<00:55, 152.70it/s]\u001b[A\n",
            "  7%|▋         | 597/9000 [00:03<00:50, 165.22it/s]\u001b[A\n",
            "  7%|▋         | 614/9000 [00:03<00:57, 146.52it/s]\u001b[A\n",
            "  7%|▋         | 633/9000 [00:03<00:57, 145.85it/s]\u001b[A\n",
            "  7%|▋         | 648/9000 [00:04<01:03, 132.54it/s]\u001b[A\n",
            "  7%|▋         | 663/9000 [00:04<01:01, 134.76it/s]\u001b[A\n",
            "  8%|▊         | 677/9000 [00:04<01:02, 132.38it/s]\u001b[A\n",
            "  8%|▊         | 694/9000 [00:04<00:58, 141.38it/s]\u001b[A\n",
            "  8%|▊         | 709/9000 [00:04<00:59, 140.15it/s]\u001b[A\n",
            "  8%|▊         | 724/9000 [00:04<01:03, 129.45it/s]\u001b[A\n",
            "  8%|▊         | 741/9000 [00:04<01:00, 137.33it/s]\u001b[A\n",
            "  8%|▊         | 757/9000 [00:04<00:57, 143.14it/s]\u001b[A\n",
            "  9%|▊         | 775/9000 [00:04<00:53, 152.85it/s]\u001b[A\n",
            "  9%|▉         | 791/9000 [00:05<00:54, 151.65it/s]\u001b[A\n",
            "  9%|▉         | 807/9000 [00:05<00:53, 153.84it/s]\u001b[A\n",
            "  9%|▉         | 825/9000 [00:05<00:51, 158.32it/s]\u001b[A\n",
            "  9%|▉         | 841/9000 [00:05<00:56, 144.19it/s]\u001b[A\n",
            " 10%|▉         | 859/9000 [00:05<00:53, 153.22it/s]\u001b[A\n",
            " 10%|▉         | 875/9000 [00:05<00:53, 152.81it/s]\u001b[A\n",
            " 10%|▉         | 894/9000 [00:05<00:49, 163.25it/s]\u001b[A\n",
            " 10%|█         | 911/9000 [00:05<00:50, 161.37it/s]\u001b[A\n",
            " 10%|█         | 928/9000 [00:05<00:51, 155.86it/s]\u001b[A\n",
            " 10%|█         | 944/9000 [00:06<00:54, 147.13it/s]\u001b[A\n",
            " 11%|█         | 959/9000 [00:06<00:59, 136.07it/s]\u001b[A\n",
            " 11%|█         | 973/9000 [00:06<01:07, 119.16it/s]\u001b[A\n",
            " 11%|█         | 987/9000 [00:06<01:06, 120.68it/s]\u001b[A\n",
            " 11%|█         | 1000/9000 [00:06<01:11, 111.57it/s]\u001b[A\n",
            " 11%|█         | 1012/9000 [00:06<01:11, 110.95it/s]\u001b[A\n",
            " 11%|█▏        | 1024/9000 [00:06<01:11, 110.86it/s]\u001b[A\n",
            " 12%|█▏        | 1036/9000 [00:06<01:12, 109.53it/s]\u001b[A\n",
            " 12%|█▏        | 1048/9000 [00:07<01:12, 109.00it/s]\u001b[A\n",
            " 12%|█▏        | 1063/9000 [00:07<01:08, 115.35it/s]\u001b[A\n",
            " 12%|█▏        | 1075/9000 [00:07<01:09, 113.92it/s]\u001b[A\n",
            " 12%|█▏        | 1087/9000 [00:07<01:10, 111.66it/s]\u001b[A\n",
            " 12%|█▏        | 1104/9000 [00:07<01:02, 126.10it/s]\u001b[A\n",
            " 12%|█▏        | 1117/9000 [00:07<01:13, 107.01it/s]\u001b[A\n",
            " 13%|█▎        | 1129/9000 [00:07<01:17, 101.42it/s]\u001b[A\n",
            " 13%|█▎        | 1143/9000 [00:07<01:12, 107.68it/s]\u001b[A\n",
            " 13%|█▎        | 1161/9000 [00:08<01:02, 126.12it/s]\u001b[A\n",
            " 13%|█▎        | 1177/9000 [00:08<01:00, 130.26it/s]\u001b[A\n",
            " 13%|█▎        | 1191/9000 [00:08<01:00, 128.81it/s]\u001b[A\n",
            " 13%|█▎        | 1205/9000 [00:08<01:01, 126.42it/s]\u001b[A\n",
            " 14%|█▎        | 1218/9000 [00:08<01:05, 117.98it/s]\u001b[A\n",
            " 14%|█▎        | 1232/9000 [00:08<01:05, 119.28it/s]\u001b[A\n",
            " 14%|█▍        | 1245/9000 [00:08<01:05, 119.09it/s]\u001b[A\n",
            " 14%|█▍        | 1258/9000 [00:08<01:06, 117.22it/s]\u001b[A\n",
            " 14%|█▍        | 1273/9000 [00:08<01:02, 123.74it/s]\u001b[A\n",
            " 14%|█▍        | 1286/9000 [00:09<01:02, 122.87it/s]\u001b[A\n",
            " 14%|█▍        | 1301/9000 [00:09<00:59, 129.47it/s]\u001b[A\n",
            " 15%|█▍        | 1315/9000 [00:09<01:08, 112.80it/s]\u001b[A\n",
            " 15%|█▍        | 1330/9000 [00:09<01:03, 121.50it/s]\u001b[A\n",
            " 15%|█▍        | 1345/9000 [00:09<00:59, 128.58it/s]\u001b[A\n",
            " 15%|█▌        | 1359/9000 [00:09<01:00, 125.27it/s]\u001b[A\n",
            " 15%|█▌        | 1377/9000 [00:09<00:54, 139.75it/s]\u001b[A\n",
            " 15%|█▌        | 1392/9000 [00:09<00:54, 139.99it/s]\u001b[A\n",
            " 16%|█▌        | 1407/9000 [00:09<00:53, 141.62it/s]\u001b[A\n",
            " 16%|█▌        | 1422/9000 [00:10<01:06, 114.04it/s]\u001b[A\n",
            " 16%|█▌        | 1439/9000 [00:10<00:59, 127.55it/s]\u001b[A\n",
            " 16%|█▌        | 1454/9000 [00:10<00:56, 132.81it/s]\u001b[A\n",
            " 16%|█▋        | 1475/9000 [00:10<00:49, 153.52it/s]\u001b[A\n",
            " 17%|█▋        | 1492/9000 [00:10<00:52, 141.66it/s]\u001b[A\n",
            " 17%|█▋        | 1509/9000 [00:10<00:50, 148.77it/s]\u001b[A\n",
            " 17%|█▋        | 1525/9000 [00:10<01:05, 113.77it/s]\u001b[A\n",
            " 17%|█▋        | 1538/9000 [00:11<01:05, 113.85it/s]\u001b[A\n",
            " 17%|█▋        | 1552/9000 [00:11<01:02, 120.00it/s]\u001b[A\n",
            " 18%|█▊        | 1578/9000 [00:11<00:48, 154.54it/s]\u001b[A\n",
            " 18%|█▊        | 1598/9000 [00:11<00:44, 165.78it/s]\u001b[A\n",
            " 18%|█▊        | 1616/9000 [00:11<00:44, 165.15it/s]\u001b[A\n",
            " 18%|█▊        | 1634/9000 [00:11<00:44, 166.23it/s]\u001b[A\n",
            " 18%|█▊        | 1652/9000 [00:11<00:45, 160.26it/s]\u001b[A\n",
            " 19%|█▊        | 1669/9000 [00:11<00:48, 151.24it/s]\u001b[A\n",
            " 19%|█▊        | 1685/9000 [00:11<00:48, 151.86it/s]\u001b[A\n",
            " 19%|█▉        | 1707/9000 [00:12<00:43, 167.89it/s]\u001b[A\n",
            " 19%|█▉        | 1727/9000 [00:12<00:41, 175.89it/s]\u001b[A\n",
            " 19%|█▉        | 1745/9000 [00:12<00:42, 170.85it/s]\u001b[A\n",
            " 20%|█▉        | 1763/9000 [00:12<00:42, 171.48it/s]\u001b[A\n",
            " 20%|█▉        | 1785/9000 [00:12<00:39, 184.17it/s]\u001b[A\n",
            " 20%|██        | 1804/9000 [00:12<00:38, 184.66it/s]\u001b[A\n",
            " 20%|██        | 1823/9000 [00:12<00:47, 150.16it/s]\u001b[A\n",
            " 20%|██        | 1841/9000 [00:12<00:45, 157.19it/s]\u001b[A\n",
            " 21%|██        | 1858/9000 [00:12<00:45, 157.94it/s]\u001b[A\n",
            " 21%|██        | 1875/9000 [00:13<00:44, 160.09it/s]\u001b[A\n",
            " 21%|██        | 1892/9000 [00:13<00:46, 152.40it/s]\u001b[A\n",
            " 21%|██        | 1910/9000 [00:13<00:44, 159.78it/s]\u001b[A\n",
            " 21%|██▏       | 1927/9000 [00:13<00:45, 156.59it/s]\u001b[A\n",
            " 22%|██▏       | 1954/9000 [00:13<00:37, 186.80it/s]\u001b[A\n",
            " 22%|██▏       | 1976/9000 [00:13<00:35, 195.72it/s]\u001b[A\n",
            " 22%|██▏       | 1996/9000 [00:13<00:43, 160.51it/s]\u001b[A\n",
            " 22%|██▏       | 2014/9000 [00:13<00:50, 139.25it/s]\u001b[A\n",
            " 23%|██▎       | 2030/9000 [00:14<00:51, 135.49it/s]\u001b[A\n",
            " 23%|██▎       | 2048/9000 [00:14<00:50, 137.21it/s]\u001b[A\n",
            " 23%|██▎       | 2064/9000 [00:14<00:49, 140.08it/s]\u001b[A\n",
            " 23%|██▎       | 2079/9000 [00:14<00:49, 140.35it/s]\u001b[A\n",
            " 23%|██▎       | 2094/9000 [00:14<00:48, 142.77it/s]\u001b[A\n",
            " 23%|██▎       | 2112/9000 [00:14<00:45, 152.77it/s]\u001b[A\n",
            " 24%|██▎       | 2130/9000 [00:14<00:43, 159.18it/s]\u001b[A\n",
            " 24%|██▍       | 2147/9000 [00:14<00:42, 161.20it/s]\u001b[A\n",
            " 24%|██▍       | 2164/9000 [00:14<00:45, 150.35it/s]\u001b[A\n",
            " 24%|██▍       | 2182/9000 [00:15<00:43, 156.44it/s]\u001b[A\n",
            " 25%|██▍       | 2210/9000 [00:15<00:35, 189.97it/s]\u001b[A\n",
            " 25%|██▍       | 2236/9000 [00:15<00:32, 208.40it/s]\u001b[A\n",
            " 25%|██▌       | 2258/9000 [00:15<00:35, 190.61it/s]\u001b[A\n",
            " 25%|██▌       | 2282/9000 [00:15<00:32, 203.71it/s]\u001b[A\n",
            " 26%|██▌       | 2303/9000 [00:15<00:33, 200.74it/s]\u001b[A\n",
            " 26%|██▌       | 2324/9000 [00:15<00:33, 199.36it/s]\u001b[A\n",
            " 26%|██▌       | 2345/9000 [00:15<00:33, 198.60it/s]\u001b[A\n",
            " 26%|██▋       | 2366/9000 [00:15<00:34, 194.45it/s]\u001b[A\n",
            " 27%|██▋       | 2386/9000 [00:16<00:39, 167.20it/s]\u001b[A\n",
            " 27%|██▋       | 2406/9000 [00:16<00:38, 169.81it/s]\u001b[A\n",
            " 27%|██▋       | 2424/9000 [00:16<00:39, 165.12it/s]\u001b[A\n",
            " 27%|██▋       | 2441/9000 [00:16<00:40, 160.75it/s]\u001b[A\n",
            " 27%|██▋       | 2463/9000 [00:16<00:38, 171.62it/s]\u001b[A\n",
            " 28%|██▊       | 2481/9000 [00:16<00:40, 159.77it/s]\u001b[A\n",
            " 28%|██▊       | 2500/9000 [00:16<00:39, 166.42it/s]\u001b[A\n",
            " 28%|██▊       | 2517/9000 [00:16<00:41, 154.44it/s]\u001b[A\n",
            " 28%|██▊       | 2540/9000 [00:17<00:37, 171.76it/s]\u001b[A\n",
            " 28%|██▊       | 2558/9000 [00:17<00:37, 173.36it/s]\u001b[A\n",
            " 29%|██▊       | 2576/9000 [00:17<00:39, 163.47it/s]\u001b[A\n",
            " 29%|██▉       | 2593/9000 [00:17<00:39, 163.00it/s]\u001b[A\n",
            " 29%|██▉       | 2610/9000 [00:17<00:39, 162.66it/s]\u001b[A\n",
            " 29%|██▉       | 2627/9000 [00:17<00:40, 156.44it/s]\u001b[A\n",
            " 29%|██▉       | 2643/9000 [00:17<00:44, 141.36it/s]\u001b[A\n",
            " 30%|██▉       | 2661/9000 [00:17<00:42, 149.67it/s]\u001b[A\n",
            " 30%|██▉       | 2678/9000 [00:17<00:41, 153.58it/s]\u001b[A\n",
            " 30%|██▉       | 2696/9000 [00:18<00:42, 149.45it/s]\u001b[A\n",
            " 30%|███       | 2714/9000 [00:18<00:42, 147.18it/s]\u001b[A\n",
            " 30%|███       | 2729/9000 [00:18<00:43, 144.39it/s]\u001b[A\n",
            " 30%|███       | 2744/9000 [00:18<00:44, 141.11it/s]\u001b[A\n",
            " 31%|███       | 2764/9000 [00:18<00:39, 156.25it/s]\u001b[A\n",
            " 31%|███       | 2780/9000 [00:18<00:41, 149.39it/s]\u001b[A\n",
            " 31%|███       | 2796/9000 [00:18<00:41, 149.52it/s]\u001b[A\n",
            " 31%|███       | 2812/9000 [00:18<00:41, 147.98it/s]\u001b[A\n",
            " 31%|███▏      | 2827/9000 [00:18<00:48, 127.51it/s]\u001b[A\n",
            " 32%|███▏      | 2841/9000 [00:19<00:47, 129.87it/s]\u001b[A\n",
            " 32%|███▏      | 2863/9000 [00:19<00:39, 153.75it/s]\u001b[A\n",
            " 32%|███▏      | 2884/9000 [00:19<00:36, 168.76it/s]\u001b[A\n",
            " 32%|███▏      | 2902/9000 [00:19<00:36, 169.38it/s]\u001b[A\n",
            " 32%|███▏      | 2920/9000 [00:19<00:37, 162.64it/s]\u001b[A\n",
            " 33%|███▎      | 2937/9000 [00:19<00:39, 154.08it/s]\u001b[A\n",
            " 33%|███▎      | 2953/9000 [00:19<00:42, 141.49it/s]\u001b[A\n",
            " 33%|███▎      | 2968/9000 [00:19<00:45, 131.81it/s]\u001b[A\n",
            " 33%|███▎      | 2982/9000 [00:20<00:46, 128.21it/s]\u001b[A\n",
            " 33%|███▎      | 2996/9000 [00:20<00:51, 115.98it/s]\u001b[A\n",
            " 33%|███▎      | 3012/9000 [00:20<00:47, 124.95it/s]\u001b[A\n",
            " 34%|███▎      | 3025/9000 [00:20<00:48, 124.27it/s]\u001b[A\n",
            " 34%|███▍      | 3038/9000 [00:20<00:57, 104.39it/s]\u001b[A\n",
            " 34%|███▍      | 3050/9000 [00:20<01:01, 96.71it/s] \u001b[A\n",
            " 34%|███▍      | 3065/9000 [00:20<00:54, 109.12it/s]\u001b[A\n",
            " 34%|███▍      | 3077/9000 [00:20<00:54, 109.46it/s]\u001b[A\n",
            " 34%|███▍      | 3089/9000 [00:21<00:54, 108.33it/s]\u001b[A\n",
            " 34%|███▍      | 3104/9000 [00:21<00:49, 118.44it/s]\u001b[A\n",
            " 35%|███▍      | 3117/9000 [00:21<00:49, 119.75it/s]\u001b[A\n",
            " 35%|███▍      | 3130/9000 [00:21<00:48, 121.95it/s]\u001b[A\n",
            " 35%|███▍      | 3144/9000 [00:21<00:48, 120.82it/s]\u001b[A\n",
            " 35%|███▌      | 3161/9000 [00:21<00:47, 122.91it/s]\u001b[A\n",
            " 35%|███▌      | 3177/9000 [00:21<00:46, 125.42it/s]\u001b[A\n",
            " 35%|███▌      | 3190/9000 [00:21<00:50, 115.05it/s]\u001b[A\n",
            " 36%|███▌      | 3202/9000 [00:21<00:49, 116.09it/s]\u001b[A\n",
            " 36%|███▌      | 3214/9000 [00:22<00:52, 110.91it/s]\u001b[A\n",
            " 36%|███▌      | 3226/9000 [00:22<00:51, 111.31it/s]\u001b[A\n",
            " 36%|███▌      | 3238/9000 [00:22<00:54, 105.81it/s]\u001b[A\n",
            " 36%|███▌      | 3249/9000 [00:22<00:55, 103.74it/s]\u001b[A\n",
            " 36%|███▌      | 3260/9000 [00:22<00:58, 97.72it/s] \u001b[A\n",
            " 36%|███▋      | 3270/9000 [00:22<00:58, 97.96it/s]\u001b[A\n",
            " 36%|███▋      | 3283/9000 [00:22<00:56, 101.93it/s]\u001b[A\n",
            " 37%|███▋      | 3297/9000 [00:22<00:53, 106.98it/s]\u001b[A\n",
            " 37%|███▋      | 3309/9000 [00:23<00:52, 109.12it/s]\u001b[A\n",
            " 37%|███▋      | 3324/9000 [00:23<00:47, 120.16it/s]\u001b[A\n",
            " 37%|███▋      | 3337/9000 [00:23<00:48, 117.75it/s]\u001b[A\n",
            " 37%|███▋      | 3349/9000 [00:23<00:54, 103.38it/s]\u001b[A\n",
            " 37%|███▋      | 3360/9000 [00:23<00:53, 105.06it/s]\u001b[A\n",
            " 37%|███▋      | 3371/9000 [00:23<00:56, 100.29it/s]\u001b[A\n",
            " 38%|███▊      | 3393/9000 [00:23<00:43, 129.16it/s]\u001b[A\n",
            " 38%|███▊      | 3407/9000 [00:23<00:43, 127.70it/s]\u001b[A\n",
            " 38%|███▊      | 3427/9000 [00:23<00:38, 146.30it/s]\u001b[A\n",
            " 38%|███▊      | 3445/9000 [00:24<00:36, 152.36it/s]\u001b[A\n",
            " 38%|███▊      | 3461/9000 [00:24<00:36, 152.05it/s]\u001b[A\n",
            " 39%|███▊      | 3477/9000 [00:24<00:36, 151.77it/s]\u001b[A\n",
            " 39%|███▉      | 3497/9000 [00:24<00:33, 164.85it/s]\u001b[A\n",
            " 39%|███▉      | 3514/9000 [00:24<00:33, 165.26it/s]\u001b[A\n",
            " 39%|███▉      | 3533/9000 [00:24<00:31, 171.45it/s]\u001b[A\n",
            " 40%|███▉      | 3559/9000 [00:24<00:28, 194.25it/s]\u001b[A\n",
            " 40%|███▉      | 3585/9000 [00:24<00:25, 212.71it/s]\u001b[A\n",
            " 40%|████      | 3607/9000 [00:24<00:26, 200.53it/s]\u001b[A\n",
            " 40%|████      | 3630/9000 [00:24<00:26, 204.96it/s]\u001b[A\n",
            " 41%|████      | 3651/9000 [00:25<00:27, 191.08it/s]\u001b[A\n",
            " 41%|████      | 3671/9000 [00:25<00:29, 180.97it/s]\u001b[A\n",
            " 41%|████      | 3690/9000 [00:25<00:31, 168.28it/s]\u001b[A\n",
            " 41%|████      | 3711/9000 [00:25<00:29, 177.99it/s]\u001b[A\n",
            " 41%|████▏     | 3730/9000 [00:25<00:29, 177.21it/s]\u001b[A\n",
            " 42%|████▏     | 3748/9000 [00:25<00:29, 177.03it/s]\u001b[A\n",
            " 42%|████▏     | 3770/9000 [00:25<00:28, 185.35it/s]\u001b[A\n",
            " 42%|████▏     | 3792/9000 [00:25<00:26, 193.79it/s]\u001b[A\n",
            " 42%|████▏     | 3812/9000 [00:26<00:29, 177.77it/s]\u001b[A\n",
            " 43%|████▎     | 3831/9000 [00:26<00:29, 175.59it/s]\u001b[A\n",
            " 43%|████▎     | 3849/9000 [00:26<00:29, 174.75it/s]\u001b[A\n",
            " 43%|████▎     | 3871/9000 [00:26<00:27, 184.28it/s]\u001b[A\n",
            " 43%|████▎     | 3891/9000 [00:26<00:27, 186.96it/s]\u001b[A\n",
            " 43%|████▎     | 3910/9000 [00:26<00:28, 176.95it/s]\u001b[A\n",
            " 44%|████▎     | 3928/9000 [00:26<00:32, 158.22it/s]\u001b[A\n",
            " 44%|████▍     | 3949/9000 [00:26<00:30, 167.22it/s]\u001b[A\n",
            " 44%|████▍     | 3967/9000 [00:26<00:30, 162.66it/s]\u001b[A\n",
            " 44%|████▍     | 3986/9000 [00:27<00:30, 166.51it/s]\u001b[A\n",
            " 44%|████▍     | 4003/9000 [00:27<00:31, 158.13it/s]\u001b[A\n",
            " 45%|████▍     | 4023/9000 [00:27<00:29, 169.16it/s]\u001b[A\n",
            " 45%|████▍     | 4047/9000 [00:27<00:26, 184.13it/s]\u001b[A\n",
            " 45%|████▌     | 4066/9000 [00:27<00:26, 185.49it/s]\u001b[A\n",
            " 45%|████▌     | 4085/9000 [00:27<00:26, 184.80it/s]\u001b[A\n",
            " 46%|████▌     | 4104/9000 [00:27<00:26, 184.82it/s]\u001b[A\n",
            " 46%|████▌     | 4123/9000 [00:27<00:26, 182.32it/s]\u001b[A\n",
            " 46%|████▌     | 4142/9000 [00:27<00:27, 177.15it/s]\u001b[A\n",
            " 46%|████▌     | 4160/9000 [00:28<00:28, 170.72it/s]\u001b[A\n",
            " 46%|████▋     | 4178/9000 [00:28<00:28, 167.90it/s]\u001b[A\n",
            " 47%|████▋     | 4195/9000 [00:28<00:31, 152.70it/s]\u001b[A\n",
            " 47%|████▋     | 4212/9000 [00:28<00:30, 157.14it/s]\u001b[A\n",
            " 47%|████▋     | 4228/9000 [00:28<00:34, 137.18it/s]\u001b[A\n",
            " 47%|████▋     | 4245/9000 [00:28<00:32, 145.05it/s]\u001b[A\n",
            " 47%|████▋     | 4262/9000 [00:28<00:31, 149.65it/s]\u001b[A\n",
            " 48%|████▊     | 4278/9000 [00:28<00:34, 136.84it/s]\u001b[A\n",
            " 48%|████▊     | 4301/9000 [00:29<00:30, 153.00it/s]\u001b[A\n",
            " 48%|████▊     | 4317/9000 [00:29<00:31, 150.79it/s]\u001b[A\n",
            " 48%|████▊     | 4333/9000 [00:29<00:32, 144.73it/s]\u001b[A\n",
            " 48%|████▊     | 4348/9000 [00:29<00:31, 145.65it/s]\u001b[A\n",
            " 49%|████▊     | 4371/9000 [00:29<00:27, 166.84it/s]\u001b[A\n",
            " 49%|████▉     | 4388/9000 [00:29<00:28, 161.54it/s]\u001b[A\n",
            " 49%|████▉     | 4406/9000 [00:29<00:28, 161.97it/s]\u001b[A\n",
            " 49%|████▉     | 4423/9000 [00:29<00:32, 138.70it/s]\u001b[A\n",
            " 49%|████▉     | 4438/9000 [00:29<00:33, 137.06it/s]\u001b[A\n",
            " 49%|████▉     | 4453/9000 [00:30<00:33, 135.60it/s]\u001b[A\n",
            " 50%|████▉     | 4473/9000 [00:30<00:30, 148.28it/s]\u001b[A\n",
            " 50%|████▉     | 4489/9000 [00:30<00:33, 135.49it/s]\u001b[A\n",
            " 50%|█████     | 4507/9000 [00:30<00:30, 145.63it/s]\u001b[A\n",
            " 50%|█████     | 4522/9000 [00:30<00:35, 127.18it/s]\u001b[A\n",
            " 50%|█████     | 4541/9000 [00:30<00:31, 142.50it/s]\u001b[A\n",
            " 51%|█████     | 4556/9000 [00:30<00:31, 139.62it/s]\u001b[A\n",
            " 51%|█████     | 4576/9000 [00:30<00:28, 154.74it/s]\u001b[A\n",
            " 51%|█████     | 4601/9000 [00:30<00:25, 175.56it/s]\u001b[A\n",
            " 51%|█████▏    | 4619/9000 [00:31<00:26, 166.88it/s]\u001b[A\n",
            " 52%|█████▏    | 4639/9000 [00:31<00:25, 174.24it/s]\u001b[A\n",
            " 52%|█████▏    | 4660/9000 [00:31<00:24, 179.62it/s]\u001b[A\n",
            " 52%|█████▏    | 4679/9000 [00:31<00:24, 174.04it/s]\u001b[A\n",
            " 52%|█████▏    | 4697/9000 [00:31<00:26, 161.78it/s]\u001b[A\n",
            " 52%|█████▏    | 4720/9000 [00:31<00:24, 177.70it/s]\u001b[A\n",
            " 53%|█████▎    | 4742/9000 [00:31<00:22, 185.67it/s]\u001b[A\n",
            " 53%|█████▎    | 4761/9000 [00:31<00:24, 171.99it/s]\u001b[A\n",
            " 53%|█████▎    | 4785/9000 [00:32<00:22, 187.10it/s]\u001b[A\n",
            " 53%|█████▎    | 4805/9000 [00:32<00:24, 170.90it/s]\u001b[A\n",
            " 54%|█████▎    | 4823/9000 [00:32<00:24, 170.28it/s]\u001b[A\n",
            " 54%|█████▍    | 4841/9000 [00:32<00:25, 166.30it/s]\u001b[A\n",
            " 54%|█████▍    | 4859/9000 [00:32<00:24, 167.82it/s]\u001b[A\n",
            " 54%|█████▍    | 4876/9000 [00:32<00:24, 167.87it/s]\u001b[A\n",
            " 54%|█████▍    | 4893/9000 [00:32<00:24, 167.74it/s]\u001b[A\n",
            " 55%|█████▍    | 4910/9000 [00:32<00:26, 154.10it/s]\u001b[A\n",
            " 55%|█████▍    | 4926/9000 [00:32<00:27, 146.01it/s]\u001b[A\n",
            " 55%|█████▍    | 4949/9000 [00:33<00:24, 167.78it/s]\u001b[A\n",
            " 55%|█████▌    | 4967/9000 [00:33<00:24, 167.16it/s]\u001b[A\n",
            " 55%|█████▌    | 4991/9000 [00:33<00:22, 180.63it/s]\u001b[A\n",
            " 56%|█████▌    | 5010/9000 [00:33<00:23, 171.88it/s]\u001b[A\n",
            " 56%|█████▌    | 5028/9000 [00:33<00:22, 173.11it/s]\u001b[A\n",
            " 56%|█████▌    | 5046/9000 [00:33<00:24, 164.61it/s]\u001b[A\n",
            " 56%|█████▋    | 5063/9000 [00:33<00:24, 161.14it/s]\u001b[A\n",
            " 56%|█████▋    | 5080/9000 [00:33<00:27, 140.43it/s]\u001b[A\n",
            " 57%|█████▋    | 5096/9000 [00:34<00:27, 144.31it/s]\u001b[A\n",
            " 57%|█████▋    | 5111/9000 [00:34<00:30, 128.61it/s]\u001b[A\n",
            " 57%|█████▋    | 5128/9000 [00:34<00:27, 138.62it/s]\u001b[A\n",
            " 57%|█████▋    | 5143/9000 [00:34<00:28, 136.73it/s]\u001b[A\n",
            " 57%|█████▋    | 5158/9000 [00:34<00:29, 130.15it/s]\u001b[A\n",
            " 57%|█████▋    | 5172/9000 [00:34<00:35, 108.17it/s]\u001b[A\n",
            " 58%|█████▊    | 5184/9000 [00:34<00:36, 104.49it/s]\u001b[A\n",
            " 58%|█████▊    | 5195/9000 [00:34<00:36, 105.38it/s]\u001b[A\n",
            " 58%|█████▊    | 5207/9000 [00:35<00:35, 107.44it/s]\u001b[A\n",
            " 58%|█████▊    | 5219/9000 [00:35<00:34, 110.37it/s]\u001b[A\n",
            " 58%|█████▊    | 5231/9000 [00:35<00:33, 111.49it/s]\u001b[A\n",
            " 58%|█████▊    | 5248/9000 [00:35<00:29, 126.05it/s]\u001b[A\n",
            " 58%|█████▊    | 5261/9000 [00:35<00:30, 122.26it/s]\u001b[A\n",
            " 59%|█████▊    | 5274/9000 [00:35<00:36, 101.69it/s]\u001b[A\n",
            " 59%|█████▊    | 5285/9000 [00:35<00:36, 101.04it/s]\u001b[A\n",
            " 59%|█████▉    | 5296/9000 [00:35<00:36, 100.69it/s]\u001b[A\n",
            " 59%|█████▉    | 5310/9000 [00:35<00:33, 110.25it/s]\u001b[A\n",
            " 59%|█████▉    | 5322/9000 [00:36<00:36, 101.89it/s]\u001b[A\n",
            " 59%|█████▉    | 5333/9000 [00:36<00:39, 93.40it/s] \u001b[A\n",
            " 59%|█████▉    | 5343/9000 [00:36<00:42, 85.09it/s]\u001b[A\n",
            " 59%|█████▉    | 5354/9000 [00:36<00:40, 89.50it/s]\u001b[A\n",
            " 60%|█████▉    | 5366/9000 [00:36<00:39, 92.01it/s]\u001b[A\n",
            " 60%|█████▉    | 5376/9000 [00:36<00:40, 88.96it/s]\u001b[A\n",
            " 60%|█████▉    | 5387/9000 [00:36<00:41, 86.34it/s]\u001b[A\n",
            " 60%|██████    | 5401/9000 [00:36<00:38, 94.32it/s]\u001b[A\n",
            " 60%|██████    | 5411/9000 [00:37<00:37, 94.77it/s]\u001b[A\n",
            " 60%|██████    | 5421/9000 [00:37<00:37, 96.12it/s]\u001b[A\n",
            " 60%|██████    | 5433/9000 [00:37<00:34, 102.04it/s]\u001b[A\n",
            " 61%|██████    | 5447/9000 [00:37<00:31, 111.73it/s]\u001b[A\n",
            " 61%|██████    | 5463/9000 [00:37<00:29, 120.68it/s]\u001b[A\n",
            " 61%|██████    | 5476/9000 [00:37<00:30, 115.35it/s]\u001b[A\n",
            " 61%|██████    | 5488/9000 [00:37<00:31, 112.82it/s]\u001b[A\n",
            " 61%|██████    | 5501/9000 [00:37<00:30, 115.63it/s]\u001b[A\n",
            " 61%|██████▏   | 5521/9000 [00:37<00:25, 138.47it/s]\u001b[A\n",
            " 62%|██████▏   | 5537/9000 [00:38<00:24, 140.83it/s]\u001b[A\n",
            " 62%|██████▏   | 5556/9000 [00:38<00:22, 152.60it/s]\u001b[A\n",
            " 62%|██████▏   | 5577/9000 [00:38<00:20, 166.41it/s]\u001b[A\n",
            " 62%|██████▏   | 5594/9000 [00:38<00:22, 152.12it/s]\u001b[A\n",
            " 62%|██████▏   | 5610/9000 [00:38<00:22, 151.16it/s]\u001b[A\n",
            " 63%|██████▎   | 5629/9000 [00:38<00:21, 155.18it/s]\u001b[A\n",
            " 63%|██████▎   | 5652/9000 [00:38<00:20, 164.71it/s]\u001b[A\n",
            " 63%|██████▎   | 5669/9000 [00:38<00:21, 158.30it/s]\u001b[A\n",
            " 63%|██████▎   | 5685/9000 [00:39<00:24, 136.12it/s]\u001b[A\n",
            " 63%|██████▎   | 5700/9000 [00:39<00:24, 135.39it/s]\u001b[A\n",
            " 64%|██████▎   | 5715/9000 [00:39<00:23, 138.83it/s]\u001b[A\n",
            " 64%|██████▎   | 5732/9000 [00:39<00:22, 142.21it/s]\u001b[A\n",
            " 64%|██████▍   | 5751/9000 [00:39<00:21, 150.19it/s]\u001b[A\n",
            " 64%|██████▍   | 5770/9000 [00:39<00:20, 159.81it/s]\u001b[A\n",
            " 64%|██████▍   | 5789/9000 [00:39<00:19, 166.44it/s]\u001b[A\n",
            " 65%|██████▍   | 5809/9000 [00:39<00:18, 175.55it/s]\u001b[A\n",
            " 65%|██████▍   | 5829/9000 [00:39<00:19, 166.09it/s]\u001b[A\n",
            " 65%|██████▍   | 5846/9000 [00:40<00:22, 140.73it/s]\u001b[A\n",
            " 65%|██████▌   | 5864/9000 [00:40<00:21, 149.28it/s]\u001b[A\n",
            " 65%|██████▌   | 5883/9000 [00:40<00:19, 159.58it/s]\u001b[A\n",
            " 66%|██████▌   | 5901/9000 [00:40<00:19, 163.09it/s]\u001b[A\n",
            " 66%|██████▌   | 5927/9000 [00:40<00:16, 188.63it/s]\u001b[A\n",
            " 66%|██████▌   | 5947/9000 [00:40<00:17, 178.34it/s]\u001b[A\n",
            " 66%|██████▋   | 5966/9000 [00:40<00:18, 165.96it/s]\u001b[A\n",
            " 66%|██████▋   | 5985/9000 [00:40<00:17, 171.21it/s]\u001b[A\n",
            " 67%|██████▋   | 6003/9000 [00:40<00:18, 165.63it/s]\u001b[A\n",
            " 67%|██████▋   | 6030/9000 [00:41<00:16, 182.88it/s]\u001b[A\n",
            " 67%|██████▋   | 6053/9000 [00:41<00:15, 192.94it/s]\u001b[A\n",
            " 67%|██████▋   | 6073/9000 [00:41<00:17, 170.89it/s]\u001b[A\n",
            " 68%|██████▊   | 6091/9000 [00:41<00:18, 154.75it/s]\u001b[A\n",
            " 68%|██████▊   | 6112/9000 [00:41<00:17, 168.09it/s]\u001b[A\n",
            " 68%|██████▊   | 6133/9000 [00:41<00:16, 177.32it/s]\u001b[A\n",
            " 68%|██████▊   | 6152/9000 [00:41<00:15, 179.67it/s]\u001b[A\n",
            " 69%|██████▊   | 6177/9000 [00:41<00:14, 196.94it/s]\u001b[A\n",
            " 69%|██████▉   | 6201/9000 [00:42<00:13, 206.63it/s]\u001b[A\n",
            " 69%|██████▉   | 6222/9000 [00:42<00:13, 200.19it/s]\u001b[A\n",
            " 69%|██████▉   | 6243/9000 [00:42<00:14, 195.93it/s]\u001b[A\n",
            " 70%|██████▉   | 6266/9000 [00:42<00:13, 201.00it/s]\u001b[A\n",
            " 70%|██████▉   | 6289/9000 [00:42<00:13, 203.78it/s]\u001b[A\n",
            " 70%|███████   | 6310/9000 [00:42<00:14, 188.91it/s]\u001b[A\n",
            " 70%|███████   | 6333/9000 [00:42<00:13, 193.63it/s]\u001b[A\n",
            " 71%|███████   | 6355/9000 [00:42<00:13, 199.30it/s]\u001b[A\n",
            " 71%|███████   | 6376/9000 [00:43<00:17, 152.12it/s]\u001b[A\n",
            " 71%|███████   | 6394/9000 [00:43<00:17, 153.12it/s]\u001b[A\n",
            " 71%|███████▏  | 6415/9000 [00:43<00:15, 165.41it/s]\u001b[A\n",
            " 71%|███████▏  | 6433/9000 [00:43<00:17, 144.52it/s]\u001b[A\n",
            " 72%|███████▏  | 6450/9000 [00:43<00:16, 150.36it/s]\u001b[A\n",
            " 72%|███████▏  | 6475/9000 [00:43<00:14, 174.80it/s]\u001b[A\n",
            " 72%|███████▏  | 6494/9000 [00:43<00:15, 160.27it/s]\u001b[A\n",
            " 72%|███████▏  | 6515/9000 [00:43<00:14, 171.97it/s]\u001b[A\n",
            " 73%|███████▎  | 6534/9000 [00:44<00:16, 153.36it/s]\u001b[A\n",
            " 73%|███████▎  | 6551/9000 [00:44<00:15, 153.85it/s]\u001b[A\n",
            " 73%|███████▎  | 6568/9000 [00:44<00:16, 144.28it/s]\u001b[A\n",
            " 73%|███████▎  | 6583/9000 [00:44<00:18, 133.97it/s]\u001b[A\n",
            " 73%|███████▎  | 6601/9000 [00:44<00:16, 144.04it/s]\u001b[A\n",
            " 74%|███████▎  | 6616/9000 [00:44<00:16, 141.20it/s]\u001b[A\n",
            " 74%|███████▎  | 6631/9000 [00:44<00:16, 139.65it/s]\u001b[A\n",
            " 74%|███████▍  | 6648/9000 [00:44<00:16, 146.34it/s]\u001b[A\n",
            " 74%|███████▍  | 6674/9000 [00:44<00:13, 177.14it/s]\u001b[A\n",
            " 74%|███████▍  | 6694/9000 [00:45<00:12, 179.22it/s]\u001b[A\n",
            " 75%|███████▍  | 6714/9000 [00:45<00:12, 184.14it/s]\u001b[A\n",
            " 75%|███████▍  | 6733/9000 [00:45<00:15, 148.02it/s]\u001b[A\n",
            " 75%|███████▌  | 6752/9000 [00:45<00:14, 156.73it/s]\u001b[A\n",
            " 75%|███████▌  | 6769/9000 [00:45<00:14, 156.23it/s]\u001b[A\n",
            " 75%|███████▌  | 6787/9000 [00:45<00:13, 161.99it/s]\u001b[A\n",
            " 76%|███████▌  | 6808/9000 [00:45<00:12, 173.95it/s]\u001b[A\n",
            " 76%|███████▌  | 6826/9000 [00:45<00:12, 167.41it/s]\u001b[A\n",
            " 76%|███████▌  | 6844/9000 [00:45<00:13, 160.45it/s]\u001b[A\n",
            " 76%|███████▌  | 6861/9000 [00:46<00:13, 158.77it/s]\u001b[A\n",
            " 76%|███████▋  | 6878/9000 [00:46<00:13, 156.00it/s]\u001b[A\n",
            " 77%|███████▋  | 6902/9000 [00:46<00:12, 174.55it/s]\u001b[A\n",
            " 77%|███████▋  | 6920/9000 [00:46<00:12, 163.42it/s]\u001b[A\n",
            " 77%|███████▋  | 6937/9000 [00:46<00:14, 142.48it/s]\u001b[A\n",
            " 77%|███████▋  | 6962/9000 [00:46<00:12, 166.08it/s]\u001b[A\n",
            " 78%|███████▊  | 6981/9000 [00:46<00:11, 169.17it/s]\u001b[A\n",
            " 78%|███████▊  | 7000/9000 [00:46<00:11, 170.81it/s]\u001b[A\n",
            " 78%|███████▊  | 7018/9000 [00:47<00:13, 146.29it/s]\u001b[A\n",
            " 78%|███████▊  | 7034/9000 [00:47<00:13, 147.61it/s]\u001b[A\n",
            " 78%|███████▊  | 7055/9000 [00:47<00:12, 161.25it/s]\u001b[A\n",
            " 79%|███████▊  | 7072/9000 [00:47<00:11, 162.06it/s]\u001b[A\n",
            " 79%|███████▉  | 7089/9000 [00:47<00:12, 148.82it/s]\u001b[A\n",
            " 79%|███████▉  | 7106/9000 [00:47<00:12, 146.38it/s]\u001b[A\n",
            " 79%|███████▉  | 7121/9000 [00:47<00:15, 121.88it/s]\u001b[A\n",
            " 79%|███████▉  | 7134/9000 [00:48<00:17, 106.13it/s]\u001b[A\n",
            " 79%|███████▉  | 7146/9000 [00:48<00:17, 107.80it/s]\u001b[A\n",
            " 80%|███████▉  | 7158/9000 [00:48<00:16, 109.71it/s]\u001b[A\n",
            " 80%|███████▉  | 7172/9000 [00:48<00:15, 116.60it/s]\u001b[A\n",
            " 80%|███████▉  | 7185/9000 [00:48<00:16, 111.29it/s]\u001b[A\n",
            " 80%|████████  | 7200/9000 [00:48<00:15, 118.65it/s]\u001b[A\n",
            " 80%|████████  | 7216/9000 [00:48<00:13, 129.20it/s]\u001b[A\n",
            " 80%|████████  | 7230/9000 [00:48<00:16, 108.39it/s]\u001b[A\n",
            " 80%|████████  | 7242/9000 [00:48<00:16, 108.06it/s]\u001b[A\n",
            " 81%|████████  | 7254/9000 [00:49<00:16, 102.77it/s]\u001b[A\n",
            " 81%|████████  | 7265/9000 [00:49<00:17, 101.10it/s]\u001b[A\n",
            " 81%|████████  | 7282/9000 [00:49<00:14, 118.12it/s]\u001b[A\n",
            " 81%|████████  | 7295/9000 [00:49<00:14, 120.29it/s]\u001b[A\n",
            " 81%|████████  | 7309/9000 [00:49<00:13, 122.98it/s]\u001b[A\n",
            " 81%|████████▏ | 7322/9000 [00:49<00:16, 101.66it/s]\u001b[A\n",
            " 82%|████████▏ | 7336/9000 [00:49<00:15, 110.30it/s]\u001b[A\n",
            " 82%|████████▏ | 7350/9000 [00:49<00:14, 114.77it/s]\u001b[A\n",
            " 82%|████████▏ | 7363/9000 [00:50<00:14, 116.84it/s]\u001b[A\n",
            " 82%|████████▏ | 7376/9000 [00:50<00:16, 99.78it/s] \u001b[A\n",
            " 82%|████████▏ | 7390/9000 [00:50<00:14, 109.42it/s]\u001b[A\n",
            " 82%|████████▏ | 7402/9000 [00:50<00:18, 85.80it/s] \u001b[A\n",
            " 82%|████████▏ | 7412/9000 [00:50<00:19, 80.87it/s]\u001b[A\n",
            " 82%|████████▏ | 7424/9000 [00:50<00:17, 89.43it/s]\u001b[A\n",
            " 83%|████████▎ | 7434/9000 [00:50<00:17, 91.44it/s]\u001b[A\n",
            " 83%|████████▎ | 7446/9000 [00:50<00:15, 97.70it/s]\u001b[A\n",
            " 83%|████████▎ | 7457/9000 [00:51<00:17, 85.84it/s]\u001b[A\n",
            " 83%|████████▎ | 7469/9000 [00:51<00:16, 93.04it/s]\u001b[A\n",
            " 83%|████████▎ | 7491/9000 [00:51<00:12, 124.56it/s]\u001b[A\n",
            " 84%|████████▎ | 7515/9000 [00:51<00:09, 151.07it/s]\u001b[A\n",
            " 84%|████████▍ | 7538/9000 [00:51<00:08, 171.75it/s]\u001b[A\n",
            " 84%|████████▍ | 7556/9000 [00:51<00:08, 173.05it/s]\u001b[A\n",
            " 84%|████████▍ | 7578/9000 [00:51<00:07, 184.19it/s]\u001b[A\n",
            " 84%|████████▍ | 7597/9000 [00:51<00:08, 173.81it/s]\u001b[A\n",
            " 85%|████████▍ | 7615/9000 [00:52<00:08, 162.30it/s]\u001b[A\n",
            " 85%|████████▍ | 7640/9000 [00:52<00:07, 184.21it/s]\u001b[A\n",
            " 85%|████████▌ | 7659/9000 [00:52<00:07, 178.66it/s]\u001b[A\n",
            " 85%|████████▌ | 7678/9000 [00:52<00:08, 153.78it/s]\u001b[A\n",
            " 86%|████████▌ | 7695/9000 [00:52<00:08, 154.54it/s]\u001b[A\n",
            " 86%|████████▌ | 7712/9000 [00:52<00:08, 148.20it/s]\u001b[A\n",
            " 86%|████████▌ | 7733/9000 [00:52<00:07, 162.68it/s]\u001b[A\n",
            " 86%|████████▌ | 7754/9000 [00:52<00:07, 174.50it/s]\u001b[A\n",
            " 86%|████████▋ | 7776/9000 [00:52<00:06, 178.96it/s]\u001b[A\n",
            " 87%|████████▋ | 7795/9000 [00:53<00:07, 158.39it/s]\u001b[A\n",
            " 87%|████████▋ | 7815/9000 [00:53<00:07, 167.24it/s]\u001b[A\n",
            " 87%|████████▋ | 7833/9000 [00:53<00:08, 143.06it/s]\u001b[A\n",
            " 87%|████████▋ | 7853/9000 [00:53<00:07, 149.07it/s]\u001b[A\n",
            " 87%|████████▋ | 7870/9000 [00:53<00:07, 154.05it/s]\u001b[A\n",
            " 88%|████████▊ | 7886/9000 [00:53<00:07, 140.74it/s]\u001b[A\n",
            " 88%|████████▊ | 7905/9000 [00:53<00:07, 152.10it/s]\u001b[A\n",
            " 88%|████████▊ | 7921/9000 [00:54<00:07, 140.76it/s]\u001b[A\n",
            " 88%|████████▊ | 7936/9000 [00:54<00:07, 134.72it/s]\u001b[A\n",
            " 88%|████████▊ | 7951/9000 [00:54<00:07, 134.65it/s]\u001b[A\n",
            " 89%|████████▊ | 7967/9000 [00:54<00:07, 141.12it/s]\u001b[A\n",
            " 89%|████████▊ | 7982/9000 [00:54<00:07, 140.90it/s]\u001b[A\n",
            " 89%|████████▉ | 8000/9000 [00:54<00:06, 151.43it/s]\u001b[A\n",
            " 89%|████████▉ | 8016/9000 [00:54<00:07, 138.80it/s]\u001b[A\n",
            " 89%|████████▉ | 8031/9000 [00:54<00:07, 131.22it/s]\u001b[A\n",
            " 89%|████████▉ | 8050/9000 [00:54<00:06, 144.87it/s]\u001b[A\n",
            " 90%|████████▉ | 8065/9000 [00:55<00:07, 128.12it/s]\u001b[A\n",
            " 90%|████████▉ | 8086/9000 [00:55<00:06, 146.99it/s]\u001b[A\n",
            " 90%|█████████ | 8106/9000 [00:55<00:05, 160.16it/s]\u001b[A\n",
            " 90%|█████████ | 8123/9000 [00:55<00:06, 144.79it/s]\u001b[A\n",
            " 91%|█████████ | 8147/9000 [00:55<00:05, 166.03it/s]\u001b[A\n",
            " 91%|█████████ | 8167/9000 [00:55<00:04, 174.64it/s]\u001b[A\n",
            " 91%|█████████ | 8186/9000 [00:55<00:05, 158.40it/s]\u001b[A\n",
            " 91%|█████████ | 8203/9000 [00:55<00:05, 139.11it/s]\u001b[A\n",
            " 91%|█████████▏| 8225/9000 [00:56<00:04, 157.98it/s]\u001b[A\n",
            " 92%|█████████▏| 8242/9000 [00:56<00:05, 146.87it/s]\u001b[A\n",
            " 92%|█████████▏| 8258/9000 [00:56<00:05, 146.24it/s]\u001b[A\n",
            " 92%|█████████▏| 8274/9000 [00:56<00:04, 149.75it/s]\u001b[A\n",
            " 92%|█████████▏| 8291/9000 [00:56<00:04, 155.14it/s]\u001b[A\n",
            " 92%|█████████▏| 8309/9000 [00:56<00:04, 158.04it/s]\u001b[A\n",
            " 93%|█████████▎| 8328/9000 [00:56<00:04, 165.87it/s]\u001b[A\n",
            " 93%|█████████▎| 8345/9000 [00:56<00:04, 141.78it/s]\u001b[A\n",
            " 93%|█████████▎| 8364/9000 [00:56<00:04, 152.98it/s]\u001b[A\n",
            " 93%|█████████▎| 8384/9000 [00:57<00:03, 165.47it/s]\u001b[A\n",
            " 93%|█████████▎| 8402/9000 [00:57<00:03, 158.47it/s]\u001b[A\n",
            " 94%|█████████▎| 8421/9000 [00:57<00:03, 165.40it/s]\u001b[A\n",
            " 94%|█████████▍| 8438/9000 [00:57<00:03, 166.64it/s]\u001b[A\n",
            " 94%|█████████▍| 8455/9000 [00:57<00:03, 150.72it/s]\u001b[A\n",
            " 94%|█████████▍| 8471/9000 [00:57<00:03, 147.36it/s]\u001b[A\n",
            " 94%|█████████▍| 8490/9000 [00:57<00:03, 158.30it/s]\u001b[A\n",
            " 95%|█████████▍| 8507/9000 [00:57<00:03, 161.14it/s]\u001b[A\n",
            " 95%|█████████▍| 8524/9000 [00:57<00:03, 152.89it/s]\u001b[A\n",
            " 95%|█████████▍| 8540/9000 [00:58<00:03, 152.32it/s]\u001b[A\n",
            " 95%|█████████▌| 8556/9000 [00:58<00:02, 152.22it/s]\u001b[A\n",
            " 95%|█████████▌| 8577/9000 [00:58<00:02, 165.12it/s]\u001b[A\n",
            " 95%|█████████▌| 8594/9000 [00:58<00:02, 154.29it/s]\u001b[A\n",
            " 96%|█████████▌| 8610/9000 [00:58<00:02, 146.25it/s]\u001b[A\n",
            " 96%|█████████▌| 8626/9000 [00:58<00:02, 149.02it/s]\u001b[A\n",
            " 96%|█████████▌| 8644/9000 [00:58<00:02, 155.43it/s]\u001b[A\n",
            " 96%|█████████▌| 8660/9000 [00:58<00:02, 138.63it/s]\u001b[A\n",
            " 96%|█████████▋| 8682/9000 [00:59<00:02, 156.17it/s]\u001b[A\n",
            " 97%|█████████▋| 8699/9000 [00:59<00:01, 156.15it/s]\u001b[A\n",
            " 97%|█████████▋| 8715/9000 [00:59<00:01, 156.33it/s]\u001b[A\n",
            " 97%|█████████▋| 8731/9000 [00:59<00:01, 135.34it/s]\u001b[A\n",
            " 97%|█████████▋| 8757/9000 [00:59<00:01, 152.93it/s]\u001b[A\n",
            " 97%|█████████▋| 8774/9000 [00:59<00:01, 153.14it/s]\u001b[A\n",
            " 98%|█████████▊| 8791/9000 [00:59<00:01, 155.61it/s]\u001b[A\n",
            " 98%|█████████▊| 8807/9000 [00:59<00:01, 149.60it/s]\u001b[A\n",
            " 98%|█████████▊| 8825/9000 [00:59<00:01, 154.92it/s]\u001b[A\n",
            " 98%|█████████▊| 8841/9000 [01:00<00:01, 152.67it/s]\u001b[A\n",
            " 98%|█████████▊| 8857/9000 [01:00<00:00, 147.21it/s]\u001b[A\n",
            " 99%|█████████▊| 8872/9000 [01:00<00:00, 141.83it/s]\u001b[A\n",
            " 99%|█████████▊| 8887/9000 [01:00<00:00, 143.30it/s]\u001b[A\n",
            " 99%|█████████▉| 8915/9000 [01:00<00:00, 176.26it/s]\u001b[A\n",
            " 99%|█████████▉| 8933/9000 [01:00<00:00, 169.91it/s]\u001b[A\n",
            " 99%|█████████▉| 8951/9000 [01:00<00:00, 156.30it/s]\u001b[A\n",
            "100%|█████████▉| 8967/9000 [01:00<00:00, 151.04it/s]\u001b[A\n",
            "100%|██████████| 9000/9000 [01:01<00:00, 147.34it/s]\n"
          ]
        }
      ],
      "source": [
        "from sklearn.cluster import DBSCAN\n",
        "from sklearn.metrics import silhouette_score, homogeneity_score\n",
        "import numpy as np\n",
        "from tqdm import tqdm\n",
        "\n",
        "\n",
        "doc_vectors = [model.infer_vector(doc.words) for doc in tqdm(tagged_documents_train)]\n",
        "\n",
        "eps_values = np.linspace(0.1, 3, 30)\n",
        "min_samples_values = range(1, 25)\n",
        "\n",
        "best_score = -1\n",
        "best_params = None"
      ]
    },
    {
      "cell_type": "code",
      "execution_count": 45,
      "metadata": {
        "id": "0biuEwDe4bXr"
      },
      "outputs": [],
      "source": [
        "\n",
        "eps_values = np.linspace(0.1, 2, 20)\n",
        "min_samples_values = range(1, 25)\n",
        "\n",
        "best_score = -1\n",
        "best_params = None"
      ]
    },
    {
      "cell_type": "code",
      "execution_count": 46,
      "metadata": {
        "colab": {
          "base_uri": "https://localhost:8080/"
        },
        "id": "fSVbiD8S4cFW",
        "outputId": "9d1e724c-c005-4696-d7b5-c80ebd31b9d7"
      },
      "outputs": [
        {
          "name": "stderr",
          "output_type": "stream",
          "text": [
            "\n",
            "eps values:   0%|          | 0/20 [00:00<?, ?it/s]\u001b[A"
          ]
        },
        {
          "name": "stdout",
          "output_type": "stream",
          "text": [
            "\n",
            "for eps = 0.1 and min_samples = 1\n",
            " silhouette is : 0.0005518354\n",
            " homogeneity0.9997631697858173\n",
            "the score is : 0.0005515309745698117\n"
          ]
        },
        {
          "name": "stderr",
          "output_type": "stream",
          "text": [
            "\n",
            "eps values:   5%|▌         | 1/20 [00:09<02:58,  9.41s/it]\u001b[A"
          ]
        },
        {
          "name": "stdout",
          "output_type": "stream",
          "text": [
            "\n",
            "for eps = 0.2 and min_samples = 1\n",
            " silhouette is : 0.0015695078\n",
            " homogeneity0.9947960383434485\n",
            "the score is : 0.0015670354197805428\n"
          ]
        },
        {
          "name": "stderr",
          "output_type": "stream",
          "text": [
            "\n",
            "eps values:  10%|█         | 2/20 [00:22<03:26, 11.49s/it]\u001b[A\n",
            "eps values:  15%|█▌        | 3/20 [00:44<04:37, 16.31s/it]\u001b[A\n",
            "eps values:  20%|██        | 4/20 [01:02<04:32, 17.04s/it]\u001b[A\n",
            "eps values:  25%|██▌       | 5/20 [01:35<05:42, 22.86s/it]\u001b[A\n",
            "eps values:  30%|███       | 6/20 [02:17<06:50, 29.34s/it]\u001b[A\n",
            "eps values:  35%|███▌      | 7/20 [02:43<06:07, 28.23s/it]\u001b[A\n",
            "eps values:  40%|████      | 8/20 [03:16<05:58, 29.86s/it]\u001b[A\n",
            "eps values:  45%|████▌     | 9/20 [04:00<06:16, 34.26s/it]\u001b[A\n",
            "eps values:  50%|█████     | 10/20 [04:51<06:31, 39.16s/it]\u001b[A"
          ]
        },
        {
          "name": "stdout",
          "output_type": "stream",
          "text": [
            "\n",
            "for eps = 1.0999999999999999 and min_samples = 9\n",
            " silhouette is : 0.0122661535\n",
            " homogeneity0.06288924258147784\n",
            "the score is : 0.01026418782453544\n",
            "\n",
            "for eps = 1.0999999999999999 and min_samples = 13\n",
            " silhouette is : 0.018149886\n",
            " homogeneity0.06057216462081877\n",
            "the score is : 0.013965310698018988\n"
          ]
        },
        {
          "name": "stderr",
          "output_type": "stream",
          "text": [
            "\n",
            "eps values:  55%|█████▌    | 11/20 [06:00<07:14, 48.29s/it]\u001b[A"
          ]
        },
        {
          "name": "stdout",
          "output_type": "stream",
          "text": [
            "\n",
            "for eps = 1.2 and min_samples = 13\n",
            " silhouette is : 0.020799384\n",
            " homogeneity0.06848564262322288\n",
            "the score is : 0.015954065402924555\n",
            "\n",
            "for eps = 1.2 and min_samples = 14\n",
            " silhouette is : 0.038974725\n",
            " homogeneity0.06416124721682993\n",
            "the score is : 0.02424631193760225\n"
          ]
        },
        {
          "name": "stderr",
          "output_type": "stream",
          "text": [
            "\n",
            "eps values:  60%|██████    | 12/20 [07:18<07:38, 57.34s/it]\u001b[A"
          ]
        },
        {
          "name": "stdout",
          "output_type": "stream",
          "text": [
            "\n",
            "for eps = 1.3 and min_samples = 15\n",
            " silhouette is : 0.0436122\n",
            " homogeneity0.05775543888091993\n",
            "the score is : 0.024848578941001745\n",
            "\n",
            "for eps = 1.3 and min_samples = 18\n",
            " silhouette is : 0.11969265\n",
            " homogeneity0.05283041827241298\n",
            "the score is : 0.03665256410196766\n"
          ]
        },
        {
          "name": "stderr",
          "output_type": "stream",
          "text": [
            "\n",
            "eps values:  65%|██████▌   | 13/20 [08:45<07:44, 66.39s/it]\u001b[A"
          ]
        },
        {
          "name": "stdout",
          "output_type": "stream",
          "text": [
            "\n",
            "for eps = 1.4 and min_samples = 21\n",
            " silhouette is : 0.14561525\n",
            " homogeneity0.05059335320609261\n",
            "the score is : 0.0375476082770848\n",
            "\n",
            "for eps = 1.4 and min_samples = 23\n",
            " silhouette is : 0.14125803\n",
            " homogeneity0.05171074107584712\n",
            "the score is : 0.0378535728301835\n"
          ]
        },
        {
          "name": "stderr",
          "output_type": "stream",
          "text": [
            "\n",
            "eps values:  70%|███████   | 14/20 [09:55<06:44, 67.47s/it]\u001b[A\n",
            "eps values:  75%|███████▌  | 15/20 [11:06<05:42, 68.54s/it]\u001b[A\n",
            "eps values:  80%|████████  | 16/20 [12:27<04:49, 72.38s/it]\u001b[A\n",
            "eps values:  85%|████████▌ | 17/20 [13:37<03:35, 71.79s/it]\u001b[A\n",
            "eps values:  90%|█████████ | 18/20 [14:57<02:28, 74.10s/it]\u001b[A\n",
            "eps values:  95%|█████████▌| 19/20 [16:15<01:15, 75.24s/it]\u001b[A\n",
            "eps values: 100%|██████████| 20/20 [17:47<00:00, 53.35s/it]"
          ]
        },
        {
          "name": "stdout",
          "output_type": "stream",
          "text": [
            "Best parameters:  {'eps': 1.4, 'min_samples': 23}\n"
          ]
        },
        {
          "name": "stderr",
          "output_type": "stream",
          "text": [
            "\n"
          ]
        }
      ],
      "source": [
        "for eps in tqdm(eps_values, desc=\"eps values\"):\n",
        "    for min_samples in min_samples_values:\n",
        "        dbscan = DBSCAN(eps=eps, min_samples=min_samples)\n",
        "        labels = dbscan.fit_predict(doc_vectors)\n",
        "\n",
        "        n_clusters = len(set(labels)) - (1 if -1 in labels else 0)\n",
        "\n",
        "        if n_clusters > 1:\n",
        "            silhouette = silhouette_score(doc_vectors, labels)\n",
        "            homogeneity = homogeneity_score(true_labels, labels)\n",
        "\n",
        "            score = (silhouette * homogeneity) / (silhouette + homogeneity)\n",
        "\n",
        "            if score > best_score and silhouette > 0 and homogeneity > 0 :\n",
        "                best_score = score\n",
        "                best_params = {'eps': eps, 'min_samples': min_samples}\n",
        "                print(\"\")\n",
        "                print (\"for eps = \" + str(eps) + \" and min_samples = \" + str(min_samples) + \"\\n silhouette is : \" + str(silhouette) + \"\\n homogeneity\" + str(homogeneity) + \"\\nthe score is : \" + str(score))\n",
        "\n",
        "\n",
        "print(\"Best parameters: \", best_params)"
      ]
    },
    {
      "cell_type": "code",
      "execution_count": 47,
      "metadata": {
        "colab": {
          "base_uri": "https://localhost:8080/"
        },
        "id": "5AZUOu7Uhfpb",
        "outputId": "31ad51e7-a697-4b76-91e5-2b8eef462e5a"
      },
      "outputs": [
        {
          "name": "stdout",
          "output_type": "stream",
          "text": [
            "Silhouette score:  0.14125803\n",
            "Homogeneity score:  0.05171074107584712\n"
          ]
        }
      ],
      "source": [
        "dbscan = DBSCAN(eps=best_params['eps'], min_samples=best_params['min_samples'])\n",
        "\n",
        "# Fit the model and predict the labels\n",
        "labels = dbscan.fit_predict(doc_vectors)\n",
        "\n",
        "# Calculate the silhouette score\n",
        "silhouette = silhouette_score(doc_vectors, labels)\n",
        "\n",
        "# Calculate the homogeneity score\n",
        "homogeneity = homogeneity_score(true_labels, labels)\n",
        "\n",
        "print(\"Silhouette score: \", silhouette)\n",
        "print(\"Homogeneity score: \", homogeneity)"
      ]
    },
    {
      "cell_type": "markdown",
      "metadata": {
        "id": "KStupBDQ11sl"
      },
      "source": [
        "# Analize : <br>\n",
        "- `K-MEANS : `<br>\n",
        " Homogeneity score is approximately 0.678, which is quite high.A score of 0.678 suggests that clusters are fairly homogeneous, but there is still room for improvement. Silhouette score is approximately 0.216, which is relatively low.A score of 0.216 suggests that there is a lot of overlap between clusters, and the samples within each cluster are not very dense. This indicates that the clustering quality could be improved.<br>\n",
        "- `DBSCAN : `<br>\n",
        " Silhouette score is approximately 0.141, which is quite low. A score of 0.141 suggests that there is a lot of overlap between clusters, and the samples within each cluster are not very dense. This indicates that the clustering quality could be improved. homogeneity score is approximately 0.052, which is also quite low. A score of 0.052 suggests that clusters contain members of multiple classes, indicating that the DBSCAN model has not performed well in terms of homogeneity."
      ]
    },
    {
      "cell_type": "code",
      "execution_count": 48,
      "metadata": {
        "id": "vjIZRABshio_"
      },
      "outputs": [],
      "source": [
        "from sklearn.decomposition import PCA\n",
        "from sklearn.cluster import KMeans, DBSCAN\n",
        "\n",
        "pca = PCA(n_components=2)\n",
        "train_vectors_pca = pca.fit_transform(train_vectors)\n",
        "test_vectors_pca = pca.transform(test_vectors)\n",
        "\n",
        "k = 24\n",
        "kmeans = KMeans(n_clusters=k, init='k-means++', max_iter=600, n_init=15, random_state=0)\n",
        "kmeans.fit(train_vectors_pca)\n",
        "\n",
        "test_clusters_kmeans = kmeans.predict(test_vectors_pca)\n",
        "\n",
        "dbscan = DBSCAN(eps=1.4, min_samples=23)\n",
        "dbscan.fit(train_vectors_pca)\n",
        "\n",
        "test_clusters_dbscan = dbscan.fit_predict(test_vectors_pca)\n"
      ]
    },
    {
      "cell_type": "code",
      "execution_count": 50,
      "metadata": {
        "colab": {
          "base_uri": "https://localhost:8080/"
        },
        "id": "uaZrsBfrzwuw",
        "outputId": "2fc0d6de-e6d1-419b-8d15-34eeeb0604ce"
      },
      "outputs": [
        {
          "name": "stdout",
          "output_type": "stream",
          "text": [
            "K-Means: Silhouette Score = 0.31824500763354213, Homogeneity Score = 0.5679067079995092\n",
            "DBSCAN: Silhouette Score = 0.5262860851856601, Homogeneity Score = 0.0019019833778881686\n"
          ]
        }
      ],
      "source": [
        "from sklearn import metrics\n",
        "\n",
        "test_labels = test_df['label'].tolist()\n",
        "\n",
        "kmeans_silhouette = metrics.silhouette_score(test_vectors_pca, test_clusters_kmeans)\n",
        "kmeans_homogeneity = metrics.homogeneity_score(test_labels, test_clusters_kmeans)\n",
        "\n",
        "dbscan_silhouette = metrics.silhouette_score(test_vectors_pca, test_clusters_dbscan)\n",
        "dbscan_homogeneity = metrics.homogeneity_score(test_labels, test_clusters_dbscan)\n",
        "\n",
        "print(f\"K-Means: Silhouette Score = {kmeans_silhouette}, Homogeneity Score = {kmeans_homogeneity}\")\n",
        "print(f\"DBSCAN: Silhouette Score = {dbscan_silhouette}, Homogeneity Score = {dbscan_homogeneity}\")\n"
      ]
    },
    {
      "cell_type": "markdown",
      "metadata": {
        "id": "h6PvDxPn0Rhd"
      },
      "source": [
        "# Analize : <br>\n",
        "- `K-MEANS : `<br>\n",
        "silhouette score is approximately 0.318, which suggests that there is some overlap between clusters, and the samples within each cluster are not very dense. This indicates that the clustering quality could be improved.\n",
        "homogeneity score is approximately 0.568, which suggests that clusters are fairly homogeneous, but there is still room for improvement.<br>\n",
        "- `DBSCAN : `<br>\n",
        "silhouette score is approximately 0.526, which is higher than that of K-Means model. This suggests that your DBSCAN model has done a better job of separating the samples into distinct, dense clusters. homogeneity score is approximately 0.002, which is very close to 0. This suggests that clusters contain members of multiple classes, indicating that the DBSCAN model has not performed well in terms of homogeneity."
      ]
    }
  ],
  "metadata": {
    "colab": {
      "provenance": []
    },
    "kernelspec": {
      "display_name": "Python 3",
      "name": "python3"
    },
    "language_info": {
      "name": "python",
      "version": "3.10.4"
    }
  },
  "nbformat": 4,
  "nbformat_minor": 0
}
